{
 "cells": [
  {
   "cell_type": "code",
   "execution_count": 14,
   "metadata": {},
   "outputs": [],
   "source": [
    "import os\n",
    "from glob import glob\n",
    "import random\n",
    "from warnings import filterwarnings\n",
    "filterwarnings('ignore')\n",
    "\n",
    "\n",
    "# supporting libraries\n",
    "\n",
    "import numpy as np\n",
    "import pandas as pd\n",
    "import matplotlib.pyplot as plt\n",
    "import seaborn as sns\n",
    "import cv2\n",
    "from PIL import Image\n",
    "import random\n",
    "\n",
    "#importing pytorch and associated libraries\n",
    "\n",
    "import torch\n",
    "import torch.nn as nn\n",
    "from torchvision import transforms as transforms\n",
    "from torch.utils.data import Dataset, DataLoader\n",
    "from torchvision import datasets, transforms, models"
   ]
  },
  {
   "cell_type": "code",
   "execution_count": 15,
   "metadata": {},
   "outputs": [],
   "source": [
    "torch.manual_seed(42)\n",
    "np.random.seed(42)\n",
    "random.seed(42)"
   ]
  },
  {
   "cell_type": "code",
   "execution_count": 16,
   "metadata": {},
   "outputs": [],
   "source": [
    "transform = transforms.Compose([                                 \n",
    "                                transforms.RandomRotation(90),\n",
    "                                transforms.ToTensor()])"
   ]
  },
  {
   "cell_type": "code",
   "execution_count": 17,
   "metadata": {},
   "outputs": [
    {
     "data": {
      "text/plain": [
       "121"
      ]
     },
     "execution_count": 17,
     "metadata": {},
     "output_type": "execute_result"
    }
   ],
   "source": [
    "trainset = datasets.ImageFolder('C:\\\\Users\\\\ritth\\\\code\\\\Data\\\\datasciencebowl\\\\train\\\\train', transform = transform)\n",
    "len(trainset.classes)"
   ]
  },
  {
   "cell_type": "code",
   "execution_count": 18,
   "metadata": {},
   "outputs": [
    {
     "name": "stdout",
     "output_type": "stream",
     "text": [
      "torch.Size([1, 121])\n"
     ]
    }
   ],
   "source": [
    "class Conv(nn.Module):\n",
    "    def __init__(self, in_channels, out_channels, kerel_size = 3, stride = 1, padding = 0):\n",
    "        super(Conv, self).__init__()\n",
    "        self.seq = nn.Sequential(\n",
    "            nn.Conv2d(in_channels, out_channels, kerel_size, stride, padding),\n",
    "            nn.ReLU(),\n",
    "            nn.BatchNorm2d(out_channels),\n",
    "        )\n",
    "    def forward(self, x):\n",
    "        return self.seq(x)\n",
    "\n",
    "class PlankNet(nn.Module):\n",
    "    def __init__(self, in_channels, num_classes, H = 128, W = 128):\n",
    "        super(PlankNet, self).__init__()\n",
    "        self.model = nn.Sequential(\n",
    "            Conv(in_channels, 16, 4), #125\n",
    "            nn.MaxPool2d(2), #62\n",
    "            Conv(16, 32, 3), #60\n",
    "            Conv(32, 64, 3), #58\n",
    "            nn.Dropout(0.1),\n",
    "            nn.MaxPool2d(2), # 29\n",
    "            Conv(64, 128), # 27\n",
    "            nn.Dropout(0.2),\n",
    "            Conv(128, 64, 3), # 25\n",
    "            Conv(64, 32, 3), # 23\n",
    "            nn.Flatten(),\n",
    "            nn.Linear(32*23*23 , 4096),\n",
    "            nn.Linear(4096, num_classes),\n",
    "        )\n",
    "    def forward(self, x):\n",
    "        return self.model(x)\n",
    "num_classes = len(trainset.classes)\n",
    "model = PlankNet(3, num_classes, 128, 128)\n",
    "rand_data = torch.rand(1, 3, 128, 128)\n",
    "print(model(rand_data).shape)"
   ]
  },
  {
   "cell_type": "code",
   "execution_count": 19,
   "metadata": {},
   "outputs": [
    {
     "name": "stdout",
     "output_type": "stream",
     "text": [
      "model.0.seq.0.weight : torch.Size([16, 3, 4, 4])\n",
      "model.0.seq.0.bias : torch.Size([16])\n",
      "model.0.seq.2.weight : torch.Size([16])\n",
      "model.0.seq.2.bias : torch.Size([16])\n",
      "model.2.seq.0.weight : torch.Size([32, 16, 3, 3])\n",
      "model.2.seq.0.bias : torch.Size([32])\n",
      "model.2.seq.2.weight : torch.Size([32])\n",
      "model.2.seq.2.bias : torch.Size([32])\n",
      "model.3.seq.0.weight : torch.Size([64, 32, 3, 3])\n",
      "model.3.seq.0.bias : torch.Size([64])\n",
      "model.3.seq.2.weight : torch.Size([64])\n",
      "model.3.seq.2.bias : torch.Size([64])\n",
      "model.6.seq.0.weight : torch.Size([128, 64, 3, 3])\n",
      "model.6.seq.0.bias : torch.Size([128])\n",
      "model.6.seq.2.weight : torch.Size([128])\n",
      "model.6.seq.2.bias : torch.Size([128])\n",
      "model.8.seq.0.weight : torch.Size([64, 128, 3, 3])\n",
      "model.8.seq.0.bias : torch.Size([64])\n",
      "model.8.seq.2.weight : torch.Size([64])\n",
      "model.8.seq.2.bias : torch.Size([64])\n",
      "model.9.seq.0.weight : torch.Size([32, 64, 3, 3])\n",
      "model.9.seq.0.bias : torch.Size([32])\n",
      "model.9.seq.2.weight : torch.Size([32])\n",
      "model.9.seq.2.bias : torch.Size([32])\n",
      "model.11.weight : torch.Size([4096, 16928])\n",
      "model.11.bias : torch.Size([4096])\n",
      "model.12.weight : torch.Size([121, 4096])\n",
      "model.12.bias : torch.Size([121])\n"
     ]
    }
   ],
   "source": [
    "for name, param in model.named_parameters():\n",
    "    print(f\"{name} : {param.shape}\")"
   ]
  },
  {
   "cell_type": "code",
   "execution_count": 20,
   "metadata": {},
   "outputs": [],
   "source": [
    "def generate_csv(root,train = True, img_ext = 'jpg'):\n",
    "    df = pd.DataFrame(columns = ['path', 'class'])\n",
    "    if train:\n",
    "        for index,label in enumerate(os.listdir(root)):\n",
    "            links = glob(f\"{root}/{label}/*{img_ext}\")\n",
    "            temp_df = pd.DataFrame({'path': links, 'class': np.ones(len(links), dtype='float32')*index})\n",
    "            df = pd.concat([df, temp_df], axis = 0)\n",
    "    else:\n",
    "        links = glob(f\"{root}/*{img_ext}\")\n",
    "        temp_df = pd.DataFrame({'path': links, 'class': np.ones(len(links), dtype = 'float32')})\n",
    "        df = pd.concat([df, temp_df], axis = 0)\n",
    "        \n",
    "    return df"
   ]
  },
  {
   "cell_type": "code",
   "execution_count": 21,
   "metadata": {},
   "outputs": [
    {
     "data": {
      "text/html": [
       "<div>\n",
       "<style scoped>\n",
       "    .dataframe tbody tr th:only-of-type {\n",
       "        vertical-align: middle;\n",
       "    }\n",
       "\n",
       "    .dataframe tbody tr th {\n",
       "        vertical-align: top;\n",
       "    }\n",
       "\n",
       "    .dataframe thead th {\n",
       "        text-align: right;\n",
       "    }\n",
       "</style>\n",
       "<table border=\"1\" class=\"dataframe\">\n",
       "  <thead>\n",
       "    <tr style=\"text-align: right;\">\n",
       "      <th></th>\n",
       "      <th>path</th>\n",
       "      <th>class</th>\n",
       "    </tr>\n",
       "  </thead>\n",
       "  <tbody>\n",
       "    <tr>\n",
       "      <th>0</th>\n",
       "      <td>C:\\Users\\ritth\\code\\Data\\datasciencebowl\\train...</td>\n",
       "      <td>0.0</td>\n",
       "    </tr>\n",
       "    <tr>\n",
       "      <th>1</th>\n",
       "      <td>C:\\Users\\ritth\\code\\Data\\datasciencebowl\\train...</td>\n",
       "      <td>0.0</td>\n",
       "    </tr>\n",
       "    <tr>\n",
       "      <th>2</th>\n",
       "      <td>C:\\Users\\ritth\\code\\Data\\datasciencebowl\\train...</td>\n",
       "      <td>0.0</td>\n",
       "    </tr>\n",
       "    <tr>\n",
       "      <th>3</th>\n",
       "      <td>C:\\Users\\ritth\\code\\Data\\datasciencebowl\\train...</td>\n",
       "      <td>0.0</td>\n",
       "    </tr>\n",
       "    <tr>\n",
       "      <th>4</th>\n",
       "      <td>C:\\Users\\ritth\\code\\Data\\datasciencebowl\\train...</td>\n",
       "      <td>0.0</td>\n",
       "    </tr>\n",
       "  </tbody>\n",
       "</table>\n",
       "</div>"
      ],
      "text/plain": [
       "                                                path class\n",
       "0  C:\\Users\\ritth\\code\\Data\\datasciencebowl\\train...   0.0\n",
       "1  C:\\Users\\ritth\\code\\Data\\datasciencebowl\\train...   0.0\n",
       "2  C:\\Users\\ritth\\code\\Data\\datasciencebowl\\train...   0.0\n",
       "3  C:\\Users\\ritth\\code\\Data\\datasciencebowl\\train...   0.0\n",
       "4  C:\\Users\\ritth\\code\\Data\\datasciencebowl\\train...   0.0"
      ]
     },
     "execution_count": 21,
     "metadata": {},
     "output_type": "execute_result"
    }
   ],
   "source": [
    "train_csv = generate_csv('C:\\\\Users\\\\ritth\\\\code\\\\Data\\\\datasciencebowl\\\\train\\\\train')\n",
    "train_csv.head()"
   ]
  },
  {
   "cell_type": "code",
   "execution_count": 22,
   "metadata": {},
   "outputs": [],
   "source": [
    "def load_image(path , H, W):\n",
    "    img = cv2.imread(path)\n",
    "    img = cv2.cvtColor(img, cv2.COLOR_BGR2RGB)\n",
    "    img = cv2.resize(img, (H,W))\n",
    "    return img\n",
    "\n",
    "\n",
    "\n",
    "\n",
    "class PlanktonDataset(Dataset):\n",
    "    def __init__(self, df, H = 128, W = 128, transform = None):\n",
    "        super(PlanktonDataset, self).__init__()\n",
    "        self.df = df\n",
    "        self.H = H\n",
    "        self.W = W\n",
    "        self.transform = transform\n",
    "        \n",
    "    def __len__(self):\n",
    "        return len(self.df)\n",
    "    \n",
    "    def __getitem__(self, index):\n",
    "        path = self.df.iloc[index, 0]\n",
    "        img = load_image(path, H = self.H, W = self.W)\n",
    "        label = self.df.iloc[index, 1]\n",
    "        img = Image.fromarray(img)\n",
    "        if self.transform != None:\n",
    "            img = self.transform()(img)\n",
    "        else:\n",
    "            img = transforms.ToTensor()(img)\n",
    "        return (img, (label, path))\n",
    "    \n",
    "# Creating the train and test datasets.   \n",
    "train_ds = PlanktonDataset(train_csv, 128, 128, transform = transform)"
   ]
  },
  {
   "cell_type": "code",
   "execution_count": 23,
   "metadata": {},
   "outputs": [
    {
     "name": "stdout",
     "output_type": "stream",
     "text": [
      "Splitting index : 22752\n"
     ]
    }
   ],
   "source": [
    "spl_idx = int(train_ds.__len__() * 0.75)\n",
    "print(f\"Splitting index : {spl_idx}\")\n",
    "train_ds, val_ds = torch.utils.data.random_split(train_ds,[spl_idx, train_ds.__len__() - spl_idx] )"
   ]
  },
  {
   "cell_type": "code",
   "execution_count": 24,
   "metadata": {},
   "outputs": [],
   "source": [
    "BATCH_SIZE = 64\n",
    "train_dl = DataLoader(train_ds, batch_size = BATCH_SIZE, shuffle = True)\n",
    "val_dl = DataLoader(val_ds, batch_size = BATCH_SIZE, shuffle = True)"
   ]
  },
  {
   "cell_type": "code",
   "execution_count": 25,
   "metadata": {},
   "outputs": [],
   "source": [
    "EPOCHS = 30\n",
    "criterion = nn.CrossEntropyLoss()\n",
    "optim = torch.optim.Adam(params = model.parameters(), lr = 1e-4)\n",
    "train_loss = []\n",
    "val_loss = []"
   ]
  },
  {
   "cell_type": "code",
   "execution_count": 26,
   "metadata": {},
   "outputs": [
    {
     "name": "stdout",
     "output_type": "stream",
     "text": [
      "Epoch 1 : \n",
      "\n"
     ]
    },
    {
     "ename": "TypeError",
     "evalue": "Compose.__call__() missing 1 required positional argument: 'img'",
     "output_type": "error",
     "traceback": [
      "\u001b[1;31m---------------------------------------------------------------------------\u001b[0m",
      "\u001b[1;31mTypeError\u001b[0m                                 Traceback (most recent call last)",
      "\u001b[1;32mc:\\Users\\ritth\\code\\Strive\\Strive-Exercises\\Chapter 03\\19. Project\\1.ipynb Cell 13'\u001b[0m in \u001b[0;36m<cell line: 2>\u001b[1;34m()\u001b[0m\n\u001b[0;32m      <a href='vscode-notebook-cell:/c%3A/Users/ritth/code/Strive/Strive-Exercises/Chapter%2003/19.%20Project/1.ipynb#ch0000012?line=5'>6</a>\u001b[0m model\u001b[39m.\u001b[39mtrain()\n\u001b[0;32m      <a href='vscode-notebook-cell:/c%3A/Users/ritth/code/Strive/Strive-Exercises/Chapter%2003/19.%20Project/1.ipynb#ch0000012?line=7'>8</a>\u001b[0m \u001b[39m# Train Data Forward & Backward Pass\u001b[39;00m\n\u001b[1;32m---> <a href='vscode-notebook-cell:/c%3A/Users/ritth/code/Strive/Strive-Exercises/Chapter%2003/19.%20Project/1.ipynb#ch0000012?line=9'>10</a>\u001b[0m \u001b[39mfor\u001b[39;00m img, (train_patch, (labels, _)) \u001b[39min\u001b[39;00m \u001b[39menumerate\u001b[39m(train_dl):\n\u001b[0;32m     <a href='vscode-notebook-cell:/c%3A/Users/ritth/code/Strive/Strive-Exercises/Chapter%2003/19.%20Project/1.ipynb#ch0000012?line=10'>11</a>\u001b[0m     optim\u001b[39m.\u001b[39mzero_grad()\n\u001b[0;32m     <a href='vscode-notebook-cell:/c%3A/Users/ritth/code/Strive/Strive-Exercises/Chapter%2003/19.%20Project/1.ipynb#ch0000012?line=12'>13</a>\u001b[0m     labels \u001b[39m=\u001b[39m labels\u001b[39m.\u001b[39mlong()\n",
      "File \u001b[1;32mc:\\Users\\ritth\\software\\anaconda\\envs\\deep\\lib\\site-packages\\torch\\utils\\data\\dataloader.py:530\u001b[0m, in \u001b[0;36m_BaseDataLoaderIter.__next__\u001b[1;34m(self)\u001b[0m\n\u001b[0;32m    528\u001b[0m \u001b[39mif\u001b[39;00m \u001b[39mself\u001b[39m\u001b[39m.\u001b[39m_sampler_iter \u001b[39mis\u001b[39;00m \u001b[39mNone\u001b[39;00m:\n\u001b[0;32m    529\u001b[0m     \u001b[39mself\u001b[39m\u001b[39m.\u001b[39m_reset()\n\u001b[1;32m--> 530\u001b[0m data \u001b[39m=\u001b[39m \u001b[39mself\u001b[39;49m\u001b[39m.\u001b[39;49m_next_data()\n\u001b[0;32m    531\u001b[0m \u001b[39mself\u001b[39m\u001b[39m.\u001b[39m_num_yielded \u001b[39m+\u001b[39m\u001b[39m=\u001b[39m \u001b[39m1\u001b[39m\n\u001b[0;32m    532\u001b[0m \u001b[39mif\u001b[39;00m \u001b[39mself\u001b[39m\u001b[39m.\u001b[39m_dataset_kind \u001b[39m==\u001b[39m _DatasetKind\u001b[39m.\u001b[39mIterable \u001b[39mand\u001b[39;00m \\\n\u001b[0;32m    533\u001b[0m         \u001b[39mself\u001b[39m\u001b[39m.\u001b[39m_IterableDataset_len_called \u001b[39mis\u001b[39;00m \u001b[39mnot\u001b[39;00m \u001b[39mNone\u001b[39;00m \u001b[39mand\u001b[39;00m \\\n\u001b[0;32m    534\u001b[0m         \u001b[39mself\u001b[39m\u001b[39m.\u001b[39m_num_yielded \u001b[39m>\u001b[39m \u001b[39mself\u001b[39m\u001b[39m.\u001b[39m_IterableDataset_len_called:\n",
      "File \u001b[1;32mc:\\Users\\ritth\\software\\anaconda\\envs\\deep\\lib\\site-packages\\torch\\utils\\data\\dataloader.py:570\u001b[0m, in \u001b[0;36m_SingleProcessDataLoaderIter._next_data\u001b[1;34m(self)\u001b[0m\n\u001b[0;32m    568\u001b[0m \u001b[39mdef\u001b[39;00m \u001b[39m_next_data\u001b[39m(\u001b[39mself\u001b[39m):\n\u001b[0;32m    569\u001b[0m     index \u001b[39m=\u001b[39m \u001b[39mself\u001b[39m\u001b[39m.\u001b[39m_next_index()  \u001b[39m# may raise StopIteration\u001b[39;00m\n\u001b[1;32m--> 570\u001b[0m     data \u001b[39m=\u001b[39m \u001b[39mself\u001b[39;49m\u001b[39m.\u001b[39;49m_dataset_fetcher\u001b[39m.\u001b[39;49mfetch(index)  \u001b[39m# may raise StopIteration\u001b[39;00m\n\u001b[0;32m    571\u001b[0m     \u001b[39mif\u001b[39;00m \u001b[39mself\u001b[39m\u001b[39m.\u001b[39m_pin_memory:\n\u001b[0;32m    572\u001b[0m         data \u001b[39m=\u001b[39m _utils\u001b[39m.\u001b[39mpin_memory\u001b[39m.\u001b[39mpin_memory(data)\n",
      "File \u001b[1;32mc:\\Users\\ritth\\software\\anaconda\\envs\\deep\\lib\\site-packages\\torch\\utils\\data\\_utils\\fetch.py:49\u001b[0m, in \u001b[0;36m_MapDatasetFetcher.fetch\u001b[1;34m(self, possibly_batched_index)\u001b[0m\n\u001b[0;32m     47\u001b[0m \u001b[39mdef\u001b[39;00m \u001b[39mfetch\u001b[39m(\u001b[39mself\u001b[39m, possibly_batched_index):\n\u001b[0;32m     48\u001b[0m     \u001b[39mif\u001b[39;00m \u001b[39mself\u001b[39m\u001b[39m.\u001b[39mauto_collation:\n\u001b[1;32m---> 49\u001b[0m         data \u001b[39m=\u001b[39m [\u001b[39mself\u001b[39m\u001b[39m.\u001b[39mdataset[idx] \u001b[39mfor\u001b[39;00m idx \u001b[39min\u001b[39;00m possibly_batched_index]\n\u001b[0;32m     50\u001b[0m     \u001b[39melse\u001b[39;00m:\n\u001b[0;32m     51\u001b[0m         data \u001b[39m=\u001b[39m \u001b[39mself\u001b[39m\u001b[39m.\u001b[39mdataset[possibly_batched_index]\n",
      "File \u001b[1;32mc:\\Users\\ritth\\software\\anaconda\\envs\\deep\\lib\\site-packages\\torch\\utils\\data\\_utils\\fetch.py:49\u001b[0m, in \u001b[0;36m<listcomp>\u001b[1;34m(.0)\u001b[0m\n\u001b[0;32m     47\u001b[0m \u001b[39mdef\u001b[39;00m \u001b[39mfetch\u001b[39m(\u001b[39mself\u001b[39m, possibly_batched_index):\n\u001b[0;32m     48\u001b[0m     \u001b[39mif\u001b[39;00m \u001b[39mself\u001b[39m\u001b[39m.\u001b[39mauto_collation:\n\u001b[1;32m---> 49\u001b[0m         data \u001b[39m=\u001b[39m [\u001b[39mself\u001b[39;49m\u001b[39m.\u001b[39;49mdataset[idx] \u001b[39mfor\u001b[39;00m idx \u001b[39min\u001b[39;00m possibly_batched_index]\n\u001b[0;32m     50\u001b[0m     \u001b[39melse\u001b[39;00m:\n\u001b[0;32m     51\u001b[0m         data \u001b[39m=\u001b[39m \u001b[39mself\u001b[39m\u001b[39m.\u001b[39mdataset[possibly_batched_index]\n",
      "File \u001b[1;32mc:\\Users\\ritth\\software\\anaconda\\envs\\deep\\lib\\site-packages\\torch\\utils\\data\\dataset.py:471\u001b[0m, in \u001b[0;36mSubset.__getitem__\u001b[1;34m(self, idx)\u001b[0m\n\u001b[0;32m    469\u001b[0m \u001b[39mif\u001b[39;00m \u001b[39misinstance\u001b[39m(idx, \u001b[39mlist\u001b[39m):\n\u001b[0;32m    470\u001b[0m     \u001b[39mreturn\u001b[39;00m \u001b[39mself\u001b[39m\u001b[39m.\u001b[39mdataset[[\u001b[39mself\u001b[39m\u001b[39m.\u001b[39mindices[i] \u001b[39mfor\u001b[39;00m i \u001b[39min\u001b[39;00m idx]]\n\u001b[1;32m--> 471\u001b[0m \u001b[39mreturn\u001b[39;00m \u001b[39mself\u001b[39;49m\u001b[39m.\u001b[39;49mdataset[\u001b[39mself\u001b[39;49m\u001b[39m.\u001b[39;49mindices[idx]]\n",
      "\u001b[1;32mc:\\Users\\ritth\\code\\Strive\\Strive-Exercises\\Chapter 03\\19. Project\\1.ipynb Cell 9'\u001b[0m in \u001b[0;36mPlanktonDataset.__getitem__\u001b[1;34m(self, index)\u001b[0m\n\u001b[0;32m     <a href='vscode-notebook-cell:/c%3A/Users/ritth/code/Strive/Strive-Exercises/Chapter%2003/19.%20Project/1.ipynb#ch0000007?line=24'>25</a>\u001b[0m img \u001b[39m=\u001b[39m Image\u001b[39m.\u001b[39mfromarray(img)\n\u001b[0;32m     <a href='vscode-notebook-cell:/c%3A/Users/ritth/code/Strive/Strive-Exercises/Chapter%2003/19.%20Project/1.ipynb#ch0000007?line=25'>26</a>\u001b[0m \u001b[39mif\u001b[39;00m \u001b[39mself\u001b[39m\u001b[39m.\u001b[39mtransform \u001b[39m!=\u001b[39m \u001b[39mNone\u001b[39;00m:\n\u001b[1;32m---> <a href='vscode-notebook-cell:/c%3A/Users/ritth/code/Strive/Strive-Exercises/Chapter%2003/19.%20Project/1.ipynb#ch0000007?line=26'>27</a>\u001b[0m     img \u001b[39m=\u001b[39m \u001b[39mself\u001b[39;49m\u001b[39m.\u001b[39;49mtransform()(img)\n\u001b[0;32m     <a href='vscode-notebook-cell:/c%3A/Users/ritth/code/Strive/Strive-Exercises/Chapter%2003/19.%20Project/1.ipynb#ch0000007?line=27'>28</a>\u001b[0m \u001b[39melse\u001b[39;00m:\n\u001b[0;32m     <a href='vscode-notebook-cell:/c%3A/Users/ritth/code/Strive/Strive-Exercises/Chapter%2003/19.%20Project/1.ipynb#ch0000007?line=28'>29</a>\u001b[0m     img \u001b[39m=\u001b[39m transforms\u001b[39m.\u001b[39mToTensor()(img)\n",
      "\u001b[1;31mTypeError\u001b[0m: Compose.__call__() missing 1 required positional argument: 'img'"
     ]
    }
   ],
   "source": [
    "best_loss = np.inf\n",
    "for epoch in range(EPOCHS):\n",
    "    print(f\"Epoch {epoch + 1} : \\n\")\n",
    "    TR_LOSS = 0.0\n",
    "    VAL_LOSS = 0.0\n",
    "    model.train()\n",
    "    \n",
    "    # Train Data Forward & Backward Pass\n",
    "    \n",
    "    for img, (train_patch, (labels, _)) in enumerate(train_dl):\n",
    "        optim.zero_grad()\n",
    "        \n",
    "        labels = labels.long()\n",
    "        op = model(train_patch)\n",
    "        tloss = criterion(op, labels)\n",
    "        TR_LOSS += tloss.item()\n",
    "        train_loss.append(tloss.item())\n",
    "        tloss.backward()\n",
    "        optim.step()\n",
    "        \n",
    "        if img % 100 == 99:\n",
    "            print(f\"         Step {img + 1} Loss : {'%.4f'%(tloss.item())}\") \n",
    "    model.eval()\n",
    "    \n",
    "    # Validation Checking ( Only Forward Pass )\n",
    "    \n",
    "    with torch.no_grad():\n",
    "        for img, (val_patch, (labels, _)) in enumerate(val_dl):\n",
    "            \n",
    "            labels = labels.long()\n",
    "            op = model(val_patch)\n",
    "            vloss = criterion(op, labels)\n",
    "            VAL_LOSS += vloss.item()\n",
    "            val_loss.append(vloss.item())\n",
    "    print(f\"\\n     Training Loss : {'%.4f'%(TR_LOSS)}  ||  Validation Loss : {'%.4f'%(VAL_LOSS)}\\n\")\n",
    "    \n",
    "    if VAL_LOSS < best_loss :      # Model Updationg\n",
    "        print(\"Model Updation : Success!\\n\", 'green')\n",
    "        torch.save(model, 'best_model.pth')\n",
    "        best_loss = VAL_LOSS\n",
    "    else:\n",
    "        print(\"Model Updation : Failed!\\n\", 'red')\n",
    "print('Training completed...', 'green')  "
   ]
  }
 ],
 "metadata": {
  "kernelspec": {
   "display_name": "Python 3.10.4 ('deep')",
   "language": "python",
   "name": "python3"
  },
  "language_info": {
   "codemirror_mode": {
    "name": "ipython",
    "version": 3
   },
   "file_extension": ".py",
   "mimetype": "text/x-python",
   "name": "python",
   "nbconvert_exporter": "python",
   "pygments_lexer": "ipython3",
   "version": "3.10.4"
  },
  "orig_nbformat": 4,
  "vscode": {
   "interpreter": {
    "hash": "a6a404c1b23560d548308d831c1aa8041fb180aef1b35cf4a28ead3655e6085d"
   }
  }
 },
 "nbformat": 4,
 "nbformat_minor": 2
}
