{
 "cells": [
  {
   "cell_type": "code",
   "execution_count": 111,
   "metadata": {},
   "outputs": [
    {
     "data": {
      "text/plain": [
       "<torch._C.Generator at 0x24f6e6be150>"
      ]
     },
     "execution_count": 111,
     "metadata": {},
     "output_type": "execute_result"
    }
   ],
   "source": [
    "import os\n",
    "from glob import glob\n",
    "import shutil\n",
    "\n",
    "\n",
    "import numpy as np\n",
    "import pandas as pd\n",
    "import matplotlib.pyplot as plt\n",
    "import cv2\n",
    "from PIL import Image\n",
    "\n",
    "import torch\n",
    "import torch.nn as nn\n",
    "from torchvision import transforms as transforms\n",
    "from torch.utils.data import Dataset, DataLoader\n",
    "from torchvision import datasets, transforms, models\n",
    "\n",
    "torch.manual_seed(42)"
   ]
  },
  {
   "cell_type": "markdown",
   "metadata": {},
   "source": [
    "### All in together"
   ]
  },
  {
   "cell_type": "code",
   "execution_count": 14,
   "metadata": {},
   "outputs": [],
   "source": [
    "# Generating csv file to gather data of images \n",
    "\n",
    "def generate_csv(root, img_ext = 'jpg'):\n",
    "    df = pd.DataFrame(columns = ['path', 'class'])\n",
    "    for index, label in enumerate(os.listdir(root)):\n",
    "            links = glob(f\"{root}/{label}/*{img_ext}\")\n",
    "            temp_df = pd.DataFrame({'path': links, 'class': np.ones(len(links), dtype='float32')*index})\n",
    "            df = pd.concat([df, temp_df], axis = 0)\n",
    "        \n",
    "    return df"
   ]
  },
  {
   "cell_type": "code",
   "execution_count": 35,
   "metadata": {},
   "outputs": [
    {
     "data": {
      "text/plain": [
       "['acantharia_protist',\n",
       " 'acantharia_protist_big_center',\n",
       " 'acantharia_protist_halo',\n",
       " 'amphipods',\n",
       " 'appendicularian_fritillaridae']"
      ]
     },
     "execution_count": 35,
     "metadata": {},
     "output_type": "execute_result"
    }
   ],
   "source": [
    "df = pd.DataFrame(columns=['path', 'class'])\n",
    "root = 'C:\\\\Users\\\\ritth\\\\code\\\\Data\\\\datasciencebowl\\\\train\\\\train'\n",
    "labels = os.listdir(root)\n",
    "labels[:5]\n",
    "\n"
   ]
  },
  {
   "cell_type": "code",
   "execution_count": 139,
   "metadata": {},
   "outputs": [
    {
     "data": {
      "text/plain": [
       "<enumerate at 0x24f12795b80>"
      ]
     },
     "execution_count": 139,
     "metadata": {},
     "output_type": "execute_result"
    }
   ],
   "source": [
    "enumerate(os.listdir(root))"
   ]
  },
  {
   "cell_type": "code",
   "execution_count": 44,
   "metadata": {},
   "outputs": [
    {
     "data": {
      "text/plain": [
       "[]"
      ]
     },
     "execution_count": 44,
     "metadata": {},
     "output_type": "execute_result"
    }
   ],
   "source": [
    "glob(f\"{root}/*jpg\")\n"
   ]
  },
  {
   "cell_type": "code",
   "execution_count": 40,
   "metadata": {},
   "outputs": [
    {
     "data": {
      "text/plain": [
       "'C:\\\\Users\\\\ritth\\\\code\\\\Data\\\\datasciencebowl\\\\train\\\\train/acantharia_protist_big_center/*jpg'"
      ]
     },
     "execution_count": 40,
     "metadata": {},
     "output_type": "execute_result"
    }
   ],
   "source": [
    "pthname = f\"{root}/{labels[1]}/*jpg\"\n",
    "pthname"
   ]
  },
  {
   "cell_type": "code",
   "execution_count": 41,
   "metadata": {},
   "outputs": [
    {
     "data": {
      "text/plain": [
       "13"
      ]
     },
     "execution_count": 41,
     "metadata": {},
     "output_type": "execute_result"
    }
   ],
   "source": [
    "links = glob(pthname)\n",
    "len(links)"
   ]
  },
  {
   "cell_type": "code",
   "execution_count": 43,
   "metadata": {},
   "outputs": [
    {
     "data": {
      "text/plain": [
       "array([3., 3., 3., 3.])"
      ]
     },
     "execution_count": 43,
     "metadata": {},
     "output_type": "execute_result"
    }
   ],
   "source": [
    "np.ones(4)*3\n"
   ]
  },
  {
   "cell_type": "code",
   "execution_count": 47,
   "metadata": {},
   "outputs": [
    {
     "data": {
      "text/html": [
       "<div>\n",
       "<style scoped>\n",
       "    .dataframe tbody tr th:only-of-type {\n",
       "        vertical-align: middle;\n",
       "    }\n",
       "\n",
       "    .dataframe tbody tr th {\n",
       "        vertical-align: top;\n",
       "    }\n",
       "\n",
       "    .dataframe thead th {\n",
       "        text-align: right;\n",
       "    }\n",
       "</style>\n",
       "<table border=\"1\" class=\"dataframe\">\n",
       "  <thead>\n",
       "    <tr style=\"text-align: right;\">\n",
       "      <th></th>\n",
       "      <th>path</th>\n",
       "      <th>class</th>\n",
       "    </tr>\n",
       "  </thead>\n",
       "  <tbody>\n",
       "    <tr>\n",
       "      <th>0</th>\n",
       "      <td>C:\\Users\\ritth\\code\\Data\\datasciencebowl\\train...</td>\n",
       "      <td>1.0</td>\n",
       "    </tr>\n",
       "    <tr>\n",
       "      <th>1</th>\n",
       "      <td>C:\\Users\\ritth\\code\\Data\\datasciencebowl\\train...</td>\n",
       "      <td>1.0</td>\n",
       "    </tr>\n",
       "    <tr>\n",
       "      <th>2</th>\n",
       "      <td>C:\\Users\\ritth\\code\\Data\\datasciencebowl\\train...</td>\n",
       "      <td>1.0</td>\n",
       "    </tr>\n",
       "    <tr>\n",
       "      <th>3</th>\n",
       "      <td>C:\\Users\\ritth\\code\\Data\\datasciencebowl\\train...</td>\n",
       "      <td>1.0</td>\n",
       "    </tr>\n",
       "    <tr>\n",
       "      <th>4</th>\n",
       "      <td>C:\\Users\\ritth\\code\\Data\\datasciencebowl\\train...</td>\n",
       "      <td>1.0</td>\n",
       "    </tr>\n",
       "    <tr>\n",
       "      <th>5</th>\n",
       "      <td>C:\\Users\\ritth\\code\\Data\\datasciencebowl\\train...</td>\n",
       "      <td>1.0</td>\n",
       "    </tr>\n",
       "    <tr>\n",
       "      <th>6</th>\n",
       "      <td>C:\\Users\\ritth\\code\\Data\\datasciencebowl\\train...</td>\n",
       "      <td>1.0</td>\n",
       "    </tr>\n",
       "    <tr>\n",
       "      <th>7</th>\n",
       "      <td>C:\\Users\\ritth\\code\\Data\\datasciencebowl\\train...</td>\n",
       "      <td>1.0</td>\n",
       "    </tr>\n",
       "    <tr>\n",
       "      <th>8</th>\n",
       "      <td>C:\\Users\\ritth\\code\\Data\\datasciencebowl\\train...</td>\n",
       "      <td>1.0</td>\n",
       "    </tr>\n",
       "    <tr>\n",
       "      <th>9</th>\n",
       "      <td>C:\\Users\\ritth\\code\\Data\\datasciencebowl\\train...</td>\n",
       "      <td>1.0</td>\n",
       "    </tr>\n",
       "    <tr>\n",
       "      <th>10</th>\n",
       "      <td>C:\\Users\\ritth\\code\\Data\\datasciencebowl\\train...</td>\n",
       "      <td>1.0</td>\n",
       "    </tr>\n",
       "    <tr>\n",
       "      <th>11</th>\n",
       "      <td>C:\\Users\\ritth\\code\\Data\\datasciencebowl\\train...</td>\n",
       "      <td>1.0</td>\n",
       "    </tr>\n",
       "    <tr>\n",
       "      <th>12</th>\n",
       "      <td>C:\\Users\\ritth\\code\\Data\\datasciencebowl\\train...</td>\n",
       "      <td>1.0</td>\n",
       "    </tr>\n",
       "  </tbody>\n",
       "</table>\n",
       "</div>"
      ],
      "text/plain": [
       "                                                 path  class\n",
       "0   C:\\Users\\ritth\\code\\Data\\datasciencebowl\\train...    1.0\n",
       "1   C:\\Users\\ritth\\code\\Data\\datasciencebowl\\train...    1.0\n",
       "2   C:\\Users\\ritth\\code\\Data\\datasciencebowl\\train...    1.0\n",
       "3   C:\\Users\\ritth\\code\\Data\\datasciencebowl\\train...    1.0\n",
       "4   C:\\Users\\ritth\\code\\Data\\datasciencebowl\\train...    1.0\n",
       "5   C:\\Users\\ritth\\code\\Data\\datasciencebowl\\train...    1.0\n",
       "6   C:\\Users\\ritth\\code\\Data\\datasciencebowl\\train...    1.0\n",
       "7   C:\\Users\\ritth\\code\\Data\\datasciencebowl\\train...    1.0\n",
       "8   C:\\Users\\ritth\\code\\Data\\datasciencebowl\\train...    1.0\n",
       "9   C:\\Users\\ritth\\code\\Data\\datasciencebowl\\train...    1.0\n",
       "10  C:\\Users\\ritth\\code\\Data\\datasciencebowl\\train...    1.0\n",
       "11  C:\\Users\\ritth\\code\\Data\\datasciencebowl\\train...    1.0\n",
       "12  C:\\Users\\ritth\\code\\Data\\datasciencebowl\\train...    1.0"
      ]
     },
     "execution_count": 47,
     "metadata": {},
     "output_type": "execute_result"
    }
   ],
   "source": [
    "pd.DataFrame({'path': links, 'class': np.ones(len(links), dtype='float32')*1})\n",
    "\n"
   ]
  },
  {
   "cell_type": "code",
   "execution_count": 52,
   "metadata": {},
   "outputs": [
    {
     "data": {
      "text/plain": [
       "(30336, 2)"
      ]
     },
     "execution_count": 52,
     "metadata": {},
     "output_type": "execute_result"
    }
   ],
   "source": [
    "data = generate_csv('C:\\\\Users\\\\ritth\\\\code\\\\Data\\\\datasciencebowl\\\\train\\\\train')\n",
    "data.shape"
   ]
  },
  {
   "cell_type": "code",
   "execution_count": 58,
   "metadata": {},
   "outputs": [
    {
     "data": {
      "text/html": [
       "<div>\n",
       "<style scoped>\n",
       "    .dataframe tbody tr th:only-of-type {\n",
       "        vertical-align: middle;\n",
       "    }\n",
       "\n",
       "    .dataframe tbody tr th {\n",
       "        vertical-align: top;\n",
       "    }\n",
       "\n",
       "    .dataframe thead th {\n",
       "        text-align: right;\n",
       "    }\n",
       "</style>\n",
       "<table border=\"1\" class=\"dataframe\">\n",
       "  <thead>\n",
       "    <tr style=\"text-align: right;\">\n",
       "      <th></th>\n",
       "      <th>path</th>\n",
       "      <th>class</th>\n",
       "    </tr>\n",
       "  </thead>\n",
       "  <tbody>\n",
       "    <tr>\n",
       "      <th>0</th>\n",
       "      <td>C:\\Users\\ritth\\code\\Data\\datasciencebowl\\train...</td>\n",
       "      <td>0.0</td>\n",
       "    </tr>\n",
       "    <tr>\n",
       "      <th>1</th>\n",
       "      <td>C:\\Users\\ritth\\code\\Data\\datasciencebowl\\train...</td>\n",
       "      <td>0.0</td>\n",
       "    </tr>\n",
       "    <tr>\n",
       "      <th>2</th>\n",
       "      <td>C:\\Users\\ritth\\code\\Data\\datasciencebowl\\train...</td>\n",
       "      <td>0.0</td>\n",
       "    </tr>\n",
       "    <tr>\n",
       "      <th>3</th>\n",
       "      <td>C:\\Users\\ritth\\code\\Data\\datasciencebowl\\train...</td>\n",
       "      <td>0.0</td>\n",
       "    </tr>\n",
       "    <tr>\n",
       "      <th>4</th>\n",
       "      <td>C:\\Users\\ritth\\code\\Data\\datasciencebowl\\train...</td>\n",
       "      <td>0.0</td>\n",
       "    </tr>\n",
       "  </tbody>\n",
       "</table>\n",
       "</div>"
      ],
      "text/plain": [
       "                                                path class\n",
       "0  C:\\Users\\ritth\\code\\Data\\datasciencebowl\\train...   0.0\n",
       "1  C:\\Users\\ritth\\code\\Data\\datasciencebowl\\train...   0.0\n",
       "2  C:\\Users\\ritth\\code\\Data\\datasciencebowl\\train...   0.0\n",
       "3  C:\\Users\\ritth\\code\\Data\\datasciencebowl\\train...   0.0\n",
       "4  C:\\Users\\ritth\\code\\Data\\datasciencebowl\\train...   0.0"
      ]
     },
     "execution_count": 58,
     "metadata": {},
     "output_type": "execute_result"
    }
   ],
   "source": [
    "data.head()\n"
   ]
  },
  {
   "cell_type": "code",
   "execution_count": 108,
   "metadata": {},
   "outputs": [
    {
     "data": {
      "text/plain": [
       "((24268, 2), (6068, 2))"
      ]
     },
     "execution_count": 108,
     "metadata": {},
     "output_type": "execute_result"
    }
   ],
   "source": [
    "from sklearn.model_selection import train_test_split\n",
    "\n",
    "train_ds, test_ds = train_test_split(data, test_size=0.2, random_state=0, stratify= data[\"class\"])\n",
    "train_ds, test_ds = train_ds.reset_index(drop=True), test_ds.reset_index(drop=True)\n",
    "train_ds.shape, test_ds.shape\n"
   ]
  },
  {
   "cell_type": "code",
   "execution_count": 112,
   "metadata": {},
   "outputs": [
    {
     "data": {
      "text/html": [
       "<div>\n",
       "<style scoped>\n",
       "    .dataframe tbody tr th:only-of-type {\n",
       "        vertical-align: middle;\n",
       "    }\n",
       "\n",
       "    .dataframe tbody tr th {\n",
       "        vertical-align: top;\n",
       "    }\n",
       "\n",
       "    .dataframe thead th {\n",
       "        text-align: right;\n",
       "    }\n",
       "</style>\n",
       "<table border=\"1\" class=\"dataframe\">\n",
       "  <thead>\n",
       "    <tr style=\"text-align: right;\">\n",
       "      <th></th>\n",
       "      <th>path</th>\n",
       "      <th>class</th>\n",
       "    </tr>\n",
       "  </thead>\n",
       "  <tbody>\n",
       "    <tr>\n",
       "      <th>0</th>\n",
       "      <td>C:\\Users\\ritth\\code\\Data\\datasciencebowl\\train...</td>\n",
       "      <td>7.0</td>\n",
       "    </tr>\n",
       "    <tr>\n",
       "      <th>1</th>\n",
       "      <td>C:\\Users\\ritth\\code\\Data\\datasciencebowl\\train...</td>\n",
       "      <td>114.0</td>\n",
       "    </tr>\n",
       "    <tr>\n",
       "      <th>2</th>\n",
       "      <td>C:\\Users\\ritth\\code\\Data\\datasciencebowl\\train...</td>\n",
       "      <td>0.0</td>\n",
       "    </tr>\n",
       "    <tr>\n",
       "      <th>3</th>\n",
       "      <td>C:\\Users\\ritth\\code\\Data\\datasciencebowl\\train...</td>\n",
       "      <td>12.0</td>\n",
       "    </tr>\n",
       "    <tr>\n",
       "      <th>4</th>\n",
       "      <td>C:\\Users\\ritth\\code\\Data\\datasciencebowl\\train...</td>\n",
       "      <td>15.0</td>\n",
       "    </tr>\n",
       "    <tr>\n",
       "      <th>...</th>\n",
       "      <td>...</td>\n",
       "      <td>...</td>\n",
       "    </tr>\n",
       "    <tr>\n",
       "      <th>6063</th>\n",
       "      <td>C:\\Users\\ritth\\code\\Data\\datasciencebowl\\train...</td>\n",
       "      <td>19.0</td>\n",
       "    </tr>\n",
       "    <tr>\n",
       "      <th>6064</th>\n",
       "      <td>C:\\Users\\ritth\\code\\Data\\datasciencebowl\\train...</td>\n",
       "      <td>11.0</td>\n",
       "    </tr>\n",
       "    <tr>\n",
       "      <th>6065</th>\n",
       "      <td>C:\\Users\\ritth\\code\\Data\\datasciencebowl\\train...</td>\n",
       "      <td>65.0</td>\n",
       "    </tr>\n",
       "    <tr>\n",
       "      <th>6066</th>\n",
       "      <td>C:\\Users\\ritth\\code\\Data\\datasciencebowl\\train...</td>\n",
       "      <td>65.0</td>\n",
       "    </tr>\n",
       "    <tr>\n",
       "      <th>6067</th>\n",
       "      <td>C:\\Users\\ritth\\code\\Data\\datasciencebowl\\train...</td>\n",
       "      <td>120.0</td>\n",
       "    </tr>\n",
       "  </tbody>\n",
       "</table>\n",
       "<p>6068 rows × 2 columns</p>\n",
       "</div>"
      ],
      "text/plain": [
       "                                                   path  class\n",
       "0     C:\\Users\\ritth\\code\\Data\\datasciencebowl\\train...    7.0\n",
       "1     C:\\Users\\ritth\\code\\Data\\datasciencebowl\\train...  114.0\n",
       "2     C:\\Users\\ritth\\code\\Data\\datasciencebowl\\train...    0.0\n",
       "3     C:\\Users\\ritth\\code\\Data\\datasciencebowl\\train...   12.0\n",
       "4     C:\\Users\\ritth\\code\\Data\\datasciencebowl\\train...   15.0\n",
       "...                                                 ...    ...\n",
       "6063  C:\\Users\\ritth\\code\\Data\\datasciencebowl\\train...   19.0\n",
       "6064  C:\\Users\\ritth\\code\\Data\\datasciencebowl\\train...   11.0\n",
       "6065  C:\\Users\\ritth\\code\\Data\\datasciencebowl\\train...   65.0\n",
       "6066  C:\\Users\\ritth\\code\\Data\\datasciencebowl\\train...   65.0\n",
       "6067  C:\\Users\\ritth\\code\\Data\\datasciencebowl\\train...  120.0\n",
       "\n",
       "[6068 rows x 2 columns]"
      ]
     },
     "execution_count": 112,
     "metadata": {},
     "output_type": "execute_result"
    }
   ],
   "source": [
    "train_ds\n"
   ]
  },
  {
   "cell_type": "code",
   "execution_count": 141,
   "metadata": {},
   "outputs": [
    {
     "data": {
      "text/plain": [
       "'siphonophore_physonect\\\\14249.jpg'"
      ]
     },
     "execution_count": 141,
     "metadata": {},
     "output_type": "execute_result"
    }
   ],
   "source": [
    "pth = train_ds.values[1, 0]\n",
    "pth.split('/')[-1]"
   ]
  },
  {
   "cell_type": "code",
   "execution_count": 117,
   "metadata": {},
   "outputs": [
    {
     "data": {
      "text/plain": [
       "['siphonophore_physonect', '14249.jpg']"
      ]
     },
     "execution_count": 117,
     "metadata": {},
     "output_type": "execute_result"
    }
   ],
   "source": [
    "pth = train_ds.values[1, 0]\n",
    "pth.split('/')[-1].split(\"\\\\\")\n",
    "\n"
   ]
  },
  {
   "cell_type": "code",
   "execution_count": 127,
   "metadata": {},
   "outputs": [],
   "source": [
    "dest_folder = \"C:\\\\Users\\\\ritth\\\\code\\\\Data\\\\datasciencebowl\\\\train_new\""
   ]
  },
  {
   "cell_type": "code",
   "execution_count": 144,
   "metadata": {},
   "outputs": [
    {
     "name": "stdout",
     "output_type": "stream",
     "text": [
      "None\n",
      "None\n",
      "None\n",
      "None\n",
      "None\n",
      "None\n",
      "None\n",
      "None\n",
      "None\n",
      "None\n",
      "None\n",
      "None\n",
      "None\n",
      "None\n",
      "None\n",
      "None\n",
      "None\n",
      "None\n",
      "None\n",
      "None\n",
      "None\n",
      "None\n",
      "None\n",
      "None\n",
      "None\n",
      "None\n",
      "None\n",
      "None\n",
      "None\n",
      "None\n",
      "None\n",
      "None\n",
      "None\n",
      "None\n",
      "None\n",
      "None\n",
      "None\n",
      "None\n",
      "None\n",
      "None\n",
      "None\n",
      "None\n",
      "None\n",
      "None\n",
      "None\n",
      "None\n",
      "None\n",
      "None\n",
      "None\n",
      "None\n",
      "None\n",
      "None\n",
      "None\n",
      "None\n",
      "None\n",
      "None\n",
      "None\n",
      "None\n",
      "None\n",
      "None\n",
      "None\n",
      "None\n",
      "None\n",
      "None\n",
      "None\n",
      "None\n",
      "None\n",
      "None\n",
      "None\n",
      "None\n",
      "None\n",
      "None\n",
      "None\n",
      "None\n",
      "None\n",
      "None\n",
      "None\n",
      "None\n",
      "None\n",
      "None\n",
      "None\n",
      "None\n",
      "None\n",
      "None\n",
      "None\n",
      "None\n",
      "None\n",
      "None\n",
      "None\n",
      "None\n",
      "None\n",
      "None\n",
      "None\n",
      "None\n",
      "None\n",
      "None\n",
      "None\n",
      "None\n",
      "None\n",
      "None\n",
      "None\n",
      "None\n",
      "None\n",
      "None\n",
      "None\n",
      "None\n",
      "None\n",
      "None\n",
      "None\n",
      "None\n",
      "None\n",
      "None\n",
      "None\n",
      "None\n",
      "None\n",
      "None\n",
      "None\n",
      "None\n",
      "None\n",
      "None\n",
      "None\n"
     ]
    }
   ],
   "source": [
    "for pth in train_ds.values[:, 0]:\n",
    "        folder_img = pth.split(\"/\")[-1].split(\"\\\\\")\n",
    "        folder, img = folder_img[0], folder_img[1]\n",
    "        label_folder = os.path.join(dest_folder, folder)\n",
    "        #print(label_folder)\n",
    "        if not os.path.isdir( label_folder ):              # if the folder does not exist \n",
    "            datafoladers = os.mkdir(label_folder)\n",
    "            print(datafoladers)  "
   ]
  },
  {
   "cell_type": "code",
   "execution_count": 142,
   "metadata": {},
   "outputs": [],
   "source": [
    "def copy_files(dest_folder, data):\n",
    "    for pth in data.values[:, 0]:\n",
    "        folder_img = pth.split(\"/\")[-1].split(\"\\\\\")\n",
    "        folder, img = folder_img[0], folder_img[1]\n",
    "        label_folder = os.path.join(dest_folder, folder)\n",
    "        print(label_folder)\n",
    "        # if not os.path.isdir( label_folder ):    # if the folder does not exist \n",
    "        #     os.mkdir(label_folder)                 # creating the the folder with containing the labels\n",
    "        # shutil.copy(pth , label_folder)\n",
    "        \n"
   ]
  },
  {
   "cell_type": "code",
   "execution_count": 136,
   "metadata": {},
   "outputs": [],
   "source": [
    "# for pth in train_ds.values[:, 0]:\n",
    "#    folder_img = pth.split(\"/\")[-1].split(\"\\\\\")\n",
    "#    folder, img = folder_img[0], folder_img[1]\n",
    "#    label_folder = os.path.join(dest_folder, folder)\n",
    "#    if not os.path.isdir( label_folder ):    # if the folder does not exist \n",
    "#       os.mkdir(label_folder)                 # creating the the folder with containing the labels\n",
    "#    shutil.copy(pth , label_folder)              # copying images \n",
    "   \n"
   ]
  },
  {
   "cell_type": "code",
   "execution_count": null,
   "metadata": {},
   "outputs": [],
   "source": [
    "for pth in test_ds.values[:, 0]:\n",
    "   folder_img = pth.split(\"/\")[-1].split(\"\\\\\")\n",
    "   folder, img = folder_img[0], folder_img[1]\n",
    "   label_folder = os.path.join(dest_folder, folder)\n",
    "   if not os.path.isdir( label_folder ):    # if the folder does not exist \n",
    "      os.mkdir(label_folder)                 # creating the the folder with containing the labels\n",
    "   shutil.copy(pth , label_folder) "
   ]
  },
  {
   "cell_type": "code",
   "execution_count": 51,
   "metadata": {},
   "outputs": [],
   "source": [
    "train_transform = transforms.Compose([\n",
    "                                    transforms.Resize((50, 50)),                                    \n",
    "                                    transforms.RandomRotation(20),\n",
    "                                    transforms.RandomResizedCrop(size=28),\n",
    "                                    transforms.RandomHorizontalFlip(),\n",
    "                                    transforms.ToTensor(),\n",
    "                                    transforms.Normalize(\n",
    "                                        mean = 0.5, std = 0.5) \n",
    "                                    ])\n",
    "    \n",
    "    \n",
    "test_transform = transforms.Compose([\n",
    "                                        transforms.Resize((50, 50)),\n",
    "                                        transforms.CenterCrop(28),\n",
    "                                        transforms.ToTensor(),\n",
    "                                        transforms.Normalize(\n",
    "                                            mean = 0.5, std = 0.5)\n",
    "        \n",
    "                                    ])"
   ]
  },
  {
   "cell_type": "code",
   "execution_count": 53,
   "metadata": {},
   "outputs": [
    {
     "data": {
      "text/plain": [
       "121"
      ]
     },
     "execution_count": 53,
     "metadata": {},
     "output_type": "execute_result"
    }
   ],
   "source": [
    "trainset = datasets.ImageFolder('C:\\\\Users\\\\ritth\\\\code\\\\Data\\\\datasciencebowl\\\\train\\\\train', transform = train_transform)\n",
    "len(trainset.classes)"
   ]
  },
  {
   "cell_type": "code",
   "execution_count": 54,
   "metadata": {},
   "outputs": [
    {
     "data": {
      "text/plain": [
       "Dataset ImageFolder\n",
       "    Number of datapoints: 30336\n",
       "    Root location: C:\\Users\\ritth\\code\\Data\\datasciencebowl\\train\\train\n",
       "    StandardTransform\n",
       "Transform: Compose(\n",
       "               Resize(size=(50, 50), interpolation=bilinear, max_size=None, antialias=None)\n",
       "               RandomRotation(degrees=[-20.0, 20.0], interpolation=nearest, expand=False, fill=0)\n",
       "               RandomResizedCrop(size=(28, 28), scale=(0.08, 1.0), ratio=(0.75, 1.3333), interpolation=bilinear)\n",
       "               RandomHorizontalFlip(p=0.5)\n",
       "               ToTensor()\n",
       "               Normalize(mean=0.5, std=0.5)\n",
       "           )"
      ]
     },
     "execution_count": 54,
     "metadata": {},
     "output_type": "execute_result"
    }
   ],
   "source": [
    "trainset"
   ]
  },
  {
   "cell_type": "code",
   "execution_count": 138,
   "metadata": {},
   "outputs": [
    {
     "data": {
      "text/plain": [
       "PIL.JpegImagePlugin.JpegImageFile"
      ]
     },
     "execution_count": 138,
     "metadata": {},
     "output_type": "execute_result"
    }
   ],
   "source": [
    "from PIL import Image\n",
    "\n",
    "pil_img = Image.open(data.values[10, 0])\n"
   ]
  },
  {
   "cell_type": "code",
   "execution_count": 100,
   "metadata": {},
   "outputs": [
    {
     "data": {
      "text/plain": [
       "tensor([[[[0.8364, 0.4216, 0.0069,  ..., 0.9311, 0.5744, 0.4263],\n",
       "          [0.8828, 0.0245, 0.2670,  ..., 0.5674, 0.3808, 0.9891],\n",
       "          [0.4797, 0.2921, 0.9603,  ..., 0.9016, 0.6257, 0.8560],\n",
       "          ...,\n",
       "          [0.8390, 0.8794, 0.4300,  ..., 0.9675, 0.2500, 0.5861],\n",
       "          [0.2831, 0.2839, 0.7308,  ..., 0.6841, 0.4362, 0.7485],\n",
       "          [0.4087, 0.3292, 0.9327,  ..., 0.4565, 0.3092, 0.2538]]],\n",
       "\n",
       "\n",
       "        [[[0.0000, 0.0000, 0.0000,  ..., 0.0000, 0.0000, 0.0000],\n",
       "          [0.0000, 0.0000, 0.0000,  ..., 0.0000, 0.0000, 0.0000],\n",
       "          [0.0000, 0.0000, 0.0000,  ..., 0.0000, 0.0000, 0.0000],\n",
       "          ...,\n",
       "          [0.0000, 0.0000, 0.0000,  ..., 0.0000, 0.0000, 0.0000],\n",
       "          [0.0000, 0.0000, 0.0000,  ..., 0.0000, 0.0000, 0.0000],\n",
       "          [0.0000, 0.0000, 0.0000,  ..., 0.0000, 0.0000, 0.0000]]]])"
      ]
     },
     "execution_count": 100,
     "metadata": {},
     "output_type": "execute_result"
    }
   ],
   "source": [
    "zeros = torch.zeros(2, 1, 28, 28)\n",
    "zeros[0] = torch.rand((1, 28, 28))\n",
    "\n",
    "zeros"
   ]
  },
  {
   "cell_type": "code",
   "execution_count": 110,
   "metadata": {},
   "outputs": [
    {
     "ename": "IndexError",
     "evalue": "index 24268 is out of bounds for dimension 0 with size 24268",
     "output_type": "error",
     "traceback": [
      "\u001b[1;31m---------------------------------------------------------------------------\u001b[0m",
      "\u001b[1;31mIndexError\u001b[0m                                Traceback (most recent call last)",
      "\u001b[1;32mc:\\Users\\ritth\\code\\Strive\\Strive-Exercises\\Chapter 03\\19. Project\\notebook.ipynb Cell 19'\u001b[0m in \u001b[0;36m<cell line: 24>\u001b[1;34m()\u001b[0m\n\u001b[0;32m     <a href='vscode-notebook-cell:/c%3A/Users/ritth/code/Strive/Strive-Exercises/Chapter%2003/19.%20Project/notebook.ipynb#ch0000034?line=19'>20</a>\u001b[0m         \u001b[39mreturn\u001b[39;00m images[index]\n\u001b[0;32m     <a href='vscode-notebook-cell:/c%3A/Users/ritth/code/Strive/Strive-Exercises/Chapter%2003/19.%20Project/notebook.ipynb#ch0000034?line=22'>23</a>\u001b[0m testing_data \u001b[39m=\u001b[39m PlktDataset(train_ds, train_transform)\n\u001b[1;32m---> <a href='vscode-notebook-cell:/c%3A/Users/ritth/code/Strive/Strive-Exercises/Chapter%2003/19.%20Project/notebook.ipynb#ch0000034?line=23'>24</a>\u001b[0m testing_data[\u001b[39m0\u001b[39;49m]\n",
      "\u001b[1;32mc:\\Users\\ritth\\code\\Strive\\Strive-Exercises\\Chapter 03\\19. Project\\notebook.ipynb Cell 19'\u001b[0m in \u001b[0;36mPlktDataset.__getitem__\u001b[1;34m(self, index)\u001b[0m\n\u001b[0;32m     <a href='vscode-notebook-cell:/c%3A/Users/ritth/code/Strive/Strive-Exercises/Chapter%2003/19.%20Project/notebook.ipynb#ch0000034?line=15'>16</a>\u001b[0m     img \u001b[39m=\u001b[39m Image\u001b[39m.\u001b[39mopen(pth)\n\u001b[0;32m     <a href='vscode-notebook-cell:/c%3A/Users/ritth/code/Strive/Strive-Exercises/Chapter%2003/19.%20Project/notebook.ipynb#ch0000034?line=16'>17</a>\u001b[0m     transfrom_img \u001b[39m=\u001b[39m \u001b[39mself\u001b[39m\u001b[39m.\u001b[39mtransform(img)\n\u001b[1;32m---> <a href='vscode-notebook-cell:/c%3A/Users/ritth/code/Strive/Strive-Exercises/Chapter%2003/19.%20Project/notebook.ipynb#ch0000034?line=17'>18</a>\u001b[0m     images[idx] \u001b[39m=\u001b[39m transfrom_img\n\u001b[0;32m     <a href='vscode-notebook-cell:/c%3A/Users/ritth/code/Strive/Strive-Exercises/Chapter%2003/19.%20Project/notebook.ipynb#ch0000034?line=19'>20</a>\u001b[0m \u001b[39mreturn\u001b[39;00m images[index]\n",
      "\u001b[1;31mIndexError\u001b[0m: index 24268 is out of bounds for dimension 0 with size 24268"
     ]
    }
   ],
   "source": [
    "# class PlktDataset(Dataset):\n",
    "#     def __init__(self, data, transforms):\n",
    "#         super(PlktDataset, self).__init__()\n",
    "#         self.data = data\n",
    "#         self.size = 28\n",
    "#         self.transform = transforms\n",
    "\n",
    "#     def __len__(self):\n",
    "#         return len(self.data)\n",
    "\n",
    "#     def __getitem__(self, index):\n",
    "#         images = torch.zeros(len(self.data), 1, 28, 28)\n",
    "#         path = data.values[:, 0]\n",
    "#         label = data.values[:, 1]\n",
    "#         for idx, pth in enumerate(path):\n",
    "#             img = Image.open(pth)\n",
    "#             transfrom_img = self.transform(img)\n",
    "#             images[idx] = transfrom_img\n",
    "        \n",
    "#         return images[index]\n",
    "\n",
    "\n",
    "# testing_data = PlktDataset(train_ds, train_transform)\n",
    "# testing_data[0]"
   ]
  },
  {
   "cell_type": "code",
   "execution_count": 19,
   "metadata": {},
   "outputs": [],
   "source": [
    "# train_ds = PlktDataset(data, transforms = train_transform)\n",
    "# test_ds = PlktDataset(data, transforms = test_transform)"
   ]
  },
  {
   "cell_type": "code",
   "execution_count": 20,
   "metadata": {},
   "outputs": [],
   "source": [
    "\n",
    "\n",
    "\n",
    "# Creating PT data samplers and loaders:\n",
    "train_loader = DataLoader(train_ds, batch_size = 64, shuffle = True)\n",
    "test_loader = DataLoader(test_ds, batch_size = 64, shuffle = False)\n"
   ]
  },
  {
   "cell_type": "code",
   "execution_count": null,
   "metadata": {},
   "outputs": [],
   "source": [
    "images, labels = iter(trainloader).next()\n",
    "print(f'image size: {images[0].shape}')\n",
    "trainset.classes"
   ]
  },
  {
   "cell_type": "code",
   "execution_count": 22,
   "metadata": {},
   "outputs": [
    {
     "data": {
      "image/png": "[encoded data removed]",
      "text/plain": [
       "<Figure size 1008x720 with 12 Axes>"
      ]
     },
     "metadata": {
      "needs_background": "light"
     },
     "output_type": "display_data"
    }
   ],
   "source": [
    "inv_normalize =  transforms.Normalize(\n",
    "    mean=-1*np.divide([0.485, 0.456, 0.406],[0.229, 0.224, 0.225]),\n",
    "    std=1/np.array([0.229, 0.224, 0.225])\n",
    ")\n",
    "\n",
    "def class_plot(data , classes ,inv_normalize = None,n_figures = 12):\n",
    "    n_row = int(n_figures/4)\n",
    "    fig,axes = plt.subplots(figsize=(14, 10), nrows = n_row, ncols=4)\n",
    "    for ax in axes.flatten():\n",
    "        idx = np.random.randint(len(data))\n",
    "        image,label = data[idx]\n",
    "        label = int(label)\n",
    "        l = classes[label]\n",
    "        if(inv_normalize!=None):\n",
    "            image = inv_normalize(image)\n",
    "        image = image.numpy().transpose(1,2,0)\n",
    "        im = ax.imshow(image)\n",
    "        ax.set_title(l)\n",
    "        ax.axis('off')\n",
    "    plt.show()\n",
    "class_plot(trainset,trainset.classes,inv_normalize)"
   ]
  },
  {
   "cell_type": "code",
   "execution_count": null,
   "metadata": {},
   "outputs": [],
   "source": []
  },
  {
   "cell_type": "code",
   "execution_count": null,
   "metadata": {},
   "outputs": [],
   "source": [
    "import torch.nn.functional as F"
   ]
  },
  {
   "cell_type": "code",
   "execution_count": 23,
   "metadata": {},
   "outputs": [],
   "source": [
    "class ConvNet(nn.Module):\n",
    "    def __init__(self):\n",
    "        super(ConvNet, self).__init__()\n",
    "        self.conv1 = nn.Conv2d(1, 32, 3, padding='same')\n",
    "        self.pool = nn.MaxPool2d(2, 2)\n",
    "        self.conv2 = nn.Conv2d(32, 64, 3, padding='same')\n",
    "        self.fc1 = nn.Linear(64*7*7, 256)\n",
    "        self.fc2 = nn.Linear(256, 128)\n",
    "        self.fc3 = nn.Linear(128, 10)\n",
    "\n",
    "        \n",
    "        # dropout to reduce overfitting\n",
    "        self.dropout = nn.Dropout2d(p=0.20)\n",
    "\n",
    "    def forward(self, x):\n",
    "        x = self.pool(F.relu(self.conv1(x)))\n",
    "        x = self.pool(F.relu(self.conv2(x)))\n",
    "        \n",
    "        # flatten\n",
    "        x = x.view(x.shape[0], -1)\n",
    "\n",
    "        # activation function\n",
    "        layer1 = self.dropout(F.relu(self.fc1(x)))\n",
    "        layer2 = self.dropout(F.relu(self.fc2(layer1)))\n",
    "        out = F.log_softmax(self.fc3(layer2), dim=1)\n",
    "        \n",
    "        return out\n",
    "\n",
    "\n",
    "model = ConvNet()"
   ]
  },
  {
   "cell_type": "code",
   "execution_count": null,
   "metadata": {},
   "outputs": [],
   "source": [
    "# class ConvNet(nn.Module):\n",
    "#     def __init__(self):\n",
    "#         super(ConvNet, self).__init__()\n",
    "#         self.conv1 = nn.Conv2d(3, 224, 5, 3, 2)\n",
    "#         self.conv2 = nn.Conv2d(224, 128, 5, 2, 2)\n",
    "#         self.conv3 = nn.Conv2d(128, 64)\n",
    "#         self.fc1 = nn.Linear(64*43*43, 1256)\n",
    "#         self.fc2 = nn.Linear(1256, 928)\n",
    "#         self.fc3 = nn.Linear(928, 756)\n",
    "#         self.fc4 = nn.Linear(756, 656)\n",
    "#         self.fc5 = nn.Linear(656, 543)\n",
    "#         self.fc6 = nn.Linear(543, 453)\n",
    "#         self.fc7 = nn.Linear(453, 340)\n",
    "#         self.fc8 = nn.Linear(340, 228)\n",
    "#         self.fc9 = nn.Linear(228, 121)\n",
    "\n",
    "        \n",
    "#         # dropout to reduce overfitting\n",
    "#         self.dropout = nn.Dropout(p=0.20)\n",
    "#         self.pool = nn.MaxPool2d(2, 2)\n",
    "\n",
    "\n",
    "#     def forward(self, x):\n",
    "#         x = self.pool(F.relu(self.conv1(x)))\n",
    "#         x = self.pool(F.relu(self.conv2(x)))\n",
    "#         x = self.pool(F.relu(self.conv3(x)))\n",
    "#         #print(x.shape)\n",
    "\n",
    "#         # flatten\n",
    "#         x = x.view(x.shape[0], -1)\n",
    "\n",
    "#         # activation function\n",
    "#         layer1 = self.dropout(F.relu(self.fc1(x)))\n",
    "#         layer2 = self.dropout(F.relu(self.fc2(layer1)))\n",
    "#         layer3 = self.dropout(F.relu(self.fc2(layer2)))\n",
    "#         layer4 = self.dropout(F.relu(self.fc2(layer3)))\n",
    "#         layer5 = self.dropout(F.relu(self.fc2(layer4)))\n",
    "#         layer6 = self.dropout(F.relu(self.fc2(layer5)))\n",
    "#         layer7 = self.dropout(F.relu(self.fc2(layer6)))\n",
    "#         layer8 = self.dropout(F.relu(self.fc2(layer7)))\n",
    "#         out = F.log_softmax(self.fc3(layer8), dim=1)\n",
    "        \n",
    "#         return out\n",
    "\n",
    "\n",
    "# model = ConvNet()"
   ]
  },
  {
   "cell_type": "code",
   "execution_count": 24,
   "metadata": {},
   "outputs": [
    {
     "name": "stdout",
     "output_type": "stream",
     "text": [
      "Epoch 1/1\n"
     ]
    },
    {
     "ename": "ValueError",
     "evalue": "not enough values to unpack (expected 2, got 1)",
     "output_type": "error",
     "traceback": [
      "\u001b[1;31m---------------------------------------------------------------------------\u001b[0m",
      "\u001b[1;31mValueError\u001b[0m                                Traceback (most recent call last)",
      "\u001b[1;32mc:\\Users\\ritth\\code\\Strive\\Strive-Exercises\\Chapter 03\\19. Project\\notebook.ipynb Cell 14'\u001b[0m in \u001b[0;36m<cell line: 13>\u001b[1;34m()\u001b[0m\n\u001b[0;32m     <a href='vscode-notebook-cell:/c%3A/Users/ritth/code/Strive/Strive-Exercises/Chapter%2003/19.%20Project/notebook.ipynb#ch0000015?line=15'>16</a>\u001b[0m running_loss \u001b[39m=\u001b[39m \u001b[39m0\u001b[39m\n\u001b[0;32m     <a href='vscode-notebook-cell:/c%3A/Users/ritth/code/Strive/Strive-Exercises/Chapter%2003/19.%20Project/notebook.ipynb#ch0000015?line=17'>18</a>\u001b[0m \u001b[39m# training\u001b[39;00m\n\u001b[1;32m---> <a href='vscode-notebook-cell:/c%3A/Users/ritth/code/Strive/Strive-Exercises/Chapter%2003/19.%20Project/notebook.ipynb#ch0000015?line=18'>19</a>\u001b[0m \u001b[39mfor\u001b[39;00m train_patch, labels \u001b[39min\u001b[39;00m \u001b[39mzip\u001b[39m(train_loader):\n\u001b[0;32m     <a href='vscode-notebook-cell:/c%3A/Users/ritth/code/Strive/Strive-Exercises/Chapter%2003/19.%20Project/notebook.ipynb#ch0000015?line=21'>22</a>\u001b[0m     optimizer\u001b[39m.\u001b[39mzero_grad()\n\u001b[0;32m     <a href='vscode-notebook-cell:/c%3A/Users/ritth/code/Strive/Strive-Exercises/Chapter%2003/19.%20Project/notebook.ipynb#ch0000015?line=23'>24</a>\u001b[0m     \u001b[39m# forward pass\u001b[39;00m\n",
      "\u001b[1;31mValueError\u001b[0m: not enough values to unpack (expected 2, got 1)"
     ]
    }
   ],
   "source": [
    "learning_rate = 0.001\n",
    "epochs = 1\n",
    "\n",
    "optimizer = torch.optim.Adam(model.parameters(), lr= learning_rate)\n",
    "criterion = nn.CrossEntropyLoss()\n",
    "\n",
    "train_losses = []\n",
    "test_losses = []\n",
    "train_accuracies = []\n",
    "test_accuracies = []\n",
    "benchmark_accuracy = 0.90\n",
    "\n",
    "for epoch in range(epochs):\n",
    "    print(f'Epoch {epoch + 1}/{epochs}')\n",
    "    running_accuracy = 0\n",
    "    running_loss = 0\n",
    "\n",
    "    # training\n",
    "    for index, (train_patch, (labels, _)) in enumerate(zip(train_loader)):\n",
    "        \n",
    "\n",
    "        optimizer.zero_grad()\n",
    "\n",
    "        # forward pass\n",
    "        logits = model(train_patch)\n",
    "        train_preds = torch.argmax(logits.detach(), dim=1)\n",
    "\n",
    "        # loss\n",
    "        train_loss = criterion(logits, labels)\n",
    "        running_loss += train_loss.item()\n",
    "\n",
    "        # train accuracy\n",
    "        train_acc = (labels == train_preds).sum() / len(labels)\n",
    "        running_accuracy += train_acc.item()\n",
    "\n",
    "        # backward pass\n",
    "        \n",
    "        train_loss.backward()\n",
    "        \n",
    "        # update paramaters\n",
    "        \n",
    "        optimizer.step()\n",
    "\n",
    "        # mean loss (all batches losses divided by the total number of batches)\n",
    "    train_losses.append(running_loss / len(train_loader))\n",
    "    \n",
    "    # mean accuracies\n",
    "    train_accuracies.append(running_accuracy / len(train_loader))\n",
    "    \n",
    "    # print\n",
    "    print(f'Train loss: {train_losses[-1] :.4f}')\n",
    "\n",
    "    # validation\n",
    "    model.eval()\n",
    "    with torch.no_grad():\n",
    "        running_accuracy = 0\n",
    "        running_loss = 0\n",
    "\n",
    "        for index, (val_patch, labels) in enumerate(zip(test_loader)):\n",
    "            \n",
    "            # logits\n",
    "            test_logits = model(val_patch)\n",
    "\n",
    "            # predictions\n",
    "            test_preds = torch.argmax(test_logits, dim=1)\n",
    "            \n",
    "            # accuracy\n",
    "            test_acc = (labels == test_preds).sum() / len(labels)\n",
    "            running_accuracy += test_acc.item()\n",
    "\n",
    "            # loss\n",
    "            test_loss = criterion(test_logits, labels)\n",
    "            running_loss += test_loss.item()\n",
    "\n",
    "        # mean accuracy for each epoch\n",
    "        test_accuracies.append(running_accuracy / len(test_loader))\n",
    "\n",
    "        # mean loss for each epoch\n",
    "        test_losses.append(running_accuracy / len(test_loader))\n",
    "        # print\n",
    "        print(f'Test accuracy: {test_accuracies[-1]*100 :.2f}%')\n",
    "        print('='*100)\n",
    "        # saving best model\n",
    "        # is current mean score (mean per epoch) greater than or equal to the benchmark?\n",
    "        if test_accuracies[-1] > benchmark_accuracy:\n",
    "            # save model to cpu\n",
    "            torch.save(model.state_dict(), 'model.pth')\n",
    "\n",
    "            # update benckmark\n",
    "            benchmark_accuracy = test_accuracies[-1]\n",
    "\n",
    "    model.train()\n",
    "\n",
    "\n",
    "# Plots\n",
    "x_epochs = list(range(epochs))\n",
    "plt.figure(figsize=(15, 6))\n",
    "plt.subplot(1, 2, 1)\n",
    "plt.plot(x_epochs, train_losses, marker='o', label='train')\n",
    "plt.plot(x_epochs, test_losses, marker='o', label='test')\n",
    "plt.xlabel('Epoch')\n",
    "plt.ylabel('Loss')\n",
    "plt.legend()\n",
    "\n",
    "plt.subplot(1, 2, 2)\n",
    "plt.plot(x_epochs, train_accuracies, marker='o', label='train')\n",
    "plt.plot(x_epochs, test_accuracies, marker='o', label='test')\n",
    "plt.axhline(benchmark_accuracy, c='grey', ls='--',\n",
    "            label=f'Best_accuracy({benchmark_accuracy*100 :.2f}%)')\n",
    "plt.xlabel('Epoch')\n",
    "plt.ylabel('Accuracy')\n",
    "plt.legend()\n",
    "plt.savefig('./learning_curve.png', dpi = 200)\n",
    "\n",
    "plt.show()"
   ]
  },
  {
   "cell_type": "code",
   "execution_count": 29,
   "metadata": {},
   "outputs": [
    {
     "data": {
      "text/plain": [
       "tensor([12481, 25553, 27832, 19429, 26858, 14166, 29964, 10260, 10127, 12109,\n",
       "         7767, 18004, 24318,  9007, 15900, 15303, 20406,  7240, 13990, 10000,\n",
       "        27800, 11684,  7023, 11697,  9527, 17867, 16917, 11311, 13905, 15842,\n",
       "         8557, 26359, 27990, 27601,  9448, 16828, 17558,  6668, 13137, 13174,\n",
       "        30172, 26749, 28612, 20901, 23500, 12063, 17613, 18223, 11400, 25918,\n",
       "         8534, 25904, 19162, 26841, 26205,  6276, 25308, 21697, 11313,  6886,\n",
       "        27375, 17926, 12458,  8304])"
      ]
     },
     "execution_count": 29,
     "metadata": {},
     "output_type": "execute_result"
    }
   ],
   "source": [
    "output= iter(train_loader).next()\n",
    "output"
   ]
  }
 ],
 "metadata": {
  "kernelspec": {
   "display_name": "Python 3.10.4 ('deep')",
   "language": "python",
   "name": "python3"
  },
  "language_info": {
   "codemirror_mode": {
    "name": "ipython",
    "version": 3
   },
   "file_extension": ".py",
   "mimetype": "text/x-python",
   "name": "python",
   "nbconvert_exporter": "python",
   "pygments_lexer": "ipython3",
   "version": "3.10.4"
  },
  "orig_nbformat": 4,
  "vscode": {
   "interpreter": {
    "hash": "a6a404c1b23560d548308d831c1aa8041fb180aef1b35cf4a28ead3655e6085d"
   }
  }
 },
 "nbformat": 4,
 "nbformat_minor": 2
}
