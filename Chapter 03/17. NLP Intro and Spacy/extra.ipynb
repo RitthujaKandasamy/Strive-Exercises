{
 "cells": [
  {
   "cell_type": "code",
   "execution_count": 20,
   "metadata": {},
   "outputs": [
    {
     "data": {
      "text/plain": [
       "'It is necessary to deconstruct terrorist discourse refute its suspicions at an intellectual level and clarify their deviated citation of religious texts to promote their ideology Official and non-official religious institutions must take the responsibility for refuting such suspicions by various means and on all platforms They must also take the responsibility for working on the establishment of moderate centric thought It is also necessary to contain the youth through modern religious discourse to correct misconceptions of restoring a utopian Islamic Caliphate and promote national pertinence in education the media and social media There are ongoing efforts worthy of mention that are working well in deconstructing such a discourse including the Mohammad Bin Naif Counseling and Care Centre the Assakina campaign for dialogue the Hedaya Centre and the Sawab Centre in the UAE However all Gulf Arab and even international efforts must be concerted to counter terrorism as it is a job that has to be undertaken collectively because terrorism represents a renewed international threat that recognizes no place religion nationality color or ethnicity'"
      ]
     },
     "execution_count": 20,
     "metadata": {},
     "output_type": "execute_result"
    }
   ],
   "source": [
    "def preprocess(pth):\n",
    "\n",
    "    with open(pth, 'r') as f:\n",
    "        lines = f.readlines()\n",
    "        for i in range(len(lines)):\n",
    "            lines[i] = lines[i].replace(\".\", \"\").replace(\",\",\"\").replace(\":\",\"\")        \n",
    "        return lines[i]\n",
    "\n",
    "preprocess(\"data\\\\article.txt\")\n",
    "\n",
    "\n"
   ]
  },
  {
   "cell_type": "code",
   "execution_count": null,
   "metadata": {},
   "outputs": [],
   "source": []
  }
 ],
 "metadata": {
  "kernelspec": {
   "display_name": "Python 3.10.4 ('deep')",
   "language": "python",
   "name": "python3"
  },
  "language_info": {
   "codemirror_mode": {
    "name": "ipython",
    "version": 3
   },
   "file_extension": ".py",
   "mimetype": "text/x-python",
   "name": "python",
   "nbconvert_exporter": "python",
   "pygments_lexer": "ipython3",
   "version": "3.10.4"
  },
  "orig_nbformat": 4,
  "vscode": {
   "interpreter": {
    "hash": "a6a404c1b23560d548308d831c1aa8041fb180aef1b35cf4a28ead3655e6085d"
   }
  }
 },
 "nbformat": 4,
 "nbformat_minor": 2
}
