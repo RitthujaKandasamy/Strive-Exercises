{
 "cells": [
  {
   "cell_type": "code",
   "execution_count": 1,
   "metadata": {},
   "outputs": [],
   "source": [
    "import torch\n",
    "from torch import nn\n",
    "import numpy as np\n",
    "import pandas as pd\n",
    "from torch.optim import Adam, SGD\n",
    "import torch.nn.functional as F\n",
    "\n",
    "%matplotlib inline\n",
    "import matplotlib.pyplot as plt"
   ]
  },
  {
   "cell_type": "markdown",
   "metadata": {},
   "source": [
    "## Load data"
   ]
  },
  {
   "cell_type": "code",
   "execution_count": 2,
   "metadata": {},
   "outputs": [],
   "source": [
    "df = pd.read_csv('data_akbilgic.csv')\n",
    "df = df.drop(\"date\", axis = 1).values"
   ]
  },
  {
   "cell_type": "code",
   "execution_count": 3,
   "metadata": {},
   "outputs": [
    {
     "data": {
      "text/plain": [
       "array([[ 0.03575371,  0.03837619, -0.00467931, ...,  0.03119023,\n",
       "         0.01269804,  0.02852446],\n",
       "       [ 0.02542587,  0.03181274,  0.00778674, ...,  0.01891958,\n",
       "         0.01134065,  0.00877264],\n",
       "       [-0.02886173, -0.02635297, -0.03046913, ..., -0.03589858,\n",
       "        -0.0170728 , -0.02001541],\n",
       "       ...,\n",
       "       [ 0.00019097, -0.0016526 ,  0.00192291, ...,  0.00562792,\n",
       "         0.00057157,  0.00693787],\n",
       "       [-0.01306904, -0.01370599, -0.02074215, ..., -0.01194168,\n",
       "        -0.01261533, -0.00095774],\n",
       "       [-0.00724632, -0.01944185,  0.        , ..., -0.01225155,\n",
       "        -0.00546489, -0.01429693]])"
      ]
     },
     "execution_count": 3,
     "metadata": {},
     "output_type": "execute_result"
    }
   ],
   "source": [
    "df"
   ]
  },
  {
   "cell_type": "markdown",
   "metadata": {},
   "source": [
    "## Split data"
   ]
  },
  {
   "cell_type": "code",
   "execution_count": 4,
   "metadata": {},
   "outputs": [],
   "source": [
    "df_size = int(df.shape[0] * 0.8)\n",
    "df_train = df[: df_size]\n",
    "df_test = df[df_size :]"
   ]
  },
  {
   "cell_type": "markdown",
   "metadata": {},
   "source": [
    "## Batchify data"
   ]
  },
  {
   "cell_type": "code",
   "execution_count": 5,
   "metadata": {},
   "outputs": [
    {
     "name": "stdout",
     "output_type": "stream",
     "text": [
      "[[-0.01415067 -0.0169853   0.00083642 -0.00598994 -0.00158259 -0.00072374\n",
      "   0.00997887 -0.00357255  0.00362642]\n",
      " [-0.00035583 -0.01739167  0.00254517  0.00516391  0.00336638 -0.00852042\n",
      "  -0.01060308  0.00373754 -0.00356499]\n",
      " [ 0.02054386  0.01821724  0.00601198  0.0084262   0.01016609  0.01497288\n",
      "   0.01403931  0.01055667  0.0094689 ]\n",
      " [ 0.00952841  0.01217666  0.00337387 -0.00142373  0.00531199 -0.00232176\n",
      "   0.00374582  0.00113109  0.00132698]\n",
      " [ 0.01183008  0.0124789  -0.00164572 -0.00144843  0.00210358 -0.0065249\n",
      "   0.00021905  0.000888   -0.00020794]]\n"
     ]
    }
   ],
   "source": [
    "def next_stock_batch(batch_size, n_steps, df_base, n_features):\n",
    "    t_max = df_base.shape[0]\n",
    "\n",
    "    x = np.zeros((batch_size, n_steps, n_features))\n",
    "    y = np.zeros((batch_size, n_steps))\n",
    "    starting_points = np.random.randint(0, t_max-n_steps-1, size=batch_size)    \n",
    "    #print(starting_points)\n",
    "    \n",
    "    # We create the batches for x using all time series (8) between t and t+n_steps \n",
    "    for i, sp in enumerate(starting_points):\n",
    "        x[i] = df[sp:sp + n_steps]\n",
    "        y[i] = df[sp + 1: sp + n_steps + 1, 1]\n",
    "\n",
    "    return x, y\n",
    "\n",
    "x, y = next_stock_batch(32, 5, df, df.shape[1])\n",
    "\n",
    "print(x[0])"
   ]
  },
  {
   "cell_type": "markdown",
   "metadata": {},
   "source": [
    "## Model"
   ]
  },
  {
   "cell_type": "code",
   "execution_count": 6,
   "metadata": {},
   "outputs": [],
   "source": [
    "class LSTM(nn.Module):\n",
    "    def __init__(self, input_size, hidden_size, num_layers, batch_size, seq_len):\n",
    "        super().__init__()\n",
    "        self.num_layer = num_layers\n",
    "        self.hidden_size = hidden_size\n",
    "        self.seq_len = seq_len\n",
    "        self.batch_size = batch_size\n",
    "\n",
    "        self.lstm = nn.LSTM(input_size=input_size, hidden_size=hidden_size, num_layers=num_layers, batch_first=True)\n",
    "        self.fc1 = nn.Linear(self.batch_size * self.hidden_size, 500)\n",
    "        self.fc2 = nn.Linear(500, self.batch_size * self.seq_len)\n",
    "    \n",
    "\n",
    "    def forward(self, x):\n",
    "        h0 = torch.zeros((self.num_layer, self.batch_size, self.hidden_size))\n",
    "        c0 = torch.zeros((self.num_layer, self.batch_size, self.hidden_size))\n",
    "\n",
    "        output, (hn, cn) = self.lstm(x, (h0, c0))\n",
    "        last_hidden = hn[-1]\n",
    "    \n",
    "\n",
    "        x = F.tanh(last_hidden.flatten()) # added this line, you can activate also the last hidden layer, for better performance\n",
    "        x = F.tanh(self.fc1(x))\n",
    "        return self.fc2(x)\n",
    "\n",
    "\n",
    "model = LSTM(9, 15, 10, 32, 5)"
   ]
  },
  {
   "cell_type": "markdown",
   "metadata": {},
   "source": [
    "## Train"
   ]
  },
  {
   "cell_type": "code",
   "execution_count": 7,
   "metadata": {},
   "outputs": [],
   "source": [
    "criterion = nn.MSELoss()\n",
    "optimizer = Adam(model.parameters(), lr= 0.001)\n",
    "scheduler = torch.optim.lr_scheduler.ExponentialLR(optimizer, 0.98)"
   ]
  },
  {
   "cell_type": "code",
   "execution_count": 8,
   "metadata": {},
   "outputs": [
    {
     "name": "stderr",
     "output_type": "stream",
     "text": [
      "c:\\Users\\ritth\\software\\anaconda\\envs\\deep\\lib\\site-packages\\torch\\nn\\functional.py:1933: UserWarning: nn.functional.tanh is deprecated. Use torch.tanh instead.\n",
      "  warnings.warn(\"nn.functional.tanh is deprecated. Use torch.tanh instead.\")\n"
     ]
    },
    {
     "name": "stdout",
     "output_type": "stream",
     "text": [
      "Epoch: 1/500, MSE: 0.003982023801654577\n",
      "Epoch: 51/500, MSE: 0.0005433235201053321\n",
      "Epoch: 101/500, MSE: 0.0006452061934396625\n",
      "Epoch: 151/500, MSE: 0.0004106200358364731\n",
      "Epoch: 201/500, MSE: 0.0004466013051569462\n",
      "Epoch: 251/500, MSE: 0.00043320623808540404\n",
      "Epoch: 301/500, MSE: 0.00033482114668004215\n",
      "Epoch: 351/500, MSE: 0.0005726116360165179\n",
      "Epoch: 401/500, MSE: 0.00044035346945747733\n",
      "Epoch: 451/500, MSE: 0.00046111835399642587\n"
     ]
    },
    {
     "data": {
      "image/png": "[encoded data removed]",
      "text/plain": [
       "<Figure size 432x288 with 1 Axes>"
      ]
     },
     "metadata": {
      "needs_background": "light"
     },
     "output_type": "display_data"
    }
   ],
   "source": [
    "n_iterations = 500\n",
    "printing_gap = 50\n",
    "train_losses = []\n",
    "test_losses = []\n",
    "\n",
    "for iter in range(n_iterations):\n",
    "    \n",
    "    model.train()  \n",
    "    # Get a batch\n",
    "    x_train, y_train = next_stock_batch(32, 5, df_train, df.shape[1])\n",
    "\n",
    "    # make into tensor\n",
    "    x_train = torch.from_numpy(x_train).float()\n",
    "    y_train = torch.from_numpy(y_train).float().flatten()\n",
    "\n",
    "\n",
    "    y_pred = model(x_train)\n",
    "    loss = criterion(y_pred, y_train)\n",
    "    optimizer.zero_grad()\n",
    "    loss.backward()\n",
    "    optimizer.step()\n",
    "    train_losses.append(loss.detach().item())\n",
    "\n",
    "\n",
    "    if iter % printing_gap == 0:\n",
    "        print(f'Epoch: {iter + 1}/{n_iterations}, MSE: {loss.item()}')\n",
    "\n",
    "    model.eval()\n",
    "    with torch.no_grad():\n",
    "        x_test, y_test = next_stock_batch(32, 5, df_test, df.shape[1])\n",
    "        x_test = torch.from_numpy(x_test).float()\n",
    "        y_test = torch.from_numpy(y_test).float().flatten()\n",
    "\n",
    "        test_pred = model(x_test)\n",
    "        test_loss = criterion(test_pred, y_test)\n",
    "        test_losses.append(test_loss.detach().item())\n",
    "    scheduler.step()\n",
    "\n",
    "\n",
    "plt.plot(train_losses, label= \"Train Loss\")\n",
    "plt.plot(test_losses, label= \"Test Loss\")\n",
    "plt.xlabel(\" Iteration \")\n",
    "plt.ylabel(\"Loss value\")\n",
    "plt.legend(loc=\"upper left\")\n",
    "plt.show()"
   ]
  }
 ],
 "metadata": {
  "kernelspec": {
   "display_name": "Python 3.10.4 ('deep')",
   "language": "python",
   "name": "python3"
  },
  "language_info": {
   "codemirror_mode": {
    "name": "ipython",
    "version": 3
   },
   "file_extension": ".py",
   "mimetype": "text/x-python",
   "name": "python",
   "nbconvert_exporter": "python",
   "pygments_lexer": "ipython3",
   "version": "3.10.4"
  },
  "orig_nbformat": 4,
  "vscode": {
   "interpreter": {
    "hash": "a6a404c1b23560d548308d831c1aa8041fb180aef1b35cf4a28ead3655e6085d"
   }
  }
 },
 "nbformat": 4,
 "nbformat_minor": 2
}
