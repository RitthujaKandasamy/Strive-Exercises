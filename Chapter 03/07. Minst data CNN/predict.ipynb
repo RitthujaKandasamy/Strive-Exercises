{
 "cells": [
  {
   "cell_type": "code",
   "execution_count": 5,
   "metadata": {},
   "outputs": [],
   "source": [
    "import torch\n",
    "import cv2\n",
    "import numpy as np\n",
    "from PIL import Image\n",
    "import matplotlib.pyplot as plt\n",
    "from model import ConvNet\n",
    "from torchvision import transforms\n"
   ]
  },
  {
   "cell_type": "code",
   "execution_count": 6,
   "metadata": {},
   "outputs": [
    {
     "data": {
      "text/plain": [
       "<All keys matched successfully>"
      ]
     },
     "execution_count": 6,
     "metadata": {},
     "output_type": "execute_result"
    }
   ],
   "source": [
    "# load model\n",
    "model_state = torch.load('model.pth')\n",
    "model = ConvNet()\n",
    "model.load_state_dict(model_state)"
   ]
  },
  {
   "cell_type": "code",
   "execution_count": 7,
   "metadata": {},
   "outputs": [
    {
     "data": {
      "text/plain": [
       "<matplotlib.image.AxesImage at 0x14beb41d0f0>"
      ]
     },
     "execution_count": 7,
     "metadata": {},
     "output_type": "execute_result"
    },
    {
     "data": {
      "image/png": "[encoded data removed]",
      "text/plain": [
       "<Figure size 720x576 with 1 Axes>"
      ]
     },
     "metadata": {
      "needs_background": "light"
     },
     "output_type": "display_data"
    }
   ],
   "source": [
    "hand = cv2.imread(\"images\\\\5.png\")\n",
    "hand = cv2.resize(hand, (28, 28))\n",
    "rgb_hand = cv2.cvtColor(hand, cv2.COLOR_BGR2RGB)\n",
    "gray_hand = cv2.cvtColor(rgb_hand, cv2.COLOR_BGR2GRAY)\n",
    "retval, dst = cv2.threshold(gray_hand, 0, 255, cv2.THRESH_BINARY_INV + cv2.THRESH_OTSU)\n",
    "# kernel_cross = cv2.getStructuringElement(cv2.MORPH_CROSS, (2, 2))\n",
    "# erosion = cv2.erode(src = dst, kernel = kernel_cross)\n",
    "\n",
    "\n",
    "filename = 'output.png'\n",
    "cv2.imwrite(filename, dst)\n",
    "plt.figure(figsize= (10, 8))\n",
    "plt.imshow(dst, cmap=\"gray\")"
   ]
  },
  {
   "cell_type": "code",
   "execution_count": 8,
   "metadata": {},
   "outputs": [
    {
     "name": "stderr",
     "output_type": "stream",
     "text": [
      "c:\\Users\\ritth\\software\\anaconda\\envs\\deep\\lib\\site-packages\\torch\\nn\\functional.py:1320: UserWarning: dropout2d: Received a 2-D input to dropout2d, which is deprecated and will result in an error in a future release. To retain the behavior and silence this warning, please use dropout instead. Note that dropout2d exists to provide channel-wise dropout on inputs with 2 spatial dimensions, a channel dimension, and an optional batch dimension (i.e. 3D or 4D inputs).\n",
      "  warnings.warn(warn_msg)\n"
     ]
    },
    {
     "data": {
      "image/png": "[encoded data removed]",
      "text/plain": [
       "<Figure size 432x288 with 2 Axes>"
      ]
     },
     "metadata": {
      "needs_background": "light"
     },
     "output_type": "display_data"
    }
   ],
   "source": [
    "transformer = transforms.Compose([\n",
    "                                   transforms.ToTensor(), \n",
    "                                   transforms.Normalize(mean=[(0.5)], std=[(0.5)])\n",
    "                                 ])\n",
    "\n",
    "dst = Image.open('output.png')\n",
    "input_tensor = transformer(dst)\n",
    "input_batch = input_tensor.unsqueeze(0)\n",
    "\n",
    "model.eval()\n",
    "with torch.no_grad():\n",
    "        output = model.forward(input_batch)\n",
    "\n",
    "probability = torch.nn.functional.softmax(output, dim=1)\n",
    "probability = probability.numpy().squeeze()\n",
    "\n",
    "\n",
    "\n",
    "plt.subplot(1,2,1)\n",
    "plt.imshow(hand)\n",
    "plt.subplot(1,2,2)\n",
    "plt.barh(np.arange(10), probability)\n",
    "plt.yticks(np.arange(10))\n",
    "plt.title('Class Probability')\n",
    "plt.xlim(0, 1.1)\n",
    "plt.show()"
   ]
  }
 ],
 "metadata": {
  "interpreter": {
   "hash": "a6a404c1b23560d548308d831c1aa8041fb180aef1b35cf4a28ead3655e6085d"
  },
  "kernelspec": {
   "display_name": "Python 3.10.4 ('deep')",
   "language": "python",
   "name": "python3"
  },
  "language_info": {
   "codemirror_mode": {
    "name": "ipython",
    "version": 3
   },
   "file_extension": ".py",
   "mimetype": "text/x-python",
   "name": "python",
   "nbconvert_exporter": "python",
   "pygments_lexer": "ipython3",
   "version": "3.10.4"
  },
  "orig_nbformat": 4
 },
 "nbformat": 4,
 "nbformat_minor": 2
}
