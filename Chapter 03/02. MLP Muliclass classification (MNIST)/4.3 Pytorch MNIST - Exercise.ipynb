{
 "cells": [
  {
   "cell_type": "markdown",
   "metadata": {},
   "source": [
    "<div style=\"background:#222222; color:#ffffff; padding:20px\">\n",
    "    <h2 align=\"center\">Deep Learning Fundamentals</h2>\n",
    "    <h2 align=\"center\" style=\"color:#01ff84\">Multiclass Clasification: MNIST</h2>\n",
    "<div>"
   ]
  },
  {
   "cell_type": "markdown",
   "metadata": {},
   "source": [
    "## Imports"
   ]
  },
  {
   "cell_type": "code",
   "execution_count": 1,
   "metadata": {},
   "outputs": [],
   "source": [
    "%matplotlib inline\n",
    "%config InlineBackend.figure_format = 'retina'\n",
    "\n",
    "from collections import OrderedDict\n",
    "\n",
    "import numpy as np\n",
    "import matplotlib.pyplot as plt\n",
    "import time\n",
    "\n",
    "import torch\n",
    "from torch import nn\n",
    "from torch import optim\n",
    "import torch.nn.functional as F\n",
    "\n",
    "from torchvision import datasets, transforms"
   ]
  },
  {
   "cell_type": "markdown",
   "metadata": {},
   "source": [
    "## Auxliary plotting function"
   ]
  },
  {
   "cell_type": "code",
   "execution_count": 2,
   "metadata": {},
   "outputs": [],
   "source": [
    "# https://discuss.pytorch.org/t/view-classify-in-module-helper/30279/6\n",
    "\n",
    "def view_classify(img, ps):\n",
    "\n",
    "    ps = ps.data.numpy().squeeze()\n",
    "\n",
    "    fig, (ax1, ax2) = plt.subplots(figsize =(6, 9), ncols =2)\n",
    "    ax1.imshow(img.resize_(1, 28, 28).numpy().squeeze())\n",
    "    ax1.axis('off')\n",
    "    ax2.barh(np.arange(10), ps)\n",
    "    ax2.set_aspect(0.1)\n",
    "    ax2.set_yticks(np.arange(10))\n",
    "    #ax2.set_yticklabels(np.arange(10))\n",
    "    ax2.set_title('Class Probability')\n",
    "    ax2.set_xlim(0, 1.1)\n"
   ]
  },
  {
   "cell_type": "markdown",
   "metadata": {},
   "source": [
    "# Load MNIST Dataset\n",
    "First up, we need to get our dataset. This is provided through the `torchvision` package. The code below will download the MNIST dataset, then create training and test datasets for us. Don't worry too much about the details here, you'll learn more about this later."
   ]
  },
  {
   "cell_type": "code",
   "execution_count": 3,
   "metadata": {},
   "outputs": [],
   "source": [
    "# Define a transform to normalize the data (Preprocessing)\n",
    "transform = transforms.Compose([transforms.ToTensor(), transforms.Normalize((0.5), (0.5)) ])\n",
    "\n",
    "# Download and load the training data\n",
    "trainset    = datasets.MNIST('MNIST_data/', download=True, train=True, transform=transform)\n",
    "trainloader = torch.utils.data.DataLoader(trainset, batch_size=64, shuffle=True)                  \n",
    "\n",
    "# Download and load the test data\n",
    "testset    = datasets.MNIST('MNIST_data/', download=True, train=False, transform=transform)\n",
    "testloader = torch.utils.data.DataLoader(testset, batch_size=64, shuffle=True)"
   ]
  },
  {
   "cell_type": "code",
   "execution_count": 4,
   "metadata": {},
   "outputs": [
    {
     "data": {
      "text/plain": [
       "Compose(\n",
       "    ToTensor()\n",
       "    Normalize(mean=0.5, std=0.5)\n",
       ")"
      ]
     },
     "execution_count": 4,
     "metadata": {},
     "output_type": "execute_result"
    }
   ],
   "source": [
    "transform"
   ]
  },
  {
   "cell_type": "code",
   "execution_count": 5,
   "metadata": {},
   "outputs": [
    {
     "data": {
      "text/plain": [
       "Dataset MNIST\n",
       "    Number of datapoints: 60000\n",
       "    Root location: MNIST_data/\n",
       "    Split: Train\n",
       "    StandardTransform\n",
       "Transform: Compose(\n",
       "               ToTensor()\n",
       "               Normalize(mean=0.5, std=0.5)\n",
       "           )"
      ]
     },
     "execution_count": 5,
     "metadata": {},
     "output_type": "execute_result"
    }
   ],
   "source": [
    "trainset"
   ]
  },
  {
   "cell_type": "code",
   "execution_count": 6,
   "metadata": {},
   "outputs": [
    {
     "data": {
      "text/plain": [
       "Dataset MNIST\n",
       "    Number of datapoints: 10000\n",
       "    Root location: MNIST_data/\n",
       "    Split: Test\n",
       "    StandardTransform\n",
       "Transform: Compose(\n",
       "               ToTensor()\n",
       "               Normalize(mean=0.5, std=0.5)\n",
       "           )"
      ]
     },
     "execution_count": 6,
     "metadata": {},
     "output_type": "execute_result"
    }
   ],
   "source": [
    "testset"
   ]
  },
  {
   "cell_type": "code",
   "execution_count": 7,
   "metadata": {},
   "outputs": [],
   "source": [
    "dataiter = iter(trainloader)\n",
    "images, labels = dataiter.next()"
   ]
  },
  {
   "cell_type": "code",
   "execution_count": 8,
   "metadata": {},
   "outputs": [
    {
     "data": {
      "text/plain": [
       "<torch.utils.data.dataloader._SingleProcessDataLoaderIter at 0x12a42956050>"
      ]
     },
     "execution_count": 8,
     "metadata": {},
     "output_type": "execute_result"
    }
   ],
   "source": [
    "dataiter"
   ]
  },
  {
   "cell_type": "code",
   "execution_count": 9,
   "metadata": {},
   "outputs": [
    {
     "data": {
      "text/plain": [
       "tensor([1, 3, 0, 2, 7, 6, 6, 1, 1, 2, 7, 5, 8, 5, 3, 4, 2, 0, 9, 4, 0, 7, 7, 3,\n",
       "        1, 7, 1, 9, 6, 6, 5, 0, 1, 9, 4, 6, 8, 2, 3, 5, 2, 8, 8, 1, 0, 3, 8, 9,\n",
       "        9, 2, 2, 0, 4, 3, 4, 0, 2, 4, 4, 9, 2, 8, 4, 5])"
      ]
     },
     "execution_count": 9,
     "metadata": {},
     "output_type": "execute_result"
    }
   ],
   "source": [
    "labels"
   ]
  },
  {
   "cell_type": "markdown",
   "metadata": {},
   "source": [
    "We have the training data loaded into `trainloader` and we make that an iterator with `iter(trainloader)`. We'd use this to loop through the dataset for training, but here I'm just grabbing the first batch so we can check out the data. We can see below that `images` is just a tensor with size (64, 1, 28, 28). So, 64 images per batch, 1 color channel, and 28x28 images."
   ]
  },
  {
   "cell_type": "code",
   "execution_count": 10,
   "metadata": {},
   "outputs": [
    {
     "data": {
      "text/plain": [
       "<matplotlib.image.AxesImage at 0x12a42bb84f0>"
      ]
     },
     "execution_count": 10,
     "metadata": {},
     "output_type": "execute_result"
    },
    {
     "data": {
      "image/png": "[encoded data removed]",
      "text/plain": [
       "<Figure size 432x288 with 1 Axes>"
      ]
     },
     "metadata": {
      "image/png": {
       "height": 248,
       "width": 251
      },
      "needs_background": "light"
     },
     "output_type": "display_data"
    }
   ],
   "source": [
    "plt.imshow(images[63].numpy().squeeze(), cmap='Greys_r')"
   ]
  },
  {
   "cell_type": "markdown",
   "metadata": {},
   "source": [
    "## Building networks with PyTorch\n",
    "\n",
    "Here I'll use PyTorch to build a simple feedfoward network to classify the MNIST images. That is, the network will receive a digit image as input and predict the digit in the image.\n",
    "\n",
    "\n",
    "<img src=\"assets/mlp_mnist.png\" width=600px>\n",
    "\n",
    "To build a neural network with PyTorch, you use the `torch.nn` module. The network itself is a class inheriting from `torch.nn.Module`. You define each of the operations separately, like `nn.Linear(784, 128)` for a fully connected linear layer with 784 inputs and 128 units.\n",
    "\n",
    "The class needs to include a `forward` method that implements the forward pass through the network. In this method, you pass some input tensor `x` through each of the operations you defined earlier. The `torch.nn` module also has functional equivalents for things like ReLUs in `torch.nn.functional`. This module is usually imported as `F`. Then to use a ReLU activation on some layer (which is just a tensor), you'd do `F.relu(x)`. Below are a few different commonly used activation functions.\n",
    "\n",
    "<img src=\"assets/activation.png\" width=700px>\n",
    "\n",
    "\n",
    "So, for this network, I'll build it with three fully connected layers, then a softmax output for predicting classes. The softmax function is similar to the sigmoid in that it squashes inputs between 0 and 1, but it's also normalized so that all the values sum to one like a proper probability distribution."
   ]
  },
  {
   "cell_type": "code",
   "execution_count": 11,
   "metadata": {},
   "outputs": [
    {
     "data": {
      "text/plain": [
       "Network(\n",
       "  (fc1): Linear(in_features=784, out_features=128, bias=True)\n",
       "  (fc2): Linear(in_features=128, out_features=64, bias=True)\n",
       "  (fc3): Linear(in_features=64, out_features=10, bias=True)\n",
       ")"
      ]
     },
     "execution_count": 11,
     "metadata": {},
     "output_type": "execute_result"
    }
   ],
   "source": [
    "class Network(nn.Module):\n",
    "    \n",
    "    # Defining the layers, 128, 64, 10 units each\n",
    "    def __init__(self):\n",
    "        super().__init__()\n",
    "        self.fc1 = nn.Linear(784, 128)\n",
    "        self.fc2 = nn.Linear(128, 64)\n",
    "        self.fc3 = nn.Linear(64, 10)\n",
    "        \n",
    "    # Forward pass through the network, returns the output logits\n",
    "    def forward(self, x):\n",
    "        x = self.fc1(x)\n",
    "        x = F.relu(x)\n",
    "        x = self.fc2(x)\n",
    "        x = F.relu(x)\n",
    "        x = self.fc3(x)\n",
    "        x = F.softmax(x, dim=1)\n",
    "        return x\n",
    "\n",
    "model = Network()\n",
    "model"
   ]
  },
  {
   "cell_type": "markdown",
   "metadata": {},
   "source": [
    "### Sequential API\n",
    "PyTorch provides a convenient way to build networks like this where a tensor is passed sequentially through operations, `nn.Sequential` ([documentation](https://pytorch.org/docs/master/nn.html#torch.nn.Sequential)). Using this to build the equivalent network:"
   ]
  },
  {
   "cell_type": "code",
   "execution_count": 12,
   "metadata": {},
   "outputs": [
    {
     "name": "stdout",
     "output_type": "stream",
     "text": [
      "Sequential(\n",
      "  (0): Linear(in_features=784, out_features=128, bias=True)\n",
      "  (1): ReLU()\n",
      "  (2): Linear(in_features=128, out_features=64, bias=True)\n",
      "  (3): ReLU()\n",
      "  (4): Linear(in_features=64, out_features=10, bias=True)\n",
      "  (5): Softmax(dim=1)\n",
      ")\n"
     ]
    }
   ],
   "source": [
    "# Hyperparameters for our network\n",
    "input_size   = 784\n",
    "hidden_sizes = [128, 64]\n",
    "output_size   = 10\n",
    "\n",
    "# Build a feed-forward network\n",
    "model = nn.Sequential(nn.Linear(input_size, hidden_sizes[0]),\n",
    "                      nn.ReLU(),\n",
    "                      nn.Linear(hidden_sizes[0], hidden_sizes[1]),\n",
    "                      nn.ReLU(),\n",
    "                      nn.Linear(hidden_sizes[1], output_size),\n",
    "                      nn.Softmax(dim=1))                          # dim is dimensionality of softmax\n",
    "print(model)"
   ]
  },
  {
   "cell_type": "markdown",
   "metadata": {},
   "source": [
    "You can also pass in an `OrderedDict` to name the individual layers and operations. Note that a dictionary keys must be unique, so _each operation must have a different name_."
   ]
  },
  {
   "cell_type": "code",
   "execution_count": 13,
   "metadata": {},
   "outputs": [
    {
     "data": {
      "text/plain": [
       "Sequential(\n",
       "  (fc1): Linear(in_features=784, out_features=128, bias=True)\n",
       "  (relu1): ReLU()\n",
       "  (fc2): Linear(in_features=128, out_features=64, bias=True)\n",
       "  (relu2): ReLU()\n",
       "  (output): Linear(in_features=64, out_features=10, bias=True)\n",
       "  (softmax): Softmax(dim=1)\n",
       ")"
      ]
     },
     "execution_count": 13,
     "metadata": {},
     "output_type": "execute_result"
    }
   ],
   "source": [
    "model = nn.Sequential(OrderedDict([\n",
    "          ('fc1',   nn.Linear(input_size, hidden_sizes[0])),\n",
    "          ('relu1', nn.ReLU()),\n",
    "          ('fc2',   nn.Linear(hidden_sizes[0], hidden_sizes[1])),\n",
    "          ('relu2', nn.ReLU()),\n",
    "          ('output', nn.Linear(hidden_sizes[1], output_size)),\n",
    "          ('softmax', nn.Softmax(dim=1))]))\n",
    "model"
   ]
  },
  {
   "cell_type": "markdown",
   "metadata": {},
   "source": [
    "### Initializing weights and biases\n",
    "\n",
    "The weights and such are automatically initialized for you, but it's possible to customize how they are initialized. The weights and biases are tensors attached to the layer you defined, you can get them with `model.fc1.weight` for instance."
   ]
  },
  {
   "cell_type": "code",
   "execution_count": 14,
   "metadata": {},
   "outputs": [
    {
     "name": "stdout",
     "output_type": "stream",
     "text": [
      "Parameter containing:\n",
      "tensor([[ 0.0190, -0.0298, -0.0259,  ..., -0.0328, -0.0307, -0.0299],\n",
      "        [-0.0336, -0.0158, -0.0222,  ..., -0.0183,  0.0181, -0.0114],\n",
      "        [ 0.0299,  0.0303,  0.0045,  ...,  0.0042, -0.0211,  0.0339],\n",
      "        ...,\n",
      "        [-0.0259,  0.0122, -0.0116,  ...,  0.0034,  0.0202,  0.0210],\n",
      "        [-0.0243, -0.0331, -0.0183,  ..., -0.0300,  0.0117, -0.0019],\n",
      "        [-0.0117,  0.0305, -0.0113,  ..., -0.0166,  0.0222,  0.0312]],\n",
      "       requires_grad=True)\n",
      "Parameter containing:\n",
      "tensor([ 0.0049,  0.0258,  0.0314, -0.0154, -0.0339, -0.0337, -0.0270, -0.0133,\n",
      "        -0.0266, -0.0234, -0.0320,  0.0205, -0.0259, -0.0009, -0.0019,  0.0307,\n",
      "        -0.0062, -0.0020,  0.0040, -0.0082,  0.0270,  0.0113, -0.0013, -0.0252,\n",
      "         0.0014,  0.0242,  0.0224, -0.0347, -0.0276,  0.0281,  0.0228,  0.0280,\n",
      "         0.0056, -0.0066,  0.0064, -0.0338,  0.0354,  0.0264,  0.0140, -0.0301,\n",
      "        -0.0277, -0.0325, -0.0349, -0.0124, -0.0306,  0.0113,  0.0166, -0.0088,\n",
      "        -0.0223,  0.0232, -0.0169,  0.0294, -0.0104,  0.0182,  0.0205, -0.0053,\n",
      "         0.0271, -0.0081,  0.0254,  0.0015, -0.0201,  0.0223, -0.0267,  0.0035,\n",
      "         0.0131,  0.0240, -0.0308,  0.0044, -0.0055, -0.0307,  0.0151, -0.0177,\n",
      "        -0.0322,  0.0122,  0.0301,  0.0303,  0.0205,  0.0010, -0.0314, -0.0142,\n",
      "        -0.0123, -0.0321,  0.0128, -0.0033,  0.0076, -0.0229, -0.0073,  0.0351,\n",
      "         0.0266, -0.0256, -0.0003, -0.0193, -0.0144,  0.0277,  0.0176,  0.0356,\n",
      "        -0.0165,  0.0319,  0.0230, -0.0223, -0.0172,  0.0202, -0.0284,  0.0151,\n",
      "         0.0010,  0.0027,  0.0182, -0.0235,  0.0065,  0.0049,  0.0065,  0.0087,\n",
      "        -0.0344, -0.0199,  0.0068, -0.0301, -0.0344,  0.0103,  0.0284, -0.0087,\n",
      "         0.0258, -0.0148,  0.0131, -0.0158, -0.0315,  0.0291, -0.0158, -0.0082],\n",
      "       requires_grad=True)\n"
     ]
    }
   ],
   "source": [
    "print(model.fc1.weight)\n",
    "print(model.fc1.bias)"
   ]
  },
  {
   "cell_type": "markdown",
   "metadata": {},
   "source": [
    "For custom initialization, we want to modify these tensors in place. These are actually autograd *Variables*, so we need to get back the actual tensors with `model.fc1.weight.data`. Once we have the tensors, we can fill them with zeros (for biases) or random normal values."
   ]
  },
  {
   "cell_type": "code",
   "execution_count": 10,
   "metadata": {},
   "outputs": [
    {
     "data": {
      "text/plain": [
       "tensor([0., 0., 0., 0., 0., 0., 0., 0., 0., 0., 0., 0., 0., 0., 0., 0., 0., 0., 0., 0., 0., 0., 0., 0.,\n",
       "        0., 0., 0., 0., 0., 0., 0., 0., 0., 0., 0., 0., 0., 0., 0., 0., 0., 0., 0., 0., 0., 0., 0., 0.,\n",
       "        0., 0., 0., 0., 0., 0., 0., 0., 0., 0., 0., 0., 0., 0., 0., 0., 0., 0., 0., 0., 0., 0., 0., 0.,\n",
       "        0., 0., 0., 0., 0., 0., 0., 0., 0., 0., 0., 0., 0., 0., 0., 0., 0., 0., 0., 0., 0., 0., 0., 0.,\n",
       "        0., 0., 0., 0., 0., 0., 0., 0., 0., 0., 0., 0., 0., 0., 0., 0., 0., 0., 0., 0., 0., 0., 0., 0.,\n",
       "        0., 0., 0., 0., 0., 0., 0., 0.])"
      ]
     },
     "execution_count": 10,
     "metadata": {},
     "output_type": "execute_result"
    }
   ],
   "source": [
    "# Set biases to all zeros\n",
    "model.fc1.bias.data.fill_(0)"
   ]
  },
  {
   "cell_type": "code",
   "execution_count": 11,
   "metadata": {},
   "outputs": [
    {
     "data": {
      "text/plain": [
       "tensor([[-0.0061,  0.0007, -0.0131,  ...,  0.0088,  0.0023,  0.0060],\n",
       "        [ 0.0002, -0.0034, -0.0017,  ...,  0.0074,  0.0159,  0.0123],\n",
       "        [-0.0092,  0.0199,  0.0124,  ...,  0.0025, -0.0031, -0.0096],\n",
       "        ...,\n",
       "        [ 0.0015, -0.0102, -0.0162,  ...,  0.0171,  0.0145, -0.0044],\n",
       "        [-0.0012,  0.0028, -0.0241,  ...,  0.0050, -0.0027, -0.0146],\n",
       "        [ 0.0026, -0.0014, -0.0245,  ...,  0.0009, -0.0212, -0.0072]])"
      ]
     },
     "execution_count": 11,
     "metadata": {},
     "output_type": "execute_result"
    }
   ],
   "source": [
    "# sample from random normal with standard dev = 0.01\n",
    "model.fc1.weight.data.normal_(std=0.01)"
   ]
  },
  {
   "cell_type": "markdown",
   "metadata": {},
   "source": [
    "### STEP 1: Forward pass\n",
    "\n",
    "Now that we have a network, let's see what happens when we pass in an image. This is called the forward pass. We're going to convert the image data into a tensor, then pass it through the operations defined by the network architecture."
   ]
  },
  {
   "cell_type": "code",
   "execution_count": 15,
   "metadata": {},
   "outputs": [
    {
     "data": {
      "image/png": "[encoded data removed]",
      "text/plain": [
       "<Figure size 432x648 with 2 Axes>"
      ]
     },
     "metadata": {
      "image/png": {
       "height": 195,
       "width": 349
      },
      "needs_background": "light"
     },
     "output_type": "display_data"
    }
   ],
   "source": [
    "# Grab some data \n",
    "dataiter = iter(trainloader)\n",
    "images, labels = dataiter.next()\n",
    "\n",
    "# Resize images into a 1D vector, new shape is (batch size, color channels, image pixels) \n",
    "images.resize_(64, 1, 784)\n",
    "# or images.resize_(images.shape[0], 1, 784) to not automatically get batch size\n",
    "\n",
    "# Forward pass through the network\n",
    "img_idx = 0\n",
    "ps = model.forward(images[img_idx,:])                          # ps is probablity\n",
    "\n",
    "img = images[img_idx]\n",
    "view_classify(img.view(1, 28, 28), ps)            "
   ]
  },
  {
   "cell_type": "markdown",
   "metadata": {},
   "source": [
    "As you can see above, our network has basically no idea what this digit is. It's because we haven't trained it yet, all the weights are random!"
   ]
  },
  {
   "cell_type": "markdown",
   "metadata": {},
   "source": [
    "# Training Neural Networks\n",
    "\n",
    "The network we built isn't so smart, it doesn't know anything about our handwritten digits. Neural networks with non-linear activations work like universal function approximators. There is some function that maps your input to the output. For example, images of handwritten digits to class probabilities. The power of neural networks is that we can train them to approximate this function, and basically any function given enough data and compute time.\n",
    "\n",
    "<img src=\"assets/function_approx.png\" width=500px>\n",
    "\n",
    "At first the network is naive, it doesn't know the function mapping the inputs to the outputs. We train the network by showing it examples of real data, then adjusting the network parameters such that it approximates this function.\n",
    "\n",
    "To find these parameters, we need to know how poorly the network is predicting the real outputs. For this we calculate a **loss function** (also called the cost), a measure of our prediction error. For example, the mean squared loss is often used in regression and binary classification problems\n",
    "\n",
    "$$\n",
    "\\ell = \\frac{1}{2n}\\sum_i^n{\\left(y_i - \\hat{y}_i\\right)^2}\n",
    "$$\n",
    "\n",
    "where $n$ is the number of training examples, $y_i$ are the true labels, and $\\hat{y}_i$ are the predicted labels.\n",
    "\n",
    "By minimizing this loss with respect to the network parameters, we can find configurations where the loss is at a minimum and the network is able to predict the correct labels with high accuracy. We find this minimum using a process called **gradient descent**. The gradient is the slope of the loss function and points in the direction of fastest change. To get to the minimum in the least amount of time, we then want to follow the gradient (downwards). You can think of this like descending a mountain by following the steepest slope to the base.\n",
    "\n",
    "<img src='assets/gradient_descent.png' width=350px>"
   ]
  },
  {
   "cell_type": "markdown",
   "metadata": {},
   "source": [
    "## Backpropagation\n",
    "\n",
    "For single layer networks, gradient descent is simple to implement. However, it's more complicated for deeper, multilayer neural networks like the one we've built. Complicated enough that it took about 30 years before researchers figured out how to train multilayer networks, although it's straightforward once you learn about it. \n",
    "\n",
    "This is done through **backpropagation** which is really just an application of the chain rule from calculus. It's easiest to understand if we convert a two layer network into a graph representation.\n",
    "\n",
    "<img src='assets/w1_backprop_graph.png' width=400px>\n",
    "\n",
    "In the forward pass through the network, our data and operations go from right to left here. To train the weights with gradient descent, we propagate the gradient of the cost backwards through the network. Mathematically, this is really just calculating the gradient of the loss with respect to the weights using the chain rule.\n",
    "\n",
    "$$\n",
    "\\frac{\\partial \\ell}{\\partial w_1} = \\frac{\\partial l_1}{\\partial w_1} \\frac{\\partial s}{\\partial l_1} \\frac{\\partial l_2}{\\partial s} \\frac{\\partial \\ell}{\\partial l_2}\n",
    "$$\n",
    "\n",
    "We update our weights using this gradient with some learning rate $\\alpha$. \n",
    "\n",
    "$$\n",
    "w^\\prime = w - \\alpha \\frac{\\partial \\ell}{\\partial w}\n",
    "$$\n",
    "\n",
    "The learning rate is set such that the weight update steps are small enough that the iterative method settles in a minimum.\n",
    "\n",
    "The first thing we need to do for training is define our loss function. In PyTorch, you'll usually see this as `criterion`. Here we're using softmax output, so we want to use `criterion = nn.CrossEntropyLoss()` as our loss. Later when training, you use `loss = criterion(output, targets)` to calculate the actual loss.\n",
    "\n",
    "We also need to define the optimizer we're using, SGD or Adam, or something along those lines. Here I'll just use SGD with `torch.optim.SGD`, passing in the network parameters and the learning rate."
   ]
  },
  {
   "cell_type": "markdown",
   "metadata": {},
   "source": [
    "## Autograd\n",
    "\n",
    "Torch provides a module, `autograd`, for automatically calculating the gradient of tensors. It does this by keeping track of operations performed on tensors. To make sure PyTorch keeps track of operations on a tensor and calculates the gradients, you need to set `requires_grad` on a tensor. You can do this at creation with the `requires_grad` keyword, or at any time with `x.requires_grad_(True)`.\n",
    "\n",
    "You can turn off gradients for a block of code with the `torch.no_grad()` content:\n",
    "```python\n",
    "x = torch.zeros(1, requires_grad=True)\n",
    ">>> with torch.no_grad():\n",
    "...     y = x * 2\n",
    ">>> y.requires_grad\n",
    "False\n",
    "```\n",
    "\n",
    "Also, you can turn on or off gradients altogether with `torch.set_grad_enabled(True|False)`.\n",
    "\n",
    "The gradients are computed with respect to some variable `z` with `z.backward()`. This does a backward pass through the operations that created `z`."
   ]
  },
  {
   "cell_type": "code",
   "execution_count": 16,
   "metadata": {},
   "outputs": [
    {
     "name": "stdout",
     "output_type": "stream",
     "text": [
      "tensor([[ 0.3179,  1.3372],\n",
      "        [-0.5652, -1.5970]], requires_grad=True)\n"
     ]
    }
   ],
   "source": [
    "x = torch.randn(2,2, requires_grad=True)\n",
    "print(x)"
   ]
  },
  {
   "cell_type": "code",
   "execution_count": 17,
   "metadata": {},
   "outputs": [
    {
     "name": "stdout",
     "output_type": "stream",
     "text": [
      "tensor([[0.1010, 1.7881],\n",
      "        [0.3195, 2.5504]], grad_fn=<PowBackward0>)\n"
     ]
    }
   ],
   "source": [
    "y = x**2\n",
    "print(y)"
   ]
  },
  {
   "cell_type": "markdown",
   "metadata": {},
   "source": [
    "Below we can see the operation that created `y`, a power operation `PowBackward0`."
   ]
  },
  {
   "cell_type": "code",
   "execution_count": 18,
   "metadata": {},
   "outputs": [
    {
     "name": "stdout",
     "output_type": "stream",
     "text": [
      "<PowBackward0 object at 0x0000012A42FFA3B0>\n"
     ]
    }
   ],
   "source": [
    "## grad_fn shows the function that generated this variable\n",
    "print(y.grad_fn)"
   ]
  },
  {
   "cell_type": "markdown",
   "metadata": {},
   "source": [
    "The autgrad module keeps track of these operations and knows how to calculate the gradient for each one. In this way, it's able to calculate the gradients for a chain of operations, with respect to any one tensor. Let's reduce the tensor `y` to a scalar value, the mean."
   ]
  },
  {
   "cell_type": "code",
   "execution_count": 19,
   "metadata": {},
   "outputs": [
    {
     "name": "stdout",
     "output_type": "stream",
     "text": [
      "tensor(1.1898, grad_fn=<MeanBackward0>)\n"
     ]
    }
   ],
   "source": [
    "z = y.mean()\n",
    "print(z)"
   ]
  },
  {
   "cell_type": "markdown",
   "metadata": {},
   "source": [
    "You can check the gradients for `x` and `y` but they are empty currently."
   ]
  },
  {
   "cell_type": "code",
   "execution_count": 20,
   "metadata": {},
   "outputs": [
    {
     "name": "stdout",
     "output_type": "stream",
     "text": [
      "None\n"
     ]
    }
   ],
   "source": [
    "print(x.grad)"
   ]
  },
  {
   "cell_type": "markdown",
   "metadata": {},
   "source": [
    "To calculate the gradients, you need to run the `.backward` method on a Variable, `z` for example. This will calculate the gradient for `z` with respect to `x`\n",
    "\n",
    "$$\n",
    "\\frac{\\partial z}{\\partial x} = \\frac{\\partial}{\\partial x}\\left[\\frac{1}{n}\\sum_i^n x_i^2\\right] = \\frac{x}{2}\n",
    "$$"
   ]
  },
  {
   "cell_type": "code",
   "execution_count": 21,
   "metadata": {},
   "outputs": [
    {
     "name": "stdout",
     "output_type": "stream",
     "text": [
      "tensor([[ 0.1589,  0.6686],\n",
      "        [-0.2826, -0.7985]])\n",
      "tensor([[ 0.1589,  0.6686],\n",
      "        [-0.2826, -0.7985]], grad_fn=<DivBackward0>)\n"
     ]
    }
   ],
   "source": [
    "z.backward()\n",
    "print(x.grad)\n",
    "print(x/2)"
   ]
  },
  {
   "cell_type": "markdown",
   "metadata": {},
   "source": [
    "These gradients calculations are particularly useful for neural networks. For training we need the gradients of the weights with respect to the cost. With PyTorch, we run data forward through the network to calculate the cost, then, go backwards to calculate the gradients with respect to the cost. Once we have the gradients we can make a gradient descent step. "
   ]
  },
  {
   "cell_type": "markdown",
   "metadata": {},
   "source": [
    "I'll build a network with `nn.Sequential` here. Only difference from the last part is I'm not actually using softmax on the output, but instead just using the raw output from the last layer. This is because the output from softmax is a probability distribution. Often, the output will have values really close to zero or really close to one. Due to [inaccuracies with representing numbers as floating points](https://docs.python.org/3/tutorial/floatingpoint.html), computations with a softmax output can lose accuracy and become unstable. To get around this, we'll use the raw output, called the **logits**, to calculate the loss."
   ]
  },
  {
   "cell_type": "code",
   "execution_count": 22,
   "metadata": {},
   "outputs": [],
   "source": [
    "# Hyperparameters for our network\n",
    "input_size   = 784\n",
    "hidden_sizes = [128, 64]\n",
    "output_size  = 10\n",
    "\n",
    "# Build a feed-forward network\n",
    "model = nn.Sequential(OrderedDict([\n",
    "          ('fc1', nn.Linear(input_size, hidden_sizes[0])),\n",
    "          ('relu1', nn.ReLU()),\n",
    "          ('fc2', nn.Linear(hidden_sizes[0], hidden_sizes[1])),\n",
    "          ('relu2', nn.ReLU()),\n",
    "          ('logits', nn.Linear(hidden_sizes[1], output_size))]))"
   ]
  },
  {
   "cell_type": "markdown",
   "metadata": {},
   "source": [
    "## Training the network!\n",
    "\n",
    "The first thing we need to do for training is define our loss function. In PyTorch, you'll usually see this as `criterion`. Here we're using softmax output, so we want to use `criterion = nn.CrossEntropyLoss()` as our loss. Later when training, you use `loss = criterion(output, targets)` to calculate the actual loss.\n",
    "\n",
    "We also need to define the optimizer we're using, SGD or Adam, or something along those lines. Here I'll just use SGD with `torch.optim.SGD`, passing in the network parameters and the learning rate."
   ]
  },
  {
   "cell_type": "code",
   "execution_count": 20,
   "metadata": {},
   "outputs": [],
   "source": [
    "criterion = nn.CrossEntropyLoss()\n",
    "optimizer = optim.SGD(model.parameters(), lr=0.01)"
   ]
  },
  {
   "cell_type": "markdown",
   "metadata": {},
   "source": [
    "First, let's consider just one learning step before looping through all the data. The general process with PyTorch:\n",
    "\n",
    "* Make a forward pass through the network to get the logits \n",
    "* Use the logits to calculate the loss\n",
    "* Perform a backward pass through the network with `loss.backward()` to calculate the gradients\n",
    "* Take a step with the optimizer to update the weights\n",
    "\n",
    "Below I'll go through one training step and print out the weights and gradients so you can see how it changes."
   ]
  },
  {
   "cell_type": "code",
   "execution_count": 21,
   "metadata": {},
   "outputs": [
    {
     "name": "stdout",
     "output_type": "stream",
     "text": [
      "Initial weights -  Parameter containing:\n",
      "tensor([[ 0.0302,  0.0216,  0.0057,  ...,  0.0189, -0.0314,  0.0299],\n",
      "        [ 0.0240,  0.0229, -0.0042,  ..., -0.0013,  0.0203,  0.0357],\n",
      "        [ 0.0287, -0.0229, -0.0332,  ..., -0.0190, -0.0032,  0.0333],\n",
      "        ...,\n",
      "        [-0.0113,  0.0195, -0.0258,  ..., -0.0237, -0.0062,  0.0135],\n",
      "        [-0.0230, -0.0324, -0.0188,  ...,  0.0284, -0.0066, -0.0086],\n",
      "        [ 0.0084,  0.0131, -0.0299,  ..., -0.0306,  0.0118,  0.0187]],\n",
      "       requires_grad=True)\n",
      "Gradient - tensor([[ 0.0006,  0.0006,  0.0006,  ...,  0.0006,  0.0006,  0.0006],\n",
      "        [-0.0011, -0.0011, -0.0011,  ..., -0.0011, -0.0011, -0.0011],\n",
      "        [ 0.0005,  0.0005,  0.0005,  ...,  0.0005,  0.0005,  0.0005],\n",
      "        ...,\n",
      "        [-0.0010, -0.0010, -0.0010,  ..., -0.0010, -0.0010, -0.0010],\n",
      "        [-0.0005, -0.0005, -0.0005,  ..., -0.0005, -0.0005, -0.0005],\n",
      "        [-0.0013, -0.0013, -0.0013,  ..., -0.0013, -0.0013, -0.0013]])\n"
     ]
    }
   ],
   "source": [
    "print('Initial weights - ', model.fc1.weight)\n",
    "\n",
    "images, labels = next(iter(trainloader))\n",
    "images.resize_(64, 784)\n",
    "\n",
    "# Clear the gradients, do this because gradients are accumulated\n",
    "optimizer.zero_grad()\n",
    "\n",
    "# Forward pass, then backward pass, then update weights\n",
    "output = model.forward(images)\n",
    "loss = criterion(output, labels)\n",
    "loss.backward()\n",
    "print('Gradient -', model.fc1.weight.grad)\n",
    "optimizer.step()"
   ]
  },
  {
   "cell_type": "code",
   "execution_count": 22,
   "metadata": {},
   "outputs": [
    {
     "name": "stdout",
     "output_type": "stream",
     "text": [
      "Updated weights -  Parameter containing:\n",
      "tensor([[ 0.0302,  0.0215,  0.0057,  ...,  0.0189, -0.0314,  0.0299],\n",
      "        [ 0.0240,  0.0229, -0.0042,  ..., -0.0013,  0.0203,  0.0357],\n",
      "        [ 0.0287, -0.0229, -0.0332,  ..., -0.0190, -0.0032,  0.0333],\n",
      "        ...,\n",
      "        [-0.0113,  0.0195, -0.0258,  ..., -0.0237, -0.0062,  0.0135],\n",
      "        [-0.0230, -0.0324, -0.0188,  ...,  0.0284, -0.0066, -0.0086],\n",
      "        [ 0.0084,  0.0131, -0.0298,  ..., -0.0306,  0.0118,  0.0187]],\n",
      "       requires_grad=True)\n"
     ]
    }
   ],
   "source": [
    "print('Updated weights - ', model.fc1.weight)"
   ]
  },
  {
   "cell_type": "markdown",
   "metadata": {},
   "source": [
    "### Training for real\n",
    "\n",
    "Now we'll put this algorithm into a loop so we can go through all the images. This is fairly straightforward. We'll loop through the mini-batches in our dataset, pass the data through the network to calculate the losses, get the gradients, then run the optimizer."
   ]
  },
  {
   "cell_type": "code",
   "execution_count": 23,
   "metadata": {},
   "outputs": [],
   "source": [
    "optimizer = optim.SGD(model.parameters(), lr=0.003)"
   ]
  },
  {
   "cell_type": "code",
   "execution_count": 24,
   "metadata": {},
   "outputs": [
    {
     "name": "stdout",
     "output_type": "stream",
     "text": [
      "Epoch: 1/3\n",
      "\tIteration: 0\t Loss: 0.0577\n",
      "\tIteration: 40\t Loss: 2.2901\n",
      "\tIteration: 80\t Loss: 2.2719\n",
      "\tIteration: 120\t Loss: 2.2538\n",
      "\tIteration: 160\t Loss: 2.2365\n",
      "\tIteration: 200\t Loss: 2.2115\n",
      "\tIteration: 240\t Loss: 2.1935\n",
      "\tIteration: 280\t Loss: 2.1806\n",
      "\tIteration: 320\t Loss: 2.1443\n",
      "\tIteration: 360\t Loss: 2.1230\n",
      "\tIteration: 400\t Loss: 2.0907\n",
      "\tIteration: 440\t Loss: 2.0582\n",
      "\tIteration: 480\t Loss: 2.0117\n",
      "\tIteration: 520\t Loss: 1.9794\n",
      "\tIteration: 560\t Loss: 1.9281\n",
      "\tIteration: 600\t Loss: 1.8770\n",
      "\tIteration: 640\t Loss: 1.8208\n",
      "\tIteration: 680\t Loss: 1.7786\n",
      "\tIteration: 720\t Loss: 1.7033\n",
      "\tIteration: 760\t Loss: 1.6508\n",
      "\tIteration: 800\t Loss: 1.5676\n",
      "\tIteration: 840\t Loss: 1.5173\n",
      "\tIteration: 880\t Loss: 1.4546\n",
      "\tIteration: 920\t Loss: 1.3854\n",
      "Epoch: 2/3\n",
      "\tIteration: 0\t Loss: 0.0317\n",
      "\tIteration: 40\t Loss: 1.2850\n",
      "\tIteration: 80\t Loss: 1.2178\n",
      "\tIteration: 120\t Loss: 1.1744\n",
      "\tIteration: 160\t Loss: 1.1349\n",
      "\tIteration: 200\t Loss: 1.0717\n",
      "\tIteration: 240\t Loss: 0.9999\n",
      "\tIteration: 280\t Loss: 0.9916\n",
      "\tIteration: 320\t Loss: 0.9296\n",
      "\tIteration: 360\t Loss: 0.8857\n",
      "\tIteration: 400\t Loss: 0.8812\n",
      "\tIteration: 440\t Loss: 0.8212\n",
      "\tIteration: 480\t Loss: 0.8254\n",
      "\tIteration: 520\t Loss: 0.7772\n",
      "\tIteration: 560\t Loss: 0.7648\n",
      "\tIteration: 600\t Loss: 0.7597\n",
      "\tIteration: 640\t Loss: 0.7141\n",
      "\tIteration: 680\t Loss: 0.7083\n",
      "\tIteration: 720\t Loss: 0.7022\n",
      "\tIteration: 760\t Loss: 0.6892\n",
      "\tIteration: 800\t Loss: 0.6523\n",
      "\tIteration: 840\t Loss: 0.6588\n",
      "\tIteration: 880\t Loss: 0.6332\n",
      "\tIteration: 920\t Loss: 0.6231\n",
      "Epoch: 3/3\n",
      "\tIteration: 0\t Loss: 0.0124\n",
      "\tIteration: 40\t Loss: 0.6082\n",
      "\tIteration: 80\t Loss: 0.5661\n",
      "\tIteration: 120\t Loss: 0.6171\n",
      "\tIteration: 160\t Loss: 0.5691\n",
      "\tIteration: 200\t Loss: 0.5649\n",
      "\tIteration: 240\t Loss: 0.5817\n",
      "\tIteration: 280\t Loss: 0.5649\n",
      "\tIteration: 320\t Loss: 0.5943\n",
      "\tIteration: 360\t Loss: 0.5367\n",
      "\tIteration: 400\t Loss: 0.5241\n",
      "\tIteration: 440\t Loss: 0.5196\n",
      "\tIteration: 480\t Loss: 0.5374\n",
      "\tIteration: 520\t Loss: 0.5273\n",
      "\tIteration: 560\t Loss: 0.5307\n",
      "\tIteration: 600\t Loss: 0.4972\n",
      "\tIteration: 640\t Loss: 0.5087\n",
      "\tIteration: 680\t Loss: 0.4981\n",
      "\tIteration: 720\t Loss: 0.5208\n",
      "\tIteration: 760\t Loss: 0.4675\n",
      "\tIteration: 800\t Loss: 0.4719\n",
      "\tIteration: 840\t Loss: 0.5105\n",
      "\tIteration: 880\t Loss: 0.4546\n",
      "\tIteration: 920\t Loss: 0.4918\n"
     ]
    }
   ],
   "source": [
    "epochs = 3\n",
    "print_every = 40\n",
    "\n",
    "for e in range(epochs):\n",
    "    running_loss = 0\n",
    "    print(f\"Epoch: {e+1}/{epochs}\")\n",
    "\n",
    "    for i, (images, labels) in enumerate(iter(trainloader)):       # unpack data and index from trainloader, images is features and labels is target\n",
    "\n",
    "        # Flatten MNIST images into a 784 long vector\n",
    "        images.resize_(images.size()[0], 784)\n",
    "        \n",
    "        optimizer.zero_grad()\n",
    "        \n",
    "        output = model.forward(images)   # 1) Forward pass\n",
    "        loss = criterion(output, labels) # 2) Compute loss\n",
    "        loss.backward()                  # 3) Backward pass\n",
    "        optimizer.step()                 # 4) Update model\n",
    "        \n",
    "        running_loss += loss.item()\n",
    "        \n",
    "        if i % print_every == 0:\n",
    "            print(f\"\\tIteration: {i}\\t Loss: {running_loss/print_every:.4f}\")\n",
    "            running_loss = 0"
   ]
  },
  {
   "cell_type": "markdown",
   "metadata": {},
   "source": [
    "With the network trained, we can check out it's predictions."
   ]
  },
  {
   "cell_type": "code",
   "execution_count": 25,
   "metadata": {},
   "outputs": [
    {
     "data": {
      "image/png": "[encoded data removed]",
      "text/plain": [
       "<Figure size 432x648 with 2 Axes>"
      ]
     },
     "metadata": {
      "image/png": {
       "height": 195,
       "width": 349
      },
      "needs_background": "light"
     },
     "output_type": "display_data"
    }
   ],
   "source": [
    "images, labels = next(iter(trainloader))\n",
    "\n",
    "img = images[0].view(1, 784)                               # view used for reshape the image\n",
    "\n",
    "# Turn off gradients to speed up this part\n",
    "with torch.no_grad():\n",
    "    logits = model.forward(img)\n",
    "\n",
    "# Output of the network are logits, need to take softmax for probabilities\n",
    "ps = F.softmax(logits, dim=1)\n",
    "view_classify(img.view(1, 28, 28), ps)"
   ]
  },
  {
   "cell_type": "markdown",
   "metadata": {},
   "source": [
    "Now our network is brilliant. It can accurately predict the digits in our images."
   ]
  },
  {
   "cell_type": "markdown",
   "metadata": {},
   "source": [
    "<div style=\"background:#222222; color:#ffffff; padding:20px\">\n",
    "    <h2 align=\"center\" style=\"color:#01ff84\">MNIST Clasification: Exercise</h2>\n",
    "<div>"
   ]
  },
  {
   "cell_type": "markdown",
   "metadata": {},
   "source": [
    "<div style=\"background:#222222; color:#ffffff; padding:20px\">\n",
    "  <h3 style=\"color:#01ff84; margin-top:4px\">Exercise 1:</h3>\n",
    "  <p>Now it's your turn to build a simple network, use any method I've covered so far. In the next notebook, you'll learn how to train a network so it can make good predictions.</p>\n",
    "  <p>Build a network to classify the MNIST images with 3 hidden layers. Use 400 units in the first hidden layer, 200 units in the second layer, and 100 units in the third layer. Each hidden layer should have a ReLU activation function, and use softmax on the output layer.</p>\n",
    "<div>"
   ]
  },
  {
   "cell_type": "code",
   "execution_count": 1,
   "metadata": {},
   "outputs": [
    {
     "ename": "NameError",
     "evalue": "name 'nn' is not defined",
     "output_type": "error",
     "traceback": [
      "\u001b[1;31m---------------------------------------------------------------------------\u001b[0m",
      "\u001b[1;31mNameError\u001b[0m                                 Traceback (most recent call last)",
      "\u001b[1;32mc:\\Users\\ritth\\code\\Strive\\Strive-Exercises\\Chapter 03\\02. MLP Muliclass classification (MNIST)\\4.3 Pytorch MNIST - Exercise.ipynb Cell 59'\u001b[0m in \u001b[0;36m<cell line: 7>\u001b[1;34m()\u001b[0m\n\u001b[0;32m      <a href='vscode-notebook-cell:/c%3A/Users/ritth/code/Strive/Strive-Exercises/Chapter%2003/02.%20MLP%20Muliclass%20classification%20%28MNIST%29/4.3%20Pytorch%20MNIST%20-%20Exercise.ipynb#ch0000058?line=3'>4</a>\u001b[0m output_size  \u001b[39m=\u001b[39m \u001b[39m10\u001b[39m\n\u001b[0;32m      <a href='vscode-notebook-cell:/c%3A/Users/ritth/code/Strive/Strive-Exercises/Chapter%2003/02.%20MLP%20Muliclass%20classification%20%28MNIST%29/4.3%20Pytorch%20MNIST%20-%20Exercise.ipynb#ch0000058?line=5'>6</a>\u001b[0m \u001b[39m# Build a feed-forward network\u001b[39;00m\n\u001b[1;32m----> <a href='vscode-notebook-cell:/c%3A/Users/ritth/code/Strive/Strive-Exercises/Chapter%2003/02.%20MLP%20Muliclass%20classification%20%28MNIST%29/4.3%20Pytorch%20MNIST%20-%20Exercise.ipynb#ch0000058?line=6'>7</a>\u001b[0m model \u001b[39m=\u001b[39m nn\u001b[39m.\u001b[39mSequential(OrderedDict([\n\u001b[0;32m      <a href='vscode-notebook-cell:/c%3A/Users/ritth/code/Strive/Strive-Exercises/Chapter%2003/02.%20MLP%20Muliclass%20classification%20%28MNIST%29/4.3%20Pytorch%20MNIST%20-%20Exercise.ipynb#ch0000058?line=7'>8</a>\u001b[0m           (\u001b[39m'\u001b[39m\u001b[39mfc1\u001b[39m\u001b[39m'\u001b[39m,   nn\u001b[39m.\u001b[39mLinear(input_size, hidden_sizes[\u001b[39m0\u001b[39m])),\n\u001b[0;32m      <a href='vscode-notebook-cell:/c%3A/Users/ritth/code/Strive/Strive-Exercises/Chapter%2003/02.%20MLP%20Muliclass%20classification%20%28MNIST%29/4.3%20Pytorch%20MNIST%20-%20Exercise.ipynb#ch0000058?line=8'>9</a>\u001b[0m           (\u001b[39m'\u001b[39m\u001b[39mrelu1\u001b[39m\u001b[39m'\u001b[39m, nn\u001b[39m.\u001b[39mReLU()),\n\u001b[0;32m     <a href='vscode-notebook-cell:/c%3A/Users/ritth/code/Strive/Strive-Exercises/Chapter%2003/02.%20MLP%20Muliclass%20classification%20%28MNIST%29/4.3%20Pytorch%20MNIST%20-%20Exercise.ipynb#ch0000058?line=9'>10</a>\u001b[0m           (\u001b[39m'\u001b[39m\u001b[39mfc2\u001b[39m\u001b[39m'\u001b[39m,   nn\u001b[39m.\u001b[39mLinear(hidden_sizes[\u001b[39m0\u001b[39m], hidden_sizes[\u001b[39m1\u001b[39m])),\n\u001b[0;32m     <a href='vscode-notebook-cell:/c%3A/Users/ritth/code/Strive/Strive-Exercises/Chapter%2003/02.%20MLP%20Muliclass%20classification%20%28MNIST%29/4.3%20Pytorch%20MNIST%20-%20Exercise.ipynb#ch0000058?line=10'>11</a>\u001b[0m           (\u001b[39m'\u001b[39m\u001b[39mrelu2\u001b[39m\u001b[39m'\u001b[39m, nn\u001b[39m.\u001b[39mReLU()),\n\u001b[0;32m     <a href='vscode-notebook-cell:/c%3A/Users/ritth/code/Strive/Strive-Exercises/Chapter%2003/02.%20MLP%20Muliclass%20classification%20%28MNIST%29/4.3%20Pytorch%20MNIST%20-%20Exercise.ipynb#ch0000058?line=11'>12</a>\u001b[0m           (\u001b[39m'\u001b[39m\u001b[39mfc3\u001b[39m\u001b[39m'\u001b[39m, nn\u001b[39m.\u001b[39mLinear(hidden_sizes[\u001b[39m1\u001b[39m], hidden_sizes[\u001b[39m2\u001b[39m])),\n\u001b[0;32m     <a href='vscode-notebook-cell:/c%3A/Users/ritth/code/Strive/Strive-Exercises/Chapter%2003/02.%20MLP%20Muliclass%20classification%20%28MNIST%29/4.3%20Pytorch%20MNIST%20-%20Exercise.ipynb#ch0000058?line=12'>13</a>\u001b[0m           (\u001b[39m'\u001b[39m\u001b[39mrelu3\u001b[39m\u001b[39m'\u001b[39m, nn\u001b[39m.\u001b[39mReLU()),\n\u001b[0;32m     <a href='vscode-notebook-cell:/c%3A/Users/ritth/code/Strive/Strive-Exercises/Chapter%2003/02.%20MLP%20Muliclass%20classification%20%28MNIST%29/4.3%20Pytorch%20MNIST%20-%20Exercise.ipynb#ch0000058?line=13'>14</a>\u001b[0m           (\u001b[39m'\u001b[39m\u001b[39moutput\u001b[39m\u001b[39m'\u001b[39m,   nn\u001b[39m.\u001b[39mLinear(hidden_sizes[\u001b[39m2\u001b[39m], output_size)),\n\u001b[0;32m     <a href='vscode-notebook-cell:/c%3A/Users/ritth/code/Strive/Strive-Exercises/Chapter%2003/02.%20MLP%20Muliclass%20classification%20%28MNIST%29/4.3%20Pytorch%20MNIST%20-%20Exercise.ipynb#ch0000058?line=14'>15</a>\u001b[0m           \u001b[39m#('softmax', nn.Softmax(dim=1))\u001b[39;00m\n\u001b[0;32m     <a href='vscode-notebook-cell:/c%3A/Users/ritth/code/Strive/Strive-Exercises/Chapter%2003/02.%20MLP%20Muliclass%20classification%20%28MNIST%29/4.3%20Pytorch%20MNIST%20-%20Exercise.ipynb#ch0000058?line=15'>16</a>\u001b[0m           ]))\n\u001b[0;32m     <a href='vscode-notebook-cell:/c%3A/Users/ritth/code/Strive/Strive-Exercises/Chapter%2003/02.%20MLP%20Muliclass%20classification%20%28MNIST%29/4.3%20Pytorch%20MNIST%20-%20Exercise.ipynb#ch0000058?line=16'>17</a>\u001b[0m model\n",
      "\u001b[1;31mNameError\u001b[0m: name 'nn' is not defined"
     ]
    }
   ],
   "source": [
    "# Hyperparameters for our network\n",
    "input_size   = 784\n",
    "hidden_sizes = [400, 200, 100]\n",
    "output_size  = 10\n",
    "\n",
    "# Build a feed-forward network\n",
    "model = nn.Sequential(OrderedDict([\n",
    "          ('fc1',   nn.Linear(input_size, hidden_sizes[0])),\n",
    "          ('relu1', nn.ReLU()),\n",
    "          ('fc2',   nn.Linear(hidden_sizes[0], hidden_sizes[1])),\n",
    "          ('relu2', nn.ReLU()),\n",
    "          ('fc3', nn.Linear(hidden_sizes[1], hidden_sizes[2])),\n",
    "          ('relu3', nn.ReLU()),\n",
    "          ('output',   nn.Linear(hidden_sizes[2], output_size)),\n",
    "          #('softmax', nn.Softmax(dim=1))\n",
    "          ]))\n",
    "model"
   ]
  },
  {
   "cell_type": "code",
   "execution_count": 26,
   "metadata": {},
   "outputs": [
    {
     "data": {
      "image/png": "[encoded data removed]",
      "text/plain": [
       "<Figure size 432x648 with 2 Axes>"
      ]
     },
     "metadata": {
      "image/png": {
       "height": 195,
       "width": 349
      },
      "needs_background": "light"
     },
     "output_type": "display_data"
    }
   ],
   "source": [
    "# Run this cell with your model to make sure it works\n",
    "# Forward pass through the network and display output\n",
    "images, labels = next(iter(trainloader))\n",
    "images.resize_(images.shape[0], 1, 784)\n",
    "ps = model.forward(images[0,:])\n",
    "view_classify(images[0].view(1, 28, 28), ps)"
   ]
  },
  {
   "cell_type": "markdown",
   "metadata": {},
   "source": [
    "<div style=\"background:#222222; color:#ffffff; padding:20px\">\n",
    "  <h3 style=\"color:#01ff84; margin-top:4px\">Exercise 2:</h3>\n",
    "  <p>Train your network implementing the Pytorch training loop and <strong style=\"color:#01ff84\">after each epoch, use the model for predicting the test (validation) MNIST data.</strong></p>\n",
    "  <p>Note: If your model does not fit with the final softmax layer, you can remove this layer.</p>\n",
    "  <p>Hint: <a href=\"https://discuss.pytorch.org/t/training-loop-checking-validation-accuracy/78399\">Training loop checking validation accuracy\n",
    "</a></p>\n",
    "  <p>Research about <code>model.train()</code>, <code>model.eval()</code> and <code>with torch.no_grad()</code> in Pytorch.\n",
    "<div>"
   ]
  },
  {
   "cell_type": "code",
   "execution_count": 30,
   "metadata": {},
   "outputs": [],
   "source": [
    "criterion = nn.CrossEntropyLoss()\n",
    "optimizer = optim.SGD(model.parameters(), lr=0.001)"
   ]
  },
  {
   "cell_type": "code",
   "execution_count": 31,
   "metadata": {},
   "outputs": [
    {
     "name": "stdout",
     "output_type": "stream",
     "text": [
      "Epoch: 1/10\n",
      "\tIteration: 0\t Loss: 0.1008\n",
      "\tIteration: 20\t Loss: 2.1322\n",
      "\tIteration: 40\t Loss: 2.1232\n",
      "\tIteration: 60\t Loss: 2.1452\n",
      "\tIteration: 80\t Loss: 2.1189\n",
      "\tIteration: 100\t Loss: 2.1167\n",
      "\tIteration: 120\t Loss: 2.1191\n",
      "\tIteration: 140\t Loss: 2.1291\n",
      "\tIteration: 160\t Loss: 2.0995\n",
      "\tIteration: 180\t Loss: 2.1149\n",
      "\tIteration: 200\t Loss: 2.1223\n",
      "\tIteration: 220\t Loss: 2.1125\n",
      "\tIteration: 240\t Loss: 2.0977\n",
      "\tIteration: 260\t Loss: 2.0983\n",
      "\tIteration: 280\t Loss: 2.0988\n",
      "\tIteration: 300\t Loss: 2.1082\n",
      "\tIteration: 320\t Loss: 2.1051\n",
      "\tIteration: 340\t Loss: 2.1210\n",
      "\tIteration: 360\t Loss: 2.1019\n",
      "\tIteration: 380\t Loss: 2.0964\n",
      "\tIteration: 400\t Loss: 2.1259\n",
      "\tIteration: 420\t Loss: 2.1082\n",
      "\tIteration: 440\t Loss: 2.1001\n",
      "\tIteration: 460\t Loss: 2.1182\n",
      "\tIteration: 480\t Loss: 2.0946\n",
      "\tIteration: 500\t Loss: 2.0956\n",
      "\tIteration: 520\t Loss: 2.1023\n",
      "\tIteration: 540\t Loss: 2.1016\n",
      "\tIteration: 560\t Loss: 2.0984\n",
      "\tIteration: 580\t Loss: 2.1136\n",
      "\tIteration: 600\t Loss: 2.1117\n",
      "\tIteration: 620\t Loss: 2.0957\n",
      "\tIteration: 640\t Loss: 2.0957\n",
      "\tIteration: 660\t Loss: 2.0965\n",
      "\tIteration: 680\t Loss: 2.0833\n",
      "\tIteration: 700\t Loss: 2.1058\n",
      "\tIteration: 720\t Loss: 2.1006\n",
      "\tIteration: 740\t Loss: 2.1045\n",
      "\tIteration: 760\t Loss: 2.1033\n",
      "\tIteration: 780\t Loss: 2.1009\n",
      "\tIteration: 800\t Loss: 2.0935\n",
      "\tIteration: 820\t Loss: 2.1036\n",
      "\tIteration: 840\t Loss: 2.0859\n",
      "\tIteration: 860\t Loss: 2.0931\n",
      "\tIteration: 880\t Loss: 2.0923\n",
      "\tIteration: 900\t Loss: 2.1061\n",
      "\tIteration: 920\t Loss: 2.0744\n",
      "Epoch: 2/10\n",
      "\tIteration: 0\t Loss: 0.1043\n",
      "\tIteration: 20\t Loss: 2.0918\n",
      "\tIteration: 40\t Loss: 2.0928\n",
      "\tIteration: 60\t Loss: 2.0902\n",
      "\tIteration: 80\t Loss: 2.0925\n",
      "\tIteration: 100\t Loss: 2.0819\n",
      "\tIteration: 120\t Loss: 2.1008\n",
      "\tIteration: 140\t Loss: 2.0994\n",
      "\tIteration: 160\t Loss: 2.0884\n",
      "\tIteration: 180\t Loss: 2.0984\n",
      "\tIteration: 200\t Loss: 2.1111\n",
      "\tIteration: 220\t Loss: 2.0837\n",
      "\tIteration: 240\t Loss: 2.0786\n",
      "\tIteration: 260\t Loss: 2.0874\n",
      "\tIteration: 280\t Loss: 2.0930\n",
      "\tIteration: 300\t Loss: 2.0756\n",
      "\tIteration: 320\t Loss: 2.0821\n",
      "\tIteration: 340\t Loss: 2.0792\n",
      "\tIteration: 360\t Loss: 2.0805\n",
      "\tIteration: 380\t Loss: 2.0747\n",
      "\tIteration: 400\t Loss: 2.0792\n",
      "\tIteration: 420\t Loss: 2.0850\n",
      "\tIteration: 440\t Loss: 2.1066\n",
      "\tIteration: 460\t Loss: 2.0892\n",
      "\tIteration: 480\t Loss: 2.0899\n",
      "\tIteration: 500\t Loss: 2.0828\n",
      "\tIteration: 520\t Loss: 2.0820\n",
      "\tIteration: 540\t Loss: 2.0643\n",
      "\tIteration: 560\t Loss: 2.0929\n",
      "\tIteration: 580\t Loss: 2.0938\n",
      "\tIteration: 600\t Loss: 2.0630\n",
      "\tIteration: 620\t Loss: 2.0917\n",
      "\tIteration: 640\t Loss: 2.0907\n",
      "\tIteration: 660\t Loss: 2.0833\n",
      "\tIteration: 680\t Loss: 2.0773\n",
      "\tIteration: 700\t Loss: 2.0864\n",
      "\tIteration: 720\t Loss: 2.0657\n",
      "\tIteration: 740\t Loss: 2.0739\n",
      "\tIteration: 760\t Loss: 2.0827\n",
      "\tIteration: 780\t Loss: 2.0819\n",
      "\tIteration: 800\t Loss: 2.0521\n",
      "\tIteration: 820\t Loss: 2.0667\n",
      "\tIteration: 840\t Loss: 2.0853\n",
      "\tIteration: 860\t Loss: 2.0864\n",
      "\tIteration: 880\t Loss: 2.0723\n",
      "\tIteration: 900\t Loss: 2.0794\n",
      "\tIteration: 920\t Loss: 2.0775\n",
      "Epoch: 3/10\n",
      "\tIteration: 0\t Loss: 0.1058\n",
      "\tIteration: 20\t Loss: 2.0711\n",
      "\tIteration: 40\t Loss: 2.0734\n",
      "\tIteration: 60\t Loss: 2.0791\n",
      "\tIteration: 80\t Loss: 2.0711\n",
      "\tIteration: 100\t Loss: 2.0549\n",
      "\tIteration: 120\t Loss: 2.0844\n",
      "\tIteration: 140\t Loss: 2.0652\n",
      "\tIteration: 160\t Loss: 2.0734\n",
      "\tIteration: 180\t Loss: 2.0552\n",
      "\tIteration: 200\t Loss: 2.0579\n",
      "\tIteration: 220\t Loss: 2.0793\n",
      "\tIteration: 240\t Loss: 2.0522\n",
      "\tIteration: 260\t Loss: 2.0663\n",
      "\tIteration: 280\t Loss: 2.0520\n",
      "\tIteration: 300\t Loss: 2.0751\n",
      "\tIteration: 320\t Loss: 2.0646\n",
      "\tIteration: 340\t Loss: 2.0679\n",
      "\tIteration: 360\t Loss: 2.0606\n",
      "\tIteration: 380\t Loss: 2.0609\n",
      "\tIteration: 400\t Loss: 2.0539\n",
      "\tIteration: 420\t Loss: 2.0559\n",
      "\tIteration: 440\t Loss: 2.0597\n",
      "\tIteration: 460\t Loss: 2.0681\n",
      "\tIteration: 480\t Loss: 2.0525\n",
      "\tIteration: 500\t Loss: 2.0362\n",
      "\tIteration: 520\t Loss: 2.0626\n",
      "\tIteration: 540\t Loss: 2.0673\n",
      "\tIteration: 560\t Loss: 2.0627\n",
      "\tIteration: 580\t Loss: 2.0552\n",
      "\tIteration: 600\t Loss: 2.0503\n",
      "\tIteration: 620\t Loss: 2.0537\n",
      "\tIteration: 640\t Loss: 2.0721\n",
      "\tIteration: 660\t Loss: 2.0533\n",
      "\tIteration: 680\t Loss: 2.0445\n",
      "\tIteration: 700\t Loss: 2.0522\n",
      "\tIteration: 720\t Loss: 2.0715\n",
      "\tIteration: 740\t Loss: 2.0366\n",
      "\tIteration: 760\t Loss: 2.0596\n",
      "\tIteration: 780\t Loss: 2.0626\n",
      "\tIteration: 800\t Loss: 2.0515\n",
      "\tIteration: 820\t Loss: 2.0439\n",
      "\tIteration: 840\t Loss: 2.0471\n",
      "\tIteration: 860\t Loss: 2.0451\n",
      "\tIteration: 880\t Loss: 2.0575\n",
      "\tIteration: 900\t Loss: 2.0556\n",
      "\tIteration: 920\t Loss: 2.0446\n",
      "Epoch: 4/10\n",
      "\tIteration: 0\t Loss: 0.1019\n",
      "\tIteration: 20\t Loss: 2.0309\n",
      "\tIteration: 40\t Loss: 2.0379\n",
      "\tIteration: 60\t Loss: 2.0575\n",
      "\tIteration: 80\t Loss: 2.0494\n",
      "\tIteration: 100\t Loss: 2.0454\n",
      "\tIteration: 120\t Loss: 2.0301\n",
      "\tIteration: 140\t Loss: 2.0318\n",
      "\tIteration: 160\t Loss: 2.0393\n",
      "\tIteration: 180\t Loss: 2.0623\n",
      "\tIteration: 200\t Loss: 2.0378\n",
      "\tIteration: 220\t Loss: 2.0431\n",
      "\tIteration: 240\t Loss: 2.0408\n",
      "\tIteration: 260\t Loss: 2.0419\n",
      "\tIteration: 280\t Loss: 2.0638\n",
      "\tIteration: 300\t Loss: 2.0290\n",
      "\tIteration: 320\t Loss: 2.0584\n",
      "\tIteration: 340\t Loss: 2.0336\n",
      "\tIteration: 360\t Loss: 2.0295\n",
      "\tIteration: 380\t Loss: 2.0256\n",
      "\tIteration: 400\t Loss: 2.0176\n",
      "\tIteration: 420\t Loss: 2.0195\n",
      "\tIteration: 440\t Loss: 2.0273\n",
      "\tIteration: 460\t Loss: 2.0338\n",
      "\tIteration: 480\t Loss: 2.0371\n",
      "\tIteration: 500\t Loss: 2.0436\n",
      "\tIteration: 520\t Loss: 2.0485\n",
      "\tIteration: 540\t Loss: 2.0339\n",
      "\tIteration: 560\t Loss: 2.0264\n",
      "\tIteration: 580\t Loss: 2.0154\n",
      "\tIteration: 600\t Loss: 2.0275\n",
      "\tIteration: 620\t Loss: 2.0463\n",
      "\tIteration: 640\t Loss: 2.0353\n",
      "\tIteration: 660\t Loss: 2.0107\n",
      "\tIteration: 680\t Loss: 2.0208\n",
      "\tIteration: 700\t Loss: 2.0161\n",
      "\tIteration: 720\t Loss: 2.0138\n",
      "\tIteration: 740\t Loss: 2.0301\n",
      "\tIteration: 760\t Loss: 2.0117\n",
      "\tIteration: 780\t Loss: 2.0227\n",
      "\tIteration: 800\t Loss: 2.0388\n",
      "\tIteration: 820\t Loss: 2.0176\n",
      "\tIteration: 840\t Loss: 2.0137\n",
      "\tIteration: 860\t Loss: 2.0279\n",
      "\tIteration: 880\t Loss: 2.0295\n",
      "\tIteration: 900\t Loss: 2.0180\n",
      "\tIteration: 920\t Loss: 2.0012\n",
      "Epoch: 5/10\n",
      "\tIteration: 0\t Loss: 0.1005\n",
      "\tIteration: 20\t Loss: 2.0098\n",
      "\tIteration: 40\t Loss: 2.0148\n",
      "\tIteration: 60\t Loss: 2.0193\n",
      "\tIteration: 80\t Loss: 2.0098\n",
      "\tIteration: 100\t Loss: 2.0083\n",
      "\tIteration: 120\t Loss: 2.0387\n",
      "\tIteration: 140\t Loss: 1.9944\n",
      "\tIteration: 160\t Loss: 2.0287\n",
      "\tIteration: 180\t Loss: 2.0172\n",
      "\tIteration: 200\t Loss: 1.9936\n",
      "\tIteration: 220\t Loss: 2.0084\n",
      "\tIteration: 240\t Loss: 1.9890\n",
      "\tIteration: 260\t Loss: 2.0179\n",
      "\tIteration: 280\t Loss: 2.0235\n",
      "\tIteration: 300\t Loss: 2.0053\n",
      "\tIteration: 320\t Loss: 1.9950\n",
      "\tIteration: 340\t Loss: 1.9835\n",
      "\tIteration: 360\t Loss: 2.0021\n",
      "\tIteration: 380\t Loss: 2.0072\n",
      "\tIteration: 400\t Loss: 2.0133\n",
      "\tIteration: 420\t Loss: 2.0146\n",
      "\tIteration: 440\t Loss: 1.9986\n",
      "\tIteration: 460\t Loss: 2.0244\n",
      "\tIteration: 480\t Loss: 2.0087\n",
      "\tIteration: 500\t Loss: 2.0023\n",
      "\tIteration: 520\t Loss: 2.0016\n",
      "\tIteration: 540\t Loss: 2.0112\n",
      "\tIteration: 560\t Loss: 1.9862\n",
      "\tIteration: 580\t Loss: 1.9893\n",
      "\tIteration: 600\t Loss: 2.0081\n",
      "\tIteration: 620\t Loss: 1.9865\n",
      "\tIteration: 640\t Loss: 2.0062\n",
      "\tIteration: 660\t Loss: 1.9917\n",
      "\tIteration: 680\t Loss: 1.9964\n",
      "\tIteration: 700\t Loss: 2.0132\n",
      "\tIteration: 720\t Loss: 1.9889\n",
      "\tIteration: 740\t Loss: 2.0146\n",
      "\tIteration: 760\t Loss: 1.9730\n",
      "\tIteration: 780\t Loss: 1.9819\n",
      "\tIteration: 800\t Loss: 1.9716\n",
      "\tIteration: 820\t Loss: 2.0050\n",
      "\tIteration: 840\t Loss: 1.9942\n",
      "\tIteration: 860\t Loss: 1.9767\n",
      "\tIteration: 880\t Loss: 1.9827\n",
      "\tIteration: 900\t Loss: 2.0179\n",
      "\tIteration: 920\t Loss: 1.9841\n",
      "Epoch: 6/10\n",
      "\tIteration: 0\t Loss: 0.1027\n",
      "\tIteration: 20\t Loss: 1.9951\n",
      "\tIteration: 40\t Loss: 2.0020\n",
      "\tIteration: 60\t Loss: 1.9841\n",
      "\tIteration: 80\t Loss: 2.0011\n",
      "\tIteration: 100\t Loss: 1.9737\n",
      "\tIteration: 120\t Loss: 1.9961\n",
      "\tIteration: 140\t Loss: 1.9891\n",
      "\tIteration: 160\t Loss: 1.9716\n",
      "\tIteration: 180\t Loss: 1.9700\n",
      "\tIteration: 200\t Loss: 1.9815\n",
      "\tIteration: 220\t Loss: 1.9961\n",
      "\tIteration: 240\t Loss: 1.9728\n",
      "\tIteration: 260\t Loss: 1.9899\n",
      "\tIteration: 280\t Loss: 1.9770\n",
      "\tIteration: 300\t Loss: 1.9999\n",
      "\tIteration: 320\t Loss: 1.9783\n",
      "\tIteration: 340\t Loss: 1.9573\n",
      "\tIteration: 360\t Loss: 1.9690\n",
      "\tIteration: 380\t Loss: 1.9660\n",
      "\tIteration: 400\t Loss: 1.9550\n",
      "\tIteration: 420\t Loss: 1.9696\n",
      "\tIteration: 440\t Loss: 1.9768\n",
      "\tIteration: 460\t Loss: 1.9484\n",
      "\tIteration: 480\t Loss: 1.9880\n",
      "\tIteration: 500\t Loss: 1.9887\n",
      "\tIteration: 520\t Loss: 1.9683\n",
      "\tIteration: 540\t Loss: 1.9622\n",
      "\tIteration: 560\t Loss: 1.9674\n",
      "\tIteration: 580\t Loss: 1.9771\n",
      "\tIteration: 600\t Loss: 1.9836\n",
      "\tIteration: 620\t Loss: 1.9886\n",
      "\tIteration: 640\t Loss: 1.9504\n",
      "\tIteration: 660\t Loss: 1.9695\n",
      "\tIteration: 680\t Loss: 1.9812\n",
      "\tIteration: 700\t Loss: 1.9690\n",
      "\tIteration: 720\t Loss: 1.9499\n",
      "\tIteration: 740\t Loss: 1.9641\n",
      "\tIteration: 760\t Loss: 1.9656\n",
      "\tIteration: 780\t Loss: 1.9480\n",
      "\tIteration: 800\t Loss: 1.9654\n",
      "\tIteration: 820\t Loss: 1.9686\n",
      "\tIteration: 840\t Loss: 1.9810\n",
      "\tIteration: 860\t Loss: 1.9666\n",
      "\tIteration: 880\t Loss: 1.9757\n",
      "\tIteration: 900\t Loss: 1.9820\n",
      "\tIteration: 920\t Loss: 1.9819\n",
      "Epoch: 7/10\n",
      "\tIteration: 0\t Loss: 0.0973\n",
      "\tIteration: 20\t Loss: 1.9746\n",
      "\tIteration: 40\t Loss: 1.9569\n",
      "\tIteration: 60\t Loss: 1.9747\n",
      "\tIteration: 80\t Loss: 1.9970\n",
      "\tIteration: 100\t Loss: 1.9852\n",
      "\tIteration: 120\t Loss: 1.9705\n",
      "\tIteration: 140\t Loss: 1.9682\n",
      "\tIteration: 160\t Loss: 1.9619\n",
      "\tIteration: 180\t Loss: 1.9409\n",
      "\tIteration: 200\t Loss: 1.9501\n",
      "\tIteration: 220\t Loss: 1.9670\n",
      "\tIteration: 240\t Loss: 1.9482\n",
      "\tIteration: 260\t Loss: 1.9398\n",
      "\tIteration: 280\t Loss: 1.9580\n",
      "\tIteration: 300\t Loss: 1.9478\n",
      "\tIteration: 320\t Loss: 1.9432\n",
      "\tIteration: 340\t Loss: 1.9349\n",
      "\tIteration: 360\t Loss: 1.9647\n",
      "\tIteration: 380\t Loss: 1.9497\n",
      "\tIteration: 400\t Loss: 1.9591\n",
      "\tIteration: 420\t Loss: 1.9313\n",
      "\tIteration: 440\t Loss: 1.9434\n",
      "\tIteration: 460\t Loss: 1.9688\n",
      "\tIteration: 480\t Loss: 1.9529\n",
      "\tIteration: 500\t Loss: 1.9681\n",
      "\tIteration: 520\t Loss: 1.9474\n",
      "\tIteration: 540\t Loss: 1.9598\n",
      "\tIteration: 560\t Loss: 1.9493\n",
      "\tIteration: 580\t Loss: 1.9584\n",
      "\tIteration: 600\t Loss: 1.9437\n",
      "\tIteration: 620\t Loss: 1.9350\n",
      "\tIteration: 640\t Loss: 1.9490\n",
      "\tIteration: 660\t Loss: 1.9483\n",
      "\tIteration: 680\t Loss: 1.9409\n",
      "\tIteration: 700\t Loss: 1.9730\n",
      "\tIteration: 720\t Loss: 1.9542\n",
      "\tIteration: 740\t Loss: 1.9543\n",
      "\tIteration: 760\t Loss: 1.9383\n",
      "\tIteration: 780\t Loss: 1.9497\n",
      "\tIteration: 800\t Loss: 1.9619\n",
      "\tIteration: 820\t Loss: 1.9528\n",
      "\tIteration: 840\t Loss: 1.9122\n",
      "\tIteration: 860\t Loss: 1.9553\n",
      "\tIteration: 880\t Loss: 1.9407\n",
      "\tIteration: 900\t Loss: 1.9392\n",
      "\tIteration: 920\t Loss: 1.9418\n",
      "Epoch: 8/10\n",
      "\tIteration: 0\t Loss: 0.0970\n",
      "\tIteration: 20\t Loss: 1.9460\n",
      "\tIteration: 40\t Loss: 1.9369\n",
      "\tIteration: 60\t Loss: 1.9458\n",
      "\tIteration: 80\t Loss: 1.9581\n",
      "\tIteration: 100\t Loss: 1.9518\n",
      "\tIteration: 120\t Loss: 1.9698\n",
      "\tIteration: 140\t Loss: 1.9563\n",
      "\tIteration: 160\t Loss: 1.9268\n",
      "\tIteration: 180\t Loss: 1.9428\n",
      "\tIteration: 200\t Loss: 1.9312\n",
      "\tIteration: 220\t Loss: 1.9345\n",
      "\tIteration: 240\t Loss: 1.9555\n",
      "\tIteration: 260\t Loss: 1.9465\n"
     ]
    },
    {
     "ename": "KeyboardInterrupt",
     "evalue": "",
     "output_type": "error",
     "traceback": [
      "\u001b[1;31m---------------------------------------------------------------------------\u001b[0m",
      "\u001b[1;31mKeyboardInterrupt\u001b[0m                         Traceback (most recent call last)",
      "\u001b[1;32mc:\\Users\\ritth\\code\\Strive\\Strive-Exercises\\Chapter 03\\02. MLP Muliclass classification (MNIST)\\4.3 Pytorch MNIST - Exercise.ipynb Cell 63'\u001b[0m in \u001b[0;36m<cell line: 4>\u001b[1;34m()\u001b[0m\n\u001b[0;32m      <a href='vscode-notebook-cell:/c%3A/Users/ritth/code/Strive/Strive-Exercises/Chapter%2003/02.%20MLP%20Muliclass%20classification%20%28MNIST%29/4.3%20Pytorch%20MNIST%20-%20Exercise.ipynb#ch0000065?line=4'>5</a>\u001b[0m running_loss \u001b[39m=\u001b[39m \u001b[39m0\u001b[39m\n\u001b[0;32m      <a href='vscode-notebook-cell:/c%3A/Users/ritth/code/Strive/Strive-Exercises/Chapter%2003/02.%20MLP%20Muliclass%20classification%20%28MNIST%29/4.3%20Pytorch%20MNIST%20-%20Exercise.ipynb#ch0000065?line=5'>6</a>\u001b[0m \u001b[39mprint\u001b[39m(\u001b[39mf\u001b[39m\u001b[39m\"\u001b[39m\u001b[39mEpoch: \u001b[39m\u001b[39m{\u001b[39;00mepoch\u001b[39m+\u001b[39m\u001b[39m1\u001b[39m\u001b[39m}\u001b[39;00m\u001b[39m/\u001b[39m\u001b[39m{\u001b[39;00mnum_epochs\u001b[39m}\u001b[39;00m\u001b[39m\"\u001b[39m)\n\u001b[1;32m----> <a href='vscode-notebook-cell:/c%3A/Users/ritth/code/Strive/Strive-Exercises/Chapter%2003/02.%20MLP%20Muliclass%20classification%20%28MNIST%29/4.3%20Pytorch%20MNIST%20-%20Exercise.ipynb#ch0000065?line=7'>8</a>\u001b[0m \u001b[39mfor\u001b[39;00m i, (images, labels) \u001b[39min\u001b[39;00m \u001b[39menumerate\u001b[39m(\u001b[39miter\u001b[39m(trainloader)):       \n\u001b[0;32m      <a href='vscode-notebook-cell:/c%3A/Users/ritth/code/Strive/Strive-Exercises/Chapter%2003/02.%20MLP%20Muliclass%20classification%20%28MNIST%29/4.3%20Pytorch%20MNIST%20-%20Exercise.ipynb#ch0000065?line=8'>9</a>\u001b[0m \n\u001b[0;32m     <a href='vscode-notebook-cell:/c%3A/Users/ritth/code/Strive/Strive-Exercises/Chapter%2003/02.%20MLP%20Muliclass%20classification%20%28MNIST%29/4.3%20Pytorch%20MNIST%20-%20Exercise.ipynb#ch0000065?line=9'>10</a>\u001b[0m     \u001b[39m# Flatten MNIST images into a 784 long vector\u001b[39;00m\n\u001b[0;32m     <a href='vscode-notebook-cell:/c%3A/Users/ritth/code/Strive/Strive-Exercises/Chapter%2003/02.%20MLP%20Muliclass%20classification%20%28MNIST%29/4.3%20Pytorch%20MNIST%20-%20Exercise.ipynb#ch0000065?line=10'>11</a>\u001b[0m     images\u001b[39m.\u001b[39mresize_(images\u001b[39m.\u001b[39msize()[\u001b[39m0\u001b[39m], \u001b[39m784\u001b[39m)\n\u001b[0;32m     <a href='vscode-notebook-cell:/c%3A/Users/ritth/code/Strive/Strive-Exercises/Chapter%2003/02.%20MLP%20Muliclass%20classification%20%28MNIST%29/4.3%20Pytorch%20MNIST%20-%20Exercise.ipynb#ch0000065?line=12'>13</a>\u001b[0m     optimizer\u001b[39m.\u001b[39mzero_grad()\n",
      "File \u001b[1;32mc:\\Users\\ritth\\software\\anaconda\\envs\\deep\\lib\\site-packages\\torch\\utils\\data\\dataloader.py:530\u001b[0m, in \u001b[0;36m_BaseDataLoaderIter.__next__\u001b[1;34m(self)\u001b[0m\n\u001b[0;32m    <a href='file:///c%3A/Users/ritth/software/anaconda/envs/deep/lib/site-packages/torch/utils/data/dataloader.py?line=527'>528</a>\u001b[0m \u001b[39mif\u001b[39;00m \u001b[39mself\u001b[39m\u001b[39m.\u001b[39m_sampler_iter \u001b[39mis\u001b[39;00m \u001b[39mNone\u001b[39;00m:\n\u001b[0;32m    <a href='file:///c%3A/Users/ritth/software/anaconda/envs/deep/lib/site-packages/torch/utils/data/dataloader.py?line=528'>529</a>\u001b[0m     \u001b[39mself\u001b[39m\u001b[39m.\u001b[39m_reset()\n\u001b[1;32m--> <a href='file:///c%3A/Users/ritth/software/anaconda/envs/deep/lib/site-packages/torch/utils/data/dataloader.py?line=529'>530</a>\u001b[0m data \u001b[39m=\u001b[39m \u001b[39mself\u001b[39;49m\u001b[39m.\u001b[39;49m_next_data()\n\u001b[0;32m    <a href='file:///c%3A/Users/ritth/software/anaconda/envs/deep/lib/site-packages/torch/utils/data/dataloader.py?line=530'>531</a>\u001b[0m \u001b[39mself\u001b[39m\u001b[39m.\u001b[39m_num_yielded \u001b[39m+\u001b[39m\u001b[39m=\u001b[39m \u001b[39m1\u001b[39m\n\u001b[0;32m    <a href='file:///c%3A/Users/ritth/software/anaconda/envs/deep/lib/site-packages/torch/utils/data/dataloader.py?line=531'>532</a>\u001b[0m \u001b[39mif\u001b[39;00m \u001b[39mself\u001b[39m\u001b[39m.\u001b[39m_dataset_kind \u001b[39m==\u001b[39m _DatasetKind\u001b[39m.\u001b[39mIterable \u001b[39mand\u001b[39;00m \\\n\u001b[0;32m    <a href='file:///c%3A/Users/ritth/software/anaconda/envs/deep/lib/site-packages/torch/utils/data/dataloader.py?line=532'>533</a>\u001b[0m         \u001b[39mself\u001b[39m\u001b[39m.\u001b[39m_IterableDataset_len_called \u001b[39mis\u001b[39;00m \u001b[39mnot\u001b[39;00m \u001b[39mNone\u001b[39;00m \u001b[39mand\u001b[39;00m \\\n\u001b[0;32m    <a href='file:///c%3A/Users/ritth/software/anaconda/envs/deep/lib/site-packages/torch/utils/data/dataloader.py?line=533'>534</a>\u001b[0m         \u001b[39mself\u001b[39m\u001b[39m.\u001b[39m_num_yielded \u001b[39m>\u001b[39m \u001b[39mself\u001b[39m\u001b[39m.\u001b[39m_IterableDataset_len_called:\n",
      "File \u001b[1;32mc:\\Users\\ritth\\software\\anaconda\\envs\\deep\\lib\\site-packages\\torch\\utils\\data\\dataloader.py:570\u001b[0m, in \u001b[0;36m_SingleProcessDataLoaderIter._next_data\u001b[1;34m(self)\u001b[0m\n\u001b[0;32m    <a href='file:///c%3A/Users/ritth/software/anaconda/envs/deep/lib/site-packages/torch/utils/data/dataloader.py?line=567'>568</a>\u001b[0m \u001b[39mdef\u001b[39;00m \u001b[39m_next_data\u001b[39m(\u001b[39mself\u001b[39m):\n\u001b[0;32m    <a href='file:///c%3A/Users/ritth/software/anaconda/envs/deep/lib/site-packages/torch/utils/data/dataloader.py?line=568'>569</a>\u001b[0m     index \u001b[39m=\u001b[39m \u001b[39mself\u001b[39m\u001b[39m.\u001b[39m_next_index()  \u001b[39m# may raise StopIteration\u001b[39;00m\n\u001b[1;32m--> <a href='file:///c%3A/Users/ritth/software/anaconda/envs/deep/lib/site-packages/torch/utils/data/dataloader.py?line=569'>570</a>\u001b[0m     data \u001b[39m=\u001b[39m \u001b[39mself\u001b[39;49m\u001b[39m.\u001b[39;49m_dataset_fetcher\u001b[39m.\u001b[39;49mfetch(index)  \u001b[39m# may raise StopIteration\u001b[39;00m\n\u001b[0;32m    <a href='file:///c%3A/Users/ritth/software/anaconda/envs/deep/lib/site-packages/torch/utils/data/dataloader.py?line=570'>571</a>\u001b[0m     \u001b[39mif\u001b[39;00m \u001b[39mself\u001b[39m\u001b[39m.\u001b[39m_pin_memory:\n\u001b[0;32m    <a href='file:///c%3A/Users/ritth/software/anaconda/envs/deep/lib/site-packages/torch/utils/data/dataloader.py?line=571'>572</a>\u001b[0m         data \u001b[39m=\u001b[39m _utils\u001b[39m.\u001b[39mpin_memory\u001b[39m.\u001b[39mpin_memory(data)\n",
      "File \u001b[1;32mc:\\Users\\ritth\\software\\anaconda\\envs\\deep\\lib\\site-packages\\torch\\utils\\data\\_utils\\fetch.py:49\u001b[0m, in \u001b[0;36m_MapDatasetFetcher.fetch\u001b[1;34m(self, possibly_batched_index)\u001b[0m\n\u001b[0;32m     <a href='file:///c%3A/Users/ritth/software/anaconda/envs/deep/lib/site-packages/torch/utils/data/_utils/fetch.py?line=46'>47</a>\u001b[0m \u001b[39mdef\u001b[39;00m \u001b[39mfetch\u001b[39m(\u001b[39mself\u001b[39m, possibly_batched_index):\n\u001b[0;32m     <a href='file:///c%3A/Users/ritth/software/anaconda/envs/deep/lib/site-packages/torch/utils/data/_utils/fetch.py?line=47'>48</a>\u001b[0m     \u001b[39mif\u001b[39;00m \u001b[39mself\u001b[39m\u001b[39m.\u001b[39mauto_collation:\n\u001b[1;32m---> <a href='file:///c%3A/Users/ritth/software/anaconda/envs/deep/lib/site-packages/torch/utils/data/_utils/fetch.py?line=48'>49</a>\u001b[0m         data \u001b[39m=\u001b[39m [\u001b[39mself\u001b[39m\u001b[39m.\u001b[39mdataset[idx] \u001b[39mfor\u001b[39;00m idx \u001b[39min\u001b[39;00m possibly_batched_index]\n\u001b[0;32m     <a href='file:///c%3A/Users/ritth/software/anaconda/envs/deep/lib/site-packages/torch/utils/data/_utils/fetch.py?line=49'>50</a>\u001b[0m     \u001b[39melse\u001b[39;00m:\n\u001b[0;32m     <a href='file:///c%3A/Users/ritth/software/anaconda/envs/deep/lib/site-packages/torch/utils/data/_utils/fetch.py?line=50'>51</a>\u001b[0m         data \u001b[39m=\u001b[39m \u001b[39mself\u001b[39m\u001b[39m.\u001b[39mdataset[possibly_batched_index]\n",
      "File \u001b[1;32mc:\\Users\\ritth\\software\\anaconda\\envs\\deep\\lib\\site-packages\\torch\\utils\\data\\_utils\\fetch.py:49\u001b[0m, in \u001b[0;36m<listcomp>\u001b[1;34m(.0)\u001b[0m\n\u001b[0;32m     <a href='file:///c%3A/Users/ritth/software/anaconda/envs/deep/lib/site-packages/torch/utils/data/_utils/fetch.py?line=46'>47</a>\u001b[0m \u001b[39mdef\u001b[39;00m \u001b[39mfetch\u001b[39m(\u001b[39mself\u001b[39m, possibly_batched_index):\n\u001b[0;32m     <a href='file:///c%3A/Users/ritth/software/anaconda/envs/deep/lib/site-packages/torch/utils/data/_utils/fetch.py?line=47'>48</a>\u001b[0m     \u001b[39mif\u001b[39;00m \u001b[39mself\u001b[39m\u001b[39m.\u001b[39mauto_collation:\n\u001b[1;32m---> <a href='file:///c%3A/Users/ritth/software/anaconda/envs/deep/lib/site-packages/torch/utils/data/_utils/fetch.py?line=48'>49</a>\u001b[0m         data \u001b[39m=\u001b[39m [\u001b[39mself\u001b[39;49m\u001b[39m.\u001b[39;49mdataset[idx] \u001b[39mfor\u001b[39;00m idx \u001b[39min\u001b[39;00m possibly_batched_index]\n\u001b[0;32m     <a href='file:///c%3A/Users/ritth/software/anaconda/envs/deep/lib/site-packages/torch/utils/data/_utils/fetch.py?line=49'>50</a>\u001b[0m     \u001b[39melse\u001b[39;00m:\n\u001b[0;32m     <a href='file:///c%3A/Users/ritth/software/anaconda/envs/deep/lib/site-packages/torch/utils/data/_utils/fetch.py?line=50'>51</a>\u001b[0m         data \u001b[39m=\u001b[39m \u001b[39mself\u001b[39m\u001b[39m.\u001b[39mdataset[possibly_batched_index]\n",
      "File \u001b[1;32mc:\\Users\\ritth\\software\\anaconda\\envs\\deep\\lib\\site-packages\\torchvision\\datasets\\mnist.py:145\u001b[0m, in \u001b[0;36mMNIST.__getitem__\u001b[1;34m(self, index)\u001b[0m\n\u001b[0;32m    <a href='file:///c%3A/Users/ritth/software/anaconda/envs/deep/lib/site-packages/torchvision/datasets/mnist.py?line=141'>142</a>\u001b[0m img \u001b[39m=\u001b[39m Image\u001b[39m.\u001b[39mfromarray(img\u001b[39m.\u001b[39mnumpy(), mode\u001b[39m=\u001b[39m\u001b[39m\"\u001b[39m\u001b[39mL\u001b[39m\u001b[39m\"\u001b[39m)\n\u001b[0;32m    <a href='file:///c%3A/Users/ritth/software/anaconda/envs/deep/lib/site-packages/torchvision/datasets/mnist.py?line=143'>144</a>\u001b[0m \u001b[39mif\u001b[39;00m \u001b[39mself\u001b[39m\u001b[39m.\u001b[39mtransform \u001b[39mis\u001b[39;00m \u001b[39mnot\u001b[39;00m \u001b[39mNone\u001b[39;00m:\n\u001b[1;32m--> <a href='file:///c%3A/Users/ritth/software/anaconda/envs/deep/lib/site-packages/torchvision/datasets/mnist.py?line=144'>145</a>\u001b[0m     img \u001b[39m=\u001b[39m \u001b[39mself\u001b[39;49m\u001b[39m.\u001b[39;49mtransform(img)\n\u001b[0;32m    <a href='file:///c%3A/Users/ritth/software/anaconda/envs/deep/lib/site-packages/torchvision/datasets/mnist.py?line=146'>147</a>\u001b[0m \u001b[39mif\u001b[39;00m \u001b[39mself\u001b[39m\u001b[39m.\u001b[39mtarget_transform \u001b[39mis\u001b[39;00m \u001b[39mnot\u001b[39;00m \u001b[39mNone\u001b[39;00m:\n\u001b[0;32m    <a href='file:///c%3A/Users/ritth/software/anaconda/envs/deep/lib/site-packages/torchvision/datasets/mnist.py?line=147'>148</a>\u001b[0m     target \u001b[39m=\u001b[39m \u001b[39mself\u001b[39m\u001b[39m.\u001b[39mtarget_transform(target)\n",
      "File \u001b[1;32mc:\\Users\\ritth\\software\\anaconda\\envs\\deep\\lib\\site-packages\\torchvision\\transforms\\transforms.py:95\u001b[0m, in \u001b[0;36mCompose.__call__\u001b[1;34m(self, img)\u001b[0m\n\u001b[0;32m     <a href='file:///c%3A/Users/ritth/software/anaconda/envs/deep/lib/site-packages/torchvision/transforms/transforms.py?line=92'>93</a>\u001b[0m \u001b[39mdef\u001b[39;00m \u001b[39m__call__\u001b[39m(\u001b[39mself\u001b[39m, img):\n\u001b[0;32m     <a href='file:///c%3A/Users/ritth/software/anaconda/envs/deep/lib/site-packages/torchvision/transforms/transforms.py?line=93'>94</a>\u001b[0m     \u001b[39mfor\u001b[39;00m t \u001b[39min\u001b[39;00m \u001b[39mself\u001b[39m\u001b[39m.\u001b[39mtransforms:\n\u001b[1;32m---> <a href='file:///c%3A/Users/ritth/software/anaconda/envs/deep/lib/site-packages/torchvision/transforms/transforms.py?line=94'>95</a>\u001b[0m         img \u001b[39m=\u001b[39m t(img)\n\u001b[0;32m     <a href='file:///c%3A/Users/ritth/software/anaconda/envs/deep/lib/site-packages/torchvision/transforms/transforms.py?line=95'>96</a>\u001b[0m     \u001b[39mreturn\u001b[39;00m img\n",
      "File \u001b[1;32mc:\\Users\\ritth\\software\\anaconda\\envs\\deep\\lib\\site-packages\\torch\\nn\\modules\\module.py:1110\u001b[0m, in \u001b[0;36mModule._call_impl\u001b[1;34m(self, *input, **kwargs)\u001b[0m\n\u001b[0;32m   <a href='file:///c%3A/Users/ritth/software/anaconda/envs/deep/lib/site-packages/torch/nn/modules/module.py?line=1105'>1106</a>\u001b[0m \u001b[39m# If we don't have any hooks, we want to skip the rest of the logic in\u001b[39;00m\n\u001b[0;32m   <a href='file:///c%3A/Users/ritth/software/anaconda/envs/deep/lib/site-packages/torch/nn/modules/module.py?line=1106'>1107</a>\u001b[0m \u001b[39m# this function, and just call forward.\u001b[39;00m\n\u001b[0;32m   <a href='file:///c%3A/Users/ritth/software/anaconda/envs/deep/lib/site-packages/torch/nn/modules/module.py?line=1107'>1108</a>\u001b[0m \u001b[39mif\u001b[39;00m \u001b[39mnot\u001b[39;00m (\u001b[39mself\u001b[39m\u001b[39m.\u001b[39m_backward_hooks \u001b[39mor\u001b[39;00m \u001b[39mself\u001b[39m\u001b[39m.\u001b[39m_forward_hooks \u001b[39mor\u001b[39;00m \u001b[39mself\u001b[39m\u001b[39m.\u001b[39m_forward_pre_hooks \u001b[39mor\u001b[39;00m _global_backward_hooks\n\u001b[0;32m   <a href='file:///c%3A/Users/ritth/software/anaconda/envs/deep/lib/site-packages/torch/nn/modules/module.py?line=1108'>1109</a>\u001b[0m         \u001b[39mor\u001b[39;00m _global_forward_hooks \u001b[39mor\u001b[39;00m _global_forward_pre_hooks):\n\u001b[1;32m-> <a href='file:///c%3A/Users/ritth/software/anaconda/envs/deep/lib/site-packages/torch/nn/modules/module.py?line=1109'>1110</a>\u001b[0m     \u001b[39mreturn\u001b[39;00m forward_call(\u001b[39m*\u001b[39m\u001b[39minput\u001b[39m, \u001b[39m*\u001b[39m\u001b[39m*\u001b[39mkwargs)\n\u001b[0;32m   <a href='file:///c%3A/Users/ritth/software/anaconda/envs/deep/lib/site-packages/torch/nn/modules/module.py?line=1110'>1111</a>\u001b[0m \u001b[39m# Do not call functions when jit is used\u001b[39;00m\n\u001b[0;32m   <a href='file:///c%3A/Users/ritth/software/anaconda/envs/deep/lib/site-packages/torch/nn/modules/module.py?line=1111'>1112</a>\u001b[0m full_backward_hooks, non_full_backward_hooks \u001b[39m=\u001b[39m [], []\n",
      "File \u001b[1;32mc:\\Users\\ritth\\software\\anaconda\\envs\\deep\\lib\\site-packages\\torchvision\\transforms\\transforms.py:270\u001b[0m, in \u001b[0;36mNormalize.forward\u001b[1;34m(self, tensor)\u001b[0m\n\u001b[0;32m    <a href='file:///c%3A/Users/ritth/software/anaconda/envs/deep/lib/site-packages/torchvision/transforms/transforms.py?line=261'>262</a>\u001b[0m \u001b[39mdef\u001b[39;00m \u001b[39mforward\u001b[39m(\u001b[39mself\u001b[39m, tensor: Tensor) \u001b[39m-\u001b[39m\u001b[39m>\u001b[39m Tensor:\n\u001b[0;32m    <a href='file:///c%3A/Users/ritth/software/anaconda/envs/deep/lib/site-packages/torchvision/transforms/transforms.py?line=262'>263</a>\u001b[0m     \u001b[39m\"\"\"\u001b[39;00m\n\u001b[0;32m    <a href='file:///c%3A/Users/ritth/software/anaconda/envs/deep/lib/site-packages/torchvision/transforms/transforms.py?line=263'>264</a>\u001b[0m \u001b[39m    Args:\u001b[39;00m\n\u001b[0;32m    <a href='file:///c%3A/Users/ritth/software/anaconda/envs/deep/lib/site-packages/torchvision/transforms/transforms.py?line=264'>265</a>\u001b[0m \u001b[39m        tensor (Tensor): Tensor image to be normalized.\u001b[39;00m\n\u001b[1;32m   (...)\u001b[0m\n\u001b[0;32m    <a href='file:///c%3A/Users/ritth/software/anaconda/envs/deep/lib/site-packages/torchvision/transforms/transforms.py?line=267'>268</a>\u001b[0m \u001b[39m        Tensor: Normalized Tensor image.\u001b[39;00m\n\u001b[0;32m    <a href='file:///c%3A/Users/ritth/software/anaconda/envs/deep/lib/site-packages/torchvision/transforms/transforms.py?line=268'>269</a>\u001b[0m \u001b[39m    \"\"\"\u001b[39;00m\n\u001b[1;32m--> <a href='file:///c%3A/Users/ritth/software/anaconda/envs/deep/lib/site-packages/torchvision/transforms/transforms.py?line=269'>270</a>\u001b[0m     \u001b[39mreturn\u001b[39;00m F\u001b[39m.\u001b[39;49mnormalize(tensor, \u001b[39mself\u001b[39;49m\u001b[39m.\u001b[39;49mmean, \u001b[39mself\u001b[39;49m\u001b[39m.\u001b[39;49mstd, \u001b[39mself\u001b[39;49m\u001b[39m.\u001b[39;49minplace)\n",
      "File \u001b[1;32mc:\\Users\\ritth\\software\\anaconda\\envs\\deep\\lib\\site-packages\\torchvision\\transforms\\functional.py:363\u001b[0m, in \u001b[0;36mnormalize\u001b[1;34m(tensor, mean, std, inplace)\u001b[0m\n\u001b[0;32m    <a href='file:///c%3A/Users/ritth/software/anaconda/envs/deep/lib/site-packages/torchvision/transforms/functional.py?line=360'>361</a>\u001b[0m \u001b[39mif\u001b[39;00m std\u001b[39m.\u001b[39mndim \u001b[39m==\u001b[39m \u001b[39m1\u001b[39m:\n\u001b[0;32m    <a href='file:///c%3A/Users/ritth/software/anaconda/envs/deep/lib/site-packages/torchvision/transforms/functional.py?line=361'>362</a>\u001b[0m     std \u001b[39m=\u001b[39m std\u001b[39m.\u001b[39mview(\u001b[39m-\u001b[39m\u001b[39m1\u001b[39m, \u001b[39m1\u001b[39m, \u001b[39m1\u001b[39m)\n\u001b[1;32m--> <a href='file:///c%3A/Users/ritth/software/anaconda/envs/deep/lib/site-packages/torchvision/transforms/functional.py?line=362'>363</a>\u001b[0m tensor\u001b[39m.\u001b[39;49msub_(mean)\u001b[39m.\u001b[39;49mdiv_(std)\n\u001b[0;32m    <a href='file:///c%3A/Users/ritth/software/anaconda/envs/deep/lib/site-packages/torchvision/transforms/functional.py?line=363'>364</a>\u001b[0m \u001b[39mreturn\u001b[39;00m tensor\n",
      "\u001b[1;31mKeyboardInterrupt\u001b[0m: "
     ]
    }
   ],
   "source": [
    "num_epochs = 10\n",
    "print_every = 20\n",
    "\n",
    "for epoch in range(num_epochs):\n",
    "    running_loss = 0\n",
    "    print(f\"Epoch: {epoch+1}/{num_epochs}\")\n",
    "\n",
    "    for i, (images, labels) in enumerate(iter(trainloader)):       \n",
    "\n",
    "        # Flatten MNIST images into a 784 long vector\n",
    "        images.resize_(images.size()[0], 784)\n",
    "        \n",
    "        optimizer.zero_grad()\n",
    "        \n",
    "        output = model.forward(images)   \n",
    "        loss = criterion(output, labels) \n",
    "        loss.backward()                  \n",
    "        optimizer.step()                 \n",
    "        \n",
    "        running_loss += loss.item()\n",
    "        \n",
    "        if i % print_every == 0:\n",
    "            print(f\"\\tIteration: {i}\\t Loss: {running_loss/print_every:.4f}\")\n",
    "            running_loss = 0"
   ]
  },
  {
   "cell_type": "code",
   "execution_count": 29,
   "metadata": {},
   "outputs": [
    {
     "data": {
      "image/png": "[encoded data removed]",
      "text/plain": [
       "<Figure size 432x648 with 2 Axes>"
      ]
     },
     "metadata": {
      "image/png": {
       "height": 195,
       "width": 349
      },
      "needs_background": "light"
     },
     "output_type": "display_data"
    }
   ],
   "source": [
    "# Run this cell with your model to make sure it works and predicts well for the validation data\n",
    "images, labels = next(iter(testloader))\n",
    "images.resize_(images.shape[0], 1, 784)\n",
    "ps = model.forward(images[0,:])\n",
    "view_classify(images[0].view(1, 28, 28), ps)"
   ]
  },
  {
   "cell_type": "markdown",
   "metadata": {},
   "source": [
    "<div style=\"background:#222222; color:#ffffff; padding:20px\">\n",
    "  <h3 style=\"color:#01ff84; margin-top:4px\">Exercise 3:</h3>\n",
    "  <p>Write the code for adding <strong style=\"color:#01ff84\">Early Stopping with patience = 2</strong> to the training loop from scratch.</p>\n",
    "  <p><strong style=\"color:#01ff84\">Hint:</strong> Monitor the Validation loss every epoch, and if in 2 epochs, the validation loss does not improve, stop the training loop with <code>break</code>.</p>\n",
    "<div>"
   ]
  },
  {
   "cell_type": "code",
   "execution_count": null,
   "metadata": {},
   "outputs": [],
   "source": [
    "## TODO: Your training loop here"
   ]
  }
 ],
 "metadata": {
  "interpreter": {
   "hash": "a6a404c1b23560d548308d831c1aa8041fb180aef1b35cf4a28ead3655e6085d"
  },
  "kernelspec": {
   "display_name": "Python 3.10.4 ('deep')",
   "language": "python",
   "name": "python3"
  },
  "language_info": {
   "codemirror_mode": {
    "name": "ipython",
    "version": 3
   },
   "file_extension": ".py",
   "mimetype": "text/x-python",
   "name": "python",
   "nbconvert_exporter": "python",
   "pygments_lexer": "ipython3",
   "version": "3.10.4"
  }
 },
 "nbformat": 4,
 "nbformat_minor": 2
}
