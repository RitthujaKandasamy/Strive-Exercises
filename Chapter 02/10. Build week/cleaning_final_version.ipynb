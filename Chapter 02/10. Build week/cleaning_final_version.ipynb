{
 "cells": [
  {
   "cell_type": "code",
   "execution_count": 1,
   "metadata": {},
   "outputs": [
    {
     "name": "stderr",
     "output_type": "stream",
     "text": [
      "c:\\Users\\andre\\anaconda3\\envs\\ML\\lib\\site-packages\\xgboost\\compat.py:36: FutureWarning: pandas.Int64Index is deprecated and will be removed from pandas in a future version. Use pandas.Index with the appropriate dtype instead.\n",
      "  from pandas import MultiIndex, Int64Index\n"
     ]
    }
   ],
   "source": [
    "# miscellaneous\n",
    "from tqdm import tqdm\n",
    "import time\n",
    "import joblib\n",
    "# Analysis\n",
    "import matplotlib.pyplot as plt\n",
    "import pandas as pd\n",
    "import numpy as np\n",
    "import seaborn as sns\n",
    "\n",
    "\n",
    "# preprocessing\n",
    "from sklearn.pipeline import Pipeline\n",
    "from sklearn.impute import KNNImputer, SimpleImputer\n",
    "from sklearn.preprocessing import StandardScaler, LabelBinarizer, PolynomialFeatures, QuantileTransformer\n",
    "\n",
    "# metrics\n",
    "from sklearn.metrics import accuracy_score, ConfusionMatrixDisplay, balanced_accuracy_score, f1_score, precision_score, recall_score, classification_report\n",
    "\n",
    "\n",
    "# Classifiers\n",
    "from sklearn.ensemble import RandomForestClassifier, GradientBoostingClassifier, ExtraTreesClassifier\n",
    "from sklearn.svm import SVC\n",
    "from sklearn.neural_network import MLPClassifier\n",
    "from sklearn.linear_model import SGDClassifier\n",
    "from sklearn.tree import DecisionTreeClassifier\n",
    "from xgboost import XGBClassifier\n",
    "from sklearn.linear_model import LogisticRegression\n"
   ]
  },
  {
   "cell_type": "code",
   "execution_count": 2,
   "metadata": {},
   "outputs": [],
   "source": [
    "# Select columns\n",
    "def select_columns(dataset, columns_to_keep):\n",
    "    \"\"\"Filters columns of `dataset` to keep only those specified by the `columns_to_keep` paramater\n",
    "\n",
    "    Args:\n",
    "        dataset (Pandas DataFrame): Dataset to filter\n",
    "        columns_to_keep ( regex expression, str): columns names to keep\n",
    "\n",
    "    Returns:\n",
    "        Pandas Dataframe: Dataset with selected column(s)\n",
    "    \"\"\"\n",
    "    column_filter = dataset.columns.str.replace(\n",
    "        'android.sensor.|mean|std|min|max|#', '', regex=True).str.fullmatch(columns_to_keep)\n",
    "\n",
    "    return dataset.loc[:, column_filter]\n",
    "\n",
    "\n",
    "# drop column(s) based on missing value percentage\n",
    "def drop_col_percent_na(dataset, threshold):\n",
    "    \"\"\"Drop columns missing value greater than `threshold`\n",
    "\n",
    "    Args:\n",
    "        dataset (Pandas Dataframe): Dataframe from which to drop columns\n",
    "        threshold (float/int): Percentage of NaN beyong which a column should be dropped (from 1 to 100)\n",
    "\n",
    "    Returns:\n",
    "        Pandas Dataframe: Dataset with dropped column(s)\n",
    "    \"\"\"\n",
    "    to_drop = (dataset.isnull().sum()/dataset.shape[0]*100) > threshold\n",
    "\n",
    "    return dataset.loc[:, ~to_drop]\n",
    "\n",
    "\n",
    "# Split train test sets\n",
    "def split_train_test(data, upper_boundary=1, lower_boundary=3, nb_users_test=3):\n",
    "    \"\"\"Split `data` into train and test sets based on users. Users with highest number of\n",
    "    records as well as very few numbers of records are excluded from being choosen for the test set.\n",
    "\n",
    "    Args:\n",
    "        data (Pandas DataFrame): Dataset to split\n",
    "        upper_boundary (int, optional): Controls k-number of users with high number of records to exclude. Defaults to 1.\n",
    "        lower_boundary (int, optional): Controls k-number of users with low number of records to exclude. Defaults to 3.\n",
    "        nb_users_test (int, optional): Number of users to include in the test set. Defaults to 3.\n",
    "\n",
    "    Returns:\n",
    "        Tuple(Pandas DataFrame, Pandas DataFrame): Both train and test sets\n",
    "    \"\"\"\n",
    "    np.random.seed(0)\n",
    "\n",
    "    # number of records per user (sorted from highest to lowest)\n",
    "    user_dist = data.user.value_counts()\n",
    "\n",
    "    # array of users from which to choose the ones going into test set\n",
    "    to_choose_from = user_dist[upper_boundary: len(\n",
    "        user_dist) - lower_boundary].index\n",
    "\n",
    "    # users in test set\n",
    "    test_users = np.random.choice(to_choose_from, nb_users_test, replace=False)\n",
    "\n",
    "    # splitting into train and test sets\n",
    "    train = pd.DataFrame()\n",
    "    test = pd.DataFrame()\n",
    "    for _, row in data.iterrows():\n",
    "        if row[\"user\"] in test_users:\n",
    "            test = pd.concat([test, row], axis=1)\n",
    "\n",
    "        else:\n",
    "            train = pd.concat([train, row], axis=1)\n",
    "\n",
    "    return train.T, test.T\n",
    "\n",
    "\n",
    "def split_train_test2(df, test_users):\n",
    "    train = pd.DataFrame()\n",
    "    test = pd.DataFrame()\n",
    "    for _, row in df.iterrows():\n",
    "        if row[\"user\"] in test_users:\n",
    "            test = pd.concat([test, row], axis=1)\n",
    "\n",
    "        else:\n",
    "            train = pd.concat([train, row], axis=1)\n",
    "\n",
    "    return train.T, test.T\n",
    "    \n",
    "\n",
    "# Preprocessing + model pipeline\n",
    "def pipelines(models):\n",
    "    \"\"\"Create pipelines made up preprocessors(Imputer, StandardScaler) and models\n",
    "\n",
    "    Args:\n",
    "        models (dict): A dictionary of model's name as key and sklearn corresponding algorithm as value\n",
    "\n",
    "    Returns:\n",
    "        dict: A dictionary of model's name as key and pipeline (preprocessing + model) as value\n",
    "    \"\"\"\n",
    "\n",
    "    # Preprocessors\n",
    "    # imputer = IterativeImputer(random_state=0, max_iter=30)\n",
    "    imputer = KNNImputer()\n",
    "    # imputer = SimpleImputer(strategy='median')\n",
    "    scaler = StandardScaler()\n",
    "    qtransf = QuantileTransformer(output_distribution='normal')\n",
    "\n",
    "    # Pipelines of preprocessor(s) and models\n",
    "    pipes = {name: Pipeline([\n",
    "        ('imputer', imputer),\n",
    "        ('scaler', scaler),\n",
    "        ('qtransf', qtransf), \n",
    "        ('model', model)\n",
    "    ]) for name, model in models.items()}\n",
    "\n",
    "    return pipes\n",
    "\n",
    "\n",
    "# Model performance\n",
    "def perfomance(pipes, X_train, y_train, X_test, y_test):\n",
    "    \"\"\"Compute mean and std of cross validation scores, accuracy on test set\n",
    "       as well as training and predicting time\n",
    "\n",
    "    Args: pipes(dict); as defined in `pipelines` function.\n",
    "          X_train, y_train; training sets\n",
    "          X_test, y_test; test sets\n",
    "\n",
    "    Returns:\n",
    "        Pandas Dataframe: Dataframe of computed performance metrics sorted by accuracy on test set\n",
    "    \"\"\"\n",
    "    results = pd.DataFrame()\n",
    "\n",
    "    for i in tqdm(range(len(pipes))):\n",
    "\n",
    "        name = list(pipes.keys())[i]\n",
    "        model = list(pipes.values())[i]\n",
    "\n",
    "        # training time\n",
    "        t0 = time.time()\n",
    "        model.fit(X_train, y_train)\n",
    "        train_time = time.time() - t0\n",
    "\n",
    "        # predicting time\n",
    "        t0 = time.time()\n",
    "        preds = model.predict(X_test)\n",
    "        pred_time = time.time() - t0\n",
    "\n",
    "        # cross validation\n",
    "        # scores = cross_val_score(model, X_train, y_train)\n",
    "\n",
    "        # append to results\n",
    "        results = pd.concat([results, pd.DataFrame({'name': [name],\n",
    "                                                    # 'mean_score': [scores.mean()],\n",
    "                                                    # 'std_score':[scores.std()],\n",
    "                                                    # 'test_accuracy': [accuracy_score(y_test, preds)],\n",
    "                                                    'balanced_accuracy':[balanced_accuracy_score(y_test, preds)],\n",
    "                                                    'f1_score': [f1_score(y_test, preds)], \n",
    "                                                    'precision': [precision_score(y_test, preds)], \n",
    "                                                    'recall': [recall_score(y_test, preds)],\n",
    "                                                    'training_time': [train_time],  \n",
    "                                                    'predicting_time': [pred_time]})\n",
    "                             ])\n",
    "\n",
    "    return results.sort_values(by='balanced_accuracy', ascending=False)\n"
   ]
  },
  {
   "cell_type": "markdown",
   "metadata": {},
   "source": [
    "# Load Data"
   ]
  },
  {
   "cell_type": "code",
   "execution_count": 3,
   "metadata": {},
   "outputs": [],
   "source": [
    "# Load data\n",
    "data = pd.read_csv('data/dataset_5secondWindow.csv')\n",
    "\n",
    "df = data.copy()\n"
   ]
  },
  {
   "cell_type": "markdown",
   "metadata": {},
   "source": [
    "# Explore"
   ]
  },
  {
   "cell_type": "markdown",
   "metadata": {},
   "source": [
    "### Overiew"
   ]
  },
  {
   "cell_type": "code",
   "execution_count": 4,
   "metadata": {},
   "outputs": [
    {
     "data": {
      "text/html": [
       "<div>\n",
       "<style scoped>\n",
       "    .dataframe tbody tr th:only-of-type {\n",
       "        vertical-align: middle;\n",
       "    }\n",
       "\n",
       "    .dataframe tbody tr th {\n",
       "        vertical-align: top;\n",
       "    }\n",
       "\n",
       "    .dataframe thead th {\n",
       "        text-align: right;\n",
       "    }\n",
       "</style>\n",
       "<table border=\"1\" class=\"dataframe\">\n",
       "  <thead>\n",
       "    <tr style=\"text-align: right;\">\n",
       "      <th></th>\n",
       "      <th>Unnamed: 0</th>\n",
       "      <th>id</th>\n",
       "      <th>time</th>\n",
       "      <th>activityrecognition#0</th>\n",
       "      <th>activityrecognition#1</th>\n",
       "      <th>android.sensor.accelerometer#mean</th>\n",
       "      <th>android.sensor.accelerometer#min</th>\n",
       "      <th>android.sensor.accelerometer#max</th>\n",
       "      <th>android.sensor.accelerometer#std</th>\n",
       "      <th>android.sensor.game_rotation_vector#mean</th>\n",
       "      <th>...</th>\n",
       "      <th>sound#mean</th>\n",
       "      <th>sound#min</th>\n",
       "      <th>sound#max</th>\n",
       "      <th>sound#std</th>\n",
       "      <th>speed#mean</th>\n",
       "      <th>speed#min</th>\n",
       "      <th>speed#max</th>\n",
       "      <th>speed#std</th>\n",
       "      <th>target</th>\n",
       "      <th>user</th>\n",
       "    </tr>\n",
       "  </thead>\n",
       "  <tbody>\n",
       "    <tr>\n",
       "      <th>0</th>\n",
       "      <td>0</td>\n",
       "      <td>16170</td>\n",
       "      <td>78.0</td>\n",
       "      <td>NaN</td>\n",
       "      <td>100.0</td>\n",
       "      <td>9.811476</td>\n",
       "      <td>9.758895</td>\n",
       "      <td>9.849411</td>\n",
       "      <td>0.014626</td>\n",
       "      <td>0.029340</td>\n",
       "      <td>...</td>\n",
       "      <td>NaN</td>\n",
       "      <td>NaN</td>\n",
       "      <td>NaN</td>\n",
       "      <td>NaN</td>\n",
       "      <td>0.000000</td>\n",
       "      <td>0.000000</td>\n",
       "      <td>0.000000</td>\n",
       "      <td>0.000000</td>\n",
       "      <td>Still</td>\n",
       "      <td>U12</td>\n",
       "    </tr>\n",
       "    <tr>\n",
       "      <th>1</th>\n",
       "      <td>1</td>\n",
       "      <td>15871</td>\n",
       "      <td>145.0</td>\n",
       "      <td>NaN</td>\n",
       "      <td>100.0</td>\n",
       "      <td>9.939207</td>\n",
       "      <td>7.707437</td>\n",
       "      <td>17.146631</td>\n",
       "      <td>1.775944</td>\n",
       "      <td>0.999925</td>\n",
       "      <td>...</td>\n",
       "      <td>89.200210</td>\n",
       "      <td>89.065143</td>\n",
       "      <td>89.335277</td>\n",
       "      <td>0.191013</td>\n",
       "      <td>16.539349</td>\n",
       "      <td>16.539349</td>\n",
       "      <td>16.539349</td>\n",
       "      <td>0.628595</td>\n",
       "      <td>Car</td>\n",
       "      <td>U12</td>\n",
       "    </tr>\n",
       "    <tr>\n",
       "      <th>2</th>\n",
       "      <td>2</td>\n",
       "      <td>16811</td>\n",
       "      <td>150.0</td>\n",
       "      <td>NaN</td>\n",
       "      <td>100.0</td>\n",
       "      <td>9.827178</td>\n",
       "      <td>9.804817</td>\n",
       "      <td>9.849262</td>\n",
       "      <td>0.011199</td>\n",
       "      <td>0.665215</td>\n",
       "      <td>...</td>\n",
       "      <td>NaN</td>\n",
       "      <td>NaN</td>\n",
       "      <td>NaN</td>\n",
       "      <td>NaN</td>\n",
       "      <td>0.000000</td>\n",
       "      <td>0.000000</td>\n",
       "      <td>0.000000</td>\n",
       "      <td>0.000000</td>\n",
       "      <td>Still</td>\n",
       "      <td>U12</td>\n",
       "    </tr>\n",
       "    <tr>\n",
       "      <th>3</th>\n",
       "      <td>3</td>\n",
       "      <td>15831</td>\n",
       "      <td>105.0</td>\n",
       "      <td>NaN</td>\n",
       "      <td>77.0</td>\n",
       "      <td>9.673039</td>\n",
       "      <td>7.659674</td>\n",
       "      <td>12.304298</td>\n",
       "      <td>0.862553</td>\n",
       "      <td>0.996221</td>\n",
       "      <td>...</td>\n",
       "      <td>87.470377</td>\n",
       "      <td>87.470377</td>\n",
       "      <td>87.470377</td>\n",
       "      <td>2.284186</td>\n",
       "      <td>17.739895</td>\n",
       "      <td>17.739895</td>\n",
       "      <td>17.739895</td>\n",
       "      <td>0.628595</td>\n",
       "      <td>Car</td>\n",
       "      <td>U12</td>\n",
       "    </tr>\n",
       "    <tr>\n",
       "      <th>4</th>\n",
       "      <td>4</td>\n",
       "      <td>876</td>\n",
       "      <td>77.0</td>\n",
       "      <td>NaN</td>\n",
       "      <td>100.0</td>\n",
       "      <td>9.993466</td>\n",
       "      <td>8.965621</td>\n",
       "      <td>10.891645</td>\n",
       "      <td>0.504117</td>\n",
       "      <td>0.563792</td>\n",
       "      <td>...</td>\n",
       "      <td>89.770732</td>\n",
       "      <td>89.770732</td>\n",
       "      <td>89.770732</td>\n",
       "      <td>0.006389</td>\n",
       "      <td>9.000000</td>\n",
       "      <td>9.000000</td>\n",
       "      <td>9.000000</td>\n",
       "      <td>NaN</td>\n",
       "      <td>Car</td>\n",
       "      <td>U1</td>\n",
       "    </tr>\n",
       "  </tbody>\n",
       "</table>\n",
       "<p>5 rows × 71 columns</p>\n",
       "</div>"
      ],
      "text/plain": [
       "   Unnamed: 0     id   time  activityrecognition#0  activityrecognition#1  \\\n",
       "0           0  16170   78.0                    NaN                  100.0   \n",
       "1           1  15871  145.0                    NaN                  100.0   \n",
       "2           2  16811  150.0                    NaN                  100.0   \n",
       "3           3  15831  105.0                    NaN                   77.0   \n",
       "4           4    876   77.0                    NaN                  100.0   \n",
       "\n",
       "   android.sensor.accelerometer#mean  android.sensor.accelerometer#min  \\\n",
       "0                           9.811476                          9.758895   \n",
       "1                           9.939207                          7.707437   \n",
       "2                           9.827178                          9.804817   \n",
       "3                           9.673039                          7.659674   \n",
       "4                           9.993466                          8.965621   \n",
       "\n",
       "   android.sensor.accelerometer#max  android.sensor.accelerometer#std  \\\n",
       "0                          9.849411                          0.014626   \n",
       "1                         17.146631                          1.775944   \n",
       "2                          9.849262                          0.011199   \n",
       "3                         12.304298                          0.862553   \n",
       "4                         10.891645                          0.504117   \n",
       "\n",
       "   android.sensor.game_rotation_vector#mean  ...  sound#mean  sound#min  \\\n",
       "0                                  0.029340  ...         NaN        NaN   \n",
       "1                                  0.999925  ...   89.200210  89.065143   \n",
       "2                                  0.665215  ...         NaN        NaN   \n",
       "3                                  0.996221  ...   87.470377  87.470377   \n",
       "4                                  0.563792  ...   89.770732  89.770732   \n",
       "\n",
       "   sound#max  sound#std  speed#mean  speed#min  speed#max  speed#std  target  \\\n",
       "0        NaN        NaN    0.000000   0.000000   0.000000   0.000000   Still   \n",
       "1  89.335277   0.191013   16.539349  16.539349  16.539349   0.628595     Car   \n",
       "2        NaN        NaN    0.000000   0.000000   0.000000   0.000000   Still   \n",
       "3  87.470377   2.284186   17.739895  17.739895  17.739895   0.628595     Car   \n",
       "4  89.770732   0.006389    9.000000   9.000000   9.000000        NaN     Car   \n",
       "\n",
       "   user  \n",
       "0   U12  \n",
       "1   U12  \n",
       "2   U12  \n",
       "3   U12  \n",
       "4    U1  \n",
       "\n",
       "[5 rows x 71 columns]"
      ]
     },
     "execution_count": 4,
     "metadata": {},
     "output_type": "execute_result"
    }
   ],
   "source": [
    "# overview\n",
    "data.head()"
   ]
  },
  {
   "cell_type": "code",
   "execution_count": 5,
   "metadata": {},
   "outputs": [
    {
     "data": {
      "text/plain": [
       "(5893, 71)"
      ]
     },
     "execution_count": 5,
     "metadata": {},
     "output_type": "execute_result"
    }
   ],
   "source": [
    "# numbers of columns/rows\n",
    "data.shape"
   ]
  },
  {
   "cell_type": "markdown",
   "metadata": {},
   "source": [
    "### Users"
   ]
  },
  {
   "cell_type": "code",
   "execution_count": 6,
   "metadata": {},
   "outputs": [
    {
     "data": {
      "text/plain": [
       "U1     0.419141\n",
       "U12    0.139148\n",
       "U10    0.090107\n",
       "U7     0.067368\n",
       "U3     0.056168\n",
       "U6     0.047344\n",
       "U2     0.045987\n",
       "U4     0.038520\n",
       "U8     0.036314\n",
       "U11    0.028339\n",
       "U13    0.015272\n",
       "U9     0.013406\n",
       "U5     0.002885\n",
       "Name: user, dtype: float64"
      ]
     },
     "execution_count": 6,
     "metadata": {},
     "output_type": "execute_result"
    }
   ],
   "source": [
    "# How many records per user\n",
    "data.user.value_counts(normalize=True)"
   ]
  },
  {
   "cell_type": "code",
   "execution_count": 36,
   "metadata": {},
   "outputs": [
    {
     "data": {
      "image/png": "[encoded data removed]",
      "text/plain": [
       "<Figure size 1008x720 with 1 Axes>"
      ]
     },
     "metadata": {
      "needs_background": "light"
     },
     "output_type": "display_data"
    }
   ],
   "source": [
    "plt.figure(figsize=(14, 10))\n",
    "sns.countplot(x = data.user, hue= data.target)\n",
    "plt.legend(loc='upper right')\n",
    "plt.savefig(\"compare_user_target.jpg\", dpi=150)\n",
    "\n"
   ]
  },
  {
   "cell_type": "markdown",
   "metadata": {},
   "source": [
    "### Missing values"
   ]
  },
  {
   "cell_type": "code",
   "execution_count": 33,
   "metadata": {},
   "outputs": [
    {
     "data": {
      "image/png": "[encoded data removed]",
      "text/plain": [
       "<Figure size 1152x720 with 2 Axes>"
      ]
     },
     "metadata": {
      "needs_background": "light"
     },
     "output_type": "display_data"
    }
   ],
   "source": [
    "plt.figure(figsize=(16, 10))\n",
    "g = sns.heatmap(data.isnull(), cmap='BuGn_r')\n",
    "g.set_xticklabels(g.get_xticklabels(), rotation=45, horizontalalignment='right')\n",
    "plt.savefig(\"missing_values.jpg\", dpi=100)"
   ]
  },
  {
   "cell_type": "markdown",
   "metadata": {},
   "source": [
    "#### Distribution of features"
   ]
  },
  {
   "cell_type": "markdown",
   "metadata": {},
   "source": [
    "# Preprocessing"
   ]
  },
  {
   "cell_type": "code",
   "execution_count": 9,
   "metadata": {},
   "outputs": [],
   "source": [
    "# Select columns to use\n",
    "keep_columns = 'accelerometer|sound|orientation|linear_acceleration|speed|gyroscope|rotation_vector|game_rotation_vector|gyroscope_uncalibrated|target|user'\n",
    "df = select_columns(df, keep_columns)\n"
   ]
  },
  {
   "cell_type": "code",
   "execution_count": 10,
   "metadata": {},
   "outputs": [],
   "source": [
    "# Drop columns with high percentage of missing values\n",
    "df = drop_col_percent_na(df, 50)"
   ]
  },
  {
   "cell_type": "markdown",
   "metadata": {},
   "source": [
    "# Train Test split"
   ]
  },
  {
   "cell_type": "code",
   "execution_count": 11,
   "metadata": {},
   "outputs": [],
   "source": [
    "# Train split\n",
    "train, test = split_train_test2(df, ['U12', 'U6'])"
   ]
  },
  {
   "cell_type": "code",
   "execution_count": 13,
   "metadata": {},
   "outputs": [
    {
     "data": {
      "text/plain": [
       "array(['U12', 'U6'], dtype=object)"
      ]
     },
     "execution_count": 13,
     "metadata": {},
     "output_type": "execute_result"
    }
   ],
   "source": [
    "test.user.unique()"
   ]
  },
  {
   "cell_type": "code",
   "execution_count": 14,
   "metadata": {},
   "outputs": [
    {
     "data": {
      "text/plain": [
       "array(['U1', 'U8', 'U7', 'U10', 'U13', 'U11', 'U3', 'U2', 'U4', 'U9',\n",
       "       'U5'], dtype=object)"
      ]
     },
     "execution_count": 14,
     "metadata": {},
     "output_type": "execute_result"
    }
   ],
   "source": [
    "train.user.unique()"
   ]
  },
  {
   "cell_type": "code",
   "execution_count": 15,
   "metadata": {},
   "outputs": [
    {
     "data": {
      "text/plain": [
       "Walking    0.219858\n",
       "Car        0.207343\n",
       "Train      0.200459\n",
       "Bus        0.193784\n",
       "Still      0.178557\n",
       "Name: target, dtype: float64"
      ]
     },
     "execution_count": 15,
     "metadata": {},
     "output_type": "execute_result"
    }
   ],
   "source": [
    "train.target.value_counts(normalize=True)"
   ]
  },
  {
   "cell_type": "code",
   "execution_count": 16,
   "metadata": {},
   "outputs": [
    {
     "data": {
      "text/plain": [
       "Still      0.293904\n",
       "Bus        0.226570\n",
       "Train      0.198362\n",
       "Car        0.169245\n",
       "Walking    0.111920\n",
       "Name: target, dtype: float64"
      ]
     },
     "execution_count": 16,
     "metadata": {},
     "output_type": "execute_result"
    }
   ],
   "source": [
    "test.target.value_counts(normalize=True)"
   ]
  },
  {
   "cell_type": "code",
   "execution_count": 17,
   "metadata": {},
   "outputs": [],
   "source": [
    "# Features target separation\n",
    "X_train, y_train = train.drop(columns=['target', 'user']), train['target']\n",
    "\n",
    "X_test, y_test = test.drop(columns=['target', 'user']), test['target']"
   ]
  },
  {
   "cell_type": "code",
   "execution_count": 18,
   "metadata": {},
   "outputs": [],
   "source": [
    "# Binarize target\n",
    "\n",
    "y_train = train['target'].apply(lambda x: 'walking' if x == 'Walking' else 'not walking')\n",
    "y_test = test['target'].apply(lambda x: 'walking' if x == 'Walking' else 'not walking')"
   ]
  },
  {
   "cell_type": "code",
   "execution_count": 19,
   "metadata": {},
   "outputs": [
    {
     "name": "stdout",
     "output_type": "stream",
     "text": [
      "train_size: 4794\n",
      "not walking    0.780142\n",
      "walking        0.219858\n",
      "Name: target, dtype: float64\n",
      "\n",
      "\n",
      "test_size: 1099\n",
      "not walking    0.88808\n",
      "walking        0.11192\n",
      "Name: target, dtype: float64\n"
     ]
    }
   ],
   "source": [
    "print(f'train_size: {len(y_train)}\\n{y_train.value_counts(normalize=True)}\\n\\n')\n",
    "print(f'test_size: {len(y_test)}\\n{y_test.value_counts(normalize=True)}')\n"
   ]
  },
  {
   "cell_type": "markdown",
   "metadata": {},
   "source": [
    "# Training"
   ]
  },
  {
   "cell_type": "code",
   "execution_count": 20,
   "metadata": {},
   "outputs": [
    {
     "name": "stderr",
     "output_type": "stream",
     "text": [
      "  0%|          | 0/7 [00:18<?, ?it/s]\n"
     ]
    },
    {
     "ename": "ValueError",
     "evalue": "pos_label=1 is not a valid label. It should be one of ['not walking', 'walking']",
     "output_type": "error",
     "traceback": [
      "\u001b[1;31m---------------------------------------------------------------------------\u001b[0m",
      "\u001b[1;31mValueError\u001b[0m                                Traceback (most recent call last)",
      "\u001b[1;32mc:\\Users\\andre\\Documents\\Strive_repository\\Google-Fit\\cleaning_final_version.ipynb Cell 28'\u001b[0m in \u001b[0;36m<cell line: 19>\u001b[1;34m()\u001b[0m\n\u001b[0;32m     <a href='vscode-notebook-cell:/c%3A/Users/andre/Documents/Strive_repository/Google-Fit/cleaning_final_version.ipynb#ch0000027?line=13'>14</a>\u001b[0m pipes \u001b[39m=\u001b[39m pipelines(models)\n\u001b[0;32m     <a href='vscode-notebook-cell:/c%3A/Users/andre/Documents/Strive_repository/Google-Fit/cleaning_final_version.ipynb#ch0000027?line=16'>17</a>\u001b[0m \u001b[39m# Performance\u001b[39;00m\n\u001b[1;32m---> <a href='vscode-notebook-cell:/c%3A/Users/andre/Documents/Strive_repository/Google-Fit/cleaning_final_version.ipynb#ch0000027?line=18'>19</a>\u001b[0m results \u001b[39m=\u001b[39m perfomance(pipes, X_train, y_train, X_test, y_test)\n\u001b[0;32m     <a href='vscode-notebook-cell:/c%3A/Users/andre/Documents/Strive_repository/Google-Fit/cleaning_final_version.ipynb#ch0000027?line=19'>20</a>\u001b[0m \u001b[39mprint\u001b[39m(\u001b[39m'\u001b[39m\u001b[39mPerformance: \u001b[39m\u001b[39m\\n\u001b[39;00m\u001b[39m'\u001b[39m, results)\n",
      "\u001b[1;32mc:\\Users\\andre\\Documents\\Strive_repository\\Google-Fit\\cleaning_final_version.ipynb Cell 2'\u001b[0m in \u001b[0;36mperfomance\u001b[1;34m(pipes, X_train, y_train, X_test, y_test)\u001b[0m\n\u001b[0;32m    <a href='vscode-notebook-cell:/c%3A/Users/andre/Documents/Strive_repository/Google-Fit/cleaning_final_version.ipynb#ch0000001?line=141'>142</a>\u001b[0m     pred_time \u001b[39m=\u001b[39m time\u001b[39m.\u001b[39mtime() \u001b[39m-\u001b[39m t0\n\u001b[0;32m    <a href='vscode-notebook-cell:/c%3A/Users/andre/Documents/Strive_repository/Google-Fit/cleaning_final_version.ipynb#ch0000001?line=143'>144</a>\u001b[0m     \u001b[39m# cross validation\u001b[39;00m\n\u001b[0;32m    <a href='vscode-notebook-cell:/c%3A/Users/andre/Documents/Strive_repository/Google-Fit/cleaning_final_version.ipynb#ch0000001?line=144'>145</a>\u001b[0m     \u001b[39m# scores = cross_val_score(model, X_train, y_train)\u001b[39;00m\n\u001b[0;32m    <a href='vscode-notebook-cell:/c%3A/Users/andre/Documents/Strive_repository/Google-Fit/cleaning_final_version.ipynb#ch0000001?line=145'>146</a>\u001b[0m \n\u001b[0;32m    <a href='vscode-notebook-cell:/c%3A/Users/andre/Documents/Strive_repository/Google-Fit/cleaning_final_version.ipynb#ch0000001?line=146'>147</a>\u001b[0m     \u001b[39m# append to results\u001b[39;00m\n\u001b[0;32m    <a href='vscode-notebook-cell:/c%3A/Users/andre/Documents/Strive_repository/Google-Fit/cleaning_final_version.ipynb#ch0000001?line=147'>148</a>\u001b[0m     results \u001b[39m=\u001b[39m pd\u001b[39m.\u001b[39mconcat([results, pd\u001b[39m.\u001b[39mDataFrame({\u001b[39m'\u001b[39m\u001b[39mname\u001b[39m\u001b[39m'\u001b[39m: [name],\n\u001b[0;32m    <a href='vscode-notebook-cell:/c%3A/Users/andre/Documents/Strive_repository/Google-Fit/cleaning_final_version.ipynb#ch0000001?line=148'>149</a>\u001b[0m                                                 \u001b[39m# 'mean_score': [scores.mean()],\u001b[39;00m\n\u001b[0;32m    <a href='vscode-notebook-cell:/c%3A/Users/andre/Documents/Strive_repository/Google-Fit/cleaning_final_version.ipynb#ch0000001?line=149'>150</a>\u001b[0m                                                 \u001b[39m# 'std_score':[scores.std()],\u001b[39;00m\n\u001b[0;32m    <a href='vscode-notebook-cell:/c%3A/Users/andre/Documents/Strive_repository/Google-Fit/cleaning_final_version.ipynb#ch0000001?line=150'>151</a>\u001b[0m                                                 \u001b[39m# 'test_accuracy': [accuracy_score(y_test, preds)],\u001b[39;00m\n\u001b[0;32m    <a href='vscode-notebook-cell:/c%3A/Users/andre/Documents/Strive_repository/Google-Fit/cleaning_final_version.ipynb#ch0000001?line=151'>152</a>\u001b[0m                                                 \u001b[39m'\u001b[39m\u001b[39mbalanced_accuracy\u001b[39m\u001b[39m'\u001b[39m:[balanced_accuracy_score(y_test, preds)],\n\u001b[1;32m--> <a href='vscode-notebook-cell:/c%3A/Users/andre/Documents/Strive_repository/Google-Fit/cleaning_final_version.ipynb#ch0000001?line=152'>153</a>\u001b[0m                                                 \u001b[39m'\u001b[39m\u001b[39mf1_score\u001b[39m\u001b[39m'\u001b[39m: [f1_score(y_test, preds)], \n\u001b[0;32m    <a href='vscode-notebook-cell:/c%3A/Users/andre/Documents/Strive_repository/Google-Fit/cleaning_final_version.ipynb#ch0000001?line=153'>154</a>\u001b[0m                                                 \u001b[39m'\u001b[39m\u001b[39mprecision\u001b[39m\u001b[39m'\u001b[39m: [precision_score(y_test, preds)], \n\u001b[0;32m    <a href='vscode-notebook-cell:/c%3A/Users/andre/Documents/Strive_repository/Google-Fit/cleaning_final_version.ipynb#ch0000001?line=154'>155</a>\u001b[0m                                                 \u001b[39m'\u001b[39m\u001b[39mrecall\u001b[39m\u001b[39m'\u001b[39m: [recall_score(y_test, preds)],\n\u001b[0;32m    <a href='vscode-notebook-cell:/c%3A/Users/andre/Documents/Strive_repository/Google-Fit/cleaning_final_version.ipynb#ch0000001?line=155'>156</a>\u001b[0m                                                 \u001b[39m'\u001b[39m\u001b[39mtraining_time\u001b[39m\u001b[39m'\u001b[39m: [train_time],  \n\u001b[0;32m    <a href='vscode-notebook-cell:/c%3A/Users/andre/Documents/Strive_repository/Google-Fit/cleaning_final_version.ipynb#ch0000001?line=156'>157</a>\u001b[0m                                                 \u001b[39m'\u001b[39m\u001b[39mpredicting_time\u001b[39m\u001b[39m'\u001b[39m: [pred_time]})\n\u001b[0;32m    <a href='vscode-notebook-cell:/c%3A/Users/andre/Documents/Strive_repository/Google-Fit/cleaning_final_version.ipynb#ch0000001?line=157'>158</a>\u001b[0m                          ])\n\u001b[0;32m    <a href='vscode-notebook-cell:/c%3A/Users/andre/Documents/Strive_repository/Google-Fit/cleaning_final_version.ipynb#ch0000001?line=159'>160</a>\u001b[0m \u001b[39mreturn\u001b[39;00m results\u001b[39m.\u001b[39msort_values(by\u001b[39m=\u001b[39m\u001b[39m'\u001b[39m\u001b[39mbalanced_accuracy\u001b[39m\u001b[39m'\u001b[39m, ascending\u001b[39m=\u001b[39m\u001b[39mFalse\u001b[39;00m)\n",
      "File \u001b[1;32mc:\\Users\\andre\\anaconda3\\envs\\ML\\lib\\site-packages\\sklearn\\metrics\\_classification.py:1123\u001b[0m, in \u001b[0;36mf1_score\u001b[1;34m(y_true, y_pred, labels, pos_label, average, sample_weight, zero_division)\u001b[0m\n\u001b[0;32m    <a href='file:///c%3A/Users/andre/anaconda3/envs/ML/lib/site-packages/sklearn/metrics/_classification.py?line=991'>992</a>\u001b[0m \u001b[39mdef\u001b[39;00m \u001b[39mf1_score\u001b[39m(\n\u001b[0;32m    <a href='file:///c%3A/Users/andre/anaconda3/envs/ML/lib/site-packages/sklearn/metrics/_classification.py?line=992'>993</a>\u001b[0m     y_true,\n\u001b[0;32m    <a href='file:///c%3A/Users/andre/anaconda3/envs/ML/lib/site-packages/sklearn/metrics/_classification.py?line=993'>994</a>\u001b[0m     y_pred,\n\u001b[1;32m   (...)\u001b[0m\n\u001b[0;32m   <a href='file:///c%3A/Users/andre/anaconda3/envs/ML/lib/site-packages/sklearn/metrics/_classification.py?line=999'>1000</a>\u001b[0m     zero_division\u001b[39m=\u001b[39m\u001b[39m\"\u001b[39m\u001b[39mwarn\u001b[39m\u001b[39m\"\u001b[39m,\n\u001b[0;32m   <a href='file:///c%3A/Users/andre/anaconda3/envs/ML/lib/site-packages/sklearn/metrics/_classification.py?line=1000'>1001</a>\u001b[0m ):\n\u001b[0;32m   <a href='file:///c%3A/Users/andre/anaconda3/envs/ML/lib/site-packages/sklearn/metrics/_classification.py?line=1001'>1002</a>\u001b[0m     \u001b[39m\"\"\"Compute the F1 score, also known as balanced F-score or F-measure.\u001b[39;00m\n\u001b[0;32m   <a href='file:///c%3A/Users/andre/anaconda3/envs/ML/lib/site-packages/sklearn/metrics/_classification.py?line=1002'>1003</a>\u001b[0m \n\u001b[0;32m   <a href='file:///c%3A/Users/andre/anaconda3/envs/ML/lib/site-packages/sklearn/metrics/_classification.py?line=1003'>1004</a>\u001b[0m \u001b[39m    The F1 score can be interpreted as a harmonic mean of the precision and\u001b[39;00m\n\u001b[1;32m   (...)\u001b[0m\n\u001b[0;32m   <a href='file:///c%3A/Users/andre/anaconda3/envs/ML/lib/site-packages/sklearn/metrics/_classification.py?line=1120'>1121</a>\u001b[0m \u001b[39m    modified with ``zero_division``.\u001b[39;00m\n\u001b[0;32m   <a href='file:///c%3A/Users/andre/anaconda3/envs/ML/lib/site-packages/sklearn/metrics/_classification.py?line=1121'>1122</a>\u001b[0m \u001b[39m    \"\"\"\u001b[39;00m\n\u001b[1;32m-> <a href='file:///c%3A/Users/andre/anaconda3/envs/ML/lib/site-packages/sklearn/metrics/_classification.py?line=1122'>1123</a>\u001b[0m     \u001b[39mreturn\u001b[39;00m fbeta_score(\n\u001b[0;32m   <a href='file:///c%3A/Users/andre/anaconda3/envs/ML/lib/site-packages/sklearn/metrics/_classification.py?line=1123'>1124</a>\u001b[0m         y_true,\n\u001b[0;32m   <a href='file:///c%3A/Users/andre/anaconda3/envs/ML/lib/site-packages/sklearn/metrics/_classification.py?line=1124'>1125</a>\u001b[0m         y_pred,\n\u001b[0;32m   <a href='file:///c%3A/Users/andre/anaconda3/envs/ML/lib/site-packages/sklearn/metrics/_classification.py?line=1125'>1126</a>\u001b[0m         beta\u001b[39m=\u001b[39;49m\u001b[39m1\u001b[39;49m,\n\u001b[0;32m   <a href='file:///c%3A/Users/andre/anaconda3/envs/ML/lib/site-packages/sklearn/metrics/_classification.py?line=1126'>1127</a>\u001b[0m         labels\u001b[39m=\u001b[39;49mlabels,\n\u001b[0;32m   <a href='file:///c%3A/Users/andre/anaconda3/envs/ML/lib/site-packages/sklearn/metrics/_classification.py?line=1127'>1128</a>\u001b[0m         pos_label\u001b[39m=\u001b[39;49mpos_label,\n\u001b[0;32m   <a href='file:///c%3A/Users/andre/anaconda3/envs/ML/lib/site-packages/sklearn/metrics/_classification.py?line=1128'>1129</a>\u001b[0m         average\u001b[39m=\u001b[39;49maverage,\n\u001b[0;32m   <a href='file:///c%3A/Users/andre/anaconda3/envs/ML/lib/site-packages/sklearn/metrics/_classification.py?line=1129'>1130</a>\u001b[0m         sample_weight\u001b[39m=\u001b[39;49msample_weight,\n\u001b[0;32m   <a href='file:///c%3A/Users/andre/anaconda3/envs/ML/lib/site-packages/sklearn/metrics/_classification.py?line=1130'>1131</a>\u001b[0m         zero_division\u001b[39m=\u001b[39;49mzero_division,\n\u001b[0;32m   <a href='file:///c%3A/Users/andre/anaconda3/envs/ML/lib/site-packages/sklearn/metrics/_classification.py?line=1131'>1132</a>\u001b[0m     )\n",
      "File \u001b[1;32mc:\\Users\\andre\\anaconda3\\envs\\ML\\lib\\site-packages\\sklearn\\metrics\\_classification.py:1261\u001b[0m, in \u001b[0;36mfbeta_score\u001b[1;34m(y_true, y_pred, beta, labels, pos_label, average, sample_weight, zero_division)\u001b[0m\n\u001b[0;32m   <a href='file:///c%3A/Users/andre/anaconda3/envs/ML/lib/site-packages/sklearn/metrics/_classification.py?line=1134'>1135</a>\u001b[0m \u001b[39mdef\u001b[39;00m \u001b[39mfbeta_score\u001b[39m(\n\u001b[0;32m   <a href='file:///c%3A/Users/andre/anaconda3/envs/ML/lib/site-packages/sklearn/metrics/_classification.py?line=1135'>1136</a>\u001b[0m     y_true,\n\u001b[0;32m   <a href='file:///c%3A/Users/andre/anaconda3/envs/ML/lib/site-packages/sklearn/metrics/_classification.py?line=1136'>1137</a>\u001b[0m     y_pred,\n\u001b[1;32m   (...)\u001b[0m\n\u001b[0;32m   <a href='file:///c%3A/Users/andre/anaconda3/envs/ML/lib/site-packages/sklearn/metrics/_classification.py?line=1143'>1144</a>\u001b[0m     zero_division\u001b[39m=\u001b[39m\u001b[39m\"\u001b[39m\u001b[39mwarn\u001b[39m\u001b[39m\"\u001b[39m,\n\u001b[0;32m   <a href='file:///c%3A/Users/andre/anaconda3/envs/ML/lib/site-packages/sklearn/metrics/_classification.py?line=1144'>1145</a>\u001b[0m ):\n\u001b[0;32m   <a href='file:///c%3A/Users/andre/anaconda3/envs/ML/lib/site-packages/sklearn/metrics/_classification.py?line=1145'>1146</a>\u001b[0m     \u001b[39m\"\"\"Compute the F-beta score.\u001b[39;00m\n\u001b[0;32m   <a href='file:///c%3A/Users/andre/anaconda3/envs/ML/lib/site-packages/sklearn/metrics/_classification.py?line=1146'>1147</a>\u001b[0m \n\u001b[0;32m   <a href='file:///c%3A/Users/andre/anaconda3/envs/ML/lib/site-packages/sklearn/metrics/_classification.py?line=1147'>1148</a>\u001b[0m \u001b[39m    The F-beta score is the weighted harmonic mean of precision and recall,\u001b[39;00m\n\u001b[1;32m   (...)\u001b[0m\n\u001b[0;32m   <a href='file:///c%3A/Users/andre/anaconda3/envs/ML/lib/site-packages/sklearn/metrics/_classification.py?line=1257'>1258</a>\u001b[0m \u001b[39m    array([0.71..., 0.        , 0.        ])\u001b[39;00m\n\u001b[0;32m   <a href='file:///c%3A/Users/andre/anaconda3/envs/ML/lib/site-packages/sklearn/metrics/_classification.py?line=1258'>1259</a>\u001b[0m \u001b[39m    \"\"\"\u001b[39;00m\n\u001b[1;32m-> <a href='file:///c%3A/Users/andre/anaconda3/envs/ML/lib/site-packages/sklearn/metrics/_classification.py?line=1260'>1261</a>\u001b[0m     _, _, f, _ \u001b[39m=\u001b[39m precision_recall_fscore_support(\n\u001b[0;32m   <a href='file:///c%3A/Users/andre/anaconda3/envs/ML/lib/site-packages/sklearn/metrics/_classification.py?line=1261'>1262</a>\u001b[0m         y_true,\n\u001b[0;32m   <a href='file:///c%3A/Users/andre/anaconda3/envs/ML/lib/site-packages/sklearn/metrics/_classification.py?line=1262'>1263</a>\u001b[0m         y_pred,\n\u001b[0;32m   <a href='file:///c%3A/Users/andre/anaconda3/envs/ML/lib/site-packages/sklearn/metrics/_classification.py?line=1263'>1264</a>\u001b[0m         beta\u001b[39m=\u001b[39;49mbeta,\n\u001b[0;32m   <a href='file:///c%3A/Users/andre/anaconda3/envs/ML/lib/site-packages/sklearn/metrics/_classification.py?line=1264'>1265</a>\u001b[0m         labels\u001b[39m=\u001b[39;49mlabels,\n\u001b[0;32m   <a href='file:///c%3A/Users/andre/anaconda3/envs/ML/lib/site-packages/sklearn/metrics/_classification.py?line=1265'>1266</a>\u001b[0m         pos_label\u001b[39m=\u001b[39;49mpos_label,\n\u001b[0;32m   <a href='file:///c%3A/Users/andre/anaconda3/envs/ML/lib/site-packages/sklearn/metrics/_classification.py?line=1266'>1267</a>\u001b[0m         average\u001b[39m=\u001b[39;49maverage,\n\u001b[0;32m   <a href='file:///c%3A/Users/andre/anaconda3/envs/ML/lib/site-packages/sklearn/metrics/_classification.py?line=1267'>1268</a>\u001b[0m         warn_for\u001b[39m=\u001b[39;49m(\u001b[39m\"\u001b[39;49m\u001b[39mf-score\u001b[39;49m\u001b[39m\"\u001b[39;49m,),\n\u001b[0;32m   <a href='file:///c%3A/Users/andre/anaconda3/envs/ML/lib/site-packages/sklearn/metrics/_classification.py?line=1268'>1269</a>\u001b[0m         sample_weight\u001b[39m=\u001b[39;49msample_weight,\n\u001b[0;32m   <a href='file:///c%3A/Users/andre/anaconda3/envs/ML/lib/site-packages/sklearn/metrics/_classification.py?line=1269'>1270</a>\u001b[0m         zero_division\u001b[39m=\u001b[39;49mzero_division,\n\u001b[0;32m   <a href='file:///c%3A/Users/andre/anaconda3/envs/ML/lib/site-packages/sklearn/metrics/_classification.py?line=1270'>1271</a>\u001b[0m     )\n\u001b[0;32m   <a href='file:///c%3A/Users/andre/anaconda3/envs/ML/lib/site-packages/sklearn/metrics/_classification.py?line=1271'>1272</a>\u001b[0m     \u001b[39mreturn\u001b[39;00m f\n",
      "File \u001b[1;32mc:\\Users\\andre\\anaconda3\\envs\\ML\\lib\\site-packages\\sklearn\\metrics\\_classification.py:1544\u001b[0m, in \u001b[0;36mprecision_recall_fscore_support\u001b[1;34m(y_true, y_pred, beta, labels, pos_label, average, warn_for, sample_weight, zero_division)\u001b[0m\n\u001b[0;32m   <a href='file:///c%3A/Users/andre/anaconda3/envs/ML/lib/site-packages/sklearn/metrics/_classification.py?line=1541'>1542</a>\u001b[0m \u001b[39mif\u001b[39;00m beta \u001b[39m<\u001b[39m \u001b[39m0\u001b[39m:\n\u001b[0;32m   <a href='file:///c%3A/Users/andre/anaconda3/envs/ML/lib/site-packages/sklearn/metrics/_classification.py?line=1542'>1543</a>\u001b[0m     \u001b[39mraise\u001b[39;00m \u001b[39mValueError\u001b[39;00m(\u001b[39m\"\u001b[39m\u001b[39mbeta should be >=0 in the F-beta score\u001b[39m\u001b[39m\"\u001b[39m)\n\u001b[1;32m-> <a href='file:///c%3A/Users/andre/anaconda3/envs/ML/lib/site-packages/sklearn/metrics/_classification.py?line=1543'>1544</a>\u001b[0m labels \u001b[39m=\u001b[39m _check_set_wise_labels(y_true, y_pred, average, labels, pos_label)\n\u001b[0;32m   <a href='file:///c%3A/Users/andre/anaconda3/envs/ML/lib/site-packages/sklearn/metrics/_classification.py?line=1545'>1546</a>\u001b[0m \u001b[39m# Calculate tp_sum, pred_sum, true_sum ###\u001b[39;00m\n\u001b[0;32m   <a href='file:///c%3A/Users/andre/anaconda3/envs/ML/lib/site-packages/sklearn/metrics/_classification.py?line=1546'>1547</a>\u001b[0m samplewise \u001b[39m=\u001b[39m average \u001b[39m==\u001b[39m \u001b[39m\"\u001b[39m\u001b[39msamples\u001b[39m\u001b[39m\"\u001b[39m\n",
      "File \u001b[1;32mc:\\Users\\andre\\anaconda3\\envs\\ML\\lib\\site-packages\\sklearn\\metrics\\_classification.py:1356\u001b[0m, in \u001b[0;36m_check_set_wise_labels\u001b[1;34m(y_true, y_pred, average, labels, pos_label)\u001b[0m\n\u001b[0;32m   <a href='file:///c%3A/Users/andre/anaconda3/envs/ML/lib/site-packages/sklearn/metrics/_classification.py?line=1353'>1354</a>\u001b[0m     \u001b[39mif\u001b[39;00m pos_label \u001b[39mnot\u001b[39;00m \u001b[39min\u001b[39;00m present_labels:\n\u001b[0;32m   <a href='file:///c%3A/Users/andre/anaconda3/envs/ML/lib/site-packages/sklearn/metrics/_classification.py?line=1354'>1355</a>\u001b[0m         \u001b[39mif\u001b[39;00m \u001b[39mlen\u001b[39m(present_labels) \u001b[39m>\u001b[39m\u001b[39m=\u001b[39m \u001b[39m2\u001b[39m:\n\u001b[1;32m-> <a href='file:///c%3A/Users/andre/anaconda3/envs/ML/lib/site-packages/sklearn/metrics/_classification.py?line=1355'>1356</a>\u001b[0m             \u001b[39mraise\u001b[39;00m \u001b[39mValueError\u001b[39;00m(\n\u001b[0;32m   <a href='file:///c%3A/Users/andre/anaconda3/envs/ML/lib/site-packages/sklearn/metrics/_classification.py?line=1356'>1357</a>\u001b[0m                 \u001b[39mf\u001b[39m\u001b[39m\"\u001b[39m\u001b[39mpos_label=\u001b[39m\u001b[39m{\u001b[39;00mpos_label\u001b[39m}\u001b[39;00m\u001b[39m is not a valid label. It \u001b[39m\u001b[39m\"\u001b[39m\n\u001b[0;32m   <a href='file:///c%3A/Users/andre/anaconda3/envs/ML/lib/site-packages/sklearn/metrics/_classification.py?line=1357'>1358</a>\u001b[0m                 \u001b[39mf\u001b[39m\u001b[39m\"\u001b[39m\u001b[39mshould be one of \u001b[39m\u001b[39m{\u001b[39;00mpresent_labels\u001b[39m}\u001b[39;00m\u001b[39m\"\u001b[39m\n\u001b[0;32m   <a href='file:///c%3A/Users/andre/anaconda3/envs/ML/lib/site-packages/sklearn/metrics/_classification.py?line=1358'>1359</a>\u001b[0m             )\n\u001b[0;32m   <a href='file:///c%3A/Users/andre/anaconda3/envs/ML/lib/site-packages/sklearn/metrics/_classification.py?line=1359'>1360</a>\u001b[0m     labels \u001b[39m=\u001b[39m [pos_label]\n\u001b[0;32m   <a href='file:///c%3A/Users/andre/anaconda3/envs/ML/lib/site-packages/sklearn/metrics/_classification.py?line=1360'>1361</a>\u001b[0m \u001b[39melse\u001b[39;00m:\n",
      "\u001b[1;31mValueError\u001b[0m: pos_label=1 is not a valid label. It should be one of ['not walking', 'walking']"
     ]
    }
   ],
   "source": [
    "# Pipelines (preprocessing + model)\n",
    "models = {'rf': RandomForestClassifier(random_state=0),\n",
    "          \"gb\": GradientBoostingClassifier(random_state=0),\n",
    "          'dt': DecisionTreeClassifier(),\n",
    "          'extraT': ExtraTreesClassifier(random_state=0),\n",
    "        #   'xgb':XGBClassifier(),\n",
    "          #  'logR':LogisticRegression(),\n",
    "          'svm': SVC(), \n",
    "          'mlp': MLPClassifier(random_state=0, max_iter=1000),\n",
    "          'sgd': SGDClassifier(random_state=0)\n",
    "          }\n",
    "\n",
    "\n",
    "pipes = pipelines(models)\n",
    "\n",
    "\n",
    "# Performance\n",
    "\n",
    "results = perfomance(pipes, X_train, y_train, X_test, y_test)\n",
    "print('Performance: \\n', results)"
   ]
  },
  {
   "cell_type": "code",
   "execution_count": 21,
   "metadata": {},
   "outputs": [],
   "source": [
    "model = ExtraTreesClassifier(random_state=0)\n",
    "# imputer = IterativeImputer()\n",
    "imputer = KNNImputer()\n",
    "# imputer = SimpleImputer(strategy='mean')\n",
    "# scaler = StandardScaler()\n",
    "qtransf = QuantileTransformer(output_distribution='normal')\n",
    "\n",
    "pipe = Pipeline([\n",
    "    ('imputer', imputer),\n",
    "    # ('scaler', scaler),\n",
    "     ('quantile', qtransf),\n",
    "    ('model', model)])"
   ]
  },
  {
   "cell_type": "code",
   "execution_count": 25,
   "metadata": {},
   "outputs": [
    {
     "data": {
      "text/plain": [
       "<Figure size 2160x1728 with 0 Axes>"
      ]
     },
     "metadata": {},
     "output_type": "display_data"
    },
    {
     "data": {
      "image/png": "[encoded data removed]",
      "text/plain": [
       "<Figure size 432x288 with 1 Axes>"
      ]
     },
     "metadata": {
      "needs_background": "light"
     },
     "output_type": "display_data"
    },
    {
     "name": "stdout",
     "output_type": "stream",
     "text": [
      "              precision    recall  f1-score   support\n",
      "\n",
      " not walking       0.99      0.97      0.98       976\n",
      "     walking       0.80      0.95      0.87       123\n",
      "\n",
      "    accuracy                           0.97      1099\n",
      "   macro avg       0.90      0.96      0.93      1099\n",
      "weighted avg       0.97      0.97      0.97      1099\n",
      "\n"
     ]
    }
   ],
   "source": [
    "\n",
    "pipe.fit(X_train, y_train)\n",
    "preds = pipe.predict(X_test)\n",
    "plt.figure(figsize = (30, 24))\n",
    "ConfusionMatrixDisplay.from_predictions(y_test, preds, colorbar=False)\n",
    "plt.show()\n",
    "print(classification_report(y_test, preds))"
   ]
  },
  {
   "cell_type": "markdown",
   "metadata": {},
   "source": [
    "# Save model and example user file"
   ]
  },
  {
   "cell_type": "code",
   "execution_count": 231,
   "metadata": {},
   "outputs": [],
   "source": [
    "# joblib.dump(pipe, 'model.joblib')"
   ]
  },
  {
   "cell_type": "code",
   "execution_count": 232,
   "metadata": {},
   "outputs": [],
   "source": [
    "data[data.user == 'U12'].to_csv('example_file_user.csv')"
   ]
  }
 ],
 "metadata": {
  "interpreter": {
   "hash": "57b4146e8602cb0ff91512065bdb02700ac9f9d6ea9aa046f2e5f7c3a69675f8"
  },
  "kernelspec": {
   "display_name": "Python 3.8.13 ('strive')",
   "language": "python",
   "name": "python3"
  },
  "language_info": {
   "codemirror_mode": {
    "name": "ipython",
    "version": 3
   },
   "file_extension": ".py",
   "mimetype": "text/x-python",
   "name": "python",
   "nbconvert_exporter": "python",
   "pygments_lexer": "ipython3",
   "version": "3.8.13"
  },
  "orig_nbformat": 4
 },
 "nbformat": 4,
 "nbformat_minor": 2
}
