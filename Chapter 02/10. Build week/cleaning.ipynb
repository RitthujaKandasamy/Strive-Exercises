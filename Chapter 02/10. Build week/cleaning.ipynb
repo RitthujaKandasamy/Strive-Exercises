{
 "cells": [
  {
   "cell_type": "code",
   "execution_count": 51,
   "metadata": {},
   "outputs": [],
   "source": [
    "# Dependencies\n",
    "from sklearn.utils._testing import ignore_warnings\n",
    "from sklearn.exceptions import ConvergenceWarning\n",
    "from tqdm import tqdm\n",
    "\n",
    "import matplotlib.pyplot as plt\n",
    "import pandas as pd\n",
    "import numpy as np\n",
    "import seaborn as sns\n",
    "import time\n",
    "\n",
    "from sklearn.pipeline import Pipeline\n",
    "from sklearn.experimental import enable_iterative_imputer\n",
    "from sklearn.impute import IterativeImputer, KNNImputer, SimpleImputer\n",
    "from sklearn.preprocessing import StandardScaler, LabelBinarizer, PolynomialFeatures\n",
    "\n",
    "\n",
    "from sklearn.metrics import accuracy_score, ConfusionMatrixDisplay, balanced_accuracy_score\n",
    "from sklearn.model_selection import cross_val_score, GroupKFold\n",
    "\n",
    "\n",
    "\n",
    "from sklearn.ensemble import RandomForestClassifier, GradientBoostingClassifier, ExtraTreesClassifier\n",
    "from sklearn.svm import SVC\n",
    "from sklearn.neural_network import MLPClassifier\n",
    "from sklearn.linear_model import SGDClassifier\n",
    "from sklearn.tree import DecisionTreeClassifier\n",
    "from xgboost import XGBClassifier\n",
    "from sklearn.linear_model import LogisticRegression\n"
   ]
  },
  {
   "cell_type": "code",
   "execution_count": 3,
   "metadata": {},
   "outputs": [],
   "source": [
    "# Select columns\n",
    "def select_columns(dataset, columns_to_keep):\n",
    "    \"\"\"Filters columns of `dataset` to keep only those specified by the `columns_to_keep` paramater\n",
    "\n",
    "    Args:\n",
    "        dataset (Pandas DataFrame): Dataset to filter\n",
    "        columns_to_keep ( regex expression, str): columns names to keep\n",
    "\n",
    "    Returns:\n",
    "        Pandas Dataframe: Dataset with selected column(s)\n",
    "    \"\"\"\n",
    "    column_filter = dataset.columns.str.replace(\n",
    "        'android.sensor.|mean|std|min|max|#', '', regex=True).str.fullmatch(columns_to_keep)\n",
    "\n",
    "    return dataset.loc[:, column_filter]\n",
    "\n",
    "\n",
    "# drop column(s) based on missing value percentage\n",
    "def drop_col_percent_na(dataset, threshold):\n",
    "    \"\"\"Drop columns missing value greater than `threshold`\n",
    "\n",
    "    Args:\n",
    "        dataset (Pandas Dataframe): Dataframe from which to drop columns\n",
    "        threshold (float/int): Percentage of NaN beyong which a column should be dropped (from 1 to 100)\n",
    "\n",
    "    Returns:\n",
    "        Pandas Dataframe: Dataset with dropped column(s)\n",
    "    \"\"\"\n",
    "    to_drop = (dataset.isnull().sum()/dataset.shape[0]*100) > threshold\n",
    "\n",
    "    return dataset.loc[:, ~to_drop]\n",
    "\n",
    "\n",
    "# Split train test sets\n",
    "def split_train_test(data, upper_boundary=1, lower_boundary=3, nb_users_test=3):\n",
    "    \"\"\"Split `data` into train and test sets based on users. Users with highest number of\n",
    "    records as well as very few numbers of records are excluded from being choosen for the test set.\n",
    "\n",
    "    Args:\n",
    "        data (Pandas DataFrame): Dataset to split\n",
    "        upper_boundary (int, optional): Controls k-number of users with high number of records to exclude. Defaults to 1.\n",
    "        lower_boundary (int, optional): Controls k-number of users with low number of records to exclude. Defaults to 3.\n",
    "        nb_users_test (int, optional): Number of users to include in the test set. Defaults to 3.\n",
    "\n",
    "    Returns:\n",
    "        Tuple(Pandas DataFrame, Pandas DataFrame): Both train and test sets\n",
    "    \"\"\"\n",
    "    np.random.seed(0)\n",
    "\n",
    "    # number of records per user (sorted from highest to lowest)\n",
    "    user_dist = data.user.value_counts()\n",
    "\n",
    "    # array of users from which to choose the ones going into test set\n",
    "    to_choose_from = user_dist[upper_boundary: len(\n",
    "        user_dist) - lower_boundary].index\n",
    "\n",
    "    # users in test set\n",
    "    test_users = np.random.choice(to_choose_from, nb_users_test, replace=False)\n",
    "\n",
    "    # splitting into train and test sets\n",
    "    train = pd.DataFrame()\n",
    "    test = pd.DataFrame()\n",
    "    for _, row in data.iterrows():\n",
    "        if row[\"user\"] in test_users:\n",
    "            test = pd.concat([test, row], axis=1)\n",
    "\n",
    "        else:\n",
    "            train = pd.concat([train, row], axis=1)\n",
    "\n",
    "    return train.T, test.T\n",
    "\n",
    "\n",
    "# Preprocessing + model pipeline\n",
    "def pipelines(models):\n",
    "    \"\"\"Create pipelines made up preprocessors(Imputer, StandardScaler) and models\n",
    "\n",
    "    Args:\n",
    "        models (dict): A dictionary of model's name as key and sklearn corresponding algorithm as value\n",
    "\n",
    "    Returns:\n",
    "        dict: A dictionary of model's name as key and pipeline (preprocessing + model) as value\n",
    "    \"\"\"\n",
    "\n",
    "    # Preprocessors\n",
    "    # imputer = IterativeImputer(random_state=0, max_iter=30)\n",
    "    imputer = KNNImputer()\n",
    "    # imputer = SimpleImputer(strategy='median')\n",
    "    scaler = StandardScaler()\n",
    "\n",
    "    # Pipelines of preprocessor(s) and models\n",
    "    pipes = {name: Pipeline([\n",
    "        ('imputer', imputer),\n",
    "        ('scaler', scaler),\n",
    "        ('model', model)\n",
    "    ]) for name, model in models.items()}\n",
    "\n",
    "    return pipes\n",
    "\n",
    "\n",
    "# Model performance\n",
    "@ignore_warnings(category=ConvergenceWarning)\n",
    "def perfomance(pipes, X_train, y_train, X_test, y_test):\n",
    "    \"\"\"Compute mean and std of cross validation scores, accuracy on test set\n",
    "       as well as training and predicting time\n",
    "\n",
    "    Args: pipes(dict); as defined in `pipelines` function.\n",
    "          X_train, y_train; training sets\n",
    "          X_test, y_test; test sets\n",
    "\n",
    "    Returns:\n",
    "        Pandas Dataframe: Dataframe of computed performance metrics sorted by accuracy on test set\n",
    "    \"\"\"\n",
    "    results = pd.DataFrame()\n",
    "\n",
    "    for i in tqdm(range(len(pipes))):\n",
    "\n",
    "        name = list(pipes.keys())[i]\n",
    "        model = list(pipes.values())[i]\n",
    "\n",
    "        # training time\n",
    "        t0 = time.time()\n",
    "        model.fit(X_train, y_train)\n",
    "        train_time = time.time() - t0\n",
    "\n",
    "        # predicting time\n",
    "        t0 = time.time()\n",
    "        preds = model.predict(X_test)\n",
    "        pred_time = time.time() - t0\n",
    "\n",
    "        # cross validation\n",
    "        # scores = cross_val_score(model, X_train, y_train)\n",
    "\n",
    "        # append to results\n",
    "        results = pd.concat([results, pd.DataFrame({'name': [name],\n",
    "                                                    # 'mean_score': [scores.mean()],\n",
    "                                                    # 'std_score':[scores.std()],\n",
    "                                                    'test_accuracy': [accuracy_score(y_test, preds)],\n",
    "                                                    'balanced_accuracy':[balanced_accuracy_score(y_test, preds)],\n",
    "                                                    'training_time': [train_time],\n",
    "                                                    'predicting_time': [pred_time]})\n",
    "                             ])\n",
    "\n",
    "    return results.sort_values(by='test_accuracy', ascending=False)\n"
   ]
  },
  {
   "cell_type": "markdown",
   "metadata": {},
   "source": [
    "# Load Data"
   ]
  },
  {
   "cell_type": "code",
   "execution_count": 4,
   "metadata": {},
   "outputs": [],
   "source": [
    "# Load data\n",
    "data = pd.read_csv('data/dataset_5secondWindow.csv')\n",
    "\n",
    "df = data.copy()\n"
   ]
  },
  {
   "cell_type": "markdown",
   "metadata": {},
   "source": [
    "# Explore"
   ]
  },
  {
   "cell_type": "markdown",
   "metadata": {},
   "source": [
    "# Preprocessing"
   ]
  },
  {
   "cell_type": "code",
   "execution_count": 5,
   "metadata": {},
   "outputs": [],
   "source": [
    "# Select columns to use\n",
    "keep_columns = 'accelerometer|sound|orientation|linear_acceleration|speed|gyroscope|rotation_vector|game_rotation_vector|gyroscope_uncalibrated|target|user'\n",
    "df = select_columns(df, keep_columns)\n"
   ]
  },
  {
   "cell_type": "code",
   "execution_count": 6,
   "metadata": {},
   "outputs": [],
   "source": [
    "# Drop columns with high percentage of missing values\n",
    "df = drop_col_percent_na(df, 50)"
   ]
  },
  {
   "cell_type": "markdown",
   "metadata": {},
   "source": [
    "# Train Test split"
   ]
  },
  {
   "cell_type": "code",
   "execution_count": 7,
   "metadata": {},
   "outputs": [],
   "source": [
    "# Train split\n",
    "train, test = split_train_test(df)"
   ]
  },
  {
   "cell_type": "code",
   "execution_count": 15,
   "metadata": {},
   "outputs": [
    {
     "data": {
      "text/plain": [
       "Walking    1140\n",
       "Bus        1032\n",
       "Train       928\n",
       "Car         896\n",
       "Still       755\n",
       "Name: target, dtype: int64"
      ]
     },
     "execution_count": 15,
     "metadata": {},
     "output_type": "execute_result"
    }
   ],
   "source": [
    "train.target.value_counts()"
   ]
  },
  {
   "cell_type": "code",
   "execution_count": 8,
   "metadata": {},
   "outputs": [
    {
     "data": {
      "text/plain": [
       "Still      424\n",
       "Car        284\n",
       "Train      251\n",
       "Bus        146\n",
       "Walking     37\n",
       "Name: target, dtype: int64"
      ]
     },
     "execution_count": 8,
     "metadata": {},
     "output_type": "execute_result"
    }
   ],
   "source": [
    "test.target.value_counts()"
   ]
  },
  {
   "cell_type": "code",
   "execution_count": 63,
   "metadata": {},
   "outputs": [],
   "source": [
    "# Features target separation\n",
    "X_train, y_train = train.drop(columns=['target', 'user']), train['target']\n",
    "\n",
    "X_test, y_test = test.drop(columns=['target', 'user']), test['target']"
   ]
  },
  {
   "cell_type": "code",
   "execution_count": 67,
   "metadata": {},
   "outputs": [],
   "source": [
    "# Binarize target\n",
    "y_train = train['target'].apply(lambda x: 1 if x == 'Walking' else 0)\n",
    "y_test = test['target'].apply(lambda x: 1 if x == 'Walking' else 0)"
   ]
  },
  {
   "cell_type": "markdown",
   "metadata": {},
   "source": [
    "# Training"
   ]
  },
  {
   "cell_type": "code",
   "execution_count": 68,
   "metadata": {},
   "outputs": [
    {
     "name": "stderr",
     "output_type": "stream",
     "text": [
      "100%|██████████| 7/7 [00:59<00:00,  8.54s/it]"
     ]
    },
    {
     "name": "stdout",
     "output_type": "stream",
     "text": [
      "Performance: \n",
      "      name  test_accuracy  balanced_accuracy  training_time  predicting_time\n",
      "0  extraT       0.947461           0.907546       4.366999         1.008017\n",
      "0      rf       0.945709           0.893580       6.652926         1.075130\n",
      "0     mlp       0.935201           0.848967      17.913111         1.581082\n",
      "0      gb       0.928196           0.871469       9.378581         1.017145\n",
      "0     svm       0.915061           0.890803       4.290997         1.124035\n",
      "0      dt       0.900175           0.804745       4.121532         0.991985\n",
      "0     sgd       0.874781           0.817745       4.830139         1.435273\n"
     ]
    },
    {
     "name": "stderr",
     "output_type": "stream",
     "text": [
      "\n"
     ]
    }
   ],
   "source": [
    "# Pipelines (preprocessing + model)\n",
    "models = {'rf': RandomForestClassifier(random_state=0),\n",
    "          \"gb\": GradientBoostingClassifier(random_state=0),\n",
    "          'dt': DecisionTreeClassifier(),\n",
    "          'extraT': ExtraTreesClassifier(),\n",
    "        #   'xgb':XGBClassifier(),\n",
    "          'svm': SVC(), \n",
    "          'mlp': MLPClassifier(random_state=0, max_iter=1000),\n",
    "          'sgd': SGDClassifier(random_state=0)\n",
    "          }\n",
    "\n",
    "\n",
    "pipes = pipelines(models)\n",
    "\n",
    "\n",
    "# Performance\n",
    "\n",
    "results = perfomance(pipes, X_train, y_train, X_test, y_test)\n",
    "print('Performance: \\n', results)"
   ]
  },
  {
   "cell_type": "code",
   "execution_count": 74,
   "metadata": {},
   "outputs": [],
   "source": [
    "model = ExtraTreesClassifier()\n",
    "# imputer = IterativeImputer()\n",
    "imputer = KNNImputer()\n",
    "# imputer = SimpleImputer(strategy='mean')\n",
    "scaler = StandardScaler()\n",
    "\n",
    "pipe = Pipeline([\n",
    "    ('imputer', imputer), \n",
    "    ('scaler', scaler), \n",
    "    ('model', model)])"
   ]
  },
  {
   "cell_type": "code",
   "execution_count": 75,
   "metadata": {},
   "outputs": [
    {
     "data": {
      "text/plain": [
       "0.9439579684763573"
      ]
     },
     "execution_count": 75,
     "metadata": {},
     "output_type": "execute_result"
    },
    {
     "data": {
      "text/plain": [
       "<Figure size 864x576 with 0 Axes>"
      ]
     },
     "metadata": {},
     "output_type": "display_data"
    },
    {
     "data": {
      "image/png": "[encoded data removed]",
      "text/plain": [
       "<Figure size 432x288 with 1 Axes>"
      ]
     },
     "metadata": {
      "needs_background": "light"
     },
     "output_type": "display_data"
    }
   ],
   "source": [
    "\n",
    "pipe.fit(X_train, y_train)\n",
    "preds = pipe.predict(X_test)\n",
    "plt.figure(figsize = (12, 8))\n",
    "ConfusionMatrixDisplay.from_predictions(y_test, preds, colorbar=False)\n",
    "accuracy_score(y_test, preds)"
   ]
  }
 ],
 "metadata": {
  "interpreter": {
   "hash": "57b4146e8602cb0ff91512065bdb02700ac9f9d6ea9aa046f2e5f7c3a69675f8"
  },
  "kernelspec": {
   "display_name": "Python 3.8.13 ('strive')",
   "language": "python",
   "name": "python3"
  },
  "language_info": {
   "codemirror_mode": {
    "name": "ipython",
    "version": 3
   },
   "file_extension": ".py",
   "mimetype": "text/x-python",
   "name": "python",
   "nbconvert_exporter": "python",
   "pygments_lexer": "ipython3",
   "version": "3.8.13"
  },
  "orig_nbformat": 4
 },
 "nbformat": 4,
 "nbformat_minor": 2
}
