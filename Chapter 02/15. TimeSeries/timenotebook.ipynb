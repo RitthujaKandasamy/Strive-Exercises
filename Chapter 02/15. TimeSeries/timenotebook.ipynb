{
 "cells": [
  {
   "cell_type": "code",
   "execution_count": 96,
   "metadata": {},
   "outputs": [],
   "source": [
    "import pandas as pd\n",
    "import numpy as np"
   ]
  },
  {
   "cell_type": "code",
   "execution_count": 97,
   "metadata": {},
   "outputs": [
    {
     "data": {
      "text/html": [
       "<div>\n",
       "<style scoped>\n",
       "    .dataframe tbody tr th:only-of-type {\n",
       "        vertical-align: middle;\n",
       "    }\n",
       "\n",
       "    .dataframe tbody tr th {\n",
       "        vertical-align: top;\n",
       "    }\n",
       "\n",
       "    .dataframe thead th {\n",
       "        text-align: right;\n",
       "    }\n",
       "</style>\n",
       "<table border=\"1\" class=\"dataframe\">\n",
       "  <thead>\n",
       "    <tr style=\"text-align: right;\">\n",
       "      <th></th>\n",
       "      <th>age</th>\n",
       "      <th>gender</th>\n",
       "      <th>genre</th>\n",
       "    </tr>\n",
       "  </thead>\n",
       "  <tbody>\n",
       "    <tr>\n",
       "      <th>0</th>\n",
       "      <td>20</td>\n",
       "      <td>1</td>\n",
       "      <td>HipHop</td>\n",
       "    </tr>\n",
       "    <tr>\n",
       "      <th>1</th>\n",
       "      <td>23</td>\n",
       "      <td>1</td>\n",
       "      <td>HipHop</td>\n",
       "    </tr>\n",
       "    <tr>\n",
       "      <th>2</th>\n",
       "      <td>25</td>\n",
       "      <td>1</td>\n",
       "      <td>HipHop</td>\n",
       "    </tr>\n",
       "    <tr>\n",
       "      <th>3</th>\n",
       "      <td>26</td>\n",
       "      <td>1</td>\n",
       "      <td>Jazz</td>\n",
       "    </tr>\n",
       "    <tr>\n",
       "      <th>4</th>\n",
       "      <td>29</td>\n",
       "      <td>1</td>\n",
       "      <td>Jazz</td>\n",
       "    </tr>\n",
       "  </tbody>\n",
       "</table>\n",
       "</div>"
      ],
      "text/plain": [
       "   age  gender   genre\n",
       "0   20       1  HipHop\n",
       "1   23       1  HipHop\n",
       "2   25       1  HipHop\n",
       "3   26       1    Jazz\n",
       "4   29       1    Jazz"
      ]
     },
     "execution_count": 97,
     "metadata": {},
     "output_type": "execute_result"
    }
   ],
   "source": [
    "data = pd.read_csv(\"C:\\\\Users\\\\ritth\\\\code\\\\Strive\\\\Strive-Exercises\\\\Chapter 02\\\\01. Intro to ML\\\\Part 1\\\\data\\\\music.csv\")\n",
    "data.head()"
   ]
  },
  {
   "cell_type": "code",
   "execution_count": 98,
   "metadata": {},
   "outputs": [
    {
     "data": {
      "text/plain": [
       "(18, 3)"
      ]
     },
     "execution_count": 98,
     "metadata": {},
     "output_type": "execute_result"
    }
   ],
   "source": [
    "data.shape"
   ]
  },
  {
   "cell_type": "code",
   "execution_count": 99,
   "metadata": {},
   "outputs": [
    {
     "name": "stdout",
     "output_type": "stream",
     "text": [
      "<class 'pandas.core.frame.DataFrame'>\n",
      "RangeIndex: 18 entries, 0 to 17\n",
      "Data columns (total 3 columns):\n",
      " #   Column  Non-Null Count  Dtype \n",
      "---  ------  --------------  ----- \n",
      " 0   age     18 non-null     int64 \n",
      " 1   gender  18 non-null     int64 \n",
      " 2   genre   18 non-null     object\n",
      "dtypes: int64(2), object(1)\n",
      "memory usage: 560.0+ bytes\n"
     ]
    }
   ],
   "source": [
    "data.info()"
   ]
  },
  {
   "cell_type": "code",
   "execution_count": null,
   "metadata": {},
   "outputs": [],
   "source": []
  },
  {
   "cell_type": "code",
   "execution_count": null,
   "metadata": {},
   "outputs": [],
   "source": [
    "mapper = {}"
   ]
  },
  {
   "cell_type": "code",
   "execution_count": null,
   "metadata": {},
   "outputs": [
    {
     "data": {
      "text/plain": [
       "420551"
      ]
     },
     "execution_count": 87,
     "metadata": {},
     "output_type": "execute_result"
    }
   ],
   "source": [
    "data.shape[0]"
   ]
  },
  {
   "cell_type": "code",
   "execution_count": null,
   "metadata": {},
   "outputs": [
    {
     "data": {
      "text/plain": [
       "array([0., 0., 0., 0., 0., 0., 0., 0., 0., 0., 0., 0., 0., 0.])"
      ]
     },
     "execution_count": 88,
     "metadata": {},
     "output_type": "execute_result"
    }
   ],
   "source": [
    "a = np.zeros(data.shape[1])\n",
    "a"
   ]
  },
  {
   "cell_type": "code",
   "execution_count": null,
   "metadata": {},
   "outputs": [
    {
     "data": {
      "text/plain": [
       "(14,)"
      ]
     },
     "execution_count": 89,
     "metadata": {},
     "output_type": "execute_result"
    }
   ],
   "source": [
    "a.shape"
   ]
  },
  {
   "cell_type": "code",
   "execution_count": null,
   "metadata": {},
   "outputs": [],
   "source": [
    "seq_len = 5"
   ]
  },
  {
   "cell_type": "code",
   "execution_count": null,
   "metadata": {},
   "outputs": [],
   "source": [
    "for i in range(0, (data.shape[0] - seq_len+1), seq_len+1):\n",
    "\n",
    "    seq = np.zeros((seq_len, data.shape[1])) "
   ]
  },
  {
   "cell_type": "code",
   "execution_count": null,
   "metadata": {},
   "outputs": [
    {
     "name": "stdout",
     "output_type": "stream",
     "text": [
      "(60078, 6, 14)\n",
      "(60078,)\n",
      "[[ 9.96520e+02 -8.02000e+00  2.65400e+02 -8.90000e+00  9.33000e+01\n",
      "   3.33000e+00  3.11000e+00  2.20000e-01  1.94000e+00  3.12000e+00\n",
      "   1.30775e+03  1.03000e+00  1.75000e+00  1.52300e+02]\n",
      " [ 9.96570e+02 -8.41000e+00  2.65010e+02 -9.28000e+00  9.34000e+01\n",
      "   3.23000e+00  3.02000e+00  2.10000e-01  1.89000e+00  3.03000e+00\n",
      "   1.30980e+03  7.20000e-01  1.50000e+00  1.36100e+02]\n",
      " [ 9.96530e+02 -8.51000e+00  2.64910e+02 -9.31000e+00  9.39000e+01\n",
      "   3.21000e+00  3.01000e+00  2.00000e-01  1.88000e+00  3.02000e+00\n",
      "   1.31024e+03  1.90000e-01  6.30000e-01  1.71600e+02]\n",
      " [ 9.96510e+02 -8.31000e+00  2.65120e+02 -9.07000e+00  9.42000e+01\n",
      "   3.26000e+00  3.07000e+00  1.90000e-01  1.92000e+00  3.08000e+00\n",
      "   1.30919e+03  3.40000e-01  5.00000e-01  1.98000e+02]\n",
      " [ 9.96510e+02 -8.27000e+00  2.65150e+02 -9.04000e+00  9.41000e+01\n",
      "   3.27000e+00  3.08000e+00  1.90000e-01  1.92000e+00  3.09000e+00\n",
      "   1.30900e+03  3.20000e-01  6.30000e-01  2.14300e+02]\n",
      " [ 9.96500e+02 -8.05000e+00  2.65380e+02 -8.78000e+00  9.44000e+01\n",
      "   3.33000e+00  3.14000e+00  1.90000e-01  1.96000e+00  3.15000e+00\n",
      "   1.30786e+03  2.10000e-01  6.30000e-01  1.92700e+02]]\n",
      "-6.62\n"
     ]
    }
   ],
   "source": [
    "def pairing(data, seq_len=6):\n",
    "    x = []\n",
    "    y = []\n",
    "\n",
    "\n",
    "    for i in range(0, (data.shape[0] - seq_len+1), seq_len+1):\n",
    "\n",
    "        seq = np.zeros((seq_len, data.shape[1])) \n",
    "        \n",
    "\n",
    "        for j in range(seq_len):\n",
    "            seq[j] = data.values[i + j]\n",
    "            \n",
    "\n",
    "        x.append(seq)\n",
    "        y.append(data['T (degC)'][i + seq_len])\n",
    "\n",
    "    return np.array(x), np.array(y)\n",
    "\n",
    "pairing(data.head())\n",
    "\n",
    "\n",
    "# Extract chunks (sequence) of data and the target variable\n",
    "x, y = pairing(data)\n",
    "\n",
    "\n",
    "print(x.shape)\n",
    "print(y.shape)\n",
    "print(x[0])\n",
    "print(y[0])\n"
   ]
  },
  {
   "cell_type": "code",
   "execution_count": null,
   "metadata": {},
   "outputs": [],
   "source": [
    "arr = np.arrange(100)"
   ]
  }
 ],
 "metadata": {
  "interpreter": {
   "hash": "73592dad14db8f3994cd458d5e0995dad9821ca28205c2106249abcaba41cb67"
  },
  "kernelspec": {
   "display_name": "Python 3.8.12 ('strive')",
   "language": "python",
   "name": "python3"
  },
  "language_info": {
   "codemirror_mode": {
    "name": "ipython",
    "version": 3
   },
   "file_extension": ".py",
   "mimetype": "text/x-python",
   "name": "python",
   "nbconvert_exporter": "python",
   "pygments_lexer": "ipython3",
   "version": "3.8.12"
  },
  "orig_nbformat": 4
 },
 "nbformat": 4,
 "nbformat_minor": 2
}
