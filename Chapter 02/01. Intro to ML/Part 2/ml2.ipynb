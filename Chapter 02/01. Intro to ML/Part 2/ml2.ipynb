{
 "cells": [
  {
   "cell_type": "markdown",
   "metadata": {
    "deletable": false,
    "editable": false,
    "nbgrader": {
     "cell_type": "markdown",
     "checksum": "fbfaeccba7c78624daa81efaeac3384d",
     "grade": false,
     "grade_id": "cell-9bac3e2eaf76d09a",
     "locked": true,
     "schema_version": 3,
     "solution": false,
     "task": false
    }
   },
   "source": [
    "# Linear Regression From Scratch\n",
    "In this notebook you will implement linear regression using the least squares method.\n",
    "\n",
    "The notebook will guide you in the general steps. You may use only numpy, pandas, and matplotlib for this exercise.\n",
    "\n",
    "#### Math Background\n",
    "The task is to solve linear regression for the data set of ```x``` and ```y```. That is, fit a line y to the data such that ```y = a + bx + e```. Where a and b are coefficents and e is an error term.\n",
    "\n",
    "We know that ```b = SUM ( xi - x_mean) * (yi - y_mean) / SUM (xi - x_mean)^2``` where ```xi```, and ```yi``` are the indivdual observations and ```x_mean```, ```y_mean``` are means of all ```xi``` and ```yi```.\n",
    "\n",
    "So a reasonable solution then for a fit is ```a = y_mean - b * x_mean```.\n",
    "\n",
    "\n",
    "#### Implementation Steps\n",
    "1. Load the file ```reg_data.csv```\n",
    "2. Display the data with a scatter plot. Write a markdown cell and comment on the structure of the data and what kind of line you think will fit the data. \n",
    "3. Implement a function of the least squares method.\n",
    "4. Plot the predictions from your function.\n",
    "5. Comment on the output of your function. Does it make sense? Can it be made better? If yes, how?"
   ]
  },
  {
   "cell_type": "code",
   "execution_count": null,
   "metadata": {},
   "outputs": [],
   "source": [
    "#import the minimum packages\n",
    "import numpy as np\n",
    "import pandas as pd\n",
    "import matplotlib.pyplot as plt\n",
    "\n",
    "from sklearn.preprocessing import StandardScaler\n",
    "from sklearn.linear_model import LogisticRegression\n",
    "from sklearn.model_selection import train_test_split, cross_validate\n",
    "from sklearn.pipeline import make_pipeline\n",
    "\n",
    "%matplotlib inline"
   ]
  },
  {
   "cell_type": "code",
   "execution_count": 2,
   "metadata": {
    "deletable": false,
    "nbgrader": {
     "cell_type": "code",
     "checksum": "2c551326ada620ac865e47a09cfd6e88",
     "grade": false,
     "grade_id": "cell-4104816f50e4844b",
     "locked": false,
     "schema_version": 3,
     "solution": true,
     "task": false
    }
   },
   "outputs": [
    {
     "data": {
      "text/html": [
       "<div>\n",
       "<style scoped>\n",
       "    .dataframe tbody tr th:only-of-type {\n",
       "        vertical-align: middle;\n",
       "    }\n",
       "\n",
       "    .dataframe tbody tr th {\n",
       "        vertical-align: top;\n",
       "    }\n",
       "\n",
       "    .dataframe thead th {\n",
       "        text-align: right;\n",
       "    }\n",
       "</style>\n",
       "<table border=\"1\" class=\"dataframe\">\n",
       "  <thead>\n",
       "    <tr style=\"text-align: right;\">\n",
       "      <th></th>\n",
       "      <th>X</th>\n",
       "      <th>Y</th>\n",
       "    </tr>\n",
       "  </thead>\n",
       "  <tbody>\n",
       "    <tr>\n",
       "      <th>0</th>\n",
       "      <td>32.502345</td>\n",
       "      <td>31.707006</td>\n",
       "    </tr>\n",
       "    <tr>\n",
       "      <th>1</th>\n",
       "      <td>53.426804</td>\n",
       "      <td>68.777596</td>\n",
       "    </tr>\n",
       "    <tr>\n",
       "      <th>2</th>\n",
       "      <td>61.530358</td>\n",
       "      <td>62.562382</td>\n",
       "    </tr>\n",
       "    <tr>\n",
       "      <th>3</th>\n",
       "      <td>47.475640</td>\n",
       "      <td>71.546632</td>\n",
       "    </tr>\n",
       "    <tr>\n",
       "      <th>4</th>\n",
       "      <td>59.813208</td>\n",
       "      <td>87.230925</td>\n",
       "    </tr>\n",
       "    <tr>\n",
       "      <th>...</th>\n",
       "      <td>...</td>\n",
       "      <td>...</td>\n",
       "    </tr>\n",
       "    <tr>\n",
       "      <th>95</th>\n",
       "      <td>50.030174</td>\n",
       "      <td>81.536991</td>\n",
       "    </tr>\n",
       "    <tr>\n",
       "      <th>96</th>\n",
       "      <td>49.239765</td>\n",
       "      <td>72.111832</td>\n",
       "    </tr>\n",
       "    <tr>\n",
       "      <th>97</th>\n",
       "      <td>50.039576</td>\n",
       "      <td>85.232007</td>\n",
       "    </tr>\n",
       "    <tr>\n",
       "      <th>98</th>\n",
       "      <td>48.149859</td>\n",
       "      <td>66.224958</td>\n",
       "    </tr>\n",
       "    <tr>\n",
       "      <th>99</th>\n",
       "      <td>25.128485</td>\n",
       "      <td>53.454394</td>\n",
       "    </tr>\n",
       "  </tbody>\n",
       "</table>\n",
       "<p>100 rows × 2 columns</p>\n",
       "</div>"
      ],
      "text/plain": [
       "            X          Y\n",
       "0   32.502345  31.707006\n",
       "1   53.426804  68.777596\n",
       "2   61.530358  62.562382\n",
       "3   47.475640  71.546632\n",
       "4   59.813208  87.230925\n",
       "..        ...        ...\n",
       "95  50.030174  81.536991\n",
       "96  49.239765  72.111832\n",
       "97  50.039576  85.232007\n",
       "98  48.149859  66.224958\n",
       "99  25.128485  53.454394\n",
       "\n",
       "[100 rows x 2 columns]"
      ]
     },
     "execution_count": 2,
     "metadata": {},
     "output_type": "execute_result"
    }
   ],
   "source": [
    "#load and inspect the data\n",
    "df = pd.read_csv(\"reg_data.csv\")\n",
    "df"
   ]
  },
  {
   "cell_type": "code",
   "execution_count": 3,
   "metadata": {
    "deletable": false,
    "editable": false,
    "nbgrader": {
     "cell_type": "code",
     "checksum": "5a44bd6c555f034b17e8b48663c46fbf",
     "grade": true,
     "grade_id": "cell-3676b87d8fc79bbd",
     "locked": true,
     "points": 1,
     "schema_version": 3,
     "solution": false,
     "task": false
    }
   },
   "outputs": [],
   "source": [
    "assert df.shape == (100,2)"
   ]
  },
  {
   "cell_type": "code",
   "execution_count": 4,
   "metadata": {
    "deletable": false,
    "nbgrader": {
     "cell_type": "code",
     "checksum": "ec83d674d316f06d99e4a62881fe0d91",
     "grade": false,
     "grade_id": "cell-7f576e50392bc5e9",
     "locked": false,
     "schema_version": 3,
     "solution": true,
     "task": false
    }
   },
   "outputs": [
    {
     "data": {
      "image/png": "[encoded data removed]",
      "text/plain": [
       "<Figure size 576x432 with 1 Axes>"
      ]
     },
     "metadata": {
      "needs_background": "light"
     },
     "output_type": "display_data"
    }
   ],
   "source": [
    "# plot the data (scatter)\n",
    "plt.figure(figsize =(8, 6))\n",
    "plt.scatter(df['X'], df['Y'], label = 'Data in Scatter Plot')\n",
    "plt.xlabel('X')\n",
    "plt.ylabel('Y')\n",
    "plt.title('Data in Scatter Plot')\n",
    "plt.legend(loc ='upper left')\n",
    "plt.grid(True, linestyle ='--', linewidth = 1)\n",
    "plt.show()"
   ]
  },
  {
   "cell_type": "code",
   "execution_count": 5,
   "metadata": {},
   "outputs": [],
   "source": [
    "X = df['X']\n",
    "Y = df['Y']"
   ]
  },
  {
   "cell_type": "code",
   "execution_count": 6,
   "metadata": {},
   "outputs": [
    {
     "name": "stdout",
     "output_type": "stream",
     "text": [
      "(80,)\n",
      "(80,)\n",
      "(20,)\n",
      "(20,)\n"
     ]
    }
   ],
   "source": [
    "x_train, x_test, y_train, y_test = train_test_split(X, Y, test_size= 0.2, random_state=0)\n",
    "\n",
    "print(x_train.shape)\n",
    "print(y_train.shape)\n",
    "print(x_test.shape)\n",
    "print(y_test.shape)"
   ]
  },
  {
   "cell_type": "code",
   "execution_count": 7,
   "metadata": {},
   "outputs": [],
   "source": [
    "assert x_train.shape == (80,)\n",
    "assert x_test.shape == (20,)\n",
    "assert y_train.shape == (80,)\n",
    "assert y_test.shape == (20,)"
   ]
  },
  {
   "cell_type": "code",
   "execution_count": 8,
   "metadata": {},
   "outputs": [
    {
     "name": "stdout",
     "output_type": "stream",
     "text": [
      "1.3450919020620418\n",
      "6.687439682550192\n"
     ]
    }
   ],
   "source": [
    "#implement a least squares function to find a, b\n",
    "# Formula: b = SUM ( xi - x_mean) * (yi - y_mean) / SUM (xi - x_mean)^2\n",
    "\n",
    "xi = x_train\n",
    "yi = y_train\n",
    "x_mean = x_train.mean()\n",
    "y_mean = y_train.mean()\n",
    "b_upper = np.sum((xi - x_mean) * (yi - y_mean))\n",
    "b_lower = np.sum((xi - x_mean) ** 2)\n",
    "b = b_upper / b_lower\n",
    "\n",
    "# Formula: a = y_mean - b * x_mean\n",
    "a = y_mean - b * x_mean\n",
    "\n",
    "print(b)\n",
    "print(a)"
   ]
  },
  {
   "cell_type": "code",
   "execution_count": 9,
   "metadata": {},
   "outputs": [],
   "source": [
    "assert abs(a - 6.68) <=0.03\n",
    "assert abs(b - 1.34) <=0.03"
   ]
  },
  {
   "cell_type": "code",
   "execution_count": 10,
   "metadata": {},
   "outputs": [
    {
     "data": {
      "text/plain": [
       "array([40.48756089, 41.75741912, 43.02727735])"
      ]
     },
     "execution_count": 10,
     "metadata": {},
     "output_type": "execute_result"
    }
   ],
   "source": [
    "# y = a + bx + e\n",
    "# default e is error term\n",
    "e = 0\n",
    "x = np.linspace(df.X.min(), df.Y.max(), 100)\n",
    "line = a + (b * x) + e\n",
    "line[:3]"
   ]
  },
  {
   "cell_type": "code",
   "execution_count": 11,
   "metadata": {},
   "outputs": [
    {
     "data": {
      "image/png": "[encoded data removed]",
      "text/plain": [
       "<Figure size 576x432 with 1 Axes>"
      ]
     },
     "metadata": {
      "needs_background": "light"
     },
     "output_type": "display_data"
    }
   ],
   "source": [
    "# plot for line_y\n",
    "plt.figure(figsize =(8, 6))\n",
    "plt.scatter(x_train, y_train, label = 'Data in Scatter Plot with line')\n",
    "plt.plot(x, line, c = 'r')\n",
    "plt.xlabel('X')\n",
    "plt.ylabel('Y')\n",
    "plt.title('Data in Scatter Plot with line_y')\n",
    "plt.legend(loc ='upper left')\n",
    "plt.show()"
   ]
  },
  {
   "cell_type": "code",
   "execution_count": 12,
   "metadata": {
    "deletable": false,
    "editable": false,
    "nbgrader": {
     "cell_type": "code",
     "checksum": "08b1f875272b06a1c8562f53f455ad9a",
     "grade": true,
     "grade_id": "cell-71f1201b79ff7e44",
     "locked": true,
     "points": 5,
     "schema_version": 3,
     "solution": false,
     "task": false
    }
   },
   "outputs": [],
   "source": [
    "assert abs(a +3*b - 10.75) <= 0.09\n",
    "assert abs(a +100*b - 140) <= 2"
   ]
  },
  {
   "cell_type": "code",
   "execution_count": 13,
   "metadata": {
    "deletable": false,
    "nbgrader": {
     "cell_type": "code",
     "checksum": "de2e61e7563de9bf967c643b32565f9a",
     "grade": false,
     "grade_id": "cell-8b80d3f35ea3b407",
     "locked": false,
     "schema_version": 3,
     "solution": true,
     "task": false
    }
   },
   "outputs": [
    {
     "name": "stdout",
     "output_type": "stream",
     "text": [
      "(11, 2)\n",
      "(9, 2)\n"
     ]
    }
   ],
   "source": [
    "#Classify your test data in to classes\n",
    "#if the Y value for a certain X is lower than the line then the class is 0\n",
    "\n",
    "class_0 = []\n",
    "class_1 = []\n",
    "\n",
    "# we use range(x_test.shape[0]) because if we use any number like range(1, 100)\n",
    "# then we can not use this code for other mechanics\n",
    "# so only we use this\n",
    "for i in range(x_test.shape[0]):\n",
    "    \n",
    "    if y_test.values[i] < (a + b * x_test.values[i]):\n",
    "        class_0.append([x_test.values[i], y_test.values[i]])\n",
    "        \n",
    "    else:\n",
    "        class_1.append([x_test.values[i], y_test.values[i]])\n",
    "\n",
    "\n",
    "class_0 = np.array(class_0)\n",
    "class_1 = np.array(class_1)\n",
    "print(class_0.shape)\n",
    "print(class_1.shape)"
   ]
  },
  {
   "cell_type": "code",
   "execution_count": 14,
   "metadata": {
    "deletable": false,
    "editable": false,
    "nbgrader": {
     "cell_type": "code",
     "checksum": "1486f3e73b7a9925bfc840c4f84432e7",
     "grade": true,
     "grade_id": "cell-73e31e3494663d82",
     "locked": true,
     "points": 5,
     "schema_version": 3,
     "solution": false,
     "task": false
    }
   },
   "outputs": [],
   "source": [
    "assert 9 < class_0.shape[0] < 13\n",
    "assert 7 < class_1.shape[0] < 11"
   ]
  },
  {
   "cell_type": "code",
   "execution_count": 15,
   "metadata": {},
   "outputs": [
    {
     "data": {
      "text/plain": [
       "array([[51.0887199 , 69.58889785],\n",
       "       [61.53035803, 62.5623823 ],\n",
       "       [55.0780959 , 71.13972786]])"
      ]
     },
     "execution_count": 15,
     "metadata": {},
     "output_type": "execute_result"
    }
   ],
   "source": [
    "# First point is x it is 0\n",
    "# Second point is y it 1\n",
    "class_0[:3]"
   ]
  },
  {
   "cell_type": "code",
   "execution_count": 16,
   "metadata": {},
   "outputs": [
    {
     "data": {
      "text/plain": [
       "<matplotlib.legend.Legend at 0x2b037911fa0>"
      ]
     },
     "execution_count": 16,
     "metadata": {},
     "output_type": "execute_result"
    },
    {
     "data": {
      "image/png": "[encoded data removed]",
      "text/plain": [
       "<Figure size 720x576 with 1 Axes>"
      ]
     },
     "metadata": {
      "needs_background": "light"
     },
     "output_type": "display_data"
    }
   ],
   "source": [
    "# plot the class as we did in ml3 for data\n",
    "plt.figure(figsize = (10, 8))\n",
    "plt.scatter(class_0[:, 0], class_0[:, 1], label = 'class 0')\n",
    "plt.scatter(class_1[:, 0], class_1[:, 1], label = 'class 1')\n",
    "plt.plot(x, line, c = 'r')\n",
    "plt.title('Class with line')\n",
    "plt.legend()"
   ]
  },
  {
   "cell_type": "markdown",
   "metadata": {},
   "source": [
    "#### Evaluation with coefficient of determination\n",
    "\n",
    "$$ \n",
    "R^2 = 1 - \\sum_{i = 1}^{n}{(y_i - \\cap{y_i})^2}\\div{\\sum_{i = 1}^{n}{(y_i - \\bar{y_i})^2}}\n",
    "$$"
   ]
  },
  {
   "cell_type": "code",
   "execution_count": 19,
   "metadata": {},
   "outputs": [
    {
     "ename": "KeyError",
     "evalue": "2",
     "output_type": "error",
     "traceback": [
      "\u001b[1;31m---------------------------------------------------------------------------\u001b[0m",
      "\u001b[1;31mKeyError\u001b[0m                                  Traceback (most recent call last)",
      "File \u001b[1;32m~\\software\\anaconda\\envs\\strive\\lib\\site-packages\\pandas\\core\\indexes\\base.py:2895\u001b[0m, in \u001b[0;36mIndex.get_loc\u001b[1;34m(self, key, method, tolerance)\u001b[0m\n\u001b[0;32m   <a href='file:///c%3A/Users/ritth/software/anaconda/envs/strive/lib/site-packages/pandas/core/indexes/base.py?line=2893'>2894</a>\u001b[0m \u001b[39mtry\u001b[39;00m:\n\u001b[1;32m-> <a href='file:///c%3A/Users/ritth/software/anaconda/envs/strive/lib/site-packages/pandas/core/indexes/base.py?line=2894'>2895</a>\u001b[0m     \u001b[39mreturn\u001b[39;00m \u001b[39mself\u001b[39;49m\u001b[39m.\u001b[39;49m_engine\u001b[39m.\u001b[39;49mget_loc(casted_key)\n\u001b[0;32m   <a href='file:///c%3A/Users/ritth/software/anaconda/envs/strive/lib/site-packages/pandas/core/indexes/base.py?line=2895'>2896</a>\u001b[0m \u001b[39mexcept\u001b[39;00m \u001b[39mKeyError\u001b[39;00m \u001b[39mas\u001b[39;00m err:\n",
      "File \u001b[1;32mpandas\\_libs\\index.pyx:70\u001b[0m, in \u001b[0;36mpandas._libs.index.IndexEngine.get_loc\u001b[1;34m()\u001b[0m\n",
      "File \u001b[1;32mpandas\\_libs\\index.pyx:101\u001b[0m, in \u001b[0;36mpandas._libs.index.IndexEngine.get_loc\u001b[1;34m()\u001b[0m\n",
      "File \u001b[1;32mpandas\\_libs\\hashtable_class_helper.pxi:1032\u001b[0m, in \u001b[0;36mpandas._libs.hashtable.Int64HashTable.get_item\u001b[1;34m()\u001b[0m\n",
      "File \u001b[1;32mpandas\\_libs\\hashtable_class_helper.pxi:1039\u001b[0m, in \u001b[0;36mpandas._libs.hashtable.Int64HashTable.get_item\u001b[1;34m()\u001b[0m\n",
      "\u001b[1;31mKeyError\u001b[0m: 2",
      "\nThe above exception was the direct cause of the following exception:\n",
      "\u001b[1;31mKeyError\u001b[0m                                  Traceback (most recent call last)",
      "\u001b[1;32mc:\\Users\\ritth\\code\\Strive\\Strive-Exercises\\Chapter 02\\01. Intro to ML\\Part 2\\ml2.ipynb Cell 19'\u001b[0m in \u001b[0;36m<cell line: 28>\u001b[1;34m()\u001b[0m\n\u001b[0;32m     <a href='vscode-notebook-cell:/c%3A/Users/ritth/code/Strive/Strive-Exercises/Chapter%2002/01.%20Intro%20to%20ML/Part%202/ml2.ipynb#ch0000017?line=21'>22</a>\u001b[0m     denominator \u001b[39m+\u001b[39m\u001b[39m=\u001b[39m (y_i \u001b[39m-\u001b[39m y\u001b[39m.\u001b[39mmean())\u001b[39m*\u001b[39m\u001b[39m*\u001b[39m\u001b[39m2\u001b[39m\n\u001b[0;32m     <a href='vscode-notebook-cell:/c%3A/Users/ritth/code/Strive/Strive-Exercises/Chapter%2002/01.%20Intro%20to%20ML/Part%202/ml2.ipynb#ch0000017?line=22'>23</a>\u001b[0m     \u001b[39mreturn\u001b[39;00m \u001b[39m1\u001b[39m \u001b[39m-\u001b[39m (numerator\u001b[39m/\u001b[39mdenominator)\n\u001b[1;32m---> <a href='vscode-notebook-cell:/c%3A/Users/ritth/code/Strive/Strive-Exercises/Chapter%2002/01.%20Intro%20to%20ML/Part%202/ml2.ipynb#ch0000017?line=27'>28</a>\u001b[0m r_squared(x_train, y_train, b, a)\n",
      "\u001b[1;32mc:\\Users\\ritth\\code\\Strive\\Strive-Exercises\\Chapter 02\\01. Intro to ML\\Part 2\\ml2.ipynb Cell 19'\u001b[0m in \u001b[0;36mr_squared\u001b[1;34m(x, y, slope, intercept)\u001b[0m\n\u001b[0;32m     <a href='vscode-notebook-cell:/c%3A/Users/ritth/code/Strive/Strive-Exercises/Chapter%2002/01.%20Intro%20to%20ML/Part%202/ml2.ipynb#ch0000017?line=13'>14</a>\u001b[0m denominator \u001b[39m=\u001b[39m \u001b[39m0\u001b[39m\n\u001b[0;32m     <a href='vscode-notebook-cell:/c%3A/Users/ritth/code/Strive/Strive-Exercises/Chapter%2002/01.%20Intro%20to%20ML/Part%202/ml2.ipynb#ch0000017?line=14'>15</a>\u001b[0m \u001b[39mfor\u001b[39;00m i \u001b[39min\u001b[39;00m \u001b[39mrange\u001b[39m(x\u001b[39m.\u001b[39mshape[\u001b[39m0\u001b[39m]):\n\u001b[1;32m---> <a href='vscode-notebook-cell:/c%3A/Users/ritth/code/Strive/Strive-Exercises/Chapter%2002/01.%20Intro%20to%20ML/Part%202/ml2.ipynb#ch0000017?line=15'>16</a>\u001b[0m     x_i \u001b[39m=\u001b[39m x[i]\n\u001b[0;32m     <a href='vscode-notebook-cell:/c%3A/Users/ritth/code/Strive/Strive-Exercises/Chapter%2002/01.%20Intro%20to%20ML/Part%202/ml2.ipynb#ch0000017?line=16'>17</a>\u001b[0m     y_i \u001b[39m=\u001b[39m y[i]\n\u001b[0;32m     <a href='vscode-notebook-cell:/c%3A/Users/ritth/code/Strive/Strive-Exercises/Chapter%2002/01.%20Intro%20to%20ML/Part%202/ml2.ipynb#ch0000017?line=17'>18</a>\u001b[0m     y_hat \u001b[39m=\u001b[39m slope\u001b[39m*\u001b[39mx_i \u001b[39m+\u001b[39m intercept\n",
      "File \u001b[1;32m~\\software\\anaconda\\envs\\strive\\lib\\site-packages\\pandas\\core\\series.py:882\u001b[0m, in \u001b[0;36mSeries.__getitem__\u001b[1;34m(self, key)\u001b[0m\n\u001b[0;32m    <a href='file:///c%3A/Users/ritth/software/anaconda/envs/strive/lib/site-packages/pandas/core/series.py?line=878'>879</a>\u001b[0m     \u001b[39mreturn\u001b[39;00m \u001b[39mself\u001b[39m\u001b[39m.\u001b[39m_values[key]\n\u001b[0;32m    <a href='file:///c%3A/Users/ritth/software/anaconda/envs/strive/lib/site-packages/pandas/core/series.py?line=880'>881</a>\u001b[0m \u001b[39melif\u001b[39;00m key_is_scalar:\n\u001b[1;32m--> <a href='file:///c%3A/Users/ritth/software/anaconda/envs/strive/lib/site-packages/pandas/core/series.py?line=881'>882</a>\u001b[0m     \u001b[39mreturn\u001b[39;00m \u001b[39mself\u001b[39;49m\u001b[39m.\u001b[39;49m_get_value(key)\n\u001b[0;32m    <a href='file:///c%3A/Users/ritth/software/anaconda/envs/strive/lib/site-packages/pandas/core/series.py?line=883'>884</a>\u001b[0m \u001b[39mif\u001b[39;00m is_hashable(key):\n\u001b[0;32m    <a href='file:///c%3A/Users/ritth/software/anaconda/envs/strive/lib/site-packages/pandas/core/series.py?line=884'>885</a>\u001b[0m     \u001b[39m# Otherwise index.get_value will raise InvalidIndexError\u001b[39;00m\n\u001b[0;32m    <a href='file:///c%3A/Users/ritth/software/anaconda/envs/strive/lib/site-packages/pandas/core/series.py?line=885'>886</a>\u001b[0m     \u001b[39mtry\u001b[39;00m:\n\u001b[0;32m    <a href='file:///c%3A/Users/ritth/software/anaconda/envs/strive/lib/site-packages/pandas/core/series.py?line=886'>887</a>\u001b[0m         \u001b[39m# For labels that don't resolve as scalars like tuples and frozensets\u001b[39;00m\n",
      "File \u001b[1;32m~\\software\\anaconda\\envs\\strive\\lib\\site-packages\\pandas\\core\\series.py:989\u001b[0m, in \u001b[0;36mSeries._get_value\u001b[1;34m(self, label, takeable)\u001b[0m\n\u001b[0;32m    <a href='file:///c%3A/Users/ritth/software/anaconda/envs/strive/lib/site-packages/pandas/core/series.py?line=985'>986</a>\u001b[0m     \u001b[39mreturn\u001b[39;00m \u001b[39mself\u001b[39m\u001b[39m.\u001b[39m_values[label]\n\u001b[0;32m    <a href='file:///c%3A/Users/ritth/software/anaconda/envs/strive/lib/site-packages/pandas/core/series.py?line=987'>988</a>\u001b[0m \u001b[39m# Similar to Index.get_value, but we do not fall back to positional\u001b[39;00m\n\u001b[1;32m--> <a href='file:///c%3A/Users/ritth/software/anaconda/envs/strive/lib/site-packages/pandas/core/series.py?line=988'>989</a>\u001b[0m loc \u001b[39m=\u001b[39m \u001b[39mself\u001b[39;49m\u001b[39m.\u001b[39;49mindex\u001b[39m.\u001b[39;49mget_loc(label)\n\u001b[0;32m    <a href='file:///c%3A/Users/ritth/software/anaconda/envs/strive/lib/site-packages/pandas/core/series.py?line=989'>990</a>\u001b[0m \u001b[39mreturn\u001b[39;00m \u001b[39mself\u001b[39m\u001b[39m.\u001b[39mindex\u001b[39m.\u001b[39m_get_values_for_loc(\u001b[39mself\u001b[39m, loc, label)\n",
      "File \u001b[1;32m~\\software\\anaconda\\envs\\strive\\lib\\site-packages\\pandas\\core\\indexes\\base.py:2897\u001b[0m, in \u001b[0;36mIndex.get_loc\u001b[1;34m(self, key, method, tolerance)\u001b[0m\n\u001b[0;32m   <a href='file:///c%3A/Users/ritth/software/anaconda/envs/strive/lib/site-packages/pandas/core/indexes/base.py?line=2894'>2895</a>\u001b[0m         \u001b[39mreturn\u001b[39;00m \u001b[39mself\u001b[39m\u001b[39m.\u001b[39m_engine\u001b[39m.\u001b[39mget_loc(casted_key)\n\u001b[0;32m   <a href='file:///c%3A/Users/ritth/software/anaconda/envs/strive/lib/site-packages/pandas/core/indexes/base.py?line=2895'>2896</a>\u001b[0m     \u001b[39mexcept\u001b[39;00m \u001b[39mKeyError\u001b[39;00m \u001b[39mas\u001b[39;00m err:\n\u001b[1;32m-> <a href='file:///c%3A/Users/ritth/software/anaconda/envs/strive/lib/site-packages/pandas/core/indexes/base.py?line=2896'>2897</a>\u001b[0m         \u001b[39mraise\u001b[39;00m \u001b[39mKeyError\u001b[39;00m(key) \u001b[39mfrom\u001b[39;00m \u001b[39merr\u001b[39;00m\n\u001b[0;32m   <a href='file:///c%3A/Users/ritth/software/anaconda/envs/strive/lib/site-packages/pandas/core/indexes/base.py?line=2898'>2899</a>\u001b[0m \u001b[39mif\u001b[39;00m tolerance \u001b[39mis\u001b[39;00m \u001b[39mnot\u001b[39;00m \u001b[39mNone\u001b[39;00m:\n\u001b[0;32m   <a href='file:///c%3A/Users/ritth/software/anaconda/envs/strive/lib/site-packages/pandas/core/indexes/base.py?line=2899'>2900</a>\u001b[0m     tolerance \u001b[39m=\u001b[39m \u001b[39mself\u001b[39m\u001b[39m.\u001b[39m_convert_tolerance(tolerance, np\u001b[39m.\u001b[39masarray(key))\n",
      "\u001b[1;31mKeyError\u001b[0m: 2"
     ]
    }
   ],
   "source": [
    "## check the formula in google\n",
    "\n",
    "def r_squared(x, y, slope, intercept):\n",
    "    \"\"\"\n",
    "    computes and returns the coefficient of determination\n",
    "\n",
    "    Input:\n",
    "    x and y as array of floats\n",
    "\n",
    "    Output:\n",
    "    coefficient of determination (float)\n",
    "    \"\"\"\n",
    "    numerator = 0\n",
    "    denominator = 0\n",
    "    for i in range(x.shape[0]):\n",
    "        x_i = x[i]\n",
    "        y_i = y[i]\n",
    "        y_hat = slope*x_i + intercept\n",
    "\n",
    "\n",
    "    numerator += (y_i - y_hat)**2\n",
    "    denominator += (y_i - y.mean())**2\n",
    "    return 1 - (numerator/denominator)\n",
    "\n",
    "\n",
    "\n",
    "\n",
    "r_squared(x_train, y_train, b, a)"
   ]
  }
 ],
 "metadata": {
  "kernelspec": {
   "display_name": "Python 3.8.13 ('deep')",
   "language": "python",
   "name": "python3"
  },
  "language_info": {
   "codemirror_mode": {
    "name": "ipython",
    "version": 3
   },
   "file_extension": ".py",
   "mimetype": "text/x-python",
   "name": "python",
   "nbconvert_exporter": "python",
   "pygments_lexer": "ipython3",
   "version": "3.8.13"
  },
  "vscode": {
   "interpreter": {
    "hash": "8abb0779bf248a90442b2ba375cb2dc444ddbc86bf34dd34983763988490020e"
   }
  }
 },
 "nbformat": 4,
 "nbformat_minor": 2
}
