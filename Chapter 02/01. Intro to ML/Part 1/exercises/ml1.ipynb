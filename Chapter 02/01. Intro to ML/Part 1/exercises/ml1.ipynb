{
 "cells": [
  {
   "cell_type": "markdown",
   "metadata": {
    "deletable": false,
    "editable": false,
    "nbgrader": {
     "cell_type": "markdown",
     "checksum": "425b290b3300794b0c51490054efb061",
     "grade": false,
     "grade_id": "cell-d16f9036bd325625",
     "locked": true,
     "schema_version": 3,
     "solution": false,
     "task": false
    }
   },
   "source": [
    "<div style=\"background:#222222; color:#ffffff; padding:20px\">\n",
    "<h1 align=\"center\">Guided ML With The Iris Dataset</h1>\n",
    "\n",
    "<h2 align=\"center\" tyle=\"color:#01ff84\" >Learning type | Activity type | Objective |</h2>\n",
    "<h2 align=\"center\">| Supervised | Multiclass classification | Identify a flower's class |</h2>\n",
    "\n",
    "\n",
    "<div>"
   ]
  },
  {
   "cell_type": "markdown",
   "metadata": {
    "deletable": false,
    "editable": false,
    "nbgrader": {
     "cell_type": "markdown",
     "checksum": "829109418410f732b20fa5260845eae2",
     "grade": false,
     "grade_id": "cell-c273e6623fe661ab",
     "locked": true,
     "schema_version": 3,
     "solution": false,
     "task": false
    }
   },
   "source": [
    "Contents:\n",
    "\n",
    "1. Loading the data\n",
    "2. Setting up supervised learning problem (selecting features)\n",
    "3. Creating a first model\n",
    "    - Creating train and test datasets\n",
    "    - Normalizing train and test\n",
    "    - Fitting and predicting\n",
    "4. Evaluate the frist model predictions\n",
    "5. Crossvalidation of the model\n",
    "6. Creating an end to end ML pipeline\n",
    "    - Train/Test Split\n",
    "    - Normalize\n",
    "    - Crossvalidations\n",
    "    - Model\n",
    "    - fitting and predicting"
   ]
  },
  {
   "cell_type": "markdown",
   "metadata": {
    "deletable": false,
    "editable": false,
    "nbgrader": {
     "cell_type": "markdown",
     "checksum": "8d08b8142820842aefcd5c956a3206ac",
     "grade": false,
     "grade_id": "cell-b9b45906f7798060",
     "locked": true,
     "schema_version": 3,
     "solution": false,
     "task": false
    }
   },
   "source": [
    "## Instructions with NBGrader removed\n",
    "\n",
    "Complete the cells beginning with `# YOUR CODE HERE` and run the subsequent cells to check your code."
   ]
  },
  {
   "cell_type": "markdown",
   "metadata": {
    "deletable": false,
    "editable": false,
    "nbgrader": {
     "cell_type": "markdown",
     "checksum": "f6f9da48ae5f9afe18e5f66e254f2c8e",
     "grade": false,
     "grade_id": "cell-ecfedf24107f7412",
     "locked": true,
     "schema_version": 3,
     "solution": false,
     "task": false
    }
   },
   "source": [
    "\n",
    "Contents:\n",
    "1. Loading the data\n",
    "2. Setting up supervised learning problem (selecting features)\n",
    "3. Creating a first model\n",
    "    - Creating train and test datasets\n",
    "    - Normalizing train and test\n",
    "    - Fitting and predicting\n",
    "4. Evaluate the frist model predictions\n",
    "5. Crossvalidation of the model\n",
    "6. Creating an end to end ML pipeline\n",
    "    - Train/Test Split\n",
    "    - Normalize\n",
    "    - Crossvalidations\n",
    "    - Model\n",
    "    - fitting and predicting"
   ]
  },
  {
   "cell_type": "markdown",
   "metadata": {
    "deletable": false,
    "editable": false,
    "nbgrader": {
     "cell_type": "markdown",
     "checksum": "d550a34573fd8f474e045823d568a379",
     "grade": false,
     "grade_id": "cell-d265ce864af311cc",
     "locked": true,
     "schema_version": 3,
     "solution": false,
     "task": false
    }
   },
   "source": [
    "## About the dataset\n",
    "\n",
    "[Iris](https://archive.ics.uci.edu/ml/datasets/iris) is a well-known multiclass dataset. It contains 3 classes of flowers with 50 examples each. There are a total of 4 features for each flower.\n",
    "\n",
    "![](./classic-datasets/images/Iris-versicolor-21_1.jpg)"
   ]
  },
  {
   "cell_type": "markdown",
   "metadata": {
    "deletable": false,
    "editable": false,
    "nbgrader": {
     "cell_type": "markdown",
     "checksum": "87b95fe75781b483f205b07196ee8d7f",
     "grade": false,
     "grade_id": "cell-970959de1583c6aa",
     "locked": true,
     "schema_version": 3,
     "solution": false,
     "task": false
    }
   },
   "source": [
    "## Package setups\n",
    "\n",
    "1. Run the following two cells to initalize the required libraries. "
   ]
  },
  {
   "cell_type": "code",
   "execution_count": 1,
   "metadata": {},
   "outputs": [
    {
     "data": {
      "text/plain": [
       "'C:\\\\Users\\\\ritth\\\\software\\\\anaconda\\\\envs\\\\strive\\\\python.exe'"
      ]
     },
     "execution_count": 1,
     "metadata": {},
     "output_type": "execute_result"
    }
   ],
   "source": [
    "# to debug package errors\n",
    "import sys\n",
    "sys.path\n",
    "sys.executable\n"
   ]
  },
  {
   "cell_type": "code",
   "execution_count": 2,
   "metadata": {},
   "outputs": [],
   "source": [
    "# Import needed packages\n",
    "# You may add or remove packages should you need them\n",
    "import numpy as np\n",
    "import matplotlib\n",
    "import matplotlib.pyplot as plt\n",
    "import seaborn as sns\n",
    "import pandas as pd\n",
    "from sklearn import datasets\n",
    "from sklearn import model_selection\n",
    "from sklearn.preprocessing import StandardScaler\n",
    "from sklearn import preprocessing\n",
    "from sklearn.linear_model import LogisticRegression\n",
    "from sklearn.model_selection import train_test_split, cross_validate\n",
    "from sklearn.pipeline import make_pipeline\n",
    "\n",
    "# Display plots inline and change plot resolution to retina\n",
    "%matplotlib inline\n",
    "%config InlineBackend.figure_format = 'retina'\n",
    "# Set Seaborn aesthetic parameters to defaults\n",
    "sns.set()"
   ]
  },
  {
   "cell_type": "markdown",
   "metadata": {
    "deletable": false,
    "editable": false,
    "nbgrader": {
     "cell_type": "markdown",
     "checksum": "a339b0712c560653440a7d36ab5e8bc8",
     "grade": false,
     "grade_id": "cell-c1bf14dba6281d8f",
     "locked": true,
     "schema_version": 3,
     "solution": false,
     "task": false
    }
   },
   "source": [
    "## Step 1: Loading the data\n",
    "\n",
    "1. Load the iris dataset using ```datasets.load_iris()```\n",
    "2. Investigate the data structure with ```.keys()```\n",
    "3. Construct a dataframe from the dataset\n",
    "4. Create a 'target' and a 'class' column that contains the target names and values\n",
    "5. Display a random sample of the dataframe "
   ]
  },
  {
   "cell_type": "code",
   "execution_count": 5,
   "metadata": {
    "deletable": false,
    "nbgrader": {
     "cell_type": "code",
     "checksum": "4779ca50002373e235c91b4bc239fd44",
     "grade": false,
     "grade_id": "cell-c92cca7755a29a2c",
     "locked": false,
     "schema_version": 3,
     "solution": true,
     "task": false
    }
   },
   "outputs": [],
   "source": [
    "def load_data():\n",
    "    #load the dataset\n",
    "    #return the dataset\n",
    "    \n",
    "    return datasets.load_iris()\n",
    "    "
   ]
  },
  {
   "cell_type": "code",
   "execution_count": 6,
   "metadata": {
    "deletable": false,
    "editable": false,
    "nbgrader": {
     "cell_type": "code",
     "checksum": "2dff5e326550ba31c1bb6ba5d90e251e",
     "grade": true,
     "grade_id": "cell-6955aa3f0eb9b484",
     "locked": true,
     "points": 1,
     "schema_version": 3,
     "solution": false,
     "task": false
    }
   },
   "outputs": [],
   "source": [
    "assert load_data()['data'].shape == (150,4)"
   ]
  },
  {
   "cell_type": "code",
   "execution_count": 8,
   "metadata": {},
   "outputs": [
    {
     "data": {
      "text/plain": [
       "dict_keys(['data', 'target', 'frame', 'target_names', 'DESCR', 'feature_names', 'filename', 'data_module'])"
      ]
     },
     "execution_count": 8,
     "metadata": {},
     "output_type": "execute_result"
    }
   ],
   "source": [
    "# to check the dicitionary keys\n",
    "load_data().keys()"
   ]
  },
  {
   "cell_type": "code",
   "execution_count": 7,
   "metadata": {},
   "outputs": [
    {
     "data": {
      "text/plain": [
       "['sepal length (cm)',\n",
       " 'sepal width (cm)',\n",
       " 'petal length (cm)',\n",
       " 'petal width (cm)']"
      ]
     },
     "execution_count": 7,
     "metadata": {},
     "output_type": "execute_result"
    }
   ],
   "source": [
    "dataset = load_data()\n",
    "load_data().feature_names"
   ]
  },
  {
   "cell_type": "code",
   "execution_count": 9,
   "metadata": {},
   "outputs": [
    {
     "data": {
      "text/plain": [
       "array(['setosa', 'versicolor', 'virginica'], dtype='<U10')"
      ]
     },
     "execution_count": 9,
     "metadata": {},
     "output_type": "execute_result"
    }
   ],
   "source": [
    "dataset['target_names']"
   ]
  },
  {
   "cell_type": "code",
   "execution_count": 27,
   "metadata": {
    "deletable": false,
    "nbgrader": {
     "cell_type": "code",
     "checksum": "0854adf2bd82feb9c7409fcff160ea6a",
     "grade": false,
     "grade_id": "cell-054f7e75dfc37e15",
     "locked": false,
     "schema_version": 3,
     "solution": true,
     "task": false
    }
   },
   "outputs": [
    {
     "ename": "ValueError",
     "evalue": "Length of values (4) does not match length of index (150)",
     "output_type": "error",
     "traceback": [
      "\u001b[1;31m---------------------------------------------------------------------------\u001b[0m",
      "\u001b[1;31mValueError\u001b[0m                                Traceback (most recent call last)",
      "\u001b[1;32mc:\\Users\\ritth\\code\\Strive\\Strive-Exercises\\Chapter 02\\01. Intro to ML\\Part 1\\exercises\\ml1.ipynb Cell 15'\u001b[0m in \u001b[0;36m<cell line: 19>\u001b[1;34m()\u001b[0m\n\u001b[0;32m     <a href='vscode-notebook-cell:/c%3A/Users/ritth/code/Strive/Strive-Exercises/Chapter%2002/01.%20Intro%20to%20ML/Part%201/exercises/ml1.ipynb#ch0000013?line=11'>12</a>\u001b[0m     \u001b[39m# # getting target\u001b[39;00m\n\u001b[0;32m     <a href='vscode-notebook-cell:/c%3A/Users/ritth/code/Strive/Strive-Exercises/Chapter%2002/01.%20Intro%20to%20ML/Part%201/exercises/ml1.ipynb#ch0000013?line=12'>13</a>\u001b[0m     \u001b[39m# df['target'] = dataset['target']\u001b[39;00m\n\u001b[0;32m     <a href='vscode-notebook-cell:/c%3A/Users/ritth/code/Strive/Strive-Exercises/Chapter%2002/01.%20Intro%20to%20ML/Part%201/exercises/ml1.ipynb#ch0000013?line=13'>14</a>\u001b[0m \n\u001b[0;32m     <a href='vscode-notebook-cell:/c%3A/Users/ritth/code/Strive/Strive-Exercises/Chapter%2002/01.%20Intro%20to%20ML/Part%201/exercises/ml1.ipynb#ch0000013?line=14'>15</a>\u001b[0m     \u001b[39m# # setting the values\u001b[39;00m\n\u001b[0;32m     <a href='vscode-notebook-cell:/c%3A/Users/ritth/code/Strive/Strive-Exercises/Chapter%2002/01.%20Intro%20to%20ML/Part%201/exercises/ml1.ipynb#ch0000013?line=15'>16</a>\u001b[0m     \u001b[39m# df['class'] = df['target'].map({0:'setosa', 1:'versicolor', 2:'virginica'})\u001b[39;00m\n\u001b[0;32m     <a href='vscode-notebook-cell:/c%3A/Users/ritth/code/Strive/Strive-Exercises/Chapter%2002/01.%20Intro%20to%20ML/Part%201/exercises/ml1.ipynb#ch0000013?line=16'>17</a>\u001b[0m     \u001b[39mreturn\u001b[39;00m df[\u001b[39m'\u001b[39m\u001b[39mcolumns\u001b[39m\u001b[39m'\u001b[39m]\n\u001b[1;32m---> <a href='vscode-notebook-cell:/c%3A/Users/ritth/code/Strive/Strive-Exercises/Chapter%2002/01.%20Intro%20to%20ML/Part%201/exercises/ml1.ipynb#ch0000013?line=18'>19</a>\u001b[0m dataset_to_pandas()\n",
      "\u001b[1;32mc:\\Users\\ritth\\code\\Strive\\Strive-Exercises\\Chapter 02\\01. Intro to ML\\Part 1\\exercises\\ml1.ipynb Cell 15'\u001b[0m in \u001b[0;36mdataset_to_pandas\u001b[1;34m()\u001b[0m\n\u001b[0;32m      <a href='vscode-notebook-cell:/c%3A/Users/ritth/code/Strive/Strive-Exercises/Chapter%2002/01.%20Intro%20to%20ML/Part%201/exercises/ml1.ipynb#ch0000013?line=6'>7</a>\u001b[0m df \u001b[39m=\u001b[39m pd\u001b[39m.\u001b[39mDataFrame(dataset[\u001b[39m'\u001b[39m\u001b[39mdata\u001b[39m\u001b[39m'\u001b[39m], columns \u001b[39m=\u001b[39m dataset[\u001b[39m'\u001b[39m\u001b[39mfeature_names\u001b[39m\u001b[39m'\u001b[39m])\n\u001b[0;32m      <a href='vscode-notebook-cell:/c%3A/Users/ritth/code/Strive/Strive-Exercises/Chapter%2002/01.%20Intro%20to%20ML/Part%201/exercises/ml1.ipynb#ch0000013?line=8'>9</a>\u001b[0m \u001b[39m# clean column (cm)\u001b[39;00m\n\u001b[1;32m---> <a href='vscode-notebook-cell:/c%3A/Users/ritth/code/Strive/Strive-Exercises/Chapter%2002/01.%20Intro%20to%20ML/Part%201/exercises/ml1.ipynb#ch0000013?line=9'>10</a>\u001b[0m df[\u001b[39m'\u001b[39m\u001b[39mcolumns\u001b[39m\u001b[39m'\u001b[39m] \u001b[39m=\u001b[39m df\u001b[39m.\u001b[39mcolumns\u001b[39m.\u001b[39mstr\u001b[39m.\u001b[39mreplace(\u001b[39m'\u001b[39m\u001b[39m\\\u001b[39m\u001b[39m(cm\u001b[39m\u001b[39m\\\u001b[39m\u001b[39m)\u001b[39m\u001b[39m'\u001b[39m, \u001b[39m\"\u001b[39m\u001b[39m\"\u001b[39m)\u001b[39m.\u001b[39mstr\u001b[39m.\u001b[39mstrip()\n\u001b[0;32m     <a href='vscode-notebook-cell:/c%3A/Users/ritth/code/Strive/Strive-Exercises/Chapter%2002/01.%20Intro%20to%20ML/Part%201/exercises/ml1.ipynb#ch0000013?line=11'>12</a>\u001b[0m \u001b[39m# # getting target\u001b[39;00m\n\u001b[0;32m     <a href='vscode-notebook-cell:/c%3A/Users/ritth/code/Strive/Strive-Exercises/Chapter%2002/01.%20Intro%20to%20ML/Part%201/exercises/ml1.ipynb#ch0000013?line=12'>13</a>\u001b[0m \u001b[39m# df['target'] = dataset['target']\u001b[39;00m\n\u001b[0;32m     <a href='vscode-notebook-cell:/c%3A/Users/ritth/code/Strive/Strive-Exercises/Chapter%2002/01.%20Intro%20to%20ML/Part%201/exercises/ml1.ipynb#ch0000013?line=13'>14</a>\u001b[0m \n\u001b[0;32m     <a href='vscode-notebook-cell:/c%3A/Users/ritth/code/Strive/Strive-Exercises/Chapter%2002/01.%20Intro%20to%20ML/Part%201/exercises/ml1.ipynb#ch0000013?line=14'>15</a>\u001b[0m \u001b[39m# # setting the values\u001b[39;00m\n\u001b[0;32m     <a href='vscode-notebook-cell:/c%3A/Users/ritth/code/Strive/Strive-Exercises/Chapter%2002/01.%20Intro%20to%20ML/Part%201/exercises/ml1.ipynb#ch0000013?line=15'>16</a>\u001b[0m \u001b[39m# df['class'] = df['target'].map({0:'setosa', 1:'versicolor', 2:'virginica'})\u001b[39;00m\n\u001b[0;32m     <a href='vscode-notebook-cell:/c%3A/Users/ritth/code/Strive/Strive-Exercises/Chapter%2002/01.%20Intro%20to%20ML/Part%201/exercises/ml1.ipynb#ch0000013?line=16'>17</a>\u001b[0m \u001b[39mreturn\u001b[39;00m df[\u001b[39m'\u001b[39m\u001b[39mcolumns\u001b[39m\u001b[39m'\u001b[39m]\n",
      "File \u001b[1;32m~\\software\\anaconda\\envs\\strive\\lib\\site-packages\\pandas\\core\\frame.py:3040\u001b[0m, in \u001b[0;36mDataFrame.__setitem__\u001b[1;34m(self, key, value)\u001b[0m\n\u001b[0;32m   <a href='file:///c%3A/Users/ritth/software/anaconda/envs/strive/lib/site-packages/pandas/core/frame.py?line=3036'>3037</a>\u001b[0m     \u001b[39mself\u001b[39m\u001b[39m.\u001b[39m_setitem_array(key, value)\n\u001b[0;32m   <a href='file:///c%3A/Users/ritth/software/anaconda/envs/strive/lib/site-packages/pandas/core/frame.py?line=3037'>3038</a>\u001b[0m \u001b[39melse\u001b[39;00m:\n\u001b[0;32m   <a href='file:///c%3A/Users/ritth/software/anaconda/envs/strive/lib/site-packages/pandas/core/frame.py?line=3038'>3039</a>\u001b[0m     \u001b[39m# set column\u001b[39;00m\n\u001b[1;32m-> <a href='file:///c%3A/Users/ritth/software/anaconda/envs/strive/lib/site-packages/pandas/core/frame.py?line=3039'>3040</a>\u001b[0m     \u001b[39mself\u001b[39;49m\u001b[39m.\u001b[39;49m_set_item(key, value)\n",
      "File \u001b[1;32m~\\software\\anaconda\\envs\\strive\\lib\\site-packages\\pandas\\core\\frame.py:3116\u001b[0m, in \u001b[0;36mDataFrame._set_item\u001b[1;34m(self, key, value)\u001b[0m\n\u001b[0;32m   <a href='file:///c%3A/Users/ritth/software/anaconda/envs/strive/lib/site-packages/pandas/core/frame.py?line=3105'>3106</a>\u001b[0m \u001b[39m\"\"\"\u001b[39;00m\n\u001b[0;32m   <a href='file:///c%3A/Users/ritth/software/anaconda/envs/strive/lib/site-packages/pandas/core/frame.py?line=3106'>3107</a>\u001b[0m \u001b[39mAdd series to DataFrame in specified column.\u001b[39;00m\n\u001b[0;32m   <a href='file:///c%3A/Users/ritth/software/anaconda/envs/strive/lib/site-packages/pandas/core/frame.py?line=3107'>3108</a>\u001b[0m \n\u001b[1;32m   (...)\u001b[0m\n\u001b[0;32m   <a href='file:///c%3A/Users/ritth/software/anaconda/envs/strive/lib/site-packages/pandas/core/frame.py?line=3112'>3113</a>\u001b[0m \u001b[39mensure homogeneity.\u001b[39;00m\n\u001b[0;32m   <a href='file:///c%3A/Users/ritth/software/anaconda/envs/strive/lib/site-packages/pandas/core/frame.py?line=3113'>3114</a>\u001b[0m \u001b[39m\"\"\"\u001b[39;00m\n\u001b[0;32m   <a href='file:///c%3A/Users/ritth/software/anaconda/envs/strive/lib/site-packages/pandas/core/frame.py?line=3114'>3115</a>\u001b[0m \u001b[39mself\u001b[39m\u001b[39m.\u001b[39m_ensure_valid_index(value)\n\u001b[1;32m-> <a href='file:///c%3A/Users/ritth/software/anaconda/envs/strive/lib/site-packages/pandas/core/frame.py?line=3115'>3116</a>\u001b[0m value \u001b[39m=\u001b[39m \u001b[39mself\u001b[39;49m\u001b[39m.\u001b[39;49m_sanitize_column(key, value)\n\u001b[0;32m   <a href='file:///c%3A/Users/ritth/software/anaconda/envs/strive/lib/site-packages/pandas/core/frame.py?line=3116'>3117</a>\u001b[0m NDFrame\u001b[39m.\u001b[39m_set_item(\u001b[39mself\u001b[39m, key, value)\n\u001b[0;32m   <a href='file:///c%3A/Users/ritth/software/anaconda/envs/strive/lib/site-packages/pandas/core/frame.py?line=3118'>3119</a>\u001b[0m \u001b[39m# check if we are modifying a copy\u001b[39;00m\n\u001b[0;32m   <a href='file:///c%3A/Users/ritth/software/anaconda/envs/strive/lib/site-packages/pandas/core/frame.py?line=3119'>3120</a>\u001b[0m \u001b[39m# try to set first as we want an invalid\u001b[39;00m\n\u001b[0;32m   <a href='file:///c%3A/Users/ritth/software/anaconda/envs/strive/lib/site-packages/pandas/core/frame.py?line=3120'>3121</a>\u001b[0m \u001b[39m# value exception to occur first\u001b[39;00m\n",
      "File \u001b[1;32m~\\software\\anaconda\\envs\\strive\\lib\\site-packages\\pandas\\core\\frame.py:3764\u001b[0m, in \u001b[0;36mDataFrame._sanitize_column\u001b[1;34m(self, key, value, broadcast)\u001b[0m\n\u001b[0;32m   <a href='file:///c%3A/Users/ritth/software/anaconda/envs/strive/lib/site-packages/pandas/core/frame.py?line=3758'>3759</a>\u001b[0m     value \u001b[39m=\u001b[39m sanitize_index(value, \u001b[39mself\u001b[39m\u001b[39m.\u001b[39mindex)\n\u001b[0;32m   <a href='file:///c%3A/Users/ritth/software/anaconda/envs/strive/lib/site-packages/pandas/core/frame.py?line=3760'>3761</a>\u001b[0m \u001b[39melif\u001b[39;00m \u001b[39misinstance\u001b[39m(value, Index) \u001b[39mor\u001b[39;00m is_sequence(value):\n\u001b[0;32m   <a href='file:///c%3A/Users/ritth/software/anaconda/envs/strive/lib/site-packages/pandas/core/frame.py?line=3761'>3762</a>\u001b[0m \n\u001b[0;32m   <a href='file:///c%3A/Users/ritth/software/anaconda/envs/strive/lib/site-packages/pandas/core/frame.py?line=3762'>3763</a>\u001b[0m     \u001b[39m# turn me into an ndarray\u001b[39;00m\n\u001b[1;32m-> <a href='file:///c%3A/Users/ritth/software/anaconda/envs/strive/lib/site-packages/pandas/core/frame.py?line=3763'>3764</a>\u001b[0m     value \u001b[39m=\u001b[39m sanitize_index(value, \u001b[39mself\u001b[39;49m\u001b[39m.\u001b[39;49mindex)\n\u001b[0;32m   <a href='file:///c%3A/Users/ritth/software/anaconda/envs/strive/lib/site-packages/pandas/core/frame.py?line=3764'>3765</a>\u001b[0m     \u001b[39mif\u001b[39;00m \u001b[39mnot\u001b[39;00m \u001b[39misinstance\u001b[39m(value, (np\u001b[39m.\u001b[39mndarray, Index)):\n\u001b[0;32m   <a href='file:///c%3A/Users/ritth/software/anaconda/envs/strive/lib/site-packages/pandas/core/frame.py?line=3765'>3766</a>\u001b[0m         \u001b[39mif\u001b[39;00m \u001b[39misinstance\u001b[39m(value, \u001b[39mlist\u001b[39m) \u001b[39mand\u001b[39;00m \u001b[39mlen\u001b[39m(value) \u001b[39m>\u001b[39m \u001b[39m0\u001b[39m:\n",
      "File \u001b[1;32m~\\software\\anaconda\\envs\\strive\\lib\\site-packages\\pandas\\core\\internals\\construction.py:747\u001b[0m, in \u001b[0;36msanitize_index\u001b[1;34m(data, index)\u001b[0m\n\u001b[0;32m    <a href='file:///c%3A/Users/ritth/software/anaconda/envs/strive/lib/site-packages/pandas/core/internals/construction.py?line=741'>742</a>\u001b[0m \u001b[39m\"\"\"\u001b[39;00m\n\u001b[0;32m    <a href='file:///c%3A/Users/ritth/software/anaconda/envs/strive/lib/site-packages/pandas/core/internals/construction.py?line=742'>743</a>\u001b[0m \u001b[39mSanitize an index type to return an ndarray of the underlying, pass\u001b[39;00m\n\u001b[0;32m    <a href='file:///c%3A/Users/ritth/software/anaconda/envs/strive/lib/site-packages/pandas/core/internals/construction.py?line=743'>744</a>\u001b[0m \u001b[39mthrough a non-Index.\u001b[39;00m\n\u001b[0;32m    <a href='file:///c%3A/Users/ritth/software/anaconda/envs/strive/lib/site-packages/pandas/core/internals/construction.py?line=744'>745</a>\u001b[0m \u001b[39m\"\"\"\u001b[39;00m\n\u001b[0;32m    <a href='file:///c%3A/Users/ritth/software/anaconda/envs/strive/lib/site-packages/pandas/core/internals/construction.py?line=745'>746</a>\u001b[0m \u001b[39mif\u001b[39;00m \u001b[39mlen\u001b[39m(data) \u001b[39m!=\u001b[39m \u001b[39mlen\u001b[39m(index):\n\u001b[1;32m--> <a href='file:///c%3A/Users/ritth/software/anaconda/envs/strive/lib/site-packages/pandas/core/internals/construction.py?line=746'>747</a>\u001b[0m     \u001b[39mraise\u001b[39;00m \u001b[39mValueError\u001b[39;00m(\n\u001b[0;32m    <a href='file:///c%3A/Users/ritth/software/anaconda/envs/strive/lib/site-packages/pandas/core/internals/construction.py?line=747'>748</a>\u001b[0m         \u001b[39m\"\u001b[39m\u001b[39mLength of values \u001b[39m\u001b[39m\"\u001b[39m\n\u001b[0;32m    <a href='file:///c%3A/Users/ritth/software/anaconda/envs/strive/lib/site-packages/pandas/core/internals/construction.py?line=748'>749</a>\u001b[0m         \u001b[39mf\u001b[39m\u001b[39m\"\u001b[39m\u001b[39m(\u001b[39m\u001b[39m{\u001b[39;00m\u001b[39mlen\u001b[39m(data)\u001b[39m}\u001b[39;00m\u001b[39m) \u001b[39m\u001b[39m\"\u001b[39m\n\u001b[0;32m    <a href='file:///c%3A/Users/ritth/software/anaconda/envs/strive/lib/site-packages/pandas/core/internals/construction.py?line=749'>750</a>\u001b[0m         \u001b[39m\"\u001b[39m\u001b[39mdoes not match length of index \u001b[39m\u001b[39m\"\u001b[39m\n\u001b[0;32m    <a href='file:///c%3A/Users/ritth/software/anaconda/envs/strive/lib/site-packages/pandas/core/internals/construction.py?line=750'>751</a>\u001b[0m         \u001b[39mf\u001b[39m\u001b[39m\"\u001b[39m\u001b[39m(\u001b[39m\u001b[39m{\u001b[39;00m\u001b[39mlen\u001b[39m(index)\u001b[39m}\u001b[39;00m\u001b[39m)\u001b[39m\u001b[39m\"\u001b[39m\n\u001b[0;32m    <a href='file:///c%3A/Users/ritth/software/anaconda/envs/strive/lib/site-packages/pandas/core/internals/construction.py?line=751'>752</a>\u001b[0m     )\n\u001b[0;32m    <a href='file:///c%3A/Users/ritth/software/anaconda/envs/strive/lib/site-packages/pandas/core/internals/construction.py?line=753'>754</a>\u001b[0m \u001b[39mif\u001b[39;00m \u001b[39misinstance\u001b[39m(data, np\u001b[39m.\u001b[39mndarray):\n\u001b[0;32m    <a href='file:///c%3A/Users/ritth/software/anaconda/envs/strive/lib/site-packages/pandas/core/internals/construction.py?line=754'>755</a>\u001b[0m \n\u001b[0;32m    <a href='file:///c%3A/Users/ritth/software/anaconda/envs/strive/lib/site-packages/pandas/core/internals/construction.py?line=755'>756</a>\u001b[0m     \u001b[39m# coerce datetimelike types\u001b[39;00m\n\u001b[0;32m    <a href='file:///c%3A/Users/ritth/software/anaconda/envs/strive/lib/site-packages/pandas/core/internals/construction.py?line=756'>757</a>\u001b[0m     \u001b[39mif\u001b[39;00m data\u001b[39m.\u001b[39mdtype\u001b[39m.\u001b[39mkind \u001b[39min\u001b[39;00m [\u001b[39m\"\u001b[39m\u001b[39mM\u001b[39m\u001b[39m\"\u001b[39m, \u001b[39m\"\u001b[39m\u001b[39mm\u001b[39m\u001b[39m\"\u001b[39m]:\n",
      "\u001b[1;31mValueError\u001b[0m: Length of values (4) does not match length of index (150)"
     ]
    }
   ],
   "source": [
    "def dataset_to_pandas():\n",
    "    #put the dataset into a pandas DF using the feature names as columnsç\n",
    "    #rename the column name so the dont include the '(cm)'\n",
    "    #add 2 columns one with the target and another with the target_names\n",
    "    \n",
    "    # create data frame\n",
    "    df = pd.DataFrame(dataset['data'], columns = dataset['feature_names'])\n",
    "\n",
    "    # clean column (cm)\n",
    "    df['columns'] = df.columns.str.replace('\\(cm\\)', \"\").str.strip()\n",
    "\n",
    "    # # getting target\n",
    "    # df['target'] = dataset['target']\n",
    "\n",
    "    # # setting the values\n",
    "    # df['class'] = df['target'].map({0:'setosa', 1:'versicolor', 2:'virginica'})\n",
    "    return \n",
    "\n",
    "dataset_to_pandas()"
   ]
  },
  {
   "cell_type": "code",
   "execution_count": 17,
   "metadata": {
    "deletable": false,
    "editable": false,
    "nbgrader": {
     "cell_type": "code",
     "checksum": "e803679e20976baff81ad4577a79bfec",
     "grade": true,
     "grade_id": "cell-b18a01895567bcda",
     "locked": true,
     "points": 2,
     "schema_version": 3,
     "solution": false,
     "task": false
    }
   },
   "outputs": [
    {
     "ename": "TypeError",
     "evalue": "'NoneType' object is not subscriptable",
     "output_type": "error",
     "traceback": [
      "\u001b[1;31m---------------------------------------------------------------------------\u001b[0m",
      "\u001b[1;31mTypeError\u001b[0m                                 Traceback (most recent call last)",
      "\u001b[1;32mc:\\Users\\ritth\\code\\Strive\\Strive-Exercises\\Chapter 02\\01. Intro to ML\\Part 1\\exercises\\ml1.ipynb Cell 16'\u001b[0m in \u001b[0;36m<cell line: 2>\u001b[1;34m()\u001b[0m\n\u001b[0;32m      <a href='vscode-notebook-cell:/c%3A/Users/ritth/code/Strive/Strive-Exercises/Chapter%2002/01.%20Intro%20to%20ML/Part%201/exercises/ml1.ipynb#ch0000014?line=0'>1</a>\u001b[0m df \u001b[39m=\u001b[39m dataset_to_pandas()\n\u001b[1;32m----> <a href='vscode-notebook-cell:/c%3A/Users/ritth/code/Strive/Strive-Exercises/Chapter%2002/01.%20Intro%20to%20ML/Part%201/exercises/ml1.ipynb#ch0000014?line=1'>2</a>\u001b[0m \u001b[39massert\u001b[39;00m df[\u001b[39m'\u001b[39;49m\u001b[39msepal length\u001b[39;49m\u001b[39m'\u001b[39;49m]\u001b[39m.\u001b[39mshape \u001b[39m==\u001b[39m (\u001b[39m150\u001b[39m,)\n\u001b[0;32m      <a href='vscode-notebook-cell:/c%3A/Users/ritth/code/Strive/Strive-Exercises/Chapter%2002/01.%20Intro%20to%20ML/Part%201/exercises/ml1.ipynb#ch0000014?line=2'>3</a>\u001b[0m \u001b[39massert\u001b[39;00m df[\u001b[39m'\u001b[39m\u001b[39msepal width\u001b[39m\u001b[39m'\u001b[39m]\u001b[39m.\u001b[39mshape \u001b[39m==\u001b[39m (\u001b[39m150\u001b[39m,)\n\u001b[0;32m      <a href='vscode-notebook-cell:/c%3A/Users/ritth/code/Strive/Strive-Exercises/Chapter%2002/01.%20Intro%20to%20ML/Part%201/exercises/ml1.ipynb#ch0000014?line=3'>4</a>\u001b[0m \u001b[39massert\u001b[39;00m df[\u001b[39m'\u001b[39m\u001b[39mpetal length\u001b[39m\u001b[39m'\u001b[39m]\u001b[39m.\u001b[39mshape \u001b[39m==\u001b[39m (\u001b[39m150\u001b[39m,)\n",
      "\u001b[1;31mTypeError\u001b[0m: 'NoneType' object is not subscriptable"
     ]
    }
   ],
   "source": [
    "df = dataset_to_pandas()\n",
    "assert df['sepal length'].shape == (150,)\n",
    "assert df['sepal width'].shape == (150,)\n",
    "assert df['petal length'].shape == (150,)\n",
    "assert df['petal width'].shape == (150,)\n",
    "assert df['target'].shape == (150,)\n",
    "assert df['class'].shape == (150,)\n"
   ]
  },
  {
   "cell_type": "markdown",
   "metadata": {},
   "source": [
    "### Question\n",
    "Find the X and y values we're looking for. Notice that y is categorical and thus, we could **one-hot encode it** if we are looking at **class** or we can just pick **target**. In order to one hot encode we have  to re-shape `y` it using the **.get_dummies** function. \n",
    "\n",
    "## For the purpose of this exercise, do not use hot encoding, go only for target but think about if you have to drop it somewhere or not..."
   ]
  },
  {
   "cell_type": "code",
   "execution_count": 12,
   "metadata": {},
   "outputs": [
    {
     "data": {
      "text/plain": [
       "<function pandas.core.reshape.reshape.get_dummies(data, prefix=None, prefix_sep='_', dummy_na=False, columns=None, sparse=False, drop_first=False, dtype=None) -> 'DataFrame'>"
      ]
     },
     "execution_count": 12,
     "metadata": {},
     "output_type": "execute_result"
    }
   ],
   "source": [
    "pd.get_dummies"
   ]
  },
  {
   "cell_type": "code",
   "execution_count": 13,
   "metadata": {},
   "outputs": [
    {
     "ename": "NameError",
     "evalue": "name 'dataset_to_pandas' is not defined",
     "output_type": "error",
     "traceback": [
      "\u001b[1;31m---------------------------------------------------------------------------\u001b[0m",
      "\u001b[1;31mNameError\u001b[0m                                 Traceback (most recent call last)",
      "\u001b[1;32mc:\\Users\\ritth\\code\\Strive\\Strive-Exercises\\Chapter 02\\01. Intro to ML\\Part 1\\exercises\\ml1.ipynb Cell 19'\u001b[0m in \u001b[0;36m<cell line: 1>\u001b[1;34m()\u001b[0m\n\u001b[1;32m----> <a href='vscode-notebook-cell:/c%3A/Users/ritth/code/Strive/Strive-Exercises/Chapter%2002/01.%20Intro%20to%20ML/Part%201/exercises/ml1.ipynb#ch0000016?line=0'>1</a>\u001b[0m df_iris \u001b[39m=\u001b[39m dataset_to_pandas()\n",
      "\u001b[1;31mNameError\u001b[0m: name 'dataset_to_pandas' is not defined"
     ]
    }
   ],
   "source": [
    "df_iris = dataset_to_pandas()\n"
   ]
  },
  {
   "cell_type": "code",
   "execution_count": null,
   "metadata": {},
   "outputs": [],
   "source": [
    "# check type\n",
    "df_iris.dtype()"
   ]
  },
  {
   "cell_type": "code",
   "execution_count": null,
   "metadata": {},
   "outputs": [],
   "source": [
    "# see class\n",
    "df_iris['class']"
   ]
  },
  {
   "cell_type": "code",
   "execution_count": null,
   "metadata": {},
   "outputs": [],
   "source": [
    "pd.get_dummies(df_iris)"
   ]
  },
  {
   "cell_type": "code",
   "execution_count": null,
   "metadata": {
    "deletable": false,
    "nbgrader": {
     "cell_type": "code",
     "checksum": "3a8ff0960c61f4785cbc8f88fd683036",
     "grade": false,
     "grade_id": "cell-fd162bfaf4394e79",
     "locked": false,
     "schema_version": 3,
     "solution": true,
     "task": false
    }
   },
   "outputs": [],
   "source": [
    "# virginica close to versicolor BAD\n",
    "#0 - setosa\n",
    "#1 - versicolor\n",
    "#2 - virginica \n",
    "\n",
    "# Same distance between all the classes GOOD\n",
    "#[1,0,0] - setosa\n",
    "#[0,1,0] - versicolor\n",
    "#[0,0,1] - virginica \n",
    "\n",
    "\n",
    "def ohe():\n",
    "    return pd.get_dummies(df_iris)"
   ]
  },
  {
   "cell_type": "code",
   "execution_count": null,
   "metadata": {
    "deletable": false,
    "editable": false,
    "nbgrader": {
     "cell_type": "code",
     "checksum": "fd1e5d3933256fa113642e421db19875",
     "grade": true,
     "grade_id": "cell-423f24383553b71a",
     "locked": true,
     "points": 1,
     "schema_version": 3,
     "solution": false,
     "task": false
    }
   },
   "outputs": [],
   "source": [
    "ohe_data = ohe()\n",
    "\n",
    "assert ohe_data.shape == (150,8)"
   ]
  },
  {
   "cell_type": "markdown",
   "metadata": {},
   "source": [
    "## Step 2: Setting up supervised learning problem (selecting features)\n",
    "\n",
    "Feature selection is an essential step in improving a model's perfromance. In the first version of the model we will use the **'sepal length'** and **'sepal width'** as predicting features. Later we will see the effect of adding additional features.\n",
    "\n",
    "1. Assign the values of the 'target' to Y as a numpy array\n",
    "2. Assign the remaining feature values to X as a numpy array\n",
    "3. Check the shape of X and Y. Check the first few values.\n",
    "    - Can we confirm our X and Y are created correctly?"
   ]
  },
  {
   "cell_type": "code",
   "execution_count": null,
   "metadata": {},
   "outputs": [],
   "source": [
    "# use reshape to get 1\n",
    "# run the code by step by step\n",
    "np.array(df_iris.target).reshape(-1,1).shape"
   ]
  },
  {
   "cell_type": "code",
   "execution_count": null,
   "metadata": {},
   "outputs": [],
   "source": [
    "# df_iris[['sepal length', 'sepal width']].values\n",
    "# values and to_numpy()\n",
    "\n",
    "df_iris[['sepal length', 'sepal width']].to_numpy().shape"
   ]
  },
  {
   "cell_type": "code",
   "execution_count": null,
   "metadata": {
    "deletable": false,
    "nbgrader": {
     "cell_type": "code",
     "checksum": "56b10067459820c4e0a12ebf6efe8b5b",
     "grade": false,
     "grade_id": "cell-c0cf28fd18447a0b",
     "locked": false,
     "schema_version": 3,
     "solution": true,
     "task": false
    }
   },
   "outputs": [],
   "source": [
    "def target_to_numpy():\n",
    "    return np.array(df_iris.target)\n",
    "\n",
    "def data_to_numpy():\n",
    "     return df_iris[['sepal length', 'sepal width']].to_numpy()\n",
    "    "
   ]
  },
  {
   "cell_type": "code",
   "execution_count": null,
   "metadata": {
    "deletable": false,
    "editable": false,
    "nbgrader": {
     "cell_type": "code",
     "checksum": "97b1e0d84441ff74af70eef303cb09da",
     "grade": true,
     "grade_id": "cell-aaf03dfa38041beb",
     "locked": true,
     "points": 1,
     "schema_version": 3,
     "solution": false,
     "task": false
    }
   },
   "outputs": [],
   "source": [
    "Y = target_to_numpy()\n",
    "X = data_to_numpy()\n",
    "assert isinstance(Y, np.ndarray)\n",
    "assert isinstance(X, np.ndarray)\n",
    "assert X.shape == (150,2)"
   ]
  },
  {
   "cell_type": "code",
   "execution_count": null,
   "metadata": {},
   "outputs": [],
   "source": [
    "#your code here\n",
    "X = df_iris[['sepal length', 'sepal width']].values\n",
    "print(X.shape)\n",
    "X[:5]"
   ]
  },
  {
   "cell_type": "markdown",
   "metadata": {},
   "source": [
    "## Step 3: Creating the first model\n",
    "\n",
    "In lecture we learned about creating a train and test datasets, normalizing, and fitting a model. In this step we will see how to build a simple version of this.\n",
    "\n",
    "We have to be careful when constructing our train and test datasets. First, when we create train and test datasets we have to be careful that we always have the same datapoints in each set. Otherwise our results won't be reproduceable or we might introduce a bias into our model.\n",
    "\n",
    "We also need to be attentive to when we normalize the data. What would be the effect of normalizing the data (i.e. with StandardScaler to a range between 0 - 1) before we create our train and test sets? Effectively we would use information in the test set to structure the values in the training set and vice versa. Therefore normalizing train and test independently is the preferred method.\n",
    "\n",
    "1. Create X_train, X_test, Y_train, Y_test using ```train_test_split()``` with an 80/20 train/test split. Look in the SKLearn documentation to understand how the function works.\n",
    "    - Inspect the first few rows of X_train.\n",
    "    - Run the cell a few times. Do the first few rows change?\n",
    "    - What option can we use in ```train_test_split()``` to stop this from happening?\n",
    "2. Normalize the train and test datasets with ```StandardScaler```\n",
    "    - We can fit the transform with ```.fit()``` and ```.transform()``` to apply it. Look in the documentation for an esample of how to do this.\n",
    "    - Does it make sense to normalize Y_train and Y_test?\n",
    "3. Initalize a ```LogisticRegression()``` model and use the ```.fit()``` method to initalize the first model.\n",
    "    - We will pass the X_train and Y_train variables to the ```.fit()``` method.\n",
    "    - Once the model is fit, use the ```.predict()``` with the X_test and save the output as predictions."
   ]
  },
  {
   "cell_type": "code",
   "execution_count": null,
   "metadata": {
    "deletable": false,
    "nbgrader": {
     "cell_type": "code",
     "checksum": "a1e55823f8c49a22a28af13f984d10ba",
     "grade": false,
     "grade_id": "cell-586cc3c4a3d849fa",
     "locked": false,
     "schema_version": 3,
     "solution": true,
     "task": false
    }
   },
   "outputs": [],
   "source": [
    "#split train and test data 80/20 use random_state=0, this is the state used for when the asserts were written\n",
    "#your code here\n",
    "X_train, X_test, Y_train, Y_test = 0,0,0,0\n",
    "\n",
    "# test with train_test_split\n",
    "X_train, X_test, Y_train, Y_test = train_test_split(x, y, test_size= 0.2, random_state=0)\n",
    "\n",
    "print(X_train.shape)\n",
    "print(Y_train.shape)\n",
    "print(X_test.shape)\n",
    "print(Y_test.shape)"
   ]
  },
  {
   "cell_type": "code",
   "execution_count": null,
   "metadata": {
    "deletable": false,
    "editable": false,
    "nbgrader": {
     "cell_type": "code",
     "checksum": "79e08b4d1d8ba96ace800f9f7544289a",
     "grade": true,
     "grade_id": "cell-4415454a211f5895",
     "locked": true,
     "points": 1,
     "schema_version": 3,
     "solution": false,
     "task": false
    }
   },
   "outputs": [],
   "source": [
    "assert X_train.shape == (120,2)\n",
    "assert Y_train.shape == (120,)\n",
    "assert X_test.shape  == (30,2)\n",
    "assert Y_test.shape  == (30,)"
   ]
  },
  {
   "cell_type": "code",
   "execution_count": null,
   "metadata": {},
   "outputs": [],
   "source": [
    "second_scalar = StandardScaler()\n",
    "\n",
    "# fit help to check mean and standard deviation\n",
    "second_scalar.fit(X_train)\n",
    "\n",
    "# transform help to convert fit into normalisation\n",
    "second_scalar.transform(X_train)"
   ]
  },
  {
   "cell_type": "code",
   "execution_count": null,
   "metadata": {
    "deletable": false,
    "nbgrader": {
     "cell_type": "code",
     "checksum": "cae2c49fb6dd8edd9da705b91681b634",
     "grade": false,
     "grade_id": "cell-d94703390548f2df",
     "locked": false,
     "schema_version": 3,
     "solution": true,
     "task": false
    }
   },
   "outputs": [],
   "source": [
    "# normalize the dataset\n",
    "# create and fit the scaler object on the training data\n",
    "\n",
    "scalar = StandardScaler()\n",
    "# in simple way we can write as\n",
    "scalar.fit_transform(X_train)\n",
    "\n",
    "X_train[:5]"
   ]
  },
  {
   "cell_type": "code",
   "execution_count": null,
   "metadata": {},
   "outputs": [],
   "source": [
    "# to check test we use only transform\n",
    "scalar.transform(X_test)\n",
    "\n",
    "X_test[:5]"
   ]
  },
  {
   "cell_type": "code",
   "execution_count": null,
   "metadata": {
    "deletable": false,
    "editable": false,
    "nbgrader": {
     "cell_type": "code",
     "checksum": "94c70e4e0a35aabf275dcfc54032c506",
     "grade": true,
     "grade_id": "cell-fd525045d90798a3",
     "locked": true,
     "points": 2,
     "schema_version": 3,
     "solution": false,
     "task": false
    }
   },
   "outputs": [],
   "source": [
    "assert np.amin(X_train) >= -2.5\n",
    "assert np.amax(X_train) <= 3.2\n",
    "assert np.amin(X_test) >= -2\n",
    "assert np.amin(X_test) <= 2.75"
   ]
  },
  {
   "cell_type": "code",
   "execution_count": null,
   "metadata": {
    "deletable": false,
    "nbgrader": {
     "cell_type": "code",
     "checksum": "38fcab794674e83ebb32a2828a429d4b",
     "grade": false,
     "grade_id": "cell-a91abe39c7261df3",
     "locked": false,
     "schema_version": 3,
     "solution": true,
     "task": false
    }
   },
   "outputs": [],
   "source": [
    "# initalize and fit with Logistic Regression\n",
    "prediction = 0\n",
    "\n",
    "# initalize the logistic regressor\n",
    "# make predictions\n",
    "model = LogisticRegression()\n",
    "\n",
    "\n"
   ]
  },
  {
   "cell_type": "code",
   "execution_count": null,
   "metadata": {
    "deletable": false,
    "editable": false,
    "nbgrader": {
     "cell_type": "code",
     "checksum": "47ce21dba76593cfaa123c1ab6e3faae",
     "grade": true,
     "grade_id": "cell-61e5bc16122b7220",
     "locked": true,
     "points": 2,
     "schema_version": 3,
     "solution": false,
     "task": false
    }
   },
   "outputs": [],
   "source": [
    "assert predictions.shape == (30,)"
   ]
  },
  {
   "cell_type": "markdown",
   "metadata": {
    "deletable": false,
    "editable": false,
    "nbgrader": {
     "cell_type": "markdown",
     "checksum": "0cf62aaed986a743938e4194ee854464",
     "grade": false,
     "grade_id": "cell-ad53c7b7761b7c33",
     "locked": true,
     "schema_version": 3,
     "solution": false,
     "task": false
    }
   },
   "source": [
    "## Step 4: Evaluate the frist model's predictions\n",
    "\n",
    "We will learn more about how to evaluate the performance of a classifier in later lessons. For now we will use % accuracy as our metric. It is important to know that this metric only helps us understand the specific performance of our model and not, for example, where we can improve it, or where it already perfoms well.\n",
    "\n",
    "1. Use ```.score()``` to evaluate the performance of our first model."
   ]
  },
  {
   "cell_type": "code",
   "execution_count": null,
   "metadata": {
    "deletable": false,
    "nbgrader": {
     "cell_type": "code",
     "checksum": "eee957f8a23e8bf11a08b81ca09b59de",
     "grade": false,
     "grade_id": "cell-a19f9db86d767c57",
     "locked": false,
     "schema_version": 3,
     "solution": true,
     "task": false
    }
   },
   "outputs": [],
   "source": [
    "score = 0\n",
    "# evaluating the performace of our first model\n"
   ]
  },
  {
   "cell_type": "code",
   "execution_count": null,
   "metadata": {
    "deletable": false,
    "editable": false,
    "nbgrader": {
     "cell_type": "code",
     "checksum": "b0ffe44569c3d8cfd1b662cb1eee741a",
     "grade": true,
     "grade_id": "cell-300a4e426c8fcfa1",
     "locked": true,
     "points": 1,
     "schema_version": 3,
     "solution": false,
     "task": false
    }
   },
   "outputs": [],
   "source": [
    "assert score >=0.7"
   ]
  },
  {
   "cell_type": "code",
   "execution_count": null,
   "metadata": {
    "deletable": false,
    "editable": false,
    "nbgrader": {
     "cell_type": "code",
     "checksum": "f5c847b79b21710ec7f481b2e5641562",
     "grade": true,
     "grade_id": "cell-f7dbd3aa1419397f",
     "locked": true,
     "points": 1,
     "schema_version": 3,
     "solution": false,
     "task": false
    }
   },
   "outputs": [],
   "source": [
    "assert score >=0.72"
   ]
  },
  {
   "cell_type": "code",
   "execution_count": null,
   "metadata": {
    "deletable": false,
    "editable": false,
    "nbgrader": {
     "cell_type": "code",
     "checksum": "ba1d8e7eeb90894ad0d9ad61f191cacc",
     "grade": true,
     "grade_id": "cell-3b6954a5b2f244cd",
     "locked": true,
     "points": 1,
     "schema_version": 3,
     "solution": false,
     "task": false
    }
   },
   "outputs": [],
   "source": [
    "assert score >=0.73"
   ]
  },
  {
   "cell_type": "markdown",
   "metadata": {
    "deletable": false,
    "editable": false,
    "nbgrader": {
     "cell_type": "markdown",
     "checksum": "c79bec6a741d60a82f6bcbaf802ea63a",
     "grade": false,
     "grade_id": "cell-5606fc0823aee705",
     "locked": true,
     "schema_version": 3,
     "solution": false,
     "task": false
    }
   },
   "source": [
    "## Step 5: Crossvalidation of the model\n",
    "Our first model achived ~90% accruacy. This is quite good. How do we know it is reproducable? If we run the model again and our performance is 85% which is correct? And what about improving our model? Can you think of one thing we can do to potentially improve the model?\n",
    "\n",
    "#### Crossvalidation\n",
    "Corssvalidation is when we create multiple X and Y datasets. On each dataset we train and fit the model. We then average the results and return a 'crossvalidated' accruacy.\n",
    "\n",
    "1. Initalize a new version of the model you trained above with the same paramters.\n",
    "2. Use ```cross_validate()``` to run the model with 5 crossvalidation folds. "
   ]
  },
  {
   "cell_type": "code",
   "execution_count": null,
   "metadata": {
    "deletable": false,
    "nbgrader": {
     "cell_type": "code",
     "checksum": "a94fe1023a3040a963c76b37ca85c8cb",
     "grade": false,
     "grade_id": "cell-49d1242d4949806f",
     "locked": false,
     "schema_version": 3,
     "solution": true,
     "task": false
    }
   },
   "outputs": [],
   "source": [
    "# model with cross validation\n",
    "\n",
    "# cross validate the training set\n",
    "clf_cv = 0\n",
    "CV = 0\n",
    "\n",
    "def print_scores(cv):\n",
    "    # print out cross validation scores\n",
    "    [print('Crossvalidation fold: {}  Accruacy: {}'.format(n, score)) for n, score in enumerate(cv['test_score'])]\n",
    "    # print out the mean of the cross validation\n",
    "    print('Mean train cross validation score {}'.format(cv['test_score'].mean()))\n",
    "    \n",
    "print_scores(cv)"
   ]
  },
  {
   "cell_type": "code",
   "execution_count": null,
   "metadata": {
    "deletable": false,
    "editable": false,
    "nbgrader": {
     "cell_type": "code",
     "checksum": "f654258178a1653e2150e77099a2517c",
     "grade": true,
     "grade_id": "cell-cbdb686462858d91",
     "locked": true,
     "points": 4,
     "schema_version": 3,
     "solution": false,
     "task": false
    }
   },
   "outputs": [],
   "source": [
    "assert len(cv['test_score']) == 5\n",
    "assert max(cv['test_score']) >= 0.85\n",
    "assert min(cv['test_score']) >= 0.69\n",
    "assert cv['test_score'].mean() >= 0.77"
   ]
  },
  {
   "cell_type": "markdown",
   "metadata": {
    "deletable": false,
    "editable": false,
    "nbgrader": {
     "cell_type": "markdown",
     "checksum": "3715a10f14e6e81bfbdd7fff9c516566",
     "grade": false,
     "grade_id": "cell-979159550aa72926",
     "locked": true,
     "schema_version": 3,
     "solution": false,
     "task": false
    }
   },
   "source": [
    "## Step 6: Creating an end to end ML pipeline\n",
    "Congraulations you've trained, crossvalidated, predicted, and evaluated your frist classifier. Now that you understand the basic steps we will look at a way to combine all these steps together.\n",
    "\n",
    "Before we go further think about what you would have to do if you wanted to change the model. Intalize a new model, change the vairables, redo the cross validation...etc. Seems like a lot. And when we have to change lots of code it is easy to make mistakes. And what if you wanted to try many models and see which one performed best? Or try changing many different features? How could you do it without writing each one out as we have?\n",
    "\n",
    "The solution is to use SKLearn's pipeline class. A pipeline is an object that will execute the various steps in the machine learning process. We can choose what elements we want in the pipeline and those that we do not. Once setup, we can rapidly change models, or input data and have it return our results in an ordered way.\n",
    "\n",
    "\n",
    "1. Initalize a scaler and a classifer object like we did previously.\n",
    "2. Use the ```make_pipeline()``` function to construct a transofmraiton pipeline for the scaler and the classifier\n",
    "3. Input the pipeline object to the cross_validator and evaluate with 5 folds.\n",
    "4. Print out your results (hint: make a function for repetitve tasks like printing)"
   ]
  },
  {
   "cell_type": "code",
   "execution_count": null,
   "metadata": {
    "deletable": false,
    "nbgrader": {
     "cell_type": "code",
     "checksum": "c911b68feeb3cc9856690815db075f50",
     "grade": false,
     "grade_id": "cell-82685348a4b1d16a",
     "locked": false,
     "schema_version": 3,
     "solution": true,
     "task": false
    }
   },
   "outputs": [],
   "source": [
    "# define the scaler\n",
    "# define the classifier\n",
    "# make the pipeline\n",
    "# run the cross validation\n",
    "# print results\n",
    "scaler = 0\n",
    "classifier = 0\n",
    "pipe = 0\n",
    "scores = 0\n"
   ]
  },
  {
   "cell_type": "code",
   "execution_count": null,
   "metadata": {
    "deletable": false,
    "editable": false,
    "nbgrader": {
     "cell_type": "code",
     "checksum": "b5c8f91e5b08221dee1527dffc0b2a25",
     "grade": true,
     "grade_id": "cell-0f5c78a78336a3c0",
     "locked": true,
     "points": 4,
     "schema_version": 3,
     "solution": false,
     "task": false
    }
   },
   "outputs": [],
   "source": [
    "assert type(pipe) == type(make_pipeline(scaler, classifier))\n",
    "assert len(cv['test_score']) == 5\n",
    "assert max(cv['test_score']) >= 0.83\n",
    "assert min(cv['test_score']) >= 0.69\n",
    "assert cv['test_score'].mean() >= 0.74"
   ]
  },
  {
   "cell_type": "markdown",
   "metadata": {},
   "source": [
    "## Challenge Exercise\n",
    "\n",
    "In this notebook we only used two features to predict the class of the flower. We also did not do any hypter parameter tuning. The challenge is to impove the prediction results. Some ideas we can try:\n",
    "1. Add features to the input and run the cross validation pipeline\n",
    "2. Investigate how to use ```GridSearchCV```, a powerful funtion that searches through hyperparmetrs and does cross validation.\n",
    "    - Hint: Input the pipeline directly into GridSearchCV\n",
    "3. Try a different models like RandomForest or SVM."
   ]
  },
  {
   "cell_type": "code",
   "execution_count": null,
   "metadata": {
    "deletable": false,
    "nbgrader": {
     "cell_type": "code",
     "checksum": "d9c5ac9e443f032b6d2e99fcef3fa7c3",
     "grade": false,
     "grade_id": "cell-f1ba9880447e80ec",
     "locked": false,
     "schema_version": 3,
     "solution": true,
     "task": false
    }
   },
   "outputs": [],
   "source": [
    "# YOUR CODE HERE\n",
    "raise NotImplementedError()"
   ]
  },
  {
   "cell_type": "code",
   "execution_count": null,
   "metadata": {
    "deletable": false,
    "nbgrader": {
     "cell_type": "code",
     "checksum": "690e0a731464fb3ff622b9f4bf584a2a",
     "grade": false,
     "grade_id": "cell-71c06d508e0294b0",
     "locked": false,
     "schema_version": 3,
     "solution": true,
     "task": false
    }
   },
   "outputs": [],
   "source": [
    "# YOUR CODE HERE\n",
    "raise NotImplementedError()"
   ]
  },
  {
   "cell_type": "code",
   "execution_count": null,
   "metadata": {
    "deletable": false,
    "nbgrader": {
     "cell_type": "code",
     "checksum": "00a800930107c91e913f6a2e94b3f9eb",
     "grade": false,
     "grade_id": "cell-230a4548c4b43eb7",
     "locked": false,
     "schema_version": 3,
     "solution": true,
     "task": false
    }
   },
   "outputs": [],
   "source": [
    "# YOUR CODE HERE\n",
    "raise NotImplementedError()"
   ]
  },
  {
   "cell_type": "code",
   "execution_count": null,
   "metadata": {
    "deletable": false,
    "nbgrader": {
     "cell_type": "code",
     "checksum": "532f0558f08bb8508d769ed40f9caea7",
     "grade": false,
     "grade_id": "cell-be4475eea0463f76",
     "locked": false,
     "schema_version": 3,
     "solution": true,
     "task": false
    }
   },
   "outputs": [],
   "source": [
    "# YOUR CODE HERE\n",
    "raise NotImplementedError()"
   ]
  },
  {
   "cell_type": "code",
   "execution_count": null,
   "metadata": {
    "deletable": false,
    "nbgrader": {
     "cell_type": "code",
     "checksum": "59d36e612fde5b4bb9059120c948dee4",
     "grade": false,
     "grade_id": "cell-b31a03b36b3beb45",
     "locked": false,
     "schema_version": 3,
     "solution": true,
     "task": false
    }
   },
   "outputs": [],
   "source": [
    "# YOUR CODE HERE\n",
    "raise NotImplementedError()"
   ]
  }
 ],
 "metadata": {
  "kernelspec": {
   "display_name": "Python 3",
   "language": "python",
   "name": "python3"
  },
  "language_info": {
   "codemirror_mode": {
    "name": "ipython",
    "version": 3
   },
   "file_extension": ".py",
   "mimetype": "text/x-python",
   "name": "python",
   "nbconvert_exporter": "python",
   "pygments_lexer": "ipython3",
   "version": "3.8.12"
  }
 },
 "nbformat": 4,
 "nbformat_minor": 2
}
