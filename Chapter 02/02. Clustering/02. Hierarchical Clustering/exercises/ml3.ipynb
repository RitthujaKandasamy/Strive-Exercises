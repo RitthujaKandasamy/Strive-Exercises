{
 "cells": [
  {
   "cell_type": "markdown",
   "metadata": {
    "deletable": false,
    "editable": false,
    "nbgrader": {
     "cell_type": "markdown",
     "checksum": "89eed0907f0119c6c6f6ef390cc54c08",
     "grade": false,
     "grade_id": "cell-33d26828be6e1038",
     "locked": true,
     "schema_version": 3,
     "solution": false,
     "task": false
    }
   },
   "source": [
    "# Exercise 10: Hierarchical clustering of the grain data\n",
    "\n",
    "In the video, you learnt that the SciPy `linkage()` function performs hierarchical clustering on an array of samples.  Use the `linkage()` function to obtain a hierarchical clustering of the grain samples, and use `dendrogram()` to visualize the result.  A sample of the grain measurements is provided in the array `samples`, while the variety of each grain sample is given by the list `varieties`.\n"
   ]
  },
  {
   "cell_type": "markdown",
   "metadata": {
    "deletable": false,
    "editable": false,
    "nbgrader": {
     "cell_type": "markdown",
     "checksum": "a6edca00fa71dea4330eb2c2ea98df0c",
     "grade": false,
     "grade_id": "cell-f184e018b98e7d52",
     "locked": true,
     "schema_version": 3,
     "solution": false,
     "task": false
    }
   },
   "source": [
    "**Step 1:** Import:\n",
    "\n",
    " + `linkage` and `dendrogram` from `scipy.cluster.hierarchy`.\n",
    " + `matplotlib.pyplot` as `plt`.\n",
    " + `pandas`\n",
    " + `load_iris` and `train_test_split`"
   ]
  },
  {
   "cell_type": "code",
   "execution_count": 1,
   "metadata": {},
   "outputs": [],
   "source": [
    "import pandas as pd\n",
    "import numpy as np\n",
    "from sklearn import datasets\n",
    "from sklearn.datasets import load_iris\n",
    "from sklearn.model_selection import train_test_split\n",
    "from scipy.cluster.hierarchy import linkage, dendrogram\n",
    "\n",
    "import matplotlib.pyplot as plt\n",
    "%matplotlib inline\n"
   ]
  },
  {
   "cell_type": "markdown",
   "metadata": {
    "deletable": false,
    "editable": false,
    "nbgrader": {
     "cell_type": "markdown",
     "checksum": "a13bdd9c406d550c5d3a2c33173a71d4",
     "grade": false,
     "grade_id": "cell-5d407d7746dba37b",
     "locked": true,
     "schema_version": 3,
     "solution": false,
     "task": false
    }
   },
   "source": [
    "**Step 2:** Load the dataset _(done for you)_."
   ]
  },
  {
   "cell_type": "code",
   "execution_count": 2,
   "metadata": {},
   "outputs": [],
   "source": [
    "# refer ml1 for more information\n",
    "def load_iris():\n",
    "    return datasets.load_iris()"
   ]
  },
  {
   "cell_type": "code",
   "execution_count": 3,
   "metadata": {
    "exercise": false
   },
   "outputs": [
    {
     "data": {
      "text/plain": [
       "dict_keys(['data', 'target', 'frame', 'target_names', 'DESCR', 'feature_names', 'filename', 'data_module'])"
      ]
     },
     "execution_count": 3,
     "metadata": {},
     "output_type": "execute_result"
    }
   ],
   "source": [
    "iris_data = load_iris()\n",
    "load_iris().keys()"
   ]
  },
  {
   "cell_type": "code",
   "execution_count": 4,
   "metadata": {
    "deletable": false,
    "nbgrader": {
     "cell_type": "code",
     "checksum": "f54a03afd97d0d9a682f62d00c5f8dc2",
     "grade": false,
     "grade_id": "cell-5b5863d4b8ed6db7",
     "locked": false,
     "schema_version": 3,
     "solution": true,
     "task": false
    }
   },
   "outputs": [
    {
     "data": {
      "text/html": [
       "<div>\n",
       "<style scoped>\n",
       "    .dataframe tbody tr th:only-of-type {\n",
       "        vertical-align: middle;\n",
       "    }\n",
       "\n",
       "    .dataframe tbody tr th {\n",
       "        vertical-align: top;\n",
       "    }\n",
       "\n",
       "    .dataframe thead th {\n",
       "        text-align: right;\n",
       "    }\n",
       "</style>\n",
       "<table border=\"1\" class=\"dataframe\">\n",
       "  <thead>\n",
       "    <tr style=\"text-align: right;\">\n",
       "      <th></th>\n",
       "      <th>sepal length</th>\n",
       "      <th>sepal width</th>\n",
       "      <th>petal length</th>\n",
       "      <th>petal width</th>\n",
       "      <th>target</th>\n",
       "      <th>class</th>\n",
       "    </tr>\n",
       "  </thead>\n",
       "  <tbody>\n",
       "    <tr>\n",
       "      <th>0</th>\n",
       "      <td>5.1</td>\n",
       "      <td>3.5</td>\n",
       "      <td>1.4</td>\n",
       "      <td>0.2</td>\n",
       "      <td>0</td>\n",
       "      <td>setosa</td>\n",
       "    </tr>\n",
       "    <tr>\n",
       "      <th>1</th>\n",
       "      <td>4.9</td>\n",
       "      <td>3.0</td>\n",
       "      <td>1.4</td>\n",
       "      <td>0.2</td>\n",
       "      <td>0</td>\n",
       "      <td>setosa</td>\n",
       "    </tr>\n",
       "    <tr>\n",
       "      <th>2</th>\n",
       "      <td>4.7</td>\n",
       "      <td>3.2</td>\n",
       "      <td>1.3</td>\n",
       "      <td>0.2</td>\n",
       "      <td>0</td>\n",
       "      <td>setosa</td>\n",
       "    </tr>\n",
       "    <tr>\n",
       "      <th>3</th>\n",
       "      <td>4.6</td>\n",
       "      <td>3.1</td>\n",
       "      <td>1.5</td>\n",
       "      <td>0.2</td>\n",
       "      <td>0</td>\n",
       "      <td>setosa</td>\n",
       "    </tr>\n",
       "    <tr>\n",
       "      <th>4</th>\n",
       "      <td>5.0</td>\n",
       "      <td>3.6</td>\n",
       "      <td>1.4</td>\n",
       "      <td>0.2</td>\n",
       "      <td>0</td>\n",
       "      <td>setosa</td>\n",
       "    </tr>\n",
       "    <tr>\n",
       "      <th>...</th>\n",
       "      <td>...</td>\n",
       "      <td>...</td>\n",
       "      <td>...</td>\n",
       "      <td>...</td>\n",
       "      <td>...</td>\n",
       "      <td>...</td>\n",
       "    </tr>\n",
       "    <tr>\n",
       "      <th>145</th>\n",
       "      <td>6.7</td>\n",
       "      <td>3.0</td>\n",
       "      <td>5.2</td>\n",
       "      <td>2.3</td>\n",
       "      <td>2</td>\n",
       "      <td>virginica</td>\n",
       "    </tr>\n",
       "    <tr>\n",
       "      <th>146</th>\n",
       "      <td>6.3</td>\n",
       "      <td>2.5</td>\n",
       "      <td>5.0</td>\n",
       "      <td>1.9</td>\n",
       "      <td>2</td>\n",
       "      <td>virginica</td>\n",
       "    </tr>\n",
       "    <tr>\n",
       "      <th>147</th>\n",
       "      <td>6.5</td>\n",
       "      <td>3.0</td>\n",
       "      <td>5.2</td>\n",
       "      <td>2.0</td>\n",
       "      <td>2</td>\n",
       "      <td>virginica</td>\n",
       "    </tr>\n",
       "    <tr>\n",
       "      <th>148</th>\n",
       "      <td>6.2</td>\n",
       "      <td>3.4</td>\n",
       "      <td>5.4</td>\n",
       "      <td>2.3</td>\n",
       "      <td>2</td>\n",
       "      <td>virginica</td>\n",
       "    </tr>\n",
       "    <tr>\n",
       "      <th>149</th>\n",
       "      <td>5.9</td>\n",
       "      <td>3.0</td>\n",
       "      <td>5.1</td>\n",
       "      <td>1.8</td>\n",
       "      <td>2</td>\n",
       "      <td>virginica</td>\n",
       "    </tr>\n",
       "  </tbody>\n",
       "</table>\n",
       "<p>150 rows × 6 columns</p>\n",
       "</div>"
      ],
      "text/plain": [
       "     sepal length  sepal width  petal length  petal width  target      class\n",
       "0             5.1          3.5           1.4          0.2       0     setosa\n",
       "1             4.9          3.0           1.4          0.2       0     setosa\n",
       "2             4.7          3.2           1.3          0.2       0     setosa\n",
       "3             4.6          3.1           1.5          0.2       0     setosa\n",
       "4             5.0          3.6           1.4          0.2       0     setosa\n",
       "..            ...          ...           ...          ...     ...        ...\n",
       "145           6.7          3.0           5.2          2.3       2  virginica\n",
       "146           6.3          2.5           5.0          1.9       2  virginica\n",
       "147           6.5          3.0           5.2          2.0       2  virginica\n",
       "148           6.2          3.4           5.4          2.3       2  virginica\n",
       "149           5.9          3.0           5.1          1.8       2  virginica\n",
       "\n",
       "[150 rows x 6 columns]"
      ]
     },
     "execution_count": 4,
     "metadata": {},
     "output_type": "execute_result"
    }
   ],
   "source": [
    "# Create pd DF the same way you did the first day\n",
    "# Create the class and target columns and remove de cm from the columns names\n",
    "# refer ml1 for more information\n",
    "\n",
    "def create_df():\n",
    "  df = pd.DataFrame(iris_data.data, columns = iris_data.feature_names) \n",
    "  df.columns = [i.strip(\" (cm)\") for i in df.columns.tolist()]\n",
    "\n",
    "  # iris_data['target'] or iris_data.target are same\n",
    "  df['target'] = iris_data.target\n",
    "  df['class'] = iris_data.target_names[iris_data.target]\n",
    "  return df\n",
    "\n",
    "create_df()"
   ]
  },
  {
   "cell_type": "code",
   "execution_count": 5,
   "metadata": {},
   "outputs": [
    {
     "data": {
      "text/html": [
       "<div>\n",
       "<style scoped>\n",
       "    .dataframe tbody tr th:only-of-type {\n",
       "        vertical-align: middle;\n",
       "    }\n",
       "\n",
       "    .dataframe tbody tr th {\n",
       "        vertical-align: top;\n",
       "    }\n",
       "\n",
       "    .dataframe thead th {\n",
       "        text-align: right;\n",
       "    }\n",
       "</style>\n",
       "<table border=\"1\" class=\"dataframe\">\n",
       "  <thead>\n",
       "    <tr style=\"text-align: right;\">\n",
       "      <th></th>\n",
       "      <th>sepal length</th>\n",
       "      <th>sepal width</th>\n",
       "      <th>petal length</th>\n",
       "      <th>petal width</th>\n",
       "      <th>target</th>\n",
       "      <th>class</th>\n",
       "    </tr>\n",
       "  </thead>\n",
       "  <tbody>\n",
       "    <tr>\n",
       "      <th>102</th>\n",
       "      <td>7.1</td>\n",
       "      <td>3.0</td>\n",
       "      <td>5.9</td>\n",
       "      <td>2.1</td>\n",
       "      <td>2</td>\n",
       "      <td>virginica</td>\n",
       "    </tr>\n",
       "    <tr>\n",
       "      <th>120</th>\n",
       "      <td>6.9</td>\n",
       "      <td>3.2</td>\n",
       "      <td>5.7</td>\n",
       "      <td>2.3</td>\n",
       "      <td>2</td>\n",
       "      <td>virginica</td>\n",
       "    </tr>\n",
       "    <tr>\n",
       "      <th>122</th>\n",
       "      <td>7.7</td>\n",
       "      <td>2.8</td>\n",
       "      <td>6.7</td>\n",
       "      <td>2.0</td>\n",
       "      <td>2</td>\n",
       "      <td>virginica</td>\n",
       "    </tr>\n",
       "    <tr>\n",
       "      <th>2</th>\n",
       "      <td>4.7</td>\n",
       "      <td>3.2</td>\n",
       "      <td>1.3</td>\n",
       "      <td>0.2</td>\n",
       "      <td>0</td>\n",
       "      <td>setosa</td>\n",
       "    </tr>\n",
       "    <tr>\n",
       "      <th>50</th>\n",
       "      <td>7.0</td>\n",
       "      <td>3.2</td>\n",
       "      <td>4.7</td>\n",
       "      <td>1.4</td>\n",
       "      <td>1</td>\n",
       "      <td>versicolor</td>\n",
       "    </tr>\n",
       "    <tr>\n",
       "      <th>146</th>\n",
       "      <td>6.3</td>\n",
       "      <td>2.5</td>\n",
       "      <td>5.0</td>\n",
       "      <td>1.9</td>\n",
       "      <td>2</td>\n",
       "      <td>virginica</td>\n",
       "    </tr>\n",
       "    <tr>\n",
       "      <th>98</th>\n",
       "      <td>5.1</td>\n",
       "      <td>2.5</td>\n",
       "      <td>3.0</td>\n",
       "      <td>1.1</td>\n",
       "      <td>1</td>\n",
       "      <td>versicolor</td>\n",
       "    </tr>\n",
       "    <tr>\n",
       "      <th>148</th>\n",
       "      <td>6.2</td>\n",
       "      <td>3.4</td>\n",
       "      <td>5.4</td>\n",
       "      <td>2.3</td>\n",
       "      <td>2</td>\n",
       "      <td>virginica</td>\n",
       "    </tr>\n",
       "    <tr>\n",
       "      <th>41</th>\n",
       "      <td>4.5</td>\n",
       "      <td>2.3</td>\n",
       "      <td>1.3</td>\n",
       "      <td>0.3</td>\n",
       "      <td>0</td>\n",
       "      <td>setosa</td>\n",
       "    </tr>\n",
       "    <tr>\n",
       "      <th>86</th>\n",
       "      <td>6.7</td>\n",
       "      <td>3.1</td>\n",
       "      <td>4.7</td>\n",
       "      <td>1.5</td>\n",
       "      <td>1</td>\n",
       "      <td>versicolor</td>\n",
       "    </tr>\n",
       "  </tbody>\n",
       "</table>\n",
       "</div>"
      ],
      "text/plain": [
       "     sepal length  sepal width  petal length  petal width  target       class\n",
       "102           7.1          3.0           5.9          2.1       2   virginica\n",
       "120           6.9          3.2           5.7          2.3       2   virginica\n",
       "122           7.7          2.8           6.7          2.0       2   virginica\n",
       "2             4.7          3.2           1.3          0.2       0      setosa\n",
       "50            7.0          3.2           4.7          1.4       1  versicolor\n",
       "146           6.3          2.5           5.0          1.9       2   virginica\n",
       "98            5.1          2.5           3.0          1.1       1  versicolor\n",
       "148           6.2          3.4           5.4          2.3       2   virginica\n",
       "41            4.5          2.3           1.3          0.3       0      setosa\n",
       "86            6.7          3.1           4.7          1.5       1  versicolor"
      ]
     },
     "execution_count": 5,
     "metadata": {},
     "output_type": "execute_result"
    }
   ],
   "source": [
    "df_iris = create_df()\n",
    "df_iris.sample(n=10)"
   ]
  },
  {
   "cell_type": "code",
   "execution_count": 6,
   "metadata": {
    "deletable": false,
    "editable": false,
    "nbgrader": {
     "cell_type": "code",
     "checksum": "ae98c53b326da8480b8a565c8014a77c",
     "grade": true,
     "grade_id": "cell-632fd0e11b776633",
     "locked": true,
     "points": 2,
     "schema_version": 3,
     "solution": false,
     "task": false
    }
   },
   "outputs": [],
   "source": [
    "df_iris = create_df()\n",
    "assert df_iris['sepal length'].shape == (150,)\n",
    "assert df_iris['sepal width'].shape == (150,)\n",
    "assert df_iris['petal length'].shape == (150,)\n",
    "assert df_iris['petal width'].shape == (150,)\n",
    "assert df_iris['target'].shape == (150,)\n",
    "assert df_iris['class'].shape == (150,)"
   ]
  },
  {
   "cell_type": "code",
   "execution_count": 7,
   "metadata": {
    "deletable": false,
    "nbgrader": {
     "cell_type": "code",
     "checksum": "18ed50b4c210650755fa99122f5721f4",
     "grade": false,
     "grade_id": "cell-1b1da2fc006dd2f6",
     "locked": false,
     "schema_version": 3,
     "solution": true,
     "task": false
    }
   },
   "outputs": [
    {
     "data": {
      "text/plain": [
       "array([[5.1, 3.5, 1.4, 0.2],\n",
       "       [4.9, 3. , 1.4, 0.2],\n",
       "       [4.7, 3.2, 1.3, 0.2]])"
      ]
     },
     "execution_count": 7,
     "metadata": {},
     "output_type": "execute_result"
    }
   ],
   "source": [
    "\n",
    "#From our data we will only get variable columns as np.array\n",
    "x = np.array(df_iris[['sepal length', 'sepal width', 'petal length', 'petal width']])\n",
    "x[:3]"
   ]
  },
  {
   "cell_type": "code",
   "execution_count": 8,
   "metadata": {
    "deletable": false,
    "editable": false,
    "nbgrader": {
     "cell_type": "code",
     "checksum": "abfb4df775beb206b668987baad09223",
     "grade": true,
     "grade_id": "cell-81d6796d99e92aa3",
     "locked": true,
     "points": 0,
     "schema_version": 3,
     "solution": false,
     "task": false
    }
   },
   "outputs": [],
   "source": [
    "assert x.shape == (150, 4)"
   ]
  },
  {
   "cell_type": "markdown",
   "metadata": {},
   "source": [
    "**Step 3:** Perform hierarchical clustering on `samples` using the `linkage()` function with the `method='complete'` keyword argument. Assign the result to `mergings`."
   ]
  },
  {
   "cell_type": "code",
   "execution_count": 9,
   "metadata": {},
   "outputs": [
    {
     "data": {
      "text/plain": [
       "array([[0.80377277, 0.55160877, 0.22064351, 0.0315205 ],\n",
       "       [0.82813287, 0.50702013, 0.23660939, 0.03380134],\n",
       "       [0.80533308, 0.54831188, 0.2227517 , 0.03426949]])"
      ]
     },
     "execution_count": 9,
     "metadata": {},
     "output_type": "execute_result"
    }
   ],
   "source": [
    "from sklearn.preprocessing import normalize\n",
    "samples = normalize(x)\n",
    "samples[:3]"
   ]
  },
  {
   "cell_type": "code",
   "execution_count": 10,
   "metadata": {
    "deletable": false,
    "nbgrader": {
     "cell_type": "code",
     "checksum": "a3c72f8ff20d9c274f3c8d0dfd349181",
     "grade": false,
     "grade_id": "cell-2a4681a4e740a6fe",
     "locked": false,
     "schema_version": 3,
     "solution": true,
     "task": false
    }
   },
   "outputs": [
    {
     "data": {
      "text/plain": [
       "array([[1.01000000e+02, 1.42000000e+02, 0.00000000e+00, 2.00000000e+00],\n",
       "       [1.02000000e+02, 1.11000000e+02, 1.90111713e-03, 2.00000000e+00],\n",
       "       [0.00000000e+00, 1.00000000e+01, 3.27567062e-03, 2.00000000e+00]])"
      ]
     },
     "execution_count": 10,
     "metadata": {},
     "output_type": "execute_result"
    }
   ],
   "source": [
    "mergings = linkage(samples, method = 'complete')\n",
    "mergings[:3]"
   ]
  },
  {
   "cell_type": "code",
   "execution_count": 11,
   "metadata": {
    "deletable": false,
    "editable": false,
    "nbgrader": {
     "cell_type": "code",
     "checksum": "311d7567084e2d3fbc957d155aac6957",
     "grade": true,
     "grade_id": "cell-bd07f2be641ae1c5",
     "locked": true,
     "points": 3,
     "schema_version": 3,
     "solution": false,
     "task": false
    }
   },
   "outputs": [],
   "source": [
    "assert mergings.shape == (149, 4)"
   ]
  },
  {
   "cell_type": "markdown",
   "metadata": {
    "deletable": false,
    "editable": false,
    "nbgrader": {
     "cell_type": "markdown",
     "checksum": "0655649d31c47a33c2de51b7316e64df",
     "grade": false,
     "grade_id": "cell-e0502f3d32a027c4",
     "locked": true,
     "schema_version": 3,
     "solution": false,
     "task": false
    }
   },
   "source": [
    "**Step 4:** Plot a dendrogram using the `dendrogram()` function on `mergings`, specifying the keyword arguments `labels=varieties`, `leaf_rotation=90`, and `leaf_font_size=6`.  Remember to call `plt.show()` afterwards, to display your plot."
   ]
  },
  {
   "cell_type": "code",
   "execution_count": 12,
   "metadata": {
    "deletable": false,
    "nbgrader": {
     "cell_type": "code",
     "checksum": "8c1a8101de48297cde138f126c6c2c63",
     "grade": false,
     "grade_id": "cell-8ba6a5e72836aa92",
     "locked": false,
     "schema_version": 3,
     "solution": true,
     "task": false
    }
   },
   "outputs": [
    {
     "data": {
      "image/png": "[encoded data removed]",
      "text/plain": [
       "<Figure size 432x288 with 1 Axes>"
      ]
     },
     "metadata": {
      "needs_background": "light"
     },
     "output_type": "display_data"
    },
    {
     "data": {
      "text/plain": [
       "<Figure size 720x576 with 0 Axes>"
      ]
     },
     "metadata": {},
     "output_type": "display_data"
    }
   ],
   "source": [
    "dn = dendrogram(mergings, labels = list(df_iris['class']), leaf_rotation = 90, leaf_font_size = 6)\n",
    "plt.figure(figsize = (10, 8))\n",
    "plt.show()\n"
   ]
  },
  {
   "cell_type": "code",
   "execution_count": 13,
   "metadata": {
    "deletable": false,
    "editable": false,
    "nbgrader": {
     "cell_type": "code",
     "checksum": "c7cafedfeaabce98514c30d6a2d53331",
     "grade": true,
     "grade_id": "cell-bc0248a8151d10ab",
     "locked": true,
     "points": 3,
     "schema_version": 3,
     "solution": false,
     "task": false
    }
   },
   "outputs": [
    {
     "data": {
      "image/png": "[encoded data removed]",
      "text/plain": [
       "<Figure size 432x288 with 1 Axes>"
      ]
     },
     "metadata": {
      "needs_background": "light"
     },
     "output_type": "display_data"
    }
   ],
   "source": [
    "assert type(dn) == type(dendrogram(np.random.rand(15, 4)))"
   ]
  },
  {
   "cell_type": "markdown",
   "metadata": {
    "deletable": false,
    "editable": false,
    "nbgrader": {
     "cell_type": "markdown",
     "checksum": "0359d6cc58f0adeea5ab36ea1be31ff4",
     "grade": false,
     "grade_id": "cell-6c3fb83905359f79",
     "locked": true,
     "schema_version": 3,
     "solution": false,
     "task": false
    }
   },
   "source": [
    "## K-MEANS\n",
    "\n",
    "for this next part we will use the K-Means algorithm in order to cluster your data"
   ]
  },
  {
   "cell_type": "markdown",
   "metadata": {
    "deletable": false,
    "editable": false,
    "nbgrader": {
     "cell_type": "markdown",
     "checksum": "64681468d287f185510e010c9c8f62e2",
     "grade": false,
     "grade_id": "cell-e554a1446ad626ec",
     "locked": true,
     "schema_version": 3,
     "solution": false,
     "task": false
    }
   },
   "source": [
    "**Step 1:** \n",
    "+ import `KMeans` from `sklearn.cluster`\n",
    "+ loading our new datasets"
   ]
  },
  {
   "cell_type": "code",
   "execution_count": 43,
   "metadata": {},
   "outputs": [],
   "source": [
    "from sklearn.cluster import KMeans\n",
    "import pandas as pd\n",
    "\n",
    "df = pd.read_csv('../datasets/ch1ex1.csv')\n",
    "points = df.values\n",
    "\n",
    "new_df = pd.read_csv('../datasets/ch1ex2.csv')\n",
    "new_points = new_df.values\n"
   ]
  },
  {
   "cell_type": "code",
   "execution_count": 15,
   "metadata": {},
   "outputs": [
    {
     "name": "stdout",
     "output_type": "stream",
     "text": [
      "(300, 2)\n"
     ]
    },
    {
     "data": {
      "text/html": [
       "<div>\n",
       "<style scoped>\n",
       "    .dataframe tbody tr th:only-of-type {\n",
       "        vertical-align: middle;\n",
       "    }\n",
       "\n",
       "    .dataframe tbody tr th {\n",
       "        vertical-align: top;\n",
       "    }\n",
       "\n",
       "    .dataframe thead th {\n",
       "        text-align: right;\n",
       "    }\n",
       "</style>\n",
       "<table border=\"1\" class=\"dataframe\">\n",
       "  <thead>\n",
       "    <tr style=\"text-align: right;\">\n",
       "      <th></th>\n",
       "      <th>0</th>\n",
       "      <th>1</th>\n",
       "    </tr>\n",
       "  </thead>\n",
       "  <tbody>\n",
       "    <tr>\n",
       "      <th>0</th>\n",
       "      <td>0.065446</td>\n",
       "      <td>-0.768664</td>\n",
       "    </tr>\n",
       "    <tr>\n",
       "      <th>1</th>\n",
       "      <td>-1.529015</td>\n",
       "      <td>-0.429531</td>\n",
       "    </tr>\n",
       "    <tr>\n",
       "      <th>2</th>\n",
       "      <td>1.709934</td>\n",
       "      <td>0.698853</td>\n",
       "    </tr>\n",
       "    <tr>\n",
       "      <th>3</th>\n",
       "      <td>1.167791</td>\n",
       "      <td>1.012626</td>\n",
       "    </tr>\n",
       "    <tr>\n",
       "      <th>4</th>\n",
       "      <td>-1.801101</td>\n",
       "      <td>-0.318613</td>\n",
       "    </tr>\n",
       "  </tbody>\n",
       "</table>\n",
       "</div>"
      ],
      "text/plain": [
       "          0         1\n",
       "0  0.065446 -0.768664\n",
       "1 -1.529015 -0.429531\n",
       "2  1.709934  0.698853\n",
       "3  1.167791  1.012626\n",
       "4 -1.801101 -0.318613"
      ]
     },
     "execution_count": 15,
     "metadata": {},
     "output_type": "execute_result"
    }
   ],
   "source": [
    "# inspection\n",
    "print(points.shape)\n",
    "df.head()"
   ]
  },
  {
   "cell_type": "markdown",
   "metadata": {
    "deletable": false,
    "editable": false,
    "nbgrader": {
     "cell_type": "markdown",
     "checksum": "15993ab96197f3ecead1d8ff5a8830de",
     "grade": false,
     "grade_id": "cell-09b5216391582184",
     "locked": true,
     "schema_version": 3,
     "solution": false,
     "task": false
    }
   },
   "source": [
    "**Step 2:** Using `KMeans()`, create a `KMeans` instance called `model` to find `3` clusters. To specify the number of clusters, use the `n_clusters` keyword argument\n"
   ]
  },
  {
   "cell_type": "code",
   "execution_count": 16,
   "metadata": {},
   "outputs": [
    {
     "name": "stderr",
     "output_type": "stream",
     "text": [
      "C:\\Users\\ritth\\software\\anaconda\\envs\\strive\\lib\\site-packages\\sklearn\\cluster\\_kmeans.py:1036: UserWarning: KMeans is known to have a memory leak on Windows with MKL, when there are less chunks than available threads. You can avoid it by setting the environment variable OMP_NUM_THREADS=2.\n",
      "  warnings.warn(\n"
     ]
    }
   ],
   "source": [
    "# to get the corect cluster we use this\n",
    "ks = range(1, 6)\n",
    "inertias = []\n",
    "\n",
    "for k in ks:\n",
    "    # Create a KMeans instance with k clusters: model\n",
    "    model = KMeans(n_clusters=k)\n",
    "\n",
    "    # Fit model to samples\n",
    "    model.fit(points)\n",
    "\n",
    "    # Append the inertia to the list of inertias\n",
    "    inertias.append(model.inertia_)"
   ]
  },
  {
   "cell_type": "code",
   "execution_count": 17,
   "metadata": {},
   "outputs": [
    {
     "data": {
      "image/png": "[encoded data removed]",
      "text/plain": [
       "<Figure size 432x288 with 1 Axes>"
      ]
     },
     "metadata": {
      "needs_background": "light"
     },
     "output_type": "display_data"
    }
   ],
   "source": [
    "# plot the cluster\n",
    "# Plot ks vs inertias\n",
    "plt.plot(ks, inertias, '-o')\n",
    "plt.xlabel('number of clusters, k')\n",
    "plt.ylabel('inertia')\n",
    "plt.xticks(ks)\n",
    "plt.show()"
   ]
  },
  {
   "cell_type": "code",
   "execution_count": 18,
   "metadata": {
    "deletable": false,
    "nbgrader": {
     "cell_type": "code",
     "checksum": "788e3cefa230e6aa2df6843ca341a12a",
     "grade": false,
     "grade_id": "cell-d4136dfc2ba753ba",
     "locked": false,
     "schema_version": 3,
     "solution": true,
     "task": false
    }
   },
   "outputs": [],
   "source": [
    "# number of cluster touches 3th point\n",
    "# So we know that 3 represents number of cluster we want\n",
    "model = KMeans(n_clusters = 3)"
   ]
  },
  {
   "cell_type": "code",
   "execution_count": 19,
   "metadata": {
    "deletable": false,
    "editable": false,
    "nbgrader": {
     "cell_type": "code",
     "checksum": "299853ae31c16eaa5ad10a3f466137bc",
     "grade": true,
     "grade_id": "cell-a6a59ad2afd63249",
     "locked": true,
     "points": 1,
     "schema_version": 3,
     "solution": false,
     "task": false
    }
   },
   "outputs": [],
   "source": [
    "assert type(model)== type(KMeans())"
   ]
  },
  {
   "cell_type": "markdown",
   "metadata": {
    "deletable": false,
    "editable": false,
    "nbgrader": {
     "cell_type": "markdown",
     "checksum": "8cbab2680ed21b9c6d8e2eb953f283a4",
     "grade": false,
     "grade_id": "cell-3b83408ca14ce116",
     "locked": true,
     "schema_version": 3,
     "solution": false,
     "task": false
    }
   },
   "source": [
    "**Step 4:** Use the `.fit()` method of `model` to fit the model to the array of points `points`."
   ]
  },
  {
   "cell_type": "code",
   "execution_count": 20,
   "metadata": {
    "deletable": false,
    "nbgrader": {
     "cell_type": "code",
     "checksum": "c534d56e7496f8a3b795591aa651b78f",
     "grade": false,
     "grade_id": "cell-9a699df5bd74992a",
     "locked": false,
     "schema_version": 3,
     "solution": true,
     "task": false
    }
   },
   "outputs": [
    {
     "data": {
      "text/plain": [
       "KMeans(n_clusters=3)"
      ]
     },
     "execution_count": 20,
     "metadata": {},
     "output_type": "execute_result"
    }
   ],
   "source": [
    "model.fit(points)"
   ]
  },
  {
   "cell_type": "markdown",
   "metadata": {
    "deletable": false,
    "editable": false,
    "nbgrader": {
     "cell_type": "markdown",
     "checksum": "30b03b4a58715fbfbcc458ffff4a9452",
     "grade": false,
     "grade_id": "cell-5f7dc6671c80bcf3",
     "locked": true,
     "schema_version": 3,
     "solution": false,
     "task": false
    }
   },
   "source": [
    "**Step 5:** Use the `.predict()` method of `model` to predict the cluster labels of `points`, assigning the result to `labels`."
   ]
  },
  {
   "cell_type": "code",
   "execution_count": 21,
   "metadata": {
    "deletable": false,
    "nbgrader": {
     "cell_type": "code",
     "checksum": "a5651a88814e14bcce46dec2a676e9c4",
     "grade": false,
     "grade_id": "cell-fe0636d9d3113913",
     "locked": false,
     "schema_version": 3,
     "solution": true,
     "task": false
    }
   },
   "outputs": [
    {
     "data": {
      "text/plain": [
       "array([0, 2, 1, 1, 2, 2, 1, 0, 2, 2, 1, 0, 2, 1, 2, 0, 1, 1, 0, 1, 2, 0,\n",
       "       2, 0, 0, 2, 0, 0, 0, 2, 1, 1, 1, 2, 0, 2, 0, 0, 2, 0, 0, 1, 2, 2,\n",
       "       2, 0, 0, 1, 0, 1, 1, 1, 0, 0, 0, 2, 0, 0, 2, 1, 2, 0, 0, 1, 1, 2,\n",
       "       1, 2, 2, 0, 1, 2, 1, 0, 1, 2, 0, 0, 0, 1, 0, 2, 1, 2, 2, 2, 2, 0,\n",
       "       0, 1, 2, 1, 2, 0, 0, 0, 1, 2, 2, 1, 2, 0, 2, 1, 0, 1, 1, 1, 2, 2,\n",
       "       0, 2, 1, 2, 2, 2, 0, 2, 1, 1, 0, 0, 0, 0, 0, 2, 1, 0, 2, 2, 1, 1,\n",
       "       2, 0, 2, 0, 1, 2, 1, 0, 1, 1, 0, 1, 1, 0, 1, 2, 0, 0, 0, 1, 1, 2,\n",
       "       1, 2, 0, 0, 1, 2, 1, 1, 1, 2, 0, 0, 2, 1, 1, 0, 0, 1, 0, 0, 2, 0,\n",
       "       1, 1, 1, 0, 0, 1, 0, 1, 1, 0, 2, 1, 0, 0, 0, 0, 2, 1, 0, 2, 2, 2,\n",
       "       0, 2, 0, 0, 2, 1, 1, 0, 1, 0, 0, 2, 2, 0, 1, 2, 1, 0, 1, 2, 0, 2,\n",
       "       2, 2, 2, 1, 1, 1, 0, 0, 2, 0, 1, 2, 0, 0, 2, 0, 1, 1, 1, 1, 1, 2,\n",
       "       0, 0, 1, 1, 0, 2, 1, 2, 2, 0, 0, 2, 2, 2, 0, 1, 0, 2, 0, 1, 1, 1,\n",
       "       1, 1, 0, 0, 2, 0, 0, 2, 1, 1, 2, 0, 1, 1, 2, 2, 0, 0, 0, 2, 2, 0,\n",
       "       1, 2, 2, 1, 0, 0, 0, 2, 0, 0, 0, 2, 2, 2])"
      ]
     },
     "execution_count": 21,
     "metadata": {},
     "output_type": "execute_result"
    }
   ],
   "source": [
    "labels = model.predict(points)\n",
    "labels"
   ]
  },
  {
   "cell_type": "code",
   "execution_count": 22,
   "metadata": {
    "deletable": false,
    "editable": false,
    "nbgrader": {
     "cell_type": "code",
     "checksum": "893f043c599b2d2589ffaee908b945e2",
     "grade": true,
     "grade_id": "cell-3e790b82f9bf37fc",
     "locked": true,
     "points": 2,
     "schema_version": 3,
     "solution": false,
     "task": false
    }
   },
   "outputs": [],
   "source": [
    "assert labels[labels.argmax()] == 2\n",
    "assert labels.shape == (300,)"
   ]
  },
  {
   "cell_type": "code",
   "execution_count": 23,
   "metadata": {
    "deletable": false,
    "nbgrader": {
     "cell_type": "code",
     "checksum": "f52e0cd3e0456fb6e8309a557b0b5e2a",
     "grade": false,
     "grade_id": "cell-917ce87ba793a518",
     "locked": false,
     "schema_version": 3,
     "solution": true,
     "task": false
    }
   },
   "outputs": [
    {
     "name": "stdout",
     "output_type": "stream",
     "text": [
      "(111, 2)\n",
      "(94, 2)\n",
      "(95, 2)\n"
     ]
    }
   ],
   "source": [
    "# Make a function that returns 3 numpy arrays each one with the points associated for each class\n",
    "#If the label is 0 they go into data_0\n",
    "#If the label is 1 they go into data_1\n",
    "#If the label is 2 they go into data_2\n",
    "\n",
    "def separate_labels(labels, points):\n",
    "    data_0 = []\n",
    "    data_1 = []\n",
    "    data_2 = []\n",
    "\n",
    "    for lab, pt in zip(labels, points):\n",
    "        if lab == 0:\n",
    "            data_0.append(pt)\n",
    "        elif lab == 1:\n",
    "            data_1.append(pt)\n",
    "        else:\n",
    "            data_2.append(pt)\n",
    "        \n",
    "    return np.array(data_0), np.array(data_1), np.array(data_2)\n",
    "\n",
    "\n",
    "data_0,data_1,data_2 =separate_labels(labels, points)\n",
    "\n",
    "print(data_0.shape)\n",
    "print(data_1.shape)\n",
    "print(data_2.shape)"
   ]
  },
  {
   "cell_type": "code",
   "execution_count": 24,
   "metadata": {},
   "outputs": [],
   "source": [
    "assert abs(data_0.shape[0] - 94) <= 20\n",
    "assert abs(data_1.shape[0] - 95) <= 20\n",
    "assert abs(data_2.shape[0] - 111) <= 20"
   ]
  },
  {
   "cell_type": "markdown",
   "metadata": {},
   "source": [
    "## Another Method"
   ]
  },
  {
   "cell_type": "code",
   "execution_count": 25,
   "metadata": {},
   "outputs": [
    {
     "name": "stdout",
     "output_type": "stream",
     "text": [
      "(111, 2)\n",
      "(94, 2)\n",
      "(95, 2)\n"
     ]
    }
   ],
   "source": [
    "# another method\n",
    "\n",
    "def separate_labels(labels, points):\n",
    "    data_0 = []\n",
    "    data_1 = []\n",
    "    data_2 = []\n",
    "    \n",
    "    for index in range(points.shape[0]):\n",
    "        if labels[index] == 0:\n",
    "            data_0.append(points[index])\n",
    "        elif labels[index]== 1:\n",
    "            data_1.append(points[index])\n",
    "        elif labels[index] == 2:\n",
    "            data_2.append(points[index])\n",
    "\n",
    "   \n",
    "    return np.array(data_0),np.array(data_1),np.array(data_2)\n",
    "\n",
    "\n",
    "data_0,data_1,data_2 =separate_labels(labels, points)\n",
    "\n",
    "print(data_0.shape)\n",
    "print(data_1.shape)\n",
    "print(data_2.shape)\n"
   ]
  },
  {
   "cell_type": "code",
   "execution_count": 26,
   "metadata": {
    "deletable": false,
    "editable": false,
    "nbgrader": {
     "cell_type": "code",
     "checksum": "3066f6d418963a9e453d348f0b2cf930",
     "grade": true,
     "grade_id": "cell-9d19700f8e07d490",
     "locked": true,
     "points": 2,
     "schema_version": 3,
     "solution": false,
     "task": false
    }
   },
   "outputs": [],
   "source": [
    "assert abs(data_0.shape[0] - 94) <= 20\n",
    "assert abs(data_1.shape[0] - 95) <= 20\n",
    "assert abs(data_2.shape[0] - 111) <= 20"
   ]
  },
  {
   "cell_type": "markdown",
   "metadata": {},
   "source": [
    "## Checking and Plotting the data"
   ]
  },
  {
   "cell_type": "code",
   "execution_count": 27,
   "metadata": {},
   "outputs": [
    {
     "data": {
      "text/plain": [
       "array([[ 0.06544649, -0.76866376],\n",
       "       [-0.26175155, -0.62492939],\n",
       "       [ 0.42291856, -0.7349534 ]])"
      ]
     },
     "execution_count": 27,
     "metadata": {},
     "output_type": "execute_result"
    }
   ],
   "source": [
    "# First column is x, so it  is 0\n",
    "# Second column is y, so it is 1\n",
    "data_0[:3]"
   ]
  },
  {
   "cell_type": "code",
   "execution_count": 28,
   "metadata": {
    "deletable": false,
    "nbgrader": {
     "cell_type": "code",
     "checksum": "c5f4d0de3ac0acc26863e198506fa8b7",
     "grade": false,
     "grade_id": "cell-6ae9d7e6dfb48eda",
     "locked": false,
     "schema_version": 3,
     "solution": true,
     "task": false
    }
   },
   "outputs": [
    {
     "data": {
      "image/png": "[encoded data removed]",
      "text/plain": [
       "<Figure size 504x360 with 1 Axes>"
      ]
     },
     "metadata": {
      "needs_background": "light"
     },
     "output_type": "display_data"
    }
   ],
   "source": [
    "# plotting the data \n",
    "data = [data_0, data_1, data_2]\n",
    "label_name = 0\n",
    "label_name1 = 1\n",
    "label_name2 = 2\n",
    "\n",
    "plt.figure(figsize =(7, 5))\n",
    "plt.scatter(data_0[:, 0], data_0[:, 1], label = f'group{label_name}')\n",
    "plt.scatter(data_1[:, 0], data_1[:, 1], label = f'group{label_name1}')\n",
    "plt.scatter(data_2[:, 0], data_2[:, 1], label = f'group{label_name2}')\n",
    "plt.xlabel('X')\n",
    "plt.ylabel('Y')\n",
    "plt.title('First Cluster')\n",
    "plt.legend()\n",
    "plt.show()"
   ]
  },
  {
   "cell_type": "markdown",
   "metadata": {},
   "source": [
    "## Another Method with for loop for Plotting"
   ]
  },
  {
   "cell_type": "code",
   "execution_count": 29,
   "metadata": {},
   "outputs": [
    {
     "data": {
      "text/plain": [
       "0      0\n",
       "1      2\n",
       "2      1\n",
       "3      1\n",
       "4      2\n",
       "      ..\n",
       "295    0\n",
       "296    0\n",
       "297    2\n",
       "298    2\n",
       "299    2\n",
       "Length: 300, dtype: int32"
      ]
     },
     "execution_count": 29,
     "metadata": {},
     "output_type": "execute_result"
    }
   ],
   "source": [
    "pd.Series(labels)"
   ]
  },
  {
   "cell_type": "code",
   "execution_count": 30,
   "metadata": {},
   "outputs": [
    {
     "data": {
      "text/plain": [
       "0    111\n",
       "2     95\n",
       "1     94\n",
       "dtype: int64"
      ]
     },
     "execution_count": 30,
     "metadata": {},
     "output_type": "execute_result"
    }
   ],
   "source": [
    "# this used to get [0, 1, 2] in label\n",
    "pd.Series(labels).value_counts()"
   ]
  },
  {
   "cell_type": "code",
   "execution_count": 31,
   "metadata": {},
   "outputs": [
    {
     "data": {
      "text/plain": [
       "Int64Index([0, 2, 1], dtype='int64')"
      ]
     },
     "execution_count": 31,
     "metadata": {},
     "output_type": "execute_result"
    }
   ],
   "source": [
    "pd.Series(labels).value_counts().index"
   ]
  },
  {
   "cell_type": "code",
   "execution_count": 32,
   "metadata": {},
   "outputs": [
    {
     "data": {
      "text/plain": [
       "<matplotlib.legend.Legend at 0x2de288ee850>"
      ]
     },
     "execution_count": 32,
     "metadata": {},
     "output_type": "execute_result"
    },
    {
     "data": {
      "image/png": "[encoded data removed]",
      "text/plain": [
       "<Figure size 576x432 with 1 Axes>"
      ]
     },
     "metadata": {
      "needs_background": "light"
     },
     "output_type": "display_data"
    }
   ],
   "source": [
    "# plotting the data \n",
    "label = pd.Series(labels).value_counts().index\n",
    "data = [data_0, data_1, data_2]\n",
    "\n",
    "plt.figure(figsize=(8, 6))\n",
    "\n",
    "for lab, dt in zip(label, data):\n",
    "    plt.scatter(dt[:, 0], dt[:, 1], label = f'group {lab}')\n",
    "\n",
    "plt.legend()"
   ]
  },
  {
   "cell_type": "markdown",
   "metadata": {},
   "source": [
    "## Repeating the same method for new_points"
   ]
  },
  {
   "cell_type": "markdown",
   "metadata": {},
   "source": [
    "**Step 7:** Use the `.predict()` method of `model` to predict the cluster labels of `new_points`, assigning the result to `new_labels`.  Notice that KMeans can assign previously unseen points to the clusters it has already found!"
   ]
  },
  {
   "cell_type": "code",
   "execution_count": 33,
   "metadata": {
    "deletable": false,
    "nbgrader": {
     "cell_type": "code",
     "checksum": "c95b4da428ab89a5469c7573568e23b7",
     "grade": false,
     "grade_id": "cell-e1c6be8c2b6c48ab",
     "locked": false,
     "schema_version": 3,
     "solution": true,
     "task": false
    }
   },
   "outputs": [
    {
     "data": {
      "text/plain": [
       "array([1, 1, 2])"
      ]
     },
     "execution_count": 33,
     "metadata": {},
     "output_type": "execute_result"
    }
   ],
   "source": [
    "# points and new_points have the same cluster as 3\n",
    "# so we are not checking the KMeans and .fit\n",
    "new_labels = model.predict(new_points)\n",
    "new_labels[:3]"
   ]
  },
  {
   "cell_type": "code",
   "execution_count": 34,
   "metadata": {
    "deletable": false,
    "editable": false,
    "nbgrader": {
     "cell_type": "code",
     "checksum": "aa10520a3430ab954c74429812f48ee3",
     "grade": true,
     "grade_id": "cell-33a135652cf843e7",
     "locked": true,
     "points": 2,
     "schema_version": 3,
     "solution": false,
     "task": false
    }
   },
   "outputs": [],
   "source": [
    "assert new_labels[new_labels.argmax()] == 2\n",
    "assert new_labels.shape == (100,)"
   ]
  },
  {
   "cell_type": "code",
   "execution_count": 35,
   "metadata": {
    "deletable": false,
    "nbgrader": {
     "cell_type": "code",
     "checksum": "1e8f9bc5a331d2950dc2f9af66927ec1",
     "grade": false,
     "grade_id": "cell-91d525783ae0a408",
     "locked": false,
     "schema_version": 3,
     "solution": true,
     "task": false
    }
   },
   "outputs": [
    {
     "name": "stdout",
     "output_type": "stream",
     "text": [
      "(32, 2)\n",
      "(34, 2)\n",
      "(34, 2)\n"
     ]
    }
   ],
   "source": [
    "#separate the data by labels like we did before\n",
    "\n",
    "def separate_labels(new_labels, new_points):\n",
    "    new_0 = []\n",
    "    new_1 = []\n",
    "    new_2 = []\n",
    "\n",
    "    for lab, pt in zip(new_labels, new_points):\n",
    "        if lab == 0:\n",
    "            new_0.append(pt)\n",
    "        elif lab == 1:\n",
    "            new_1.append(pt)\n",
    "        elif lab == 2:\n",
    "            new_2.append(pt)\n",
    "        \n",
    "    return np.array(new_0), np.array(new_1), np.array(new_2)\n",
    "\n",
    "\n",
    "new_0, new_1, new_2 = separate_labels(new_labels, new_points)\n",
    "\n",
    "print(new_0.shape)\n",
    "print(new_1.shape)\n",
    "print(new_2.shape)"
   ]
  },
  {
   "cell_type": "code",
   "execution_count": 36,
   "metadata": {
    "deletable": false,
    "editable": false,
    "nbgrader": {
     "cell_type": "code",
     "checksum": "208a9cb902182bc69798e0bd2a69641c",
     "grade": true,
     "grade_id": "cell-bbb9a9b41cb01987",
     "locked": true,
     "points": 2,
     "schema_version": 3,
     "solution": false,
     "task": false
    }
   },
   "outputs": [],
   "source": [
    "assert abs(new_0.shape[0] - 34) <= 5\n",
    "assert abs(new_1.shape[0] - 34) <= 5\n",
    "assert abs(new_2.shape[0] - 34) <= 5"
   ]
  },
  {
   "cell_type": "code",
   "execution_count": 37,
   "metadata": {},
   "outputs": [
    {
     "data": {
      "text/plain": [
       "array([[ 0.82027371, -0.7102251 ],\n",
       "       [ 0.6339598 , -1.16426756],\n",
       "       [ 0.15720968, -0.62319464]])"
      ]
     },
     "execution_count": 37,
     "metadata": {},
     "output_type": "execute_result"
    }
   ],
   "source": [
    "new_0[:3]"
   ]
  },
  {
   "cell_type": "code",
   "execution_count": 38,
   "metadata": {},
   "outputs": [
    {
     "data": {
      "image/png": "[encoded data removed]",
      "text/plain": [
       "<Figure size 504x360 with 1 Axes>"
      ]
     },
     "metadata": {
      "needs_background": "light"
     },
     "output_type": "display_data"
    }
   ],
   "source": [
    "# plot the new labels\n",
    " \n",
    "new = [new_0, new_1, new_2]\n",
    "label_name = 0\n",
    "label_name1 = 1\n",
    "label_name2 = 2\n",
    "\n",
    "plt.figure(figsize =(7, 5))\n",
    "plt.scatter(new_0[:, 0], new_0[:, 1], label = f'group {label_name}')\n",
    "plt.scatter(new_1[:, 0], new_1[:, 1], label = f'group {label_name1}')\n",
    "plt.scatter(new_2[:, 0], new_2[:, 1], label = f'group {label_name2}')\n",
    "plt.xlabel('X')\n",
    "plt.ylabel('Y')\n",
    "plt.title('Second Cluster')\n",
    "plt.legend()\n",
    "plt.show()"
   ]
  },
  {
   "cell_type": "code",
   "execution_count": 39,
   "metadata": {
    "deletable": false,
    "nbgrader": {
     "cell_type": "code",
     "checksum": "30dd9068ed42010daa03e359cef86058",
     "grade": false,
     "grade_id": "cell-fb66bc887cd85537",
     "locked": false,
     "schema_version": 3,
     "solution": true,
     "task": false
    }
   },
   "outputs": [
    {
     "data": {
      "image/png": "[encoded data removed]",
      "text/plain": [
       "<Figure size 504x360 with 1 Axes>"
      ]
     },
     "metadata": {
      "needs_background": "light"
     },
     "output_type": "display_data"
    }
   ],
   "source": [
    "# plot all the points together\n",
    "\n",
    "label_name = 0\n",
    "label_name1 = 1\n",
    "label_name2 = 2\n",
    "new_label_name3 = 0\n",
    "new_label_name4 = 1\n",
    "new_label_name5 = 2\n",
    "\n",
    "plt.figure(figsize =(7, 5))\n",
    "plt.scatter(data_0[:, 0], data_0[:, 1], label = f'group{label_name}')\n",
    "plt.scatter(data_1[:, 0], data_1[:, 1], label = f'group{label_name1}')\n",
    "plt.scatter(data_2[:, 0], data_2[:, 1], label = f'group{label_name2}')\n",
    "\n",
    "plt.scatter(new_0[:, 0], new_0[:, 1], label = f'group{new_label_name3}')\n",
    "plt.scatter(new_1[:, 0], new_1[:, 1], label = f'group{new_label_name4}')\n",
    "plt.scatter(new_2[:, 0], new_2[:, 1], label = f'group{new_label_name5}')\n",
    "plt.xlabel('X')\n",
    "plt.ylabel('Y')\n",
    "plt.title('Both Cluster')\n",
    "plt.legend()\n",
    "plt.show()"
   ]
  },
  {
   "cell_type": "markdown",
   "metadata": {},
   "source": [
    "# Another Method with Seaborn"
   ]
  },
  {
   "cell_type": "code",
   "execution_count": 48,
   "metadata": {},
   "outputs": [
    {
     "data": {
      "text/plain": [
       "(100,)"
      ]
     },
     "execution_count": 48,
     "metadata": {},
     "output_type": "execute_result"
    }
   ],
   "source": [
    "new_labels.shape"
   ]
  },
  {
   "cell_type": "code",
   "execution_count": 50,
   "metadata": {},
   "outputs": [
    {
     "data": {
      "text/html": [
       "<div>\n",
       "<style scoped>\n",
       "    .dataframe tbody tr th:only-of-type {\n",
       "        vertical-align: middle;\n",
       "    }\n",
       "\n",
       "    .dataframe tbody tr th {\n",
       "        vertical-align: top;\n",
       "    }\n",
       "\n",
       "    .dataframe thead th {\n",
       "        text-align: right;\n",
       "    }\n",
       "</style>\n",
       "<table border=\"1\" class=\"dataframe\">\n",
       "  <thead>\n",
       "    <tr style=\"text-align: right;\">\n",
       "      <th></th>\n",
       "      <th>column1</th>\n",
       "      <th>column2</th>\n",
       "      <th>label</th>\n",
       "      <th>point_type</th>\n",
       "    </tr>\n",
       "  </thead>\n",
       "  <tbody>\n",
       "    <tr>\n",
       "      <th>0</th>\n",
       "      <td>0.065446</td>\n",
       "      <td>-0.768664</td>\n",
       "      <td>0</td>\n",
       "      <td>training_data</td>\n",
       "    </tr>\n",
       "    <tr>\n",
       "      <th>1</th>\n",
       "      <td>-1.529015</td>\n",
       "      <td>-0.429531</td>\n",
       "      <td>2</td>\n",
       "      <td>training_data</td>\n",
       "    </tr>\n",
       "    <tr>\n",
       "      <th>2</th>\n",
       "      <td>1.709934</td>\n",
       "      <td>0.698853</td>\n",
       "      <td>1</td>\n",
       "      <td>training_data</td>\n",
       "    </tr>\n",
       "  </tbody>\n",
       "</table>\n",
       "</div>"
      ],
      "text/plain": [
       "    column1   column2  label     point_type\n",
       "0  0.065446 -0.768664      0  training_data\n",
       "1 -1.529015 -0.429531      2  training_data\n",
       "2  1.709934  0.698853      1  training_data"
      ]
     },
     "execution_count": 50,
     "metadata": {},
     "output_type": "execute_result"
    }
   ],
   "source": [
    "#plot all the points together\n",
    "# we tried both DataFrame methods here \n",
    "# we can use anything\n",
    "\n",
    "#df[['label', 'point_type']] = labels, 'training_data'\n",
    "df1 = pd .DataFrame({'column1':df['0'], 'column2':df['1'], 'label':labels, 'point_type':'training_data'})\n",
    "\n",
    "# #new_df[['label', 'point_type']] = new_labels, 'new_data'\n",
    "new_df1 = pd .DataFrame({'column1':new_df['0'], 'column2':new_df['1'], 'label':new_labels, 'point_type':'new_data'})\n",
    "\n",
    "all_points = pd.concat([df1, new_df1])\n",
    "all_points[:3]"
   ]
  },
  {
   "cell_type": "code",
   "execution_count": 41,
   "metadata": {},
   "outputs": [
    {
     "name": "stdout",
     "output_type": "stream",
     "text": [
      "(300, 2)\n"
     ]
    }
   ],
   "source": [
    "print(df.shape)"
   ]
  },
  {
   "cell_type": "code",
   "execution_count": 51,
   "metadata": {},
   "outputs": [
    {
     "data": {
      "text/plain": [
       "Index(['column1', 'column2', 'label', 'point_type'], dtype='object')"
      ]
     },
     "execution_count": 51,
     "metadata": {},
     "output_type": "execute_result"
    }
   ],
   "source": [
    "# checking column name\n",
    "all_points.columns"
   ]
  },
  {
   "cell_type": "code",
   "execution_count": 52,
   "metadata": {},
   "outputs": [
    {
     "data": {
      "text/plain": [
       "<AxesSubplot:xlabel='column1', ylabel='column2'>"
      ]
     },
     "execution_count": 52,
     "metadata": {},
     "output_type": "execute_result"
    },
    {
     "data": {
      "image/png": "[encoded data removed]",
      "text/plain": [
       "<Figure size 576x432 with 1 Axes>"
      ]
     },
     "metadata": {
      "needs_background": "light"
     },
     "output_type": "display_data"
    }
   ],
   "source": [
    "import seaborn as sns\n",
    "\n",
    "# we are using 0 for \n",
    "plt.figure(figsize=(8, 6))\n",
    "sns.scatterplot(\n",
    "                x = all_points['column1'], \n",
    "                y = all_points['column2'], \n",
    "                hue = all_points['label'],\n",
    "                style = all_points['point_type']\n",
    "                )"
   ]
  }
 ],
 "metadata": {
  "kernelspec": {
   "display_name": "Python 3",
   "language": "python",
   "name": "python3"
  },
  "language_info": {
   "codemirror_mode": {
    "name": "ipython",
    "version": 3
   },
   "file_extension": ".py",
   "mimetype": "text/x-python",
   "name": "python",
   "nbconvert_exporter": "python",
   "pygments_lexer": "ipython3",
   "version": "3.8.12"
  }
 },
 "nbformat": 4,
 "nbformat_minor": 2
}
