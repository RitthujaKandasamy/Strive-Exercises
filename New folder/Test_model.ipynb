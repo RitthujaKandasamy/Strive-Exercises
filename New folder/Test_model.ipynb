{
 "cells": [
  {
   "cell_type": "code",
   "execution_count": 1,
   "metadata": {},
   "outputs": [
    {
     "name": "stdout",
     "output_type": "stream",
     "text": [
      "[0, 2, 4, 6, 8]\n"
     ]
    }
   ],
   "source": [
    "number_universe = [ 1, 2, 3, 4, 5, 6, 7, 8, 9, 10 ] \n",
    "\n",
    "even_numbers = []\n",
    "\n",
    "for i in range(0, len(number_universe), 2):\n",
    "\t\teven_numbers.append(i)\n",
    "        \n",
    "print(even_numbers)"
   ]
  },
  {
   "cell_type": "code",
   "execution_count": 2,
   "metadata": {},
   "outputs": [
    {
     "name": "stdout",
     "output_type": "stream",
     "text": [
      "5\n",
      "6\n",
      "2\n",
      "7\n",
      "20\n"
     ]
    }
   ],
   "source": [
    "numeros = [ 5, 6, 2, 7, 0, 10, 4]\n",
    "i = 0\n",
    "n = numeros[i]\n",
    "sum = 0\n",
    "while n:\n",
    "\tprint(n)\n",
    "\tsum = n + sum \n",
    "\ti = 1 + i\n",
    "\tn = numeros[i]\n",
    "print(sum) \t"
   ]
  },
  {
   "cell_type": "code",
   "execution_count": 3,
   "metadata": {},
   "outputs": [
    {
     "name": "stdout",
     "output_type": "stream",
     "text": [
      "Hello\n"
     ]
    }
   ],
   "source": [
    "def hi_bye(a):       \n",
    "    \n",
    "\tif (a > 5 and a <=10):    \n",
    "         \n",
    "\t\treturn \"Hello\" \n",
    "    \n",
    "\telse:    \n",
    "        \n",
    "\t\treturn \"Goodbye\"\n",
    "\t\t\n",
    "\n",
    "print(hi_bye(a=9))\n"
   ]
  },
  {
   "cell_type": "code",
   "execution_count": 4,
   "metadata": {},
   "outputs": [],
   "source": [
    "import numpy as np\n",
    "import pandas as pd"
   ]
  },
  {
   "cell_type": "code",
   "execution_count": 5,
   "metadata": {},
   "outputs": [],
   "source": [
    "data = {'animal': ['cat', 'cat', 'snake', 'dog', 'dog', 'cat', 'snake', 'cat', 'dog', 'dog'],\n",
    "        'age': [2.5, 3, 0.5, np.nan, 5, 2, 4.5, np.nan, 7, 3],\n",
    "        'visits': [1, 3, 2, 3, 2, 3, 1, 1, 2, 1],\n",
    "        'priority': ['yes', 'yes', 'no', 'yes', 'no', 'no', 'no', 'yes', 'no', 'no']}\n",
    "\n",
    "df = pd.DataFrame(data)"
   ]
  },
  {
   "cell_type": "code",
   "execution_count": 6,
   "metadata": {},
   "outputs": [
    {
     "data": {
      "text/plain": [
       "animal\n",
       "cat      2.5\n",
       "dog      5.0\n",
       "snake    2.5\n",
       "Name: age, dtype: float64"
      ]
     },
     "execution_count": 6,
     "metadata": {},
     "output_type": "execute_result"
    }
   ],
   "source": [
    "df.groupby('animal')['age'].mean()"
   ]
  },
  {
   "cell_type": "code",
   "execution_count": 7,
   "metadata": {},
   "outputs": [],
   "source": [
    "a = np.random.randint(0,6,30)\n",
    "b = np.random.randint(0,20,30)"
   ]
  },
  {
   "cell_type": "code",
   "execution_count": 8,
   "metadata": {},
   "outputs": [
    {
     "data": {
      "text/plain": [
       "False"
      ]
     },
     "execution_count": 8,
     "metadata": {},
     "output_type": "execute_result"
    }
   ],
   "source": [
    "np.allclose(a, b)"
   ]
  },
  {
   "cell_type": "code",
   "execution_count": 9,
   "metadata": {},
   "outputs": [
    {
     "data": {
      "text/plain": [
       "array([False, False, False, False, False, False, False, False, False,\n",
       "       False,  True,  True,  True, False, False, False, False, False,\n",
       "       False, False, False, False,  True, False, False,  True, False,\n",
       "       False,  True, False])"
      ]
     },
     "execution_count": 9,
     "metadata": {},
     "output_type": "execute_result"
    }
   ],
   "source": [
    "a == b"
   ]
  },
  {
   "cell_type": "code",
   "execution_count": 49,
   "metadata": {},
   "outputs": [
    {
     "data": {
      "text/plain": [
       "[0, 1, 2, 3, 4]"
      ]
     },
     "execution_count": 49,
     "metadata": {},
     "output_type": "execute_result"
    }
   ],
   "source": [
    "x=[i for i in range(5)]\n",
    "x"
   ]
  },
  {
   "cell_type": "code",
   "execution_count": 5,
   "metadata": {},
   "outputs": [
    {
     "name": "stdout",
     "output_type": "stream",
     "text": [
      "\n",
      " Array is:\n",
      "  [[ 0  1  2  3  4  5]\n",
      " [ 6  7  8  9 10 11]\n",
      " [12 13 14 15 16 17]\n",
      " [18 19 20 21 22 23]\n",
      " [24 25 26 27 28 29]\n",
      " [30 31 32 33 34 35]]\n",
      "\n",
      " a[0, 3:5]  =  [3 4]\n",
      "\n",
      " a[4:, 4:]  =  [[28 29]\n",
      " [34 35]]\n",
      "\n",
      " a[:, 2]  =  [ 2  8 14 20 26 32]\n",
      "\n",
      " a[2:;2, ::2]  =  [[12 14 16]\n",
      " [18 20 22]\n",
      " [24 26 28]\n",
      " [30 32 34]]\n"
     ]
    }
   ],
   "source": [
    "import numpy as np\n",
    " \n",
    "# A 3-Dimensional array\n",
    "a = np.array([[0, 1, 2, 3, 4, 5],\n",
    "              [6, 7, 8, 9, 10, 11],\n",
    "              [12, 13, 14, 15, 16, 17],\n",
    "              [18, 19, 20, 21, 22, 23],\n",
    "              [24, 25, 26, 27, 28, 29],\n",
    "              [30, 31, 32, 33, 34, 35]])\n",
    "print(\"\\n Array is:\\n \",a)\n",
    " \n",
    "# slicing and indexing\n",
    "print(\"\\n a[0, 3:5]  = \",a[0, 3:5]) \n",
    " \n",
    "print(\"\\n a[4:, 4:]  = \",a[4:, 4:]) \n",
    " \n",
    "print(\"\\n a[:, 2]  = \",a[:, 2]) \n",
    " \n",
    "print(\"\\n a[2:;2, ::2]  = \",a[2::, ::2]) \n"
   ]
  },
  {
   "cell_type": "code",
   "execution_count": 8,
   "metadata": {},
   "outputs": [
    {
     "data": {
      "image/png": "[encoded data removed]",
      "text/plain": [
       "<Figure size 432x288 with 1 Axes>"
      ]
     },
     "metadata": {
      "needs_background": "light"
     },
     "output_type": "display_data"
    }
   ],
   "source": [
    "import matplotlib.pyplot as plt\n",
    "  \n",
    "year = [1972, 1982, 1992, 2002, 2012]\n",
    "e_india = [100.6, 158.61, 305.54, \n",
    "           394.96, 724.79]\n",
    "  \n",
    "e_bangladesh = [10.5, 25.21, 58.65,\n",
    "                119.27, 274.87]\n",
    "  \n",
    "# formatting of line style and \n",
    "# plotting of co-ordinates\n",
    "plt.plot(year, e_india, color ='orange',\n",
    "         marker ='o', markersize = 12, \n",
    "         label ='India')\n",
    "  \n",
    "plt.plot(year, e_bangladesh, color ='g',\n",
    "         linestyle ='dashed', linewidth = 2,\n",
    "         label ='Bangladesh')\n",
    "  \n",
    "  \n",
    "plt.xlabel('Power consumption in kWh')\n",
    "#plt.ylabel('Power consumption in kWh')\n",
    "  \n",
    "  \n",
    "plt.title('Electricity consumption per \\\n",
    "capita of India and Bangladesh')\n",
    "  \n",
    "plt.legend()\n",
    "plt.show()"
   ]
  },
  {
   "cell_type": "markdown",
   "metadata": {},
   "source": [
    "If we want both column and index we use enumerate"
   ]
  },
  {
   "cell_type": "code",
   "execution_count": 1,
   "metadata": {},
   "outputs": [
    {
     "name": "stdout",
     "output_type": "stream",
     "text": [
      "0 0.7603703466846304\n",
      "1 0.38284200554317915\n",
      "2 0.8427948712550586\n",
      "3 0.18400389990160881\n",
      "4 0.9333407331978796\n"
     ]
    }
   ],
   "source": [
    "import numpy as np\n",
    "\n",
    "arr = np.random.rand(5)\n",
    "\n",
    "for index, item in enumerate(arr):\n",
    "    print(index, item)"
   ]
  },
  {
   "cell_type": "code",
   "execution_count": 19,
   "metadata": {},
   "outputs": [
    {
     "data": {
      "text/plain": [
       "array([[  1,   4,   7,  10,  13,  16],\n",
       "       [ 19,  22,  25,  28,  31,  34],\n",
       "       [ 37,  40,  43,  46,  49,  52],\n",
       "       [ 55,  58,  61,  64,  67,  70],\n",
       "       [ 73,  76,  79,  82,  85,  88],\n",
       "       [ 91,  94,  97, 100, 103, 106],\n",
       "       [109, 112, 115, 118, 121, 124],\n",
       "       [127, 130, 133, 136, 139, 142],\n",
       "       [145, 148, 151, 154, 157, 160],\n",
       "       [163, 166, 169, 172, 175, 178]])"
      ]
     },
     "execution_count": 19,
     "metadata": {},
     "output_type": "execute_result"
    }
   ],
   "source": [
    "arr = np.arange(180).reshape((10, 6, 3))\n",
    "\n",
    "arr[:, :, 1]"
   ]
  }
 ],
 "metadata": {
  "interpreter": {
   "hash": "73592dad14db8f3994cd458d5e0995dad9821ca28205c2106249abcaba41cb67"
  },
  "kernelspec": {
   "display_name": "Python 3.8.12 ('strive')",
   "language": "python",
   "name": "python3"
  },
  "language_info": {
   "codemirror_mode": {
    "name": "ipython",
    "version": 3
   },
   "file_extension": ".py",
   "mimetype": "text/x-python",
   "name": "python",
   "nbconvert_exporter": "python",
   "pygments_lexer": "ipython3",
   "version": "3.8.12"
  },
  "orig_nbformat": 4
 },
 "nbformat": 4,
 "nbformat_minor": 2
}
