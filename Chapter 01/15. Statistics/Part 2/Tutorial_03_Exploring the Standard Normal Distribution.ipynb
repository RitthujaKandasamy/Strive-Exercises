{
 "cells": [
  {
   "cell_type": "code",
   "execution_count": 19,
   "metadata": {},
   "outputs": [
    {
     "data": {
      "text/plain": [
       "'1.21.5'"
      ]
     },
     "execution_count": 19,
     "metadata": {},
     "output_type": "execute_result"
    }
   ],
   "source": [
    "%matplotlib inline\n",
    "import numpy as np\n",
    "import matplotlib.pyplot as plt\n",
    "import seaborn as sns\n",
    "from scipy import stats\n",
    "\n",
    "sns.set_palette(['#00A99D', '#F5CA0C', '#B6129F', '#76620C', '#095C57'])\n",
    "np.version.full_version"
   ]
  },
  {
   "cell_type": "markdown",
   "metadata": {},
   "source": [
    "## Data\n",
    "We generate two normally distributed data sets. One containing 10000 number of Twitter followers, and one number of Facebook friends. The mean and standard deviation for both data sets are fictional, but roughly what both companies report in 2012."
   ]
  },
  {
   "cell_type": "code",
   "execution_count": 20,
   "metadata": {},
   "outputs": [
    {
     "data": {
      "text/plain": [
       "array([149.8403586 , 240.28021657, 273.56659294, 132.09136058,\n",
       "       145.17180793, 170.3957041 , 181.10087614, 216.0480783 ,\n",
       "       255.51353493, 136.50190899, 261.13373773, 130.27025052])"
      ]
     },
     "execution_count": 20,
     "metadata": {},
     "output_type": "execute_result"
    }
   ],
   "source": [
    "# Draw 10000 samples from a normal distribution of Twitter followers\n",
    "twitter_mu = 208.0\n",
    "twitter_sigma = 60.0\n",
    "twitter_followers = np.random.normal(twitter_mu, twitter_sigma, 10000)\n",
    "\n",
    "# show first 12 samples\n",
    "twitter_followers[:12]"
   ]
  },
  {
   "cell_type": "code",
   "execution_count": 21,
   "metadata": {},
   "outputs": [
    {
     "data": {
      "text/plain": [
       "array([145.79074151, 214.07261339, 240.61183483, 201.60414636,\n",
       "       150.81772231, 161.51326067, 253.71439936, 251.90143841,\n",
       "       168.56953207, 134.02222738, 196.01440957, 159.55575934])"
      ]
     },
     "execution_count": 21,
     "metadata": {},
     "output_type": "execute_result"
    }
   ],
   "source": [
    "# Draw 10000 samples from a normal distribution of Facebook friends\n",
    "facebook_mu = 190.0\n",
    "facebook_sigma = 36.0\n",
    "facebook_friends = np.random.normal(facebook_mu, facebook_sigma, 10000)\n",
    "\n",
    "# show first 12 samples\n",
    "facebook_friends[:12]"
   ]
  },
  {
   "cell_type": "markdown",
   "metadata": {},
   "source": [
    "## Normal Distribution\n",
    "Both Twitter followers and Facebook friends distributions follow a normal distribution."
   ]
  },
  {
   "cell_type": "code",
   "execution_count": 29,
   "metadata": {},
   "outputs": [
    {
     "name": "stderr",
     "output_type": "stream",
     "text": [
      "C:\\Users\\ritth\\software\\anaconda\\envs\\strive\\lib\\site-packages\\seaborn\\distributions.py:2551: FutureWarning: `distplot` is a deprecated function and will be removed in a future version. Please adapt your code to use either `displot` (a figure-level function with similar flexibility) or `histplot` (an axes-level function for histograms).\n",
      "  warnings.warn(msg, FutureWarning)\n",
      "C:\\Users\\ritth\\software\\anaconda\\envs\\strive\\lib\\site-packages\\seaborn\\distributions.py:2551: FutureWarning: `distplot` is a deprecated function and will be removed in a future version. Please adapt your code to use either `displot` (a figure-level function with similar flexibility) or `histplot` (an axes-level function for histograms).\n",
      "  warnings.warn(msg, FutureWarning)\n"
     ]
    },
    {
     "data": {
      "image/png": "[encoded data removed]",
      "text/plain": [
       "<Figure size 432x288 with 1 Axes>"
      ]
     },
     "metadata": {
      "needs_background": "light"
     },
     "output_type": "display_data"
    }
   ],
   "source": [
    "# Distribution plot of both normal distributions\n",
    "sns.distplot(twitter_followers, label='Twitter followers')\n",
    "sns.distplot(facebook_friends, label='Facebook friends')\n",
    "c = plt.legend()"
   ]
  },
  {
   "cell_type": "code",
   "execution_count": 28,
   "metadata": {},
   "outputs": [
    {
     "name": "stderr",
     "output_type": "stream",
     "text": [
      "C:\\Users\\ritth\\software\\anaconda\\envs\\strive\\lib\\site-packages\\seaborn\\_decorators.py:36: FutureWarning: Pass the following variable as a keyword arg: x. From version 0.12, the only valid positional argument will be `data`, and passing other arguments without an explicit keyword will result in an error or misinterpretation.\n",
      "  warnings.warn(\n"
     ]
    },
    {
     "ename": "TypeError",
     "evalue": "Horizontal orientation requires numeric `x` variable.",
     "output_type": "error",
     "traceback": [
      "\u001b[1;31m---------------------------------------------------------------------------\u001b[0m",
      "\u001b[1;31mTypeError\u001b[0m                                 Traceback (most recent call last)",
      "\u001b[1;32mc:\\Users\\ritth\\code\\Strive\\Strive-Exercises\\Chapter 01\\15. Statistics\\Part 2\\Tutorial_03_Exploring the Standard Normal Distribution.ipynb Cell 7'\u001b[0m in \u001b[0;36m<cell line: 3>\u001b[1;34m()\u001b[0m\n\u001b[0;32m      <a href='vscode-notebook-cell:/c%3A/Users/ritth/code/Strive/Strive-Exercises/Chapter%2001/15.%20Statistics/Part%202/Tutorial_03_Exploring%20the%20Standard%20Normal%20Distribution.ipynb#ch0000006?line=0'>1</a>\u001b[0m \u001b[39m# Boxplot of the distributions\u001b[39;00m\n\u001b[0;32m      <a href='vscode-notebook-cell:/c%3A/Users/ritth/code/Strive/Strive-Exercises/Chapter%2001/15.%20Statistics/Part%202/Tutorial_03_Exploring%20the%20Standard%20Normal%20Distribution.ipynb#ch0000006?line=1'>2</a>\u001b[0m \u001b[39m# Note the sub zero twitter folowers\u001b[39;00m\n\u001b[1;32m----> <a href='vscode-notebook-cell:/c%3A/Users/ritth/code/Strive/Strive-Exercises/Chapter%2001/15.%20Statistics/Part%202/Tutorial_03_Exploring%20the%20Standard%20Normal%20Distribution.ipynb#ch0000006?line=2'>3</a>\u001b[0m c \u001b[39m=\u001b[39m sns\u001b[39m.\u001b[39;49mboxplot([twitter_followers, facebook_friends], \n\u001b[0;32m      <a href='vscode-notebook-cell:/c%3A/Users/ritth/code/Strive/Strive-Exercises/Chapter%2001/15.%20Statistics/Part%202/Tutorial_03_Exploring%20the%20Standard%20Normal%20Distribution.ipynb#ch0000006?line=3'>4</a>\u001b[0m             names \u001b[39m=\u001b[39;49m [\u001b[39m'\u001b[39;49m\u001b[39mTwitter followers\u001b[39;49m\u001b[39m'\u001b[39;49m, \u001b[39m'\u001b[39;49m\u001b[39mFacebook friends\u001b[39;49m\u001b[39m'\u001b[39;49m])\n",
      "File \u001b[1;32m~\\software\\anaconda\\envs\\strive\\lib\\site-packages\\seaborn\\_decorators.py:46\u001b[0m, in \u001b[0;36m_deprecate_positional_args.<locals>.inner_f\u001b[1;34m(*args, **kwargs)\u001b[0m\n\u001b[0;32m     <a href='file:///c%3A/Users/ritth/software/anaconda/envs/strive/lib/site-packages/seaborn/_decorators.py?line=35'>36</a>\u001b[0m     warnings\u001b[39m.\u001b[39mwarn(\n\u001b[0;32m     <a href='file:///c%3A/Users/ritth/software/anaconda/envs/strive/lib/site-packages/seaborn/_decorators.py?line=36'>37</a>\u001b[0m         \u001b[39m\"\u001b[39m\u001b[39mPass the following variable\u001b[39m\u001b[39m{}\u001b[39;00m\u001b[39m as \u001b[39m\u001b[39m{}\u001b[39;00m\u001b[39mkeyword arg\u001b[39m\u001b[39m{}\u001b[39;00m\u001b[39m: \u001b[39m\u001b[39m{}\u001b[39;00m\u001b[39m. \u001b[39m\u001b[39m\"\u001b[39m\n\u001b[0;32m     <a href='file:///c%3A/Users/ritth/software/anaconda/envs/strive/lib/site-packages/seaborn/_decorators.py?line=37'>38</a>\u001b[0m         \u001b[39m\"\u001b[39m\u001b[39mFrom version 0.12, the only valid positional argument \u001b[39m\u001b[39m\"\u001b[39m\n\u001b[1;32m   (...)\u001b[0m\n\u001b[0;32m     <a href='file:///c%3A/Users/ritth/software/anaconda/envs/strive/lib/site-packages/seaborn/_decorators.py?line=42'>43</a>\u001b[0m         \u001b[39mFutureWarning\u001b[39;00m\n\u001b[0;32m     <a href='file:///c%3A/Users/ritth/software/anaconda/envs/strive/lib/site-packages/seaborn/_decorators.py?line=43'>44</a>\u001b[0m     )\n\u001b[0;32m     <a href='file:///c%3A/Users/ritth/software/anaconda/envs/strive/lib/site-packages/seaborn/_decorators.py?line=44'>45</a>\u001b[0m kwargs\u001b[39m.\u001b[39mupdate({k: arg \u001b[39mfor\u001b[39;00m k, arg \u001b[39min\u001b[39;00m \u001b[39mzip\u001b[39m(sig\u001b[39m.\u001b[39mparameters, args)})\n\u001b[1;32m---> <a href='file:///c%3A/Users/ritth/software/anaconda/envs/strive/lib/site-packages/seaborn/_decorators.py?line=45'>46</a>\u001b[0m \u001b[39mreturn\u001b[39;00m f(\u001b[39m*\u001b[39;49m\u001b[39m*\u001b[39;49mkwargs)\n",
      "File \u001b[1;32m~\\software\\anaconda\\envs\\strive\\lib\\site-packages\\seaborn\\categorical.py:2230\u001b[0m, in \u001b[0;36mboxplot\u001b[1;34m(x, y, hue, data, order, hue_order, orient, color, palette, saturation, width, dodge, fliersize, linewidth, whis, ax, **kwargs)\u001b[0m\n\u001b[0;32m   <a href='file:///c%3A/Users/ritth/software/anaconda/envs/strive/lib/site-packages/seaborn/categorical.py?line=2217'>2218</a>\u001b[0m \u001b[39m@_deprecate_positional_args\u001b[39m\n\u001b[0;32m   <a href='file:///c%3A/Users/ritth/software/anaconda/envs/strive/lib/site-packages/seaborn/categorical.py?line=2218'>2219</a>\u001b[0m \u001b[39mdef\u001b[39;00m \u001b[39mboxplot\u001b[39m(\n\u001b[0;32m   <a href='file:///c%3A/Users/ritth/software/anaconda/envs/strive/lib/site-packages/seaborn/categorical.py?line=2219'>2220</a>\u001b[0m     \u001b[39m*\u001b[39m,\n\u001b[1;32m   (...)\u001b[0m\n\u001b[0;32m   <a href='file:///c%3A/Users/ritth/software/anaconda/envs/strive/lib/site-packages/seaborn/categorical.py?line=2226'>2227</a>\u001b[0m     \u001b[39m*\u001b[39m\u001b[39m*\u001b[39mkwargs\n\u001b[0;32m   <a href='file:///c%3A/Users/ritth/software/anaconda/envs/strive/lib/site-packages/seaborn/categorical.py?line=2227'>2228</a>\u001b[0m ):\n\u001b[1;32m-> <a href='file:///c%3A/Users/ritth/software/anaconda/envs/strive/lib/site-packages/seaborn/categorical.py?line=2229'>2230</a>\u001b[0m     plotter \u001b[39m=\u001b[39m _BoxPlotter(x, y, hue, data, order, hue_order,\n\u001b[0;32m   <a href='file:///c%3A/Users/ritth/software/anaconda/envs/strive/lib/site-packages/seaborn/categorical.py?line=2230'>2231</a>\u001b[0m                           orient, color, palette, saturation,\n\u001b[0;32m   <a href='file:///c%3A/Users/ritth/software/anaconda/envs/strive/lib/site-packages/seaborn/categorical.py?line=2231'>2232</a>\u001b[0m                           width, dodge, fliersize, linewidth)\n\u001b[0;32m   <a href='file:///c%3A/Users/ritth/software/anaconda/envs/strive/lib/site-packages/seaborn/categorical.py?line=2233'>2234</a>\u001b[0m     \u001b[39mif\u001b[39;00m ax \u001b[39mis\u001b[39;00m \u001b[39mNone\u001b[39;00m:\n\u001b[0;32m   <a href='file:///c%3A/Users/ritth/software/anaconda/envs/strive/lib/site-packages/seaborn/categorical.py?line=2234'>2235</a>\u001b[0m         ax \u001b[39m=\u001b[39m plt\u001b[39m.\u001b[39mgca()\n",
      "File \u001b[1;32m~\\software\\anaconda\\envs\\strive\\lib\\site-packages\\seaborn\\categorical.py:406\u001b[0m, in \u001b[0;36m_BoxPlotter.__init__\u001b[1;34m(self, x, y, hue, data, order, hue_order, orient, color, palette, saturation, width, dodge, fliersize, linewidth)\u001b[0m\n\u001b[0;32m    <a href='file:///c%3A/Users/ritth/software/anaconda/envs/strive/lib/site-packages/seaborn/categorical.py?line=401'>402</a>\u001b[0m \u001b[39mdef\u001b[39;00m \u001b[39m__init__\u001b[39m(\u001b[39mself\u001b[39m, x, y, hue, data, order, hue_order,\n\u001b[0;32m    <a href='file:///c%3A/Users/ritth/software/anaconda/envs/strive/lib/site-packages/seaborn/categorical.py?line=402'>403</a>\u001b[0m              orient, color, palette, saturation,\n\u001b[0;32m    <a href='file:///c%3A/Users/ritth/software/anaconda/envs/strive/lib/site-packages/seaborn/categorical.py?line=403'>404</a>\u001b[0m              width, dodge, fliersize, linewidth):\n\u001b[1;32m--> <a href='file:///c%3A/Users/ritth/software/anaconda/envs/strive/lib/site-packages/seaborn/categorical.py?line=405'>406</a>\u001b[0m     \u001b[39mself\u001b[39;49m\u001b[39m.\u001b[39;49mestablish_variables(x, y, hue, data, orient, order, hue_order)\n\u001b[0;32m    <a href='file:///c%3A/Users/ritth/software/anaconda/envs/strive/lib/site-packages/seaborn/categorical.py?line=406'>407</a>\u001b[0m     \u001b[39mself\u001b[39m\u001b[39m.\u001b[39mestablish_colors(color, palette, saturation)\n\u001b[0;32m    <a href='file:///c%3A/Users/ritth/software/anaconda/envs/strive/lib/site-packages/seaborn/categorical.py?line=408'>409</a>\u001b[0m     \u001b[39mself\u001b[39m\u001b[39m.\u001b[39mdodge \u001b[39m=\u001b[39m dodge\n",
      "File \u001b[1;32m~\\software\\anaconda\\envs\\strive\\lib\\site-packages\\seaborn\\categorical.py:156\u001b[0m, in \u001b[0;36m_CategoricalPlotter.establish_variables\u001b[1;34m(self, x, y, hue, data, orient, order, hue_order, units)\u001b[0m\n\u001b[0;32m    <a href='file:///c%3A/Users/ritth/software/anaconda/envs/strive/lib/site-packages/seaborn/categorical.py?line=152'>153</a>\u001b[0m         \u001b[39mraise\u001b[39;00m \u001b[39mValueError\u001b[39;00m(err)\n\u001b[0;32m    <a href='file:///c%3A/Users/ritth/software/anaconda/envs/strive/lib/site-packages/seaborn/categorical.py?line=154'>155</a>\u001b[0m \u001b[39m# Figure out the plotting orientation\u001b[39;00m\n\u001b[1;32m--> <a href='file:///c%3A/Users/ritth/software/anaconda/envs/strive/lib/site-packages/seaborn/categorical.py?line=155'>156</a>\u001b[0m orient \u001b[39m=\u001b[39m infer_orient(\n\u001b[0;32m    <a href='file:///c%3A/Users/ritth/software/anaconda/envs/strive/lib/site-packages/seaborn/categorical.py?line=156'>157</a>\u001b[0m     x, y, orient, require_numeric\u001b[39m=\u001b[39;49m\u001b[39mself\u001b[39;49m\u001b[39m.\u001b[39;49mrequire_numeric\n\u001b[0;32m    <a href='file:///c%3A/Users/ritth/software/anaconda/envs/strive/lib/site-packages/seaborn/categorical.py?line=157'>158</a>\u001b[0m )\n\u001b[0;32m    <a href='file:///c%3A/Users/ritth/software/anaconda/envs/strive/lib/site-packages/seaborn/categorical.py?line=159'>160</a>\u001b[0m \u001b[39m# Option 2a:\u001b[39;00m\n\u001b[0;32m    <a href='file:///c%3A/Users/ritth/software/anaconda/envs/strive/lib/site-packages/seaborn/categorical.py?line=160'>161</a>\u001b[0m \u001b[39m# We are plotting a single set of data\u001b[39;00m\n\u001b[0;32m    <a href='file:///c%3A/Users/ritth/software/anaconda/envs/strive/lib/site-packages/seaborn/categorical.py?line=161'>162</a>\u001b[0m \u001b[39m# ------------------------------------\u001b[39;00m\n\u001b[0;32m    <a href='file:///c%3A/Users/ritth/software/anaconda/envs/strive/lib/site-packages/seaborn/categorical.py?line=162'>163</a>\u001b[0m \u001b[39mif\u001b[39;00m x \u001b[39mis\u001b[39;00m \u001b[39mNone\u001b[39;00m \u001b[39mor\u001b[39;00m y \u001b[39mis\u001b[39;00m \u001b[39mNone\u001b[39;00m:\n\u001b[0;32m    <a href='file:///c%3A/Users/ritth/software/anaconda/envs/strive/lib/site-packages/seaborn/categorical.py?line=163'>164</a>\u001b[0m \n\u001b[0;32m    <a href='file:///c%3A/Users/ritth/software/anaconda/envs/strive/lib/site-packages/seaborn/categorical.py?line=164'>165</a>\u001b[0m     \u001b[39m# Determine where the data are\u001b[39;00m\n",
      "File \u001b[1;32m~\\software\\anaconda\\envs\\strive\\lib\\site-packages\\seaborn\\_core.py:1305\u001b[0m, in \u001b[0;36minfer_orient\u001b[1;34m(x, y, orient, require_numeric)\u001b[0m\n\u001b[0;32m   <a href='file:///c%3A/Users/ritth/software/anaconda/envs/strive/lib/site-packages/seaborn/_core.py?line=1302'>1303</a>\u001b[0m         warnings\u001b[39m.\u001b[39mwarn(single_var_warning\u001b[39m.\u001b[39mformat(\u001b[39m\"\u001b[39m\u001b[39mVertical\u001b[39m\u001b[39m\"\u001b[39m, \u001b[39m\"\u001b[39m\u001b[39mx\u001b[39m\u001b[39m\"\u001b[39m))\n\u001b[0;32m   <a href='file:///c%3A/Users/ritth/software/anaconda/envs/strive/lib/site-packages/seaborn/_core.py?line=1303'>1304</a>\u001b[0m     \u001b[39mif\u001b[39;00m require_numeric \u001b[39mand\u001b[39;00m x_type \u001b[39m!=\u001b[39m \u001b[39m\"\u001b[39m\u001b[39mnumeric\u001b[39m\u001b[39m\"\u001b[39m:\n\u001b[1;32m-> <a href='file:///c%3A/Users/ritth/software/anaconda/envs/strive/lib/site-packages/seaborn/_core.py?line=1304'>1305</a>\u001b[0m         \u001b[39mraise\u001b[39;00m \u001b[39mTypeError\u001b[39;00m(nonnumeric_dv_error\u001b[39m.\u001b[39mformat(\u001b[39m\"\u001b[39m\u001b[39mHorizontal\u001b[39m\u001b[39m\"\u001b[39m, \u001b[39m\"\u001b[39m\u001b[39mx\u001b[39m\u001b[39m\"\u001b[39m))\n\u001b[0;32m   <a href='file:///c%3A/Users/ritth/software/anaconda/envs/strive/lib/site-packages/seaborn/_core.py?line=1305'>1306</a>\u001b[0m     \u001b[39mreturn\u001b[39;00m \u001b[39m\"\u001b[39m\u001b[39mh\u001b[39m\u001b[39m\"\u001b[39m\n\u001b[0;32m   <a href='file:///c%3A/Users/ritth/software/anaconda/envs/strive/lib/site-packages/seaborn/_core.py?line=1307'>1308</a>\u001b[0m \u001b[39melif\u001b[39;00m \u001b[39mstr\u001b[39m(orient)\u001b[39m.\u001b[39mstartswith(\u001b[39m\"\u001b[39m\u001b[39mv\u001b[39m\u001b[39m\"\u001b[39m):\n",
      "\u001b[1;31mTypeError\u001b[0m: Horizontal orientation requires numeric `x` variable."
     ]
    }
   ],
   "source": [
    "# Boxplot of the distributions\n",
    "# Note the sub zero twitter folowers\n",
    "c = sns.boxplot([twitter_followers, facebook_friends], \n",
    "            names = ['Twitter followers', 'Facebook friends'])"
   ]
  },
  {
   "cell_type": "markdown",
   "metadata": {},
   "source": [
    "## The Standard Normal Distribution\n",
    "To compare or re-map values of a normal distribution, we need to calculate the z-scores. All z-scores fall on the standard normal distribution, with a mean of 0 and a standard deviation of 1:\n",
    "\n",
    "$$z=\\frac{x-\\mu}{\\sigma}$$\n",
    "\n",
    "To map back to the original value (in this case Facebook friends or Twitter followers):\n",
    "\n",
    "$$x=z\\cdot\\sigma+\\mu$$ "
   ]
  },
  {
   "cell_type": "code",
   "execution_count": 24,
   "metadata": {},
   "outputs": [
    {
     "data": {
      "text/plain": [
       "array([-0.96298151,  0.51366791,  1.05714852, -1.25277683, -1.03920689,\n",
       "       -0.62736578, -0.45257795,  0.11801965,  0.76238868, -1.18076396,\n",
       "        0.85415208, -1.28251086])"
      ]
     },
     "execution_count": 24,
     "metadata": {},
     "output_type": "execute_result"
    }
   ],
   "source": [
    "# Calculate the z-scores for Twitter followers\n",
    "z_scores_twitter = stats.mstats.zscore(twitter_followers)\n",
    "z_scores_twitter[:12]"
   ]
  },
  {
   "cell_type": "code",
   "execution_count": 25,
   "metadata": {},
   "outputs": [
    {
     "data": {
      "text/plain": [
       "array([-1.22117382,  0.65167643,  1.37960005,  0.30968856, -1.08329268,\n",
       "       -0.78993309,  1.73898008,  1.68925379, -0.59639212, -1.54396322,\n",
       "        0.15637203, -0.84362387])"
      ]
     },
     "execution_count": 25,
     "metadata": {},
     "output_type": "execute_result"
    }
   ],
   "source": [
    "# Calculate the z-scores for Facebook friends\n",
    "z_scores_facebook = stats.mstats.zscore(facebook_friends)\n",
    "z_scores_facebook[:12]"
   ]
  },
  {
   "cell_type": "code",
   "execution_count": 26,
   "metadata": {},
   "outputs": [
    {
     "name": "stderr",
     "output_type": "stream",
     "text": [
      "C:\\Users\\ritth\\software\\anaconda\\envs\\strive\\lib\\site-packages\\seaborn\\distributions.py:2551: FutureWarning: `distplot` is a deprecated function and will be removed in a future version. Please adapt your code to use either `displot` (a figure-level function with similar flexibility) or `histplot` (an axes-level function for histograms).\n",
      "  warnings.warn(msg, FutureWarning)\n",
      "C:\\Users\\ritth\\software\\anaconda\\envs\\strive\\lib\\site-packages\\seaborn\\distributions.py:2551: FutureWarning: `distplot` is a deprecated function and will be removed in a future version. Please adapt your code to use either `displot` (a figure-level function with similar flexibility) or `histplot` (an axes-level function for histograms).\n",
      "  warnings.warn(msg, FutureWarning)\n"
     ]
    },
    {
     "data": {
      "image/png": "[encoded data removed]",
      "text/plain": [
       "<Figure size 432x288 with 1 Axes>"
      ]
     },
     "metadata": {
      "needs_background": "light"
     },
     "output_type": "display_data"
    }
   ],
   "source": [
    "# Distribution plot of the normalized distributions\n",
    "sns.distplot(z_scores_twitter, label='Twitter followers')\n",
    "sns.distplot(z_scores_facebook, label='Facebook friends')\n",
    "c=plt.legend(title='Normalized values (z-Scores)')"
   ]
  },
  {
   "cell_type": "code",
   "execution_count": 27,
   "metadata": {},
   "outputs": [
    {
     "name": "stderr",
     "output_type": "stream",
     "text": [
      "C:\\Users\\ritth\\software\\anaconda\\envs\\strive\\lib\\site-packages\\seaborn\\_decorators.py:36: FutureWarning: Pass the following variable as a keyword arg: x. From version 0.12, the only valid positional argument will be `data`, and passing other arguments without an explicit keyword will result in an error or misinterpretation.\n",
      "  warnings.warn(\n"
     ]
    },
    {
     "ename": "TypeError",
     "evalue": "Horizontal orientation requires numeric `x` variable.",
     "output_type": "error",
     "traceback": [
      "\u001b[1;31m---------------------------------------------------------------------------\u001b[0m",
      "\u001b[1;31mTypeError\u001b[0m                                 Traceback (most recent call last)",
      "\u001b[1;32mc:\\Users\\ritth\\code\\Strive\\Strive-Exercises\\Chapter 01\\15. Statistics\\Part 2\\Tutorial_03_Exploring the Standard Normal Distribution.ipynb Cell 12'\u001b[0m in \u001b[0;36m<cell line: 2>\u001b[1;34m()\u001b[0m\n\u001b[0;32m      <a href='vscode-notebook-cell:/c%3A/Users/ritth/code/Strive/Strive-Exercises/Chapter%2001/15.%20Statistics/Part%202/Tutorial_03_Exploring%20the%20Standard%20Normal%20Distribution.ipynb#ch0000011?line=0'>1</a>\u001b[0m \u001b[39m# Boxplot of the normalized distributions\u001b[39;00m\n\u001b[1;32m----> <a href='vscode-notebook-cell:/c%3A/Users/ritth/code/Strive/Strive-Exercises/Chapter%2001/15.%20Statistics/Part%202/Tutorial_03_Exploring%20the%20Standard%20Normal%20Distribution.ipynb#ch0000011?line=1'>2</a>\u001b[0m c\u001b[39m=\u001b[39msns\u001b[39m.\u001b[39;49mboxplot([z_scores_twitter, z_scores_facebook],\n\u001b[0;32m      <a href='vscode-notebook-cell:/c%3A/Users/ritth/code/Strive/Strive-Exercises/Chapter%2001/15.%20Statistics/Part%202/Tutorial_03_Exploring%20the%20Standard%20Normal%20Distribution.ipynb#ch0000011?line=2'>3</a>\u001b[0m             names\u001b[39m=\u001b[39;49m[\u001b[39m'\u001b[39;49m\u001b[39mTwitter followers\u001b[39;49m\u001b[39m'\u001b[39;49m, \u001b[39m'\u001b[39;49m\u001b[39mFacebook friends\u001b[39;49m\u001b[39m'\u001b[39;49m])\n",
      "File \u001b[1;32m~\\software\\anaconda\\envs\\strive\\lib\\site-packages\\seaborn\\_decorators.py:46\u001b[0m, in \u001b[0;36m_deprecate_positional_args.<locals>.inner_f\u001b[1;34m(*args, **kwargs)\u001b[0m\n\u001b[0;32m     <a href='file:///c%3A/Users/ritth/software/anaconda/envs/strive/lib/site-packages/seaborn/_decorators.py?line=35'>36</a>\u001b[0m     warnings\u001b[39m.\u001b[39mwarn(\n\u001b[0;32m     <a href='file:///c%3A/Users/ritth/software/anaconda/envs/strive/lib/site-packages/seaborn/_decorators.py?line=36'>37</a>\u001b[0m         \u001b[39m\"\u001b[39m\u001b[39mPass the following variable\u001b[39m\u001b[39m{}\u001b[39;00m\u001b[39m as \u001b[39m\u001b[39m{}\u001b[39;00m\u001b[39mkeyword arg\u001b[39m\u001b[39m{}\u001b[39;00m\u001b[39m: \u001b[39m\u001b[39m{}\u001b[39;00m\u001b[39m. \u001b[39m\u001b[39m\"\u001b[39m\n\u001b[0;32m     <a href='file:///c%3A/Users/ritth/software/anaconda/envs/strive/lib/site-packages/seaborn/_decorators.py?line=37'>38</a>\u001b[0m         \u001b[39m\"\u001b[39m\u001b[39mFrom version 0.12, the only valid positional argument \u001b[39m\u001b[39m\"\u001b[39m\n\u001b[1;32m   (...)\u001b[0m\n\u001b[0;32m     <a href='file:///c%3A/Users/ritth/software/anaconda/envs/strive/lib/site-packages/seaborn/_decorators.py?line=42'>43</a>\u001b[0m         \u001b[39mFutureWarning\u001b[39;00m\n\u001b[0;32m     <a href='file:///c%3A/Users/ritth/software/anaconda/envs/strive/lib/site-packages/seaborn/_decorators.py?line=43'>44</a>\u001b[0m     )\n\u001b[0;32m     <a href='file:///c%3A/Users/ritth/software/anaconda/envs/strive/lib/site-packages/seaborn/_decorators.py?line=44'>45</a>\u001b[0m kwargs\u001b[39m.\u001b[39mupdate({k: arg \u001b[39mfor\u001b[39;00m k, arg \u001b[39min\u001b[39;00m \u001b[39mzip\u001b[39m(sig\u001b[39m.\u001b[39mparameters, args)})\n\u001b[1;32m---> <a href='file:///c%3A/Users/ritth/software/anaconda/envs/strive/lib/site-packages/seaborn/_decorators.py?line=45'>46</a>\u001b[0m \u001b[39mreturn\u001b[39;00m f(\u001b[39m*\u001b[39;49m\u001b[39m*\u001b[39;49mkwargs)\n",
      "File \u001b[1;32m~\\software\\anaconda\\envs\\strive\\lib\\site-packages\\seaborn\\categorical.py:2230\u001b[0m, in \u001b[0;36mboxplot\u001b[1;34m(x, y, hue, data, order, hue_order, orient, color, palette, saturation, width, dodge, fliersize, linewidth, whis, ax, **kwargs)\u001b[0m\n\u001b[0;32m   <a href='file:///c%3A/Users/ritth/software/anaconda/envs/strive/lib/site-packages/seaborn/categorical.py?line=2217'>2218</a>\u001b[0m \u001b[39m@_deprecate_positional_args\u001b[39m\n\u001b[0;32m   <a href='file:///c%3A/Users/ritth/software/anaconda/envs/strive/lib/site-packages/seaborn/categorical.py?line=2218'>2219</a>\u001b[0m \u001b[39mdef\u001b[39;00m \u001b[39mboxplot\u001b[39m(\n\u001b[0;32m   <a href='file:///c%3A/Users/ritth/software/anaconda/envs/strive/lib/site-packages/seaborn/categorical.py?line=2219'>2220</a>\u001b[0m     \u001b[39m*\u001b[39m,\n\u001b[1;32m   (...)\u001b[0m\n\u001b[0;32m   <a href='file:///c%3A/Users/ritth/software/anaconda/envs/strive/lib/site-packages/seaborn/categorical.py?line=2226'>2227</a>\u001b[0m     \u001b[39m*\u001b[39m\u001b[39m*\u001b[39mkwargs\n\u001b[0;32m   <a href='file:///c%3A/Users/ritth/software/anaconda/envs/strive/lib/site-packages/seaborn/categorical.py?line=2227'>2228</a>\u001b[0m ):\n\u001b[1;32m-> <a href='file:///c%3A/Users/ritth/software/anaconda/envs/strive/lib/site-packages/seaborn/categorical.py?line=2229'>2230</a>\u001b[0m     plotter \u001b[39m=\u001b[39m _BoxPlotter(x, y, hue, data, order, hue_order,\n\u001b[0;32m   <a href='file:///c%3A/Users/ritth/software/anaconda/envs/strive/lib/site-packages/seaborn/categorical.py?line=2230'>2231</a>\u001b[0m                           orient, color, palette, saturation,\n\u001b[0;32m   <a href='file:///c%3A/Users/ritth/software/anaconda/envs/strive/lib/site-packages/seaborn/categorical.py?line=2231'>2232</a>\u001b[0m                           width, dodge, fliersize, linewidth)\n\u001b[0;32m   <a href='file:///c%3A/Users/ritth/software/anaconda/envs/strive/lib/site-packages/seaborn/categorical.py?line=2233'>2234</a>\u001b[0m     \u001b[39mif\u001b[39;00m ax \u001b[39mis\u001b[39;00m \u001b[39mNone\u001b[39;00m:\n\u001b[0;32m   <a href='file:///c%3A/Users/ritth/software/anaconda/envs/strive/lib/site-packages/seaborn/categorical.py?line=2234'>2235</a>\u001b[0m         ax \u001b[39m=\u001b[39m plt\u001b[39m.\u001b[39mgca()\n",
      "File \u001b[1;32m~\\software\\anaconda\\envs\\strive\\lib\\site-packages\\seaborn\\categorical.py:406\u001b[0m, in \u001b[0;36m_BoxPlotter.__init__\u001b[1;34m(self, x, y, hue, data, order, hue_order, orient, color, palette, saturation, width, dodge, fliersize, linewidth)\u001b[0m\n\u001b[0;32m    <a href='file:///c%3A/Users/ritth/software/anaconda/envs/strive/lib/site-packages/seaborn/categorical.py?line=401'>402</a>\u001b[0m \u001b[39mdef\u001b[39;00m \u001b[39m__init__\u001b[39m(\u001b[39mself\u001b[39m, x, y, hue, data, order, hue_order,\n\u001b[0;32m    <a href='file:///c%3A/Users/ritth/software/anaconda/envs/strive/lib/site-packages/seaborn/categorical.py?line=402'>403</a>\u001b[0m              orient, color, palette, saturation,\n\u001b[0;32m    <a href='file:///c%3A/Users/ritth/software/anaconda/envs/strive/lib/site-packages/seaborn/categorical.py?line=403'>404</a>\u001b[0m              width, dodge, fliersize, linewidth):\n\u001b[1;32m--> <a href='file:///c%3A/Users/ritth/software/anaconda/envs/strive/lib/site-packages/seaborn/categorical.py?line=405'>406</a>\u001b[0m     \u001b[39mself\u001b[39;49m\u001b[39m.\u001b[39;49mestablish_variables(x, y, hue, data, orient, order, hue_order)\n\u001b[0;32m    <a href='file:///c%3A/Users/ritth/software/anaconda/envs/strive/lib/site-packages/seaborn/categorical.py?line=406'>407</a>\u001b[0m     \u001b[39mself\u001b[39m\u001b[39m.\u001b[39mestablish_colors(color, palette, saturation)\n\u001b[0;32m    <a href='file:///c%3A/Users/ritth/software/anaconda/envs/strive/lib/site-packages/seaborn/categorical.py?line=408'>409</a>\u001b[0m     \u001b[39mself\u001b[39m\u001b[39m.\u001b[39mdodge \u001b[39m=\u001b[39m dodge\n",
      "File \u001b[1;32m~\\software\\anaconda\\envs\\strive\\lib\\site-packages\\seaborn\\categorical.py:156\u001b[0m, in \u001b[0;36m_CategoricalPlotter.establish_variables\u001b[1;34m(self, x, y, hue, data, orient, order, hue_order, units)\u001b[0m\n\u001b[0;32m    <a href='file:///c%3A/Users/ritth/software/anaconda/envs/strive/lib/site-packages/seaborn/categorical.py?line=152'>153</a>\u001b[0m         \u001b[39mraise\u001b[39;00m \u001b[39mValueError\u001b[39;00m(err)\n\u001b[0;32m    <a href='file:///c%3A/Users/ritth/software/anaconda/envs/strive/lib/site-packages/seaborn/categorical.py?line=154'>155</a>\u001b[0m \u001b[39m# Figure out the plotting orientation\u001b[39;00m\n\u001b[1;32m--> <a href='file:///c%3A/Users/ritth/software/anaconda/envs/strive/lib/site-packages/seaborn/categorical.py?line=155'>156</a>\u001b[0m orient \u001b[39m=\u001b[39m infer_orient(\n\u001b[0;32m    <a href='file:///c%3A/Users/ritth/software/anaconda/envs/strive/lib/site-packages/seaborn/categorical.py?line=156'>157</a>\u001b[0m     x, y, orient, require_numeric\u001b[39m=\u001b[39;49m\u001b[39mself\u001b[39;49m\u001b[39m.\u001b[39;49mrequire_numeric\n\u001b[0;32m    <a href='file:///c%3A/Users/ritth/software/anaconda/envs/strive/lib/site-packages/seaborn/categorical.py?line=157'>158</a>\u001b[0m )\n\u001b[0;32m    <a href='file:///c%3A/Users/ritth/software/anaconda/envs/strive/lib/site-packages/seaborn/categorical.py?line=159'>160</a>\u001b[0m \u001b[39m# Option 2a:\u001b[39;00m\n\u001b[0;32m    <a href='file:///c%3A/Users/ritth/software/anaconda/envs/strive/lib/site-packages/seaborn/categorical.py?line=160'>161</a>\u001b[0m \u001b[39m# We are plotting a single set of data\u001b[39;00m\n\u001b[0;32m    <a href='file:///c%3A/Users/ritth/software/anaconda/envs/strive/lib/site-packages/seaborn/categorical.py?line=161'>162</a>\u001b[0m \u001b[39m# ------------------------------------\u001b[39;00m\n\u001b[0;32m    <a href='file:///c%3A/Users/ritth/software/anaconda/envs/strive/lib/site-packages/seaborn/categorical.py?line=162'>163</a>\u001b[0m \u001b[39mif\u001b[39;00m x \u001b[39mis\u001b[39;00m \u001b[39mNone\u001b[39;00m \u001b[39mor\u001b[39;00m y \u001b[39mis\u001b[39;00m \u001b[39mNone\u001b[39;00m:\n\u001b[0;32m    <a href='file:///c%3A/Users/ritth/software/anaconda/envs/strive/lib/site-packages/seaborn/categorical.py?line=163'>164</a>\u001b[0m \n\u001b[0;32m    <a href='file:///c%3A/Users/ritth/software/anaconda/envs/strive/lib/site-packages/seaborn/categorical.py?line=164'>165</a>\u001b[0m     \u001b[39m# Determine where the data are\u001b[39;00m\n",
      "File \u001b[1;32m~\\software\\anaconda\\envs\\strive\\lib\\site-packages\\seaborn\\_core.py:1305\u001b[0m, in \u001b[0;36minfer_orient\u001b[1;34m(x, y, orient, require_numeric)\u001b[0m\n\u001b[0;32m   <a href='file:///c%3A/Users/ritth/software/anaconda/envs/strive/lib/site-packages/seaborn/_core.py?line=1302'>1303</a>\u001b[0m         warnings\u001b[39m.\u001b[39mwarn(single_var_warning\u001b[39m.\u001b[39mformat(\u001b[39m\"\u001b[39m\u001b[39mVertical\u001b[39m\u001b[39m\"\u001b[39m, \u001b[39m\"\u001b[39m\u001b[39mx\u001b[39m\u001b[39m\"\u001b[39m))\n\u001b[0;32m   <a href='file:///c%3A/Users/ritth/software/anaconda/envs/strive/lib/site-packages/seaborn/_core.py?line=1303'>1304</a>\u001b[0m     \u001b[39mif\u001b[39;00m require_numeric \u001b[39mand\u001b[39;00m x_type \u001b[39m!=\u001b[39m \u001b[39m\"\u001b[39m\u001b[39mnumeric\u001b[39m\u001b[39m\"\u001b[39m:\n\u001b[1;32m-> <a href='file:///c%3A/Users/ritth/software/anaconda/envs/strive/lib/site-packages/seaborn/_core.py?line=1304'>1305</a>\u001b[0m         \u001b[39mraise\u001b[39;00m \u001b[39mTypeError\u001b[39;00m(nonnumeric_dv_error\u001b[39m.\u001b[39mformat(\u001b[39m\"\u001b[39m\u001b[39mHorizontal\u001b[39m\u001b[39m\"\u001b[39m, \u001b[39m\"\u001b[39m\u001b[39mx\u001b[39m\u001b[39m\"\u001b[39m))\n\u001b[0;32m   <a href='file:///c%3A/Users/ritth/software/anaconda/envs/strive/lib/site-packages/seaborn/_core.py?line=1305'>1306</a>\u001b[0m     \u001b[39mreturn\u001b[39;00m \u001b[39m\"\u001b[39m\u001b[39mh\u001b[39m\u001b[39m\"\u001b[39m\n\u001b[0;32m   <a href='file:///c%3A/Users/ritth/software/anaconda/envs/strive/lib/site-packages/seaborn/_core.py?line=1307'>1308</a>\u001b[0m \u001b[39melif\u001b[39;00m \u001b[39mstr\u001b[39m(orient)\u001b[39m.\u001b[39mstartswith(\u001b[39m\"\u001b[39m\u001b[39mv\u001b[39m\u001b[39m\"\u001b[39m):\n",
      "\u001b[1;31mTypeError\u001b[0m: Horizontal orientation requires numeric `x` variable."
     ]
    }
   ],
   "source": [
    "# Boxplot of the normalized distributions\n",
    "c = sns.boxplot([z_scores_twitter, z_scores_facebook],\n",
    "            names=['Twitter followers', 'Facebook friends'])"
   ]
  },
  {
   "cell_type": "markdown",
   "metadata": {},
   "source": [
    "## Mapping to other distributions\n",
    "Now we have our normalized distributions, we can do some mapping from one to the other. Let's say I wanted to know roughly the equivalent of Facebook friends, given a number of Twitter followers. I can calculate this by using the Standard Normal Distribution (z scores)."
   ]
  },
  {
   "cell_type": "code",
   "execution_count": null,
   "metadata": {},
   "outputs": [
    {
     "data": {
      "text/plain": [
       "-1.9333333333333333"
      ]
     },
     "execution_count": 10,
     "metadata": {},
     "output_type": "execute_result"
    }
   ],
   "source": [
    "# First calculate the z score for my number of Twitter followers\n",
    "me_twitter_followers = 92.0\n",
    "me_twitter_zscore = (me_twitter_followers - twitter_mu) / twitter_sigma\n",
    "me_twitter_zscore"
   ]
  },
  {
   "cell_type": "code",
   "execution_count": null,
   "metadata": {},
   "outputs": [
    {
     "data": {
      "text/plain": [
       "120.4"
      ]
     },
     "execution_count": 11,
     "metadata": {},
     "output_type": "execute_result"
    }
   ],
   "source": [
    "# Than map the z score to a Facebook friends equivalent\n",
    "me_equiv_facebook_friends = me_twitter_zscore * facebook_sigma + facebook_mu\n",
    "me_equiv_facebook_friends"
   ]
  },
  {
   "cell_type": "code",
   "execution_count": null,
   "metadata": {},
   "outputs": [],
   "source": []
  }
 ],
 "metadata": {
  "kernelspec": {
   "display_name": "Python 3",
   "language": "python",
   "name": "python3"
  },
  "language_info": {
   "codemirror_mode": {
    "name": "ipython",
    "version": 3
   },
   "file_extension": ".py",
   "mimetype": "text/x-python",
   "name": "python",
   "nbconvert_exporter": "python",
   "pygments_lexer": "ipython3",
   "version": "3.8.12"
  },
  "varInspector": {
   "cols": {
    "lenName": 16,
    "lenType": 16,
    "lenVar": 40
   },
   "kernels_config": {
    "python": {
     "delete_cmd_postfix": "",
     "delete_cmd_prefix": "del ",
     "library": "var_list.py",
     "varRefreshCmd": "print(var_dic_list())"
    },
    "r": {
     "delete_cmd_postfix": ") ",
     "delete_cmd_prefix": "rm(",
     "library": "var_list.r",
     "varRefreshCmd": "cat(var_dic_list()) "
    }
   },
   "types_to_exclude": [
    "module",
    "function",
    "builtin_function_or_method",
    "instance",
    "_Feature"
   ],
   "window_display": false
  }
 },
 "nbformat": 4,
 "nbformat_minor": 1
}
