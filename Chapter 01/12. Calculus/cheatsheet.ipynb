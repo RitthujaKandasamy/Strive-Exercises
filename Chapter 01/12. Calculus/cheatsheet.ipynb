{
 "cells": [
  {
   "cell_type": "markdown",
   "metadata": {},
   "source": [
    "# Calculus\n",
    "\n",
    "Calculus is the mathematical study of change.\n",
    "\n",
    "## Absolute values\n",
    "\n",
    "Let x be a real number. The absolute value of x, denoted |x|, is defined by\n",
    "\n",
    "               \n",
    "                   |x| = {x,  if x >= 0\n",
    "                         {-x, if x < 0  \n",
    "\n",
    "\n",
    "Let x, y and b be real numbers.\n",
    "\n",
    "   1. |-x| = |x|\n",
    "   2. $|x|^2$ = x^2\n",
    "   3. |x - y| = |y - x|\n",
    "   4. |xy| = |x||y|\n",
    "   5. |x| < b if and only if -b < x < b\n"
   ]
  },
  {
   "cell_type": "markdown",
   "metadata": {},
   "source": [
    "### Absolute value problem:\n",
    "\n",
    "1. If x = 4, What is the absolute value of |x|?"
   ]
  },
  {
   "cell_type": "code",
   "execution_count": 4,
   "metadata": {},
   "outputs": [
    {
     "name": "stdout",
     "output_type": "stream",
     "text": [
      "The absolute value of |x| is 4\n"
     ]
    }
   ],
   "source": [
    "x = 4\n",
    "\n",
    "# |-x| = |x|\n",
    "\n",
    "\"\"\" \n",
    "-x and x are equal, so the x value is same\n",
    "\"\"\"\n",
    "\n",
    "sol = 4\n",
    "print(f'The absolute value of |x| is {sol}')"
   ]
  }
 ],
 "metadata": {
  "interpreter": {
   "hash": "73592dad14db8f3994cd458d5e0995dad9821ca28205c2106249abcaba41cb67"
  },
  "kernelspec": {
   "display_name": "Python 3.8.12 ('strive')",
   "language": "python",
   "name": "python3"
  },
  "language_info": {
   "codemirror_mode": {
    "name": "ipython",
    "version": 3
   },
   "file_extension": ".py",
   "mimetype": "text/x-python",
   "name": "python",
   "nbconvert_exporter": "python",
   "pygments_lexer": "ipython3",
   "version": "3.8.12"
  },
  "orig_nbformat": 4
 },
 "nbformat": 4,
 "nbformat_minor": 2
}
