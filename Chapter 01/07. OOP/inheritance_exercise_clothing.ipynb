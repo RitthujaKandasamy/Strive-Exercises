{
  "cells": [
    {
      "cell_type": "markdown",
      "metadata": {
        "id": "VSIsAF-Enrv5"
      },
      "source": [
        "# Inheritance Exercise Clothing\n",
        "\n",
        "The following code contains a Clothing parent class and two children classes: Shirt Pants and Blouse. Read through the code and fill out the TODOs. "
      ]
    },
    {
      "cell_type": "code",
      "execution_count": 95,
      "metadata": {
        "id": "bO3T1fppnrwB"
      },
      "outputs": [],
      "source": [
        "class Clothing:\n",
        "\n",
        "  #TODO: Create a class called clothing that has following attributes and methods\n",
        "  # Attributes: color, size, style, price\n",
        "\n",
        "  # Methods: change_price, calculate_discount & calculate shipping\n",
        "\n",
        "    \n",
        "    def __init__(self, color, size, style, price):\n",
        "        self.color = color\n",
        "        self.size = size\n",
        "        self.style = style \n",
        "        self.price = price\n",
        "        \n",
        "\n",
        "    def change_price(self, price):\n",
        "        self.price = price\n",
        "    \n",
        "        \n",
        "        \n",
        "    # calculate discount by multiplying self price and (1 - discount)\n",
        "    # return the discount value\n",
        "\n",
        "    def calculate_discount(self, discount):\n",
        "        discount_first = self.price * (1 - discount)\n",
        "        return discount_first\n",
        "    \n",
        "\n",
        "    # shipping price = weight * rate\n",
        "    # return the shipping value \n",
        "\n",
        "    def calculate_shipping(self, weight, rate):\n",
        "        shipping_price = weight * rate\n",
        "        return shipping_price \n",
        "        \n",
        "\n",
        "class Shirt(Clothing):\n",
        "\n",
        "  #TODO: Create a class called shirt that has following attributes and methods\n",
        "  # Attributes: color, size, style, price, long_or_short\n",
        "\n",
        "  # Methods: double_price, which has no inputs and returns two times\n",
        "  #          the price of the blouse\n",
        "    \n",
        "    def __init__(self, color, size, style, price, long_or_short):\n",
        "        super().__init__(color, size, style, price)\n",
        "        self.long_or_short = long_or_short\n",
        "        \n",
        "    \n",
        "    def double_price(self):\n",
        "        shirt = 2 * self.price\n",
        "        return shirt\n",
        "    \n",
        "    \n",
        "class Pants(Clothing):\n",
        "\n",
        "    def __init__(self, color, size, style, price, waist):\n",
        "        super().__init__(color, size, style, price)\n",
        "        self.waist = waist\n",
        "        \n",
        "        \n",
        "    def calculate_discount(self, discount):\n",
        "        self.discount = discount\n",
        "        \n",
        "\n",
        "\n",
        "\n",
        "# TODO: Write a class called Blouse, that inherits from the Clothing class\n",
        "#       and has the following attributes and methods:\n",
        "# Attributes: color, size, style, price, country_of_origin\n",
        "#     where country_of_origin is a string that holds the name of a country\n",
        "\n",
        "# Methods: triple_price, which has no inputs and returns three times\n",
        "#         the price of the blouse\n",
        "\n",
        "\n",
        "class Blouse(Clothing):\n",
        "    def __init__(self, color, size, style, price, country_of_origin):\n",
        "        super().__init__(color, size, style, price)\n",
        "        self.country_of_origin = country_of_origin\n",
        "        \n",
        "        \n",
        "    def triple_price(self):\n",
        "        blouse = 3 * self.price\n",
        "        return blouse\n",
        "\n",
        "    def __str__(self):\n",
        "        return f'Name of a Country:  {self.country_of_origin}'\n",
        "\n",
        "# TODO: Add a method to the clothing class called calculate_shipping.\n",
        "#       The method has two inputs: weight and rate. \n",
        "# Weight is a float, representing the weight of the article of clothing. \n",
        "# Rate is a float, representing the shipping weight. \n",
        "#        The method returns weight * rate"
      ]
    },
    {
      "cell_type": "code",
      "execution_count": 96,
      "metadata": {
        "id": "nlrkB2OAnrwH"
      },
      "outputs": [
        {
          "name": "stdout",
          "output_type": "stream",
          "text": [
            "4514.400000000001\n",
            "156\n"
          ]
        }
      ],
      "source": [
        "shipping = Clothing('red', 32, 'formal', 5643)\n",
        "print(shipping.calculate_discount(0.2))\n",
        "print(shipping.calculate_shipping(26, 6))\n"
      ]
    },
    {
      "cell_type": "code",
      "execution_count": 97,
      "metadata": {},
      "outputs": [
        {
          "ename": "AttributeError",
          "evalue": "'Clothing' object has no attribute 'discount'",
          "output_type": "error",
          "traceback": [
            "\u001b[1;31m---------------------------------------------------------------------------\u001b[0m",
            "\u001b[1;31mAttributeError\u001b[0m                            Traceback (most recent call last)",
            "\u001b[1;32mc:\\Users\\ritth\\code\\Strive\\Strive-Exercises\\Chapter 01\\07. OOP\\inheritance_exercise_clothing.ipynb Cell 4'\u001b[0m in \u001b[0;36m<cell line: 1>\u001b[1;34m()\u001b[0m\n\u001b[1;32m----> <a href='vscode-notebook-cell:/c%3A/Users/ritth/code/Strive/Strive-Exercises/Chapter%2001/07.%20OOP/inheritance_exercise_clothing.ipynb#ch0000007?line=0'>1</a>\u001b[0m \u001b[39mprint\u001b[39m(shipping\u001b[39m.\u001b[39;49mdiscount)\n",
            "\u001b[1;31mAttributeError\u001b[0m: 'Clothing' object has no attribute 'discount'"
          ]
        }
      ],
      "source": [
        "print(shipping.discount)\n"
      ]
    },
    {
      "cell_type": "code",
      "execution_count": null,
      "metadata": {},
      "outputs": [
        {
          "name": "stdout",
          "output_type": "stream",
          "text": [
            "15798\n"
          ]
        }
      ],
      "source": [
        "shirt_clothing = Shirt('blue', 23, 'fashion', 7899, 'short')\n",
        "print(shirt_clothing.double_price())"
      ]
    },
    {
      "cell_type": "code",
      "execution_count": null,
      "metadata": {},
      "outputs": [
        {
          "data": {
            "text/plain": [
              "315"
            ]
          },
          "execution_count": 82,
          "metadata": {},
          "output_type": "execute_result"
        }
      ],
      "source": [
        "pants_clothing = Pants('black', 'M', 'normal', 765, 0)\n",
        "pants_clothing.calculate_shipping(45, 7)"
      ]
    },
    {
      "cell_type": "code",
      "execution_count": null,
      "metadata": {},
      "outputs": [
        {
          "name": "stdout",
          "output_type": "stream",
          "text": [
            "16296\n"
          ]
        },
        {
          "data": {
            "text/plain": [
              "'Name of a Country:  Germany'"
            ]
          },
          "execution_count": 83,
          "metadata": {},
          "output_type": "execute_result"
        }
      ],
      "source": [
        "blouse_clothing = Blouse('black', 'M', 'normal', 5432, 'Germany')\n",
        "print(blouse_clothing.triple_price())\n",
        "blouse_clothing.__str__()"
      ]
    }
  ],
  "metadata": {
    "colab": {
      "collapsed_sections": [],
      "name": "inheritance-exercise-clothing.ipynb",
      "provenance": []
    },
    "kernelspec": {
      "display_name": "Python 3",
      "language": "python",
      "name": "python3"
    },
    "language_info": {
      "codemirror_mode": {
        "name": "ipython",
        "version": 3
      },
      "file_extension": ".py",
      "mimetype": "text/x-python",
      "name": "python",
      "nbconvert_exporter": "python",
      "pygments_lexer": "ipython3",
      "version": "3.8.12"
    }
  },
  "nbformat": 4,
  "nbformat_minor": 0
}
