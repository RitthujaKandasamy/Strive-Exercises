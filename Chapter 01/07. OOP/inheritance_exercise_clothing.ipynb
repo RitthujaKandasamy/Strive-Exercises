{
  "cells": [
    {
      "cell_type": "markdown",
      "metadata": {
        "id": "VSIsAF-Enrv5"
      },
      "source": [
        "# Inheritance Exercise Clothing\n",
        "\n",
        "The following code contains a Clothing parent class and two children classes: Shirt Pants and Blouse. Read through the code and fill out the TODOs. "
      ]
    },
    {
      "cell_type": "code",
      "execution_count": 72,
      "metadata": {
        "id": "bO3T1fppnrwB"
      },
      "outputs": [],
      "source": [
        "class Clothing:\n",
        "\n",
        "  #TODO: Create a class called clothing that has following attributes and methods\n",
        "  # Attributes: color, size, style, price\n",
        "\n",
        "  # Methods: change_price, calculate_discount & calculate shipping\n",
        "\n",
        "    \n",
        "    def __init__(self, color, size, style, price):\n",
        "        self.color = color\n",
        "        self.size = size\n",
        "        self.style = style \n",
        "        self.price = price\n",
        "        pass\n",
        "\n",
        "    def change_price(self, price):\n",
        "        self.price = price\n",
        "        pass\n",
        "        \n",
        "        \n",
        "    # calculate discount by multiplying self price and (1 - discount)\n",
        "    # return the discount value\n",
        "\n",
        "    def calculate_discount(self, discount):\n",
        "        self.discount = discount\n",
        "        self.discount_first = int(self.price * (1 - self.discount))\n",
        "        return self.discount_first\n",
        "    \n",
        "\n",
        "    # shipping price = weight * rate\n",
        "    # return the shipping value \n",
        "\n",
        "    def calculate_shipping(self, weight, rate):\n",
        "        self.weight = weight\n",
        "        self.rate = rate\n",
        "        self.shipping_price = self.weight * self.rate\n",
        "        return self.shipping_price \n",
        "        \n",
        "\n",
        "class Shirt(Clothing):\n",
        "\n",
        "  #TODO: Create a class called shirt that has following attributes and methods\n",
        "  # Attributes: color, size, style, price, long_or_short\n",
        "\n",
        "  # Methods: double_price, which has no inputs and returns two times\n",
        "  #          the price of the blouse\n",
        "    \n",
        "    def __init__(self, color, size, style, price, long_or_short):\n",
        "        self.color = color\n",
        "        self.size = size\n",
        "        self.style = style\n",
        "        self.price = price\n",
        "        self.long_or_short = long_or_short\n",
        "        pass\n",
        "    \n",
        "    def double_price(self):\n",
        "        shirt = 2 * self.price\n",
        "        return shirt\n",
        "    \n",
        "    \n",
        "class Pants(Clothing):\n",
        "\n",
        "    def __init__(self, color, size, style, price, waist):\n",
        "        self.color = color\n",
        "        self.size = size\n",
        "        self.style = style\n",
        "        self.price = price\n",
        "        self.waist = waist\n",
        "        pass\n",
        "        \n",
        "    def calculate_discount(self, discount):\n",
        "        self.discount = discount\n",
        "        pass\n",
        "\n",
        "\n",
        "\n",
        "# TODO: Write a class called Blouse, that inherits from the Clothing class\n",
        "#       and has the following attributes and methods:\n",
        "# Attributes: color, size, style, price, country_of_origin\n",
        "#     where country_of_origin is a string that holds the name of a country\n",
        "\n",
        "# Methods: triple_price, which has no inputs and returns three times\n",
        "#         the price of the blouse\n",
        "\n",
        "\n",
        "class Blouse(Clothing):\n",
        "    def __init__(self, color, size, style, price, country_of_origin):\n",
        "        self.color = color\n",
        "        self.size = size\n",
        "        self.style = style\n",
        "        self.price = price\n",
        "        self.country_of_origin = country_of_origin\n",
        "        pass\n",
        "        \n",
        "    def triple_price(self):\n",
        "        blouse = 3 * self.price\n",
        "        return blouse\n",
        "\n",
        "    def __str__(self):\n",
        "        return f'Name of a Country:  {self.country_of_origin}'\n",
        "\n",
        "# TODO: Add a method to the clothing class called calculate_shipping.\n",
        "#       The method has two inputs: weight and rate. \n",
        "# Weight is a float, representing the weight of the article of clothing. \n",
        "# Rate is a float, representing the shipping weight. \n",
        "#        The method returns weight * rate"
      ]
    },
    {
      "cell_type": "code",
      "execution_count": 73,
      "metadata": {
        "id": "nlrkB2OAnrwH"
      },
      "outputs": [
        {
          "ename": "AttributeError",
          "evalue": "'Clothing' object has no attribute 'discount'",
          "output_type": "error",
          "traceback": [
            "\u001b[1;31m---------------------------------------------------------------------------\u001b[0m",
            "\u001b[1;31mAttributeError\u001b[0m                            Traceback (most recent call last)",
            "\u001b[1;32mc:\\Users\\ritth\\code\\Strive\\Strive-Exercises\\Chapter 01\\07. OOP\\inheritance_exercise_clothing.ipynb Cell 3'\u001b[0m in \u001b[0;36m<cell line: 3>\u001b[1;34m()\u001b[0m\n\u001b[0;32m      <a href='vscode-notebook-cell:/c%3A/Users/ritth/code/Strive/Strive-Exercises/Chapter%2001/07.%20OOP/inheritance_exercise_clothing.ipynb#ch0000002?line=0'>1</a>\u001b[0m shipping \u001b[39m=\u001b[39m Clothing(\u001b[39m'\u001b[39m\u001b[39mred\u001b[39m\u001b[39m'\u001b[39m, \u001b[39m32\u001b[39m, \u001b[39m'\u001b[39m\u001b[39mformal\u001b[39m\u001b[39m'\u001b[39m, \u001b[39m5643\u001b[39m)\n\u001b[1;32m----> <a href='vscode-notebook-cell:/c%3A/Users/ritth/code/Strive/Strive-Exercises/Chapter%2001/07.%20OOP/inheritance_exercise_clothing.ipynb#ch0000002?line=2'>3</a>\u001b[0m shipping\u001b[39m.\u001b[39;49mcalculate_discount(\u001b[39m0.2\u001b[39;49m)\n\u001b[0;32m      <a href='vscode-notebook-cell:/c%3A/Users/ritth/code/Strive/Strive-Exercises/Chapter%2001/07.%20OOP/inheritance_exercise_clothing.ipynb#ch0000002?line=3'>4</a>\u001b[0m \u001b[39mprint\u001b[39m(shipping\u001b[39m.\u001b[39mcalculate_discount(\u001b[39m0.2\u001b[39m))\n\u001b[0;32m      <a href='vscode-notebook-cell:/c%3A/Users/ritth/code/Strive/Strive-Exercises/Chapter%2001/07.%20OOP/inheritance_exercise_clothing.ipynb#ch0000002?line=5'>6</a>\u001b[0m shipping\u001b[39m.\u001b[39mcalculate_shipping(\u001b[39m26\u001b[39m, \u001b[39m6\u001b[39m)\n",
            "\u001b[1;32mc:\\Users\\ritth\\code\\Strive\\Strive-Exercises\\Chapter 01\\07. OOP\\inheritance_exercise_clothing.ipynb Cell 2'\u001b[0m in \u001b[0;36mClothing.calculate_discount\u001b[1;34m(self, discount)\u001b[0m\n\u001b[0;32m     <a href='vscode-notebook-cell:/c%3A/Users/ritth/code/Strive/Strive-Exercises/Chapter%2001/07.%20OOP/inheritance_exercise_clothing.ipynb#ch0000001?line=23'>24</a>\u001b[0m \u001b[39mdef\u001b[39;00m \u001b[39mcalculate_discount\u001b[39m(\u001b[39mself\u001b[39m, discount):\n\u001b[0;32m     <a href='vscode-notebook-cell:/c%3A/Users/ritth/code/Strive/Strive-Exercises/Chapter%2001/07.%20OOP/inheritance_exercise_clothing.ipynb#ch0000001?line=24'>25</a>\u001b[0m     \u001b[39m#self.discount = discount\u001b[39;00m\n\u001b[1;32m---> <a href='vscode-notebook-cell:/c%3A/Users/ritth/code/Strive/Strive-Exercises/Chapter%2001/07.%20OOP/inheritance_exercise_clothing.ipynb#ch0000001?line=25'>26</a>\u001b[0m     \u001b[39mself\u001b[39m\u001b[39m.\u001b[39mdiscount_first \u001b[39m=\u001b[39m \u001b[39mint\u001b[39m(\u001b[39mself\u001b[39m\u001b[39m.\u001b[39mprice \u001b[39m*\u001b[39m (\u001b[39m1\u001b[39m \u001b[39m-\u001b[39m \u001b[39mself\u001b[39;49m\u001b[39m.\u001b[39;49mdiscount))\n\u001b[0;32m     <a href='vscode-notebook-cell:/c%3A/Users/ritth/code/Strive/Strive-Exercises/Chapter%2001/07.%20OOP/inheritance_exercise_clothing.ipynb#ch0000001?line=26'>27</a>\u001b[0m     \u001b[39mreturn\u001b[39;00m \u001b[39mself\u001b[39m\u001b[39m.\u001b[39mdiscount_first\n",
            "\u001b[1;31mAttributeError\u001b[0m: 'Clothing' object has no attribute 'discount'"
          ]
        }
      ],
      "source": [
        "shipping = Clothing('red', 32, 'formal', 5643)\n",
        "\n",
        "shipping.calculate_discount(0.2)\n",
        "print(shipping.calculate_discount(0.2))\n",
        "\n",
        "shipping.calculate_shipping(26, 6)\n"
      ]
    },
    {
      "cell_type": "code",
      "execution_count": null,
      "metadata": {},
      "outputs": [
        {
          "name": "stdout",
          "output_type": "stream",
          "text": [
            "15798\n"
          ]
        }
      ],
      "source": [
        "shirt_clothing = Shirt('blue', 23, 'fashion', 7899, 'short')\n",
        "shirt_clothing.double_price()\n",
        "print(shirt_clothing.double_price())\n",
        "\n",
        "#shirt_clothing.change_price(678)"
      ]
    },
    {
      "cell_type": "code",
      "execution_count": null,
      "metadata": {},
      "outputs": [
        {
          "data": {
            "text/plain": [
              "315"
            ]
          },
          "execution_count": 70,
          "metadata": {},
          "output_type": "execute_result"
        }
      ],
      "source": [
        "pants_clothing = Pants('black', 'M', 'normal', 765, 0)\n",
        "pants_clothing.calculate_shipping(45, 7)\n"
      ]
    },
    {
      "cell_type": "code",
      "execution_count": null,
      "metadata": {},
      "outputs": [
        {
          "name": "stdout",
          "output_type": "stream",
          "text": [
            "16296\n"
          ]
        },
        {
          "data": {
            "text/plain": [
              "'Name of a Country:  Germany'"
            ]
          },
          "execution_count": 71,
          "metadata": {},
          "output_type": "execute_result"
        }
      ],
      "source": [
        "blouse_clothing = Blouse('black', 'M', 'normal', 5432, 'Germany')\n",
        "\n",
        "blouse_clothing.triple_price()\n",
        "print(blouse_clothing.triple_price())\n",
        "\n",
        "blouse_clothing.__str__()\n"
      ]
    }
  ],
  "metadata": {
    "colab": {
      "collapsed_sections": [],
      "name": "inheritance-exercise-clothing.ipynb",
      "provenance": []
    },
    "kernelspec": {
      "display_name": "Python 3",
      "language": "python",
      "name": "python3"
    },
    "language_info": {
      "codemirror_mode": {
        "name": "ipython",
        "version": 3
      },
      "file_extension": ".py",
      "mimetype": "text/x-python",
      "name": "python",
      "nbconvert_exporter": "python",
      "pygments_lexer": "ipython3",
      "version": "3.8.12"
    }
  },
  "nbformat": 4,
  "nbformat_minor": 0
}
