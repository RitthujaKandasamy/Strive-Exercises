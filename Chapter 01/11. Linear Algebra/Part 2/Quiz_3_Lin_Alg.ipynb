{
 "cells": [
  {
   "cell_type": "markdown",
   "metadata": {},
   "source": [
    "## Linear Algebra Quiz #3\n",
    "\n",
    "![title](./img/3_0.jpeg)\n",
    "\n",
    "We strongly suggest working with numpy :)"
   ]
  },
  {
   "cell_type": "code",
   "execution_count": 1,
   "metadata": {},
   "outputs": [],
   "source": [
    "import numpy as np"
   ]
  },
  {
   "cell_type": "markdown",
   "metadata": {},
   "source": [
    "![title](./img/3_2.png)\n",
    "![title](./img/3_3.png)\n",
    "Create a program that can output\n",
    "\n",
    "- What is the value of element c23​ of Matrix C where C=A x B ?\n",
    "- What is the value of element c23​ of Matrix C where C=B x A ?"
   ]
  },
  {
   "cell_type": "code",
   "execution_count": 18,
   "metadata": {},
   "outputs": [
    {
     "name": "stdout",
     "output_type": "stream",
     "text": [
      "[[111.  -24.5 107.5]\n",
      " [ 12.    3.6 -56. ]\n",
      " [-36.6  10.9  -3.5]]\n",
      "What is the value of element c23​ of Matrix C where C=A x B ? -56.0\n"
     ]
    }
   ],
   "source": [
    "# okay numpy is great but... how would you inverse a matrix by hand?\n",
    "\n",
    "def inverse_matrix(A):\n",
    "    return np.linalg.inv(A)\n",
    "\n",
    "a = np.array([[7, -5, 10], [-9, 4, 8], [2.8, 1, -8]])\n",
    "b = np.array([[8, 0, 10], [5, 2.9, 0.5], [8, -1, 4]])\n",
    "c = np.dot(a, b)\n",
    "print(c)\n",
    "\n",
    "c23 = c[1, 2]\n",
    "print(f'What is the value of element c23​ of Matrix C where C=A x B ? {c23}')"
   ]
  },
  {
   "cell_type": "code",
   "execution_count": 19,
   "metadata": {},
   "outputs": [
    {
     "name": "stdout",
     "output_type": "stream",
     "text": [
      "[[ 84.  -30.    0. ]\n",
      " [ 10.3 -12.9  69.2]\n",
      " [ 76.2 -40.   40. ]]\n",
      "What is the value of element c23​ of Matrix C where C= B x A ? 69.2\n"
     ]
    }
   ],
   "source": [
    "def inverse_matrix(A):\n",
    "    return np.linalg.inv(A)\n",
    "\n",
    "a = np.array([[7, -5, 10], [-9, 4, 8], [2.8, 1, -8]])\n",
    "b = np.array([[8, 0, 10], [5, 2.9, 0.5], [8, -1, 4]])\n",
    "c = np.dot(b, a)\n",
    "print(c)\n",
    "\n",
    "c23 = c[1, 2]\n",
    "print(f'What is the value of element c23​ of Matrix C where C= B x A ? {c23}')"
   ]
  },
  {
   "cell_type": "markdown",
   "metadata": {},
   "source": [
    "![title](./img/3_1.png)\n",
    "Create a program that can output\n",
    "\n",
    "- What is the value of the ijth element if i = 2 and j=3?\n",
    "- What is the value of the ijth element if i = 3 and j=1?"
   ]
  },
  {
   "cell_type": "code",
   "execution_count": 4,
   "metadata": {},
   "outputs": [],
   "source": [
    "# Just answer using code --> easy stuff!\n",
    "\n",
    "# Harder\n",
    "# Can you build a matrix solver that can do output the result given n matrices and a sequence of operations such as [add subtract multiply transpose?]\n",
    "#Some ideas on valid operations: Multiplication Addition Subtraction Inverstion Transposed. "
   ]
  },
  {
   "cell_type": "markdown",
   "metadata": {},
   "source": [
    "![title](./img/3_3.png)\n",
    "Create a program that can output\n",
    "- How many rows will C have?\n",
    "- How many columns will C have?\n",
    "- What will be the value of c13​?"
   ]
  },
  {
   "cell_type": "code",
   "execution_count": 17,
   "metadata": {},
   "outputs": [
    {
     "name": "stdout",
     "output_type": "stream",
     "text": [
      "How many rows will C have?  3\n",
      "How many columns will C have?  3\n",
      "What will be the value of c13​? 107.5\n"
     ]
    }
   ],
   "source": [
    "row = c.shape[0]\n",
    "print(f'How many rows will C have?  {row}')\n",
    "\n",
    "columns = c.shape[1]\n",
    "print(f'How many columns will C have?  {columns}')\n",
    "\n",
    "c13 = c[0, 2]\n",
    "print(f'What will be the value of c13​? {c13}')"
   ]
  }
 ],
 "metadata": {
  "kernelspec": {
   "display_name": "Python 3",
   "language": "python",
   "name": "python3"
  },
  "language_info": {
   "codemirror_mode": {
    "name": "ipython",
    "version": 3
   },
   "file_extension": ".py",
   "mimetype": "text/x-python",
   "name": "python",
   "nbconvert_exporter": "python",
   "pygments_lexer": "ipython3",
   "version": "3.8.12"
  },
  "varInspector": {
   "cols": {
    "lenName": 16,
    "lenType": 16,
    "lenVar": 40
   },
   "kernels_config": {
    "python": {
     "delete_cmd_postfix": "",
     "delete_cmd_prefix": "del ",
     "library": "var_list.py",
     "varRefreshCmd": "print(var_dic_list())"
    },
    "r": {
     "delete_cmd_postfix": ") ",
     "delete_cmd_prefix": "rm(",
     "library": "var_list.r",
     "varRefreshCmd": "cat(var_dic_list()) "
    }
   },
   "types_to_exclude": [
    "module",
    "function",
    "builtin_function_or_method",
    "instance",
    "_Feature"
   ],
   "window_display": false
  }
 },
 "nbformat": 4,
 "nbformat_minor": 2
}
