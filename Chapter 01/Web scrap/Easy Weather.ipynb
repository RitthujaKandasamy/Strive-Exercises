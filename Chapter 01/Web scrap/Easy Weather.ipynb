{
 "cells": [
  {
   "cell_type": "code",
   "execution_count": 291,
   "metadata": {},
   "outputs": [],
   "source": [
    "import requests\n",
    "from bs4 import BeautifulSoup\n",
    "import pandas as pd\n",
    "import re"
   ]
  },
  {
   "cell_type": "code",
   "execution_count": 292,
   "metadata": {},
   "outputs": [
    {
     "data": {
      "text/plain": [
       "<Response [200]>"
      ]
     },
     "execution_count": 292,
     "metadata": {},
     "output_type": "execute_result"
    }
   ],
   "source": [
    "# requests used to get the URL\n",
    "URL = \"https://forecast.weather.gov/MapClick.php?x=276&y=148&site=lox&zmx=&zmy=&map_x=276&map_y=148\"\n",
    "page = requests.get(URL)\n",
    "page"
   ]
  },
  {
   "cell_type": "code",
   "execution_count": 293,
   "metadata": {},
   "outputs": [],
   "source": [
    "soup = BeautifulSoup(page.content, \"html.parser\")"
   ]
  },
  {
   "cell_type": "code",
   "execution_count": 294,
   "metadata": {},
   "outputs": [],
   "source": [
    "# extract the day of the week from the given website\n",
    "\n",
    "day = []       # create a new list for insert the days\n",
    "# find_all used to find all the information in the website, but in the find_all we can not use the .text\n",
    "# In the find only we can use the .text\n",
    "# .text used to remove the extra things\n",
    " \n",
    "weather_day = soup.find_all('div', class_ ='col-sm-2 forecast-label')             # to use the.text we are using the for loop\n",
    "for days in weather_day[1 : 11]:\n",
    "  day.append(days.text)"
   ]
  },
  {
   "cell_type": "code",
   "execution_count": 295,
   "metadata": {},
   "outputs": [
    {
     "data": {
      "text/plain": [
       "10"
      ]
     },
     "execution_count": 295,
     "metadata": {},
     "output_type": "execute_result"
    }
   ],
   "source": [
    "# extract the description\n",
    "desc = []\n",
    "weather_desc = soup.find_all('div', class_ ='col-sm-10 forecast-text')\n",
    "for description in weather_desc[1 : 11]:\n",
    "  desc.append(description.text)\n",
    "\n",
    "len(desc)"
   ]
  },
  {
   "cell_type": "code",
   "execution_count": 296,
   "metadata": {},
   "outputs": [],
   "source": [
    "# date of the day\n",
    "dates = pd.date_range(start= pd.to_datetime(\"today\"), periods = 5)\n",
    "\n",
    "# account for day and night pattern (repeating the same date twice)\n",
    "day_night = []\n",
    "for a, b in zip(dates, dates):        # zip used to repeat the things\n",
    "    day_night.append(a.date())\n",
    "    day_night.append(b.date())\n",
    "    # if str(day_night) < weather_day: \n",
    "    #     day_night = day_night[ :len(day_night) - 1]       # last day of the week in `week_day` appears only once \n",
    "    #     print(day_night)\n",
    "    # else:\n",
    "    #     print(day_night)"
   ]
  },
  {
   "cell_type": "code",
   "execution_count": 297,
   "metadata": {},
   "outputs": [
    {
     "data": {
      "text/plain": [
       "10"
      ]
     },
     "execution_count": 297,
     "metadata": {},
     "output_type": "execute_result"
    }
   ],
   "source": [
    "len(day_night)"
   ]
  },
  {
   "cell_type": "code",
   "execution_count": 306,
   "metadata": {},
   "outputs": [
    {
     "name": "stdout",
     "output_type": "stream",
     "text": [
      "[49, 71, 50, 75, 54, 71, 53, 78, 54, 80]\n"
     ]
    }
   ],
   "source": [
    "##Getting the temperature degree for each day\n",
    "temp_degree= []\n",
    "for z in desc:\n",
    "    #temp_degree.append(z.split(',')[1].split('.')[0])\n",
    "    ###Finding the number in the sentence\n",
    "    temp_degree.append(re.findall('[0-9]+',(z.split(',')[1].split('.')[0])))\n",
    "#print(temp_degree)\n",
    "\n",
    "\n",
    "\n",
    "###upacking a list of list\n",
    "temp_degree = [temp for sublist in temp_degree for temp in sublist]\n",
    "#print(temp_degree)\n",
    "###converting list of strings into an integer\n",
    "temp_degree = [int(i) for i in temp_degree]\n",
    "print(temp_degree)\n"
   ]
  },
  {
   "cell_type": "code",
   "execution_count": 299,
   "metadata": {},
   "outputs": [
    {
     "data": {
      "text/html": [
       "<div>\n",
       "<style scoped>\n",
       "    .dataframe tbody tr th:only-of-type {\n",
       "        vertical-align: middle;\n",
       "    }\n",
       "\n",
       "    .dataframe tbody tr th {\n",
       "        vertical-align: top;\n",
       "    }\n",
       "\n",
       "    .dataframe thead th {\n",
       "        text-align: right;\n",
       "    }\n",
       "</style>\n",
       "<table border=\"1\" class=\"dataframe\">\n",
       "  <thead>\n",
       "    <tr style=\"text-align: right;\">\n",
       "      <th></th>\n",
       "      <th>day_night</th>\n",
       "      <th>week_day</th>\n",
       "      <th>weather_description</th>\n",
       "    </tr>\n",
       "  </thead>\n",
       "  <tbody>\n",
       "    <tr>\n",
       "      <th>0</th>\n",
       "      <td>2022-03-12</td>\n",
       "      <td>Tonight</td>\n",
       "      <td>Mostly clear, with a low around 49. West south...</td>\n",
       "    </tr>\n",
       "    <tr>\n",
       "      <th>1</th>\n",
       "      <td>2022-03-12</td>\n",
       "      <td>Sunday</td>\n",
       "      <td>Mostly sunny, with a high near 71. East wind 5...</td>\n",
       "    </tr>\n",
       "    <tr>\n",
       "      <th>2</th>\n",
       "      <td>2022-03-13</td>\n",
       "      <td>Sunday Night</td>\n",
       "      <td>Mostly clear, with a low around 50. Northwest ...</td>\n",
       "    </tr>\n",
       "    <tr>\n",
       "      <th>3</th>\n",
       "      <td>2022-03-13</td>\n",
       "      <td>Monday</td>\n",
       "      <td>Sunny, with a high near 75. Northeast wind 5 t...</td>\n",
       "    </tr>\n",
       "    <tr>\n",
       "      <th>4</th>\n",
       "      <td>2022-03-14</td>\n",
       "      <td>Monday Night</td>\n",
       "      <td>Mostly clear, with a low around 54.</td>\n",
       "    </tr>\n",
       "    <tr>\n",
       "      <th>5</th>\n",
       "      <td>2022-03-14</td>\n",
       "      <td>Tuesday</td>\n",
       "      <td>Mostly sunny, with a high near 71.</td>\n",
       "    </tr>\n",
       "    <tr>\n",
       "      <th>6</th>\n",
       "      <td>2022-03-15</td>\n",
       "      <td>Tuesday Night</td>\n",
       "      <td>Partly cloudy, with a low around 53.</td>\n",
       "    </tr>\n",
       "    <tr>\n",
       "      <th>7</th>\n",
       "      <td>2022-03-15</td>\n",
       "      <td>Wednesday</td>\n",
       "      <td>Sunny, with a high near 78.</td>\n",
       "    </tr>\n",
       "    <tr>\n",
       "      <th>8</th>\n",
       "      <td>2022-03-16</td>\n",
       "      <td>Wednesday Night</td>\n",
       "      <td>Mostly clear, with a low around 54.</td>\n",
       "    </tr>\n",
       "    <tr>\n",
       "      <th>9</th>\n",
       "      <td>2022-03-16</td>\n",
       "      <td>Thursday</td>\n",
       "      <td>Sunny, with a high near 80.</td>\n",
       "    </tr>\n",
       "  </tbody>\n",
       "</table>\n",
       "</div>"
      ],
      "text/plain": [
       "    day_night         week_day  \\\n",
       "0  2022-03-12          Tonight   \n",
       "1  2022-03-12           Sunday   \n",
       "2  2022-03-13     Sunday Night   \n",
       "3  2022-03-13           Monday   \n",
       "4  2022-03-14     Monday Night   \n",
       "5  2022-03-14          Tuesday   \n",
       "6  2022-03-15    Tuesday Night   \n",
       "7  2022-03-15        Wednesday   \n",
       "8  2022-03-16  Wednesday Night   \n",
       "9  2022-03-16         Thursday   \n",
       "\n",
       "                                 weather_description  \n",
       "0  Mostly clear, with a low around 49. West south...  \n",
       "1  Mostly sunny, with a high near 71. East wind 5...  \n",
       "2  Mostly clear, with a low around 50. Northwest ...  \n",
       "3  Sunny, with a high near 75. Northeast wind 5 t...  \n",
       "4                Mostly clear, with a low around 54.  \n",
       "5                 Mostly sunny, with a high near 71.  \n",
       "6               Partly cloudy, with a low around 53.  \n",
       "7                        Sunny, with a high near 78.  \n",
       "8                Mostly clear, with a low around 54.  \n",
       "9                        Sunny, with a high near 80.  "
      ]
     },
     "execution_count": 299,
     "metadata": {},
     "output_type": "execute_result"
    }
   ],
   "source": [
    "# join scraped data into a dataframe\n",
    "\n",
    "weather_data = pd.DataFrame({ 'day_night' : day_night,\n",
    "               'week_day': day,\n",
    "               'weather_description': desc})\n",
    "\n",
    "weather_data"
   ]
  }
 ],
 "metadata": {
  "interpreter": {
   "hash": "73592dad14db8f3994cd458d5e0995dad9821ca28205c2106249abcaba41cb67"
  },
  "kernelspec": {
   "display_name": "Python 3.8.12 ('strive')",
   "language": "python",
   "name": "python3"
  },
  "language_info": {
   "codemirror_mode": {
    "name": "ipython",
    "version": 3
   },
   "file_extension": ".py",
   "mimetype": "text/x-python",
   "name": "python",
   "nbconvert_exporter": "python",
   "pygments_lexer": "ipython3",
   "version": "3.8.12"
  },
  "orig_nbformat": 4
 },
 "nbformat": 4,
 "nbformat_minor": 2
}
