{
 "cells": [
  {
   "cell_type": "code",
   "execution_count": 34,
   "metadata": {},
   "outputs": [],
   "source": [
    "import requests\n",
    "from bs4 import BeautifulSoup\n",
    "import pandas as pd\n",
    "import re"
   ]
  },
  {
   "cell_type": "code",
   "execution_count": 35,
   "metadata": {},
   "outputs": [
    {
     "data": {
      "text/plain": [
       "<Response [200]>"
      ]
     },
     "execution_count": 35,
     "metadata": {},
     "output_type": "execute_result"
    }
   ],
   "source": [
    "# requests used to get the URL\n",
    "URL = \"https://forecast.weather.gov/MapClick.php?x=276&y=148&site=lox&zmx=&zmy=&map_x=276&map_y=148\"\n",
    "page = requests.get(URL)\n",
    "page"
   ]
  },
  {
   "cell_type": "code",
   "execution_count": 36,
   "metadata": {},
   "outputs": [],
   "source": [
    "soup = BeautifulSoup(page.content, \"html.parser\")"
   ]
  },
  {
   "cell_type": "code",
   "execution_count": 37,
   "metadata": {},
   "outputs": [
    {
     "name": "stdout",
     "output_type": "stream",
     "text": [
      "['Sunday', 'Sunday Night', 'Monday', 'Monday Night', 'Tuesday', 'Tuesday Night', 'Wednesday', 'Wednesday Night', 'Thursday', 'Thursday Night']\n"
     ]
    },
    {
     "data": {
      "text/plain": [
       "10"
      ]
     },
     "execution_count": 37,
     "metadata": {},
     "output_type": "execute_result"
    }
   ],
   "source": [
    "# extract the day of the week from the given website\n",
    "\n",
    "day = []       # create a new list for insert the days\n",
    "# find_all used to find all the information in the website, but in the find_all we can not use the .text\n",
    "# In the find only we can use the .text\n",
    "# .text used to remove the extra things \n",
    "weather_day = soup.find_all('div', class_ ='col-sm-2 forecast-label')             # to use the.text we are using the for loop\n",
    "for days in weather_day[1 : 11]:\n",
    "  day.append(days.text)\n",
    "print(day)\n",
    "\n",
    "len(day)"
   ]
  },
  {
   "cell_type": "code",
   "execution_count": 38,
   "metadata": {},
   "outputs": [
    {
     "name": "stdout",
     "output_type": "stream",
     "text": [
      "['Mostly sunny, with a high near 72. East wind 5 to 10 mph becoming west 10 to 15 mph in the afternoon. Winds could gust as high as 20 mph. ', 'Mostly clear, with a low around 50. Northwest wind 5 to 10 mph becoming east northeast after midnight. Winds could gust as high as 15 mph. ', 'Sunny, with a high near 76. Northeast wind 5 to 15 mph becoming southwest in the afternoon. ', 'Mostly clear, with a low around 54. West wind around 5 mph becoming northeast after midnight. ', 'Mostly sunny, with a high near 76.', 'Partly cloudy, with a low around 52.', 'Sunny, with a high near 79. Breezy. ', 'Mostly clear, with a low around 54.', 'Mostly sunny, with a high near 81.', 'Mostly clear, with a low around 55.']\n"
     ]
    },
    {
     "data": {
      "text/plain": [
       "10"
      ]
     },
     "execution_count": 38,
     "metadata": {},
     "output_type": "execute_result"
    }
   ],
   "source": [
    "# extract the description\n",
    "desc = []\n",
    "weather_desc = soup.find_all('div', class_ ='col-sm-10 forecast-text')\n",
    "for description in weather_desc[1 : 11]:\n",
    "  desc.append(description.text)\n",
    "print(desc)\n",
    "\n",
    "len(desc)"
   ]
  },
  {
   "cell_type": "code",
   "execution_count": 39,
   "metadata": {},
   "outputs": [
    {
     "name": "stdout",
     "output_type": "stream",
     "text": [
      "[datetime.date(2022, 3, 13), datetime.date(2022, 3, 13), datetime.date(2022, 3, 14), datetime.date(2022, 3, 14), datetime.date(2022, 3, 15), datetime.date(2022, 3, 15), datetime.date(2022, 3, 16), datetime.date(2022, 3, 16), datetime.date(2022, 3, 17), datetime.date(2022, 3, 17)]\n"
     ]
    },
    {
     "data": {
      "text/plain": [
       "10"
      ]
     },
     "execution_count": 39,
     "metadata": {},
     "output_type": "execute_result"
    }
   ],
   "source": [
    "# date of the day\n",
    "dates = pd.date_range(start= pd.to_datetime(\"today\"), periods = 5)\n",
    "\n",
    "# account for day and night pattern (repeating the same date twice)\n",
    "day_night = []\n",
    "for a, b in zip(dates, dates):        # zip used to repeat the things\n",
    "    day_night.append(a.date())\n",
    "    day_night.append(b.date())\n",
    "print(day_night)\n",
    "\n",
    "len(day_night)"
   ]
  },
  {
   "cell_type": "code",
   "execution_count": 40,
   "metadata": {},
   "outputs": [
    {
     "name": "stdout",
     "output_type": "stream",
     "text": [
      "[['72'], ['50'], ['76'], ['54'], ['76'], ['52'], ['79'], ['54'], ['81'], ['55']]\n",
      "['72', '50', '76', '54', '76', '52', '79', '54', '81', '55']\n",
      "[72, 50, 76, 54, 76, 52, 79, 54, 81, 55]\n"
     ]
    }
   ],
   "source": [
    "# extract the temperature from the description \n",
    "temp = []\n",
    "for i in desc:\n",
    "    temp.append(re.findall('[0-9]+',(i.split(',')[1].split('.')[0])))     #Finding the number in the sentence\n",
    "print(temp)\n",
    "\n",
    "# packing a list of list\n",
    "temp = [degree for list in temp for degree in list]\n",
    "print(temp)\n",
    "#converting list of strings into an integer\n",
    "temp = [int(i) for i in temp]\n",
    "print(temp)\n"
   ]
  },
  {
   "cell_type": "code",
   "execution_count": 41,
   "metadata": {},
   "outputs": [
    {
     "name": "stdout",
     "output_type": "stream",
     "text": [
      "[22.22, 10.0, 24.44, 12.22, 24.44, 11.11, 26.11, 12.22, 27.22, 12.78]\n"
     ]
    }
   ],
   "source": [
    "# To convert Fahrenheit to Celsius\n",
    "# Formula\t\n",
    "# (32°F − 32) × 5/9 = 0°C\n",
    "converted_temp =[]\n",
    "for i in temp:\n",
    "    converted_temp.append(round((i-32)*(5/9),2))        \n",
    "print(converted_temp)"
   ]
  },
  {
   "cell_type": "code",
   "execution_count": 42,
   "metadata": {},
   "outputs": [
    {
     "data": {
      "text/html": [
       "<div>\n",
       "<style scoped>\n",
       "    .dataframe tbody tr th:only-of-type {\n",
       "        vertical-align: middle;\n",
       "    }\n",
       "\n",
       "    .dataframe tbody tr th {\n",
       "        vertical-align: top;\n",
       "    }\n",
       "\n",
       "    .dataframe thead th {\n",
       "        text-align: right;\n",
       "    }\n",
       "</style>\n",
       "<table border=\"1\" class=\"dataframe\">\n",
       "  <thead>\n",
       "    <tr style=\"text-align: right;\">\n",
       "      <th></th>\n",
       "      <th>Date</th>\n",
       "      <th>Day</th>\n",
       "      <th>Temperature</th>\n",
       "      <th>Description</th>\n",
       "    </tr>\n",
       "  </thead>\n",
       "  <tbody>\n",
       "    <tr>\n",
       "      <th>0</th>\n",
       "      <td>2022-03-13</td>\n",
       "      <td>Sunday</td>\n",
       "      <td>22.22</td>\n",
       "      <td>Mostly sunny, with a high near 72. East wind 5...</td>\n",
       "    </tr>\n",
       "    <tr>\n",
       "      <th>1</th>\n",
       "      <td>2022-03-13</td>\n",
       "      <td>Sunday Night</td>\n",
       "      <td>10.00</td>\n",
       "      <td>Mostly clear, with a low around 50. Northwest ...</td>\n",
       "    </tr>\n",
       "    <tr>\n",
       "      <th>2</th>\n",
       "      <td>2022-03-14</td>\n",
       "      <td>Monday</td>\n",
       "      <td>24.44</td>\n",
       "      <td>Sunny, with a high near 76. Northeast wind 5 t...</td>\n",
       "    </tr>\n",
       "    <tr>\n",
       "      <th>3</th>\n",
       "      <td>2022-03-14</td>\n",
       "      <td>Monday Night</td>\n",
       "      <td>12.22</td>\n",
       "      <td>Mostly clear, with a low around 54. West wind ...</td>\n",
       "    </tr>\n",
       "    <tr>\n",
       "      <th>4</th>\n",
       "      <td>2022-03-15</td>\n",
       "      <td>Tuesday</td>\n",
       "      <td>24.44</td>\n",
       "      <td>Mostly sunny, with a high near 76.</td>\n",
       "    </tr>\n",
       "    <tr>\n",
       "      <th>5</th>\n",
       "      <td>2022-03-15</td>\n",
       "      <td>Tuesday Night</td>\n",
       "      <td>11.11</td>\n",
       "      <td>Partly cloudy, with a low around 52.</td>\n",
       "    </tr>\n",
       "    <tr>\n",
       "      <th>6</th>\n",
       "      <td>2022-03-16</td>\n",
       "      <td>Wednesday</td>\n",
       "      <td>26.11</td>\n",
       "      <td>Sunny, with a high near 79. Breezy.</td>\n",
       "    </tr>\n",
       "    <tr>\n",
       "      <th>7</th>\n",
       "      <td>2022-03-16</td>\n",
       "      <td>Wednesday Night</td>\n",
       "      <td>12.22</td>\n",
       "      <td>Mostly clear, with a low around 54.</td>\n",
       "    </tr>\n",
       "    <tr>\n",
       "      <th>8</th>\n",
       "      <td>2022-03-17</td>\n",
       "      <td>Thursday</td>\n",
       "      <td>27.22</td>\n",
       "      <td>Mostly sunny, with a high near 81.</td>\n",
       "    </tr>\n",
       "    <tr>\n",
       "      <th>9</th>\n",
       "      <td>2022-03-17</td>\n",
       "      <td>Thursday Night</td>\n",
       "      <td>12.78</td>\n",
       "      <td>Mostly clear, with a low around 55.</td>\n",
       "    </tr>\n",
       "  </tbody>\n",
       "</table>\n",
       "</div>"
      ],
      "text/plain": [
       "         Date              Day  Temperature  \\\n",
       "0  2022-03-13           Sunday        22.22   \n",
       "1  2022-03-13     Sunday Night        10.00   \n",
       "2  2022-03-14           Monday        24.44   \n",
       "3  2022-03-14     Monday Night        12.22   \n",
       "4  2022-03-15          Tuesday        24.44   \n",
       "5  2022-03-15    Tuesday Night        11.11   \n",
       "6  2022-03-16        Wednesday        26.11   \n",
       "7  2022-03-16  Wednesday Night        12.22   \n",
       "8  2022-03-17         Thursday        27.22   \n",
       "9  2022-03-17   Thursday Night        12.78   \n",
       "\n",
       "                                         Description  \n",
       "0  Mostly sunny, with a high near 72. East wind 5...  \n",
       "1  Mostly clear, with a low around 50. Northwest ...  \n",
       "2  Sunny, with a high near 76. Northeast wind 5 t...  \n",
       "3  Mostly clear, with a low around 54. West wind ...  \n",
       "4                 Mostly sunny, with a high near 76.  \n",
       "5               Partly cloudy, with a low around 52.  \n",
       "6               Sunny, with a high near 79. Breezy.   \n",
       "7                Mostly clear, with a low around 54.  \n",
       "8                 Mostly sunny, with a high near 81.  \n",
       "9                Mostly clear, with a low around 55.  "
      ]
     },
     "execution_count": 42,
     "metadata": {},
     "output_type": "execute_result"
    }
   ],
   "source": [
    "# join scraped data into a dataframe\n",
    "\n",
    "weather_data = pd.DataFrame({ 'Date' : day_night,\n",
    "               'Day': day,\n",
    "               'Temperature': converted_temp,\n",
    "               'Description': desc})\n",
    "\n",
    "weather_data"
   ]
  }
 ],
 "metadata": {
  "interpreter": {
   "hash": "73592dad14db8f3994cd458d5e0995dad9821ca28205c2106249abcaba41cb67"
  },
  "kernelspec": {
   "display_name": "Python 3.8.12 ('strive')",
   "language": "python",
   "name": "python3"
  },
  "language_info": {
   "codemirror_mode": {
    "name": "ipython",
    "version": 3
   },
   "file_extension": ".py",
   "mimetype": "text/x-python",
   "name": "python",
   "nbconvert_exporter": "python",
   "pygments_lexer": "ipython3",
   "version": "3.8.12"
  },
  "orig_nbformat": 4
 },
 "nbformat": 4,
 "nbformat_minor": 2
}
