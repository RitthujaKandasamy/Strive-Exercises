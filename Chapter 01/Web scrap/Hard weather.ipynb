{
 "cells": [
  {
   "cell_type": "code",
   "execution_count": null,
   "metadata": {},
   "outputs": [],
   "source": [
    "import requests\n",
    "from bs4 import BeautifulSoup\n",
    "import pandas as pd"
   ]
  },
  {
   "cell_type": "code",
   "execution_count": null,
   "metadata": {},
   "outputs": [
    {
     "data": {
      "text/plain": [
       "<Response [200]>"
      ]
     },
     "execution_count": 225,
     "metadata": {},
     "output_type": "execute_result"
    }
   ],
   "source": [
    "# requests used to get the URL\n",
    "URL = \"https://weather.com/weather/tenday/l/San+Francisco+CA?canonicalCityId=dfdaba8cbe3a4d12a8796e1f7b1ccc7174b4b0a2d5ddb1c8566ae9f154fa638c\"\n",
    "page = requests.get(URL)\n",
    "page"
   ]
  },
  {
   "cell_type": "code",
   "execution_count": null,
   "metadata": {},
   "outputs": [],
   "source": [
    "soup = BeautifulSoup(page.content, \"html.parser\")"
   ]
  },
  {
   "cell_type": "code",
   "execution_count": null,
   "metadata": {},
   "outputs": [
    {
     "name": "stdout",
     "output_type": "stream",
     "text": [
      "['Sat 12 | Night', 'Sun 13 | Day', 'Sun 13 | Night', 'Mon 14 | Day', 'Mon 14 | Night', 'Tue 15 | Day', 'Tue 15 | Night', 'Wed 16 | Day', 'Wed 16 | Night', 'Thu 17 | Day', 'Thu 17 | Night', 'Fri 18 | Day', 'Fri 18 | Night', 'Sat 19 | Day', 'Sat 19 | Night', 'Sun 20 | Day', 'Sun 20 | Night', 'Mon 21 | Day', 'Mon 21 | Night', 'Tue 22 | Day']\n"
     ]
    },
    {
     "data": {
      "text/plain": [
       "20"
      ]
     },
     "execution_count": 227,
     "metadata": {},
     "output_type": "execute_result"
    }
   ],
   "source": [
    "# extract day and date\n",
    "\n",
    "day_date = []\n",
    "weather_day_date = soup.find_all('h3', class_ ='DailyContent--daypartName--1bzYn')           \n",
    "for days in weather_day_date[1 : 21]:\n",
    "  day_date.append(days.text)\n",
    "print(day_date)\n",
    "\n",
    "len(day_date)"
   ]
  },
  {
   "cell_type": "code",
   "execution_count": 244,
   "metadata": {},
   "outputs": [
    {
     "ename": "TypeError",
     "evalue": "list indices must be integers or slices, not str",
     "output_type": "error",
     "traceback": [
      "\u001b[1;31m---------------------------------------------------------------------------\u001b[0m",
      "\u001b[1;31mTypeError\u001b[0m                                 Traceback (most recent call last)",
      "\u001b[1;32mc:\\Users\\ritth\\code\\Strive\\Strive-Exercises\\Chapter 01\\Web scrap\\Hard weather.ipynb Cell 5'\u001b[0m in \u001b[0;36m<cell line: 3>\u001b[1;34m()\u001b[0m\n\u001b[0;32m      <a href='vscode-notebook-cell:/c%3A/Users/ritth/code/Strive/Strive-Exercises/Chapter%2001/Web%20scrap/Hard%20weather.ipynb#ch0000019?line=0'>1</a>\u001b[0m data \u001b[39m=\u001b[39m []\n\u001b[1;32m----> <a href='vscode-notebook-cell:/c%3A/Users/ritth/code/Strive/Strive-Exercises/Chapter%2001/Web%20scrap/Hard%20weather.ipynb#ch0000019?line=2'>3</a>\u001b[0m temp_state \u001b[39m=\u001b[39m (data[\u001b[39m'\u001b[39;49m\u001b[39mday_date\u001b[39;49m\u001b[39m'\u001b[39;49m]                       \u001b[39m# grab `description` column\u001b[39;00m\n\u001b[0;32m      <a href='vscode-notebook-cell:/c%3A/Users/ritth/code/Strive/Strive-Exercises/Chapter%2001/Web%20scrap/Hard%20weather.ipynb#ch0000019?line=3'>4</a>\u001b[0m                     \u001b[39m.\u001b[39mstr\u001b[39m.\u001b[39mlower()                        \u001b[39m# lower all characters for each description (row)\u001b[39;00m\n\u001b[0;32m      <a href='vscode-notebook-cell:/c%3A/Users/ritth/code/Strive/Strive-Exercises/Chapter%2001/Web%20scrap/Hard%20weather.ipynb#ch0000019?line=4'>5</a>\u001b[0m                     \u001b[39m.\u001b[39mstr\u001b[39m.\u001b[39mcontains(\u001b[39m'\u001b[39m\u001b[39mnight\u001b[39m\u001b[39m'\u001b[39m)               \u001b[39m# check for the presence of `high` within each description (True or False)\u001b[39;00m\n\u001b[0;32m      <a href='vscode-notebook-cell:/c%3A/Users/ritth/code/Strive/Strive-Exercises/Chapter%2001/Web%20scrap/Hard%20weather.ipynb#ch0000019?line=5'>6</a>\u001b[0m                     \u001b[39m.\u001b[39mmap({\u001b[39mTrue\u001b[39;00m:\u001b[39m'\u001b[39m\u001b[39mnight\u001b[39m\u001b[39m'\u001b[39m, \u001b[39mFalse\u001b[39;00m:\u001b[39m'\u001b[39m\u001b[39mday\u001b[39m\u001b[39m'\u001b[39m})    \u001b[39m# change `True` -> 'high' and `False` -> `low`\u001b[39;00m\n\u001b[0;32m      <a href='vscode-notebook-cell:/c%3A/Users/ritth/code/Strive/Strive-Exercises/Chapter%2001/Web%20scrap/Hard%20weather.ipynb#ch0000019?line=6'>7</a>\u001b[0m             )\n\u001b[0;32m      <a href='vscode-notebook-cell:/c%3A/Users/ritth/code/Strive/Strive-Exercises/Chapter%2001/Web%20scrap/Hard%20weather.ipynb#ch0000019?line=8'>9</a>\u001b[0m \u001b[39m# Adding `temp_state` to data\u001b[39;00m\n\u001b[0;32m     <a href='vscode-notebook-cell:/c%3A/Users/ritth/code/Strive/Strive-Exercises/Chapter%2001/Web%20scrap/Hard%20weather.ipynb#ch0000019?line=9'>10</a>\u001b[0m data[\u001b[39m'\u001b[39m\u001b[39mtemp_state\u001b[39m\u001b[39m'\u001b[39m] \u001b[39m=\u001b[39m temp_state\n",
      "\u001b[1;31mTypeError\u001b[0m: list indices must be integers or slices, not str"
     ]
    }
   ],
   "source": [
    "data = []\n",
    "\n",
    "temp_state = (data['day_date']                       # grab `description` column\n",
    "                    .str.lower()                        # lower all characters for each description (row)\n",
    "                    .str.contains('night')               # check for the presence of `high` within each description (True or False)\n",
    "                    .map({True:'night', False:'day'})    # change `True` -> 'high' and `False` -> `low`\n",
    "            )\n",
    "\n",
    "# Adding `temp_state` to data\n",
    "data['temp_state'] = temp_state"
   ]
  },
  {
   "cell_type": "code",
   "execution_count": null,
   "metadata": {},
   "outputs": [
    {
     "name": "stdout",
     "output_type": "stream",
     "text": [
      "['Showers early, then cloudy overnight. Low 49F. Winds SW at 5 to 10 mph. Chance of rain 30%.', 'Cloudy early with partial sunshine expected late. High 58F. Winds WSW at 10 to 15 mph.', 'Considerable clouds early. Some decrease in clouds late. Low near 45F. Winds W at 5 to 10 mph.', 'Mostly cloudy skies. High 61F. Winds SSW at 5 to 10 mph.', 'Overcast with rain showers at times. Low 52F. Winds SW at 5 to 10 mph. Chance of rain 60%.', 'Rain showers early with some sunshine later in the day. High near 60F. Winds WSW at 10 to 15 mph. Chance of rain 70%.', 'Partly cloudy. Low 46F. Winds WNW at 10 to 15 mph.', 'A few clouds from time to time. High 63F. Winds WNW at 10 to 20 mph.', 'Partly cloudy in the evening with more clouds for later at night. Low 47F. Winds W at 10 to 15 mph.', 'Partly to mostly cloudy. High 63F. Winds W at 10 to 15 mph.', 'Clear skies with a few passing clouds. Low 47F. Winds W at 10 to 15 mph.', 'Intervals of clouds and sunshine. High 64F. Winds W at 10 to 15 mph.', 'Partly cloudy during the evening followed by cloudy skies overnight. Low 48F. Winds WSW at 10 to 15 mph.', 'Mostly cloudy skies. High around 60F. Winds WSW at 10 to 20 mph.', 'A few clouds. Low around 45F. Winds WNW at 10 to 20 mph.', 'Sunny skies. High 62F. Winds WNW at 15 to 25 mph.', 'A few clouds. Low near 45F. Winds NW at 10 to 20 mph.', 'A mainly sunny sky. High 63F. Winds NW at 10 to 20 mph.', 'Mostly clear skies. Low 46F. Winds WNW at 10 to 15 mph.', 'Mostly sunny skies. High 67F. Winds WNW at 10 to 15 mph.']\n"
     ]
    },
    {
     "data": {
      "text/plain": [
       "20"
      ]
     },
     "execution_count": 228,
     "metadata": {},
     "output_type": "execute_result"
    }
   ],
   "source": [
    "# extract the description\n",
    "desc = []\n",
    "weather_desc = soup.find_all('p', class_ ='DailyContent--narrative--hplRl')\n",
    "for description in weather_desc[1 : 21]:\n",
    "  desc.append(description.text)\n",
    "print(desc)\n",
    "\n",
    "len(desc)"
   ]
  },
  {
   "cell_type": "code",
   "execution_count": 243,
   "metadata": {},
   "outputs": [
    {
     "name": "stdout",
     "output_type": "stream",
     "text": [
      "[49, 58, 45, 61, 52, 60, 46, 63, 47, 63, 47, 64, 48, 60, 45, 62, 45, 63, 46, 67]\n"
     ]
    },
    {
     "data": {
      "text/plain": [
       "20"
      ]
     },
     "execution_count": 243,
     "metadata": {},
     "output_type": "execute_result"
    }
   ],
   "source": [
    "# extract the temperature\n",
    "temp = []\n",
    "weather_temp = soup.find_all('span', class_ ='DailyContent--temp--3d4dn')\n",
    "for temperature in weather_temp[1 : 21]:\n",
    "  temp.append(temperature.text.split(\"°\")[0])\n",
    "  temp = [int(b) for b in temp]\n",
    "print(temp)\n",
    "\n",
    "len(temp)"
   ]
  },
  {
   "cell_type": "code",
   "execution_count": null,
   "metadata": {},
   "outputs": [
    {
     "name": "stdout",
     "output_type": "stream",
     "text": [
      "[9.44, 14.44, 7.22, 16.11, 11.11, 15.56, 7.78, 17.22, 8.33, 17.22, 8.33, 17.78, 8.89, 15.56, 7.22, 16.67, 7.22, 17.22, 7.78, 19.44]\n"
     ]
    }
   ],
   "source": [
    "# To convert Fahrenheit to Celsius\n",
    "# Formula\t\n",
    "# (32°F − 32) × 5/9 = 0°C\n",
    "converted_temp =[]\n",
    "for i in temp:\n",
    "    converted_temp.append(round((i-32)*(5/9),2))        \n",
    "print(converted_temp)"
   ]
  },
  {
   "cell_type": "code",
   "execution_count": null,
   "metadata": {},
   "outputs": [
    {
     "data": {
      "text/html": [
       "<div>\n",
       "<style scoped>\n",
       "    .dataframe tbody tr th:only-of-type {\n",
       "        vertical-align: middle;\n",
       "    }\n",
       "\n",
       "    .dataframe tbody tr th {\n",
       "        vertical-align: top;\n",
       "    }\n",
       "\n",
       "    .dataframe thead th {\n",
       "        text-align: right;\n",
       "    }\n",
       "</style>\n",
       "<table border=\"1\" class=\"dataframe\">\n",
       "  <thead>\n",
       "    <tr style=\"text-align: right;\">\n",
       "      <th></th>\n",
       "      <th>Day_Night</th>\n",
       "      <th>Temperature</th>\n",
       "      <th>Description</th>\n",
       "    </tr>\n",
       "  </thead>\n",
       "  <tbody>\n",
       "    <tr>\n",
       "      <th>0</th>\n",
       "      <td>Sat 12 | Night</td>\n",
       "      <td>9.44</td>\n",
       "      <td>Showers early, then cloudy overnight. Low 49F....</td>\n",
       "    </tr>\n",
       "    <tr>\n",
       "      <th>1</th>\n",
       "      <td>Sun 13 | Day</td>\n",
       "      <td>14.44</td>\n",
       "      <td>Cloudy early with partial sunshine expected la...</td>\n",
       "    </tr>\n",
       "    <tr>\n",
       "      <th>2</th>\n",
       "      <td>Sun 13 | Night</td>\n",
       "      <td>7.22</td>\n",
       "      <td>Considerable clouds early. Some decrease in cl...</td>\n",
       "    </tr>\n",
       "    <tr>\n",
       "      <th>3</th>\n",
       "      <td>Mon 14 | Day</td>\n",
       "      <td>16.11</td>\n",
       "      <td>Mostly cloudy skies. High 61F. Winds SSW at 5 ...</td>\n",
       "    </tr>\n",
       "    <tr>\n",
       "      <th>4</th>\n",
       "      <td>Mon 14 | Night</td>\n",
       "      <td>11.11</td>\n",
       "      <td>Overcast with rain showers at times. Low 52F. ...</td>\n",
       "    </tr>\n",
       "    <tr>\n",
       "      <th>5</th>\n",
       "      <td>Tue 15 | Day</td>\n",
       "      <td>15.56</td>\n",
       "      <td>Rain showers early with some sunshine later in...</td>\n",
       "    </tr>\n",
       "    <tr>\n",
       "      <th>6</th>\n",
       "      <td>Tue 15 | Night</td>\n",
       "      <td>7.78</td>\n",
       "      <td>Partly cloudy. Low 46F. Winds WNW at 10 to 15 ...</td>\n",
       "    </tr>\n",
       "    <tr>\n",
       "      <th>7</th>\n",
       "      <td>Wed 16 | Day</td>\n",
       "      <td>17.22</td>\n",
       "      <td>A few clouds from time to time. High 63F. Wind...</td>\n",
       "    </tr>\n",
       "    <tr>\n",
       "      <th>8</th>\n",
       "      <td>Wed 16 | Night</td>\n",
       "      <td>8.33</td>\n",
       "      <td>Partly cloudy in the evening with more clouds ...</td>\n",
       "    </tr>\n",
       "    <tr>\n",
       "      <th>9</th>\n",
       "      <td>Thu 17 | Day</td>\n",
       "      <td>17.22</td>\n",
       "      <td>Partly to mostly cloudy. High 63F. Winds W at ...</td>\n",
       "    </tr>\n",
       "    <tr>\n",
       "      <th>10</th>\n",
       "      <td>Thu 17 | Night</td>\n",
       "      <td>8.33</td>\n",
       "      <td>Clear skies with a few passing clouds. Low 47F...</td>\n",
       "    </tr>\n",
       "    <tr>\n",
       "      <th>11</th>\n",
       "      <td>Fri 18 | Day</td>\n",
       "      <td>17.78</td>\n",
       "      <td>Intervals of clouds and sunshine. High 64F. Wi...</td>\n",
       "    </tr>\n",
       "    <tr>\n",
       "      <th>12</th>\n",
       "      <td>Fri 18 | Night</td>\n",
       "      <td>8.89</td>\n",
       "      <td>Partly cloudy during the evening followed by c...</td>\n",
       "    </tr>\n",
       "    <tr>\n",
       "      <th>13</th>\n",
       "      <td>Sat 19 | Day</td>\n",
       "      <td>15.56</td>\n",
       "      <td>Mostly cloudy skies. High around 60F. Winds WS...</td>\n",
       "    </tr>\n",
       "    <tr>\n",
       "      <th>14</th>\n",
       "      <td>Sat 19 | Night</td>\n",
       "      <td>7.22</td>\n",
       "      <td>A few clouds. Low around 45F. Winds WNW at 10 ...</td>\n",
       "    </tr>\n",
       "    <tr>\n",
       "      <th>15</th>\n",
       "      <td>Sun 20 | Day</td>\n",
       "      <td>16.67</td>\n",
       "      <td>Sunny skies. High 62F. Winds WNW at 15 to 25 mph.</td>\n",
       "    </tr>\n",
       "    <tr>\n",
       "      <th>16</th>\n",
       "      <td>Sun 20 | Night</td>\n",
       "      <td>7.22</td>\n",
       "      <td>A few clouds. Low near 45F. Winds NW at 10 to ...</td>\n",
       "    </tr>\n",
       "    <tr>\n",
       "      <th>17</th>\n",
       "      <td>Mon 21 | Day</td>\n",
       "      <td>17.22</td>\n",
       "      <td>A mainly sunny sky. High 63F. Winds NW at 10 t...</td>\n",
       "    </tr>\n",
       "    <tr>\n",
       "      <th>18</th>\n",
       "      <td>Mon 21 | Night</td>\n",
       "      <td>7.78</td>\n",
       "      <td>Mostly clear skies. Low 46F. Winds WNW at 10 t...</td>\n",
       "    </tr>\n",
       "    <tr>\n",
       "      <th>19</th>\n",
       "      <td>Tue 22 | Day</td>\n",
       "      <td>19.44</td>\n",
       "      <td>Mostly sunny skies. High 67F. Winds WNW at 10 ...</td>\n",
       "    </tr>\n",
       "  </tbody>\n",
       "</table>\n",
       "</div>"
      ],
      "text/plain": [
       "         Day_Night  Temperature  \\\n",
       "0   Sat 12 | Night         9.44   \n",
       "1     Sun 13 | Day        14.44   \n",
       "2   Sun 13 | Night         7.22   \n",
       "3     Mon 14 | Day        16.11   \n",
       "4   Mon 14 | Night        11.11   \n",
       "5     Tue 15 | Day        15.56   \n",
       "6   Tue 15 | Night         7.78   \n",
       "7     Wed 16 | Day        17.22   \n",
       "8   Wed 16 | Night         8.33   \n",
       "9     Thu 17 | Day        17.22   \n",
       "10  Thu 17 | Night         8.33   \n",
       "11    Fri 18 | Day        17.78   \n",
       "12  Fri 18 | Night         8.89   \n",
       "13    Sat 19 | Day        15.56   \n",
       "14  Sat 19 | Night         7.22   \n",
       "15    Sun 20 | Day        16.67   \n",
       "16  Sun 20 | Night         7.22   \n",
       "17    Mon 21 | Day        17.22   \n",
       "18  Mon 21 | Night         7.78   \n",
       "19    Tue 22 | Day        19.44   \n",
       "\n",
       "                                          Description  \n",
       "0   Showers early, then cloudy overnight. Low 49F....  \n",
       "1   Cloudy early with partial sunshine expected la...  \n",
       "2   Considerable clouds early. Some decrease in cl...  \n",
       "3   Mostly cloudy skies. High 61F. Winds SSW at 5 ...  \n",
       "4   Overcast with rain showers at times. Low 52F. ...  \n",
       "5   Rain showers early with some sunshine later in...  \n",
       "6   Partly cloudy. Low 46F. Winds WNW at 10 to 15 ...  \n",
       "7   A few clouds from time to time. High 63F. Wind...  \n",
       "8   Partly cloudy in the evening with more clouds ...  \n",
       "9   Partly to mostly cloudy. High 63F. Winds W at ...  \n",
       "10  Clear skies with a few passing clouds. Low 47F...  \n",
       "11  Intervals of clouds and sunshine. High 64F. Wi...  \n",
       "12  Partly cloudy during the evening followed by c...  \n",
       "13  Mostly cloudy skies. High around 60F. Winds WS...  \n",
       "14  A few clouds. Low around 45F. Winds WNW at 10 ...  \n",
       "15  Sunny skies. High 62F. Winds WNW at 15 to 25 mph.  \n",
       "16  A few clouds. Low near 45F. Winds NW at 10 to ...  \n",
       "17  A mainly sunny sky. High 63F. Winds NW at 10 t...  \n",
       "18  Mostly clear skies. Low 46F. Winds WNW at 10 t...  \n",
       "19  Mostly sunny skies. High 67F. Winds WNW at 10 ...  "
      ]
     },
     "execution_count": 231,
     "metadata": {},
     "output_type": "execute_result"
    }
   ],
   "source": [
    "# join scraped data into a dataframe\n",
    "\n",
    "weather_data = pd.DataFrame({ 'Day_Night' : day_date,\n",
    "               'Temperature': converted_temp,\n",
    "               'Description': desc})\n",
    "\n",
    "weather_data"
   ]
  }
 ],
 "metadata": {
  "interpreter": {
   "hash": "73592dad14db8f3994cd458d5e0995dad9821ca28205c2106249abcaba41cb67"
  },
  "kernelspec": {
   "display_name": "Python 3.8.12 ('strive')",
   "language": "python",
   "name": "python3"
  },
  "language_info": {
   "codemirror_mode": {
    "name": "ipython",
    "version": 3
   },
   "file_extension": ".py",
   "mimetype": "text/x-python",
   "name": "python",
   "nbconvert_exporter": "python",
   "pygments_lexer": "ipython3",
   "version": "3.8.12"
  },
  "orig_nbformat": 4
 },
 "nbformat": 4,
 "nbformat_minor": 2
}
