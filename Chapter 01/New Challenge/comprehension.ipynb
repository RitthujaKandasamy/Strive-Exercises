{
 "cells": [
  {
   "cell_type": "markdown",
   "metadata": {},
   "source": [
    "Exercise 1: A, B, C, and D are all different digits. The number DCBA is equal to 4 times the number ABCD. What are the digits? Note: to make ABCD and DCBA conventional numbers, neither A nor D can be zero. Use a quadruple-nested loop."
   ]
  },
  {
   "cell_type": "code",
   "execution_count": 5,
   "metadata": {},
   "outputs": [
    {
     "name": "stdout",
     "output_type": "stream",
     "text": [
      "[(2, 1, 7, 8)]\n"
     ]
    }
   ],
   "source": [
    "# Solve 4*ABCD == DCBA\n",
    "\n",
    "solve = [(A, B, C, D) for A in range(1,9) for B in range(0,9) for C in range(0,9) for D in range(1,9) if 4* ((A*1000) + (B*100) + (C*10) + D) == ((D*1000) + (C*100) + (B*10) + A)]\n",
    "\n",
    "print(solve)\n",
    "# print(\"A =\", A)\n",
    "# print(\"B =\", B)\n",
    "# print(\"C =\", C)\n",
    "# print(\"D =\", D)\n"
   ]
  },
  {
   "cell_type": "markdown",
   "metadata": {},
   "source": [
    "Exercise 2: A prime number is a positive integer that is dividable by exactly two different numbers, namely 1 and itself. The lowest (and only even) prime number is 2. The first 10 prime numbers are 2, 3, 5, 7, 11, 13, 17, 19, 23, and 29. Write a function that returns a list off all prime numbers below a given number."
   ]
  },
  {
   "cell_type": "code",
   "execution_count": 13,
   "metadata": {},
   "outputs": [
    {
     "name": "stdout",
     "output_type": "stream",
     "text": [
      "List of all prime numbers:\n",
      "2\n",
      "3\n",
      "5\n",
      "7\n",
      "11\n",
      "13\n",
      "17\n",
      "19\n",
      "23\n",
      "29\n"
     ]
    }
   ],
   "source": [
    "print(\"List of all prime numbers:\")\n",
    "for num in range(2, 30):\n",
    "    for i in range(2, num):\n",
    "        if num % i == 0:\n",
    "           break\n",
    "    else:\n",
    "        print(num)"
   ]
  },
  {
   "cell_type": "markdown",
   "metadata": {},
   "source": [
    "Exercise 3: Write a function that prints all pairs (i,j) where i and j can take on the values 0 to maximum, but they cannot be equal."
   ]
  },
  {
   "cell_type": "code",
   "execution_count": 21,
   "metadata": {},
   "outputs": [
    {
     "name": "stdout",
     "output_type": "stream",
     "text": [
      "[(0, 1), (0, 2), (0, 3), (0, 4), (1, 2), (1, 3), (1, 4), (2, 3), (2, 4), (3, 4)]\n"
     ]
    }
   ],
   "source": [
    "# Print non-equal pairs\n",
    "\n",
    "non_equal_pairs = [(i, j) for i in range(5) for j in range(i+1, 5)]\n",
    "\n",
    "print(non_equal_pairs)"
   ]
  },
  {
   "cell_type": "markdown",
   "metadata": {},
   "source": [
    "Exercise 4: The following code checks a list of grades for a student. As long as all grades are 5.5 or higher, the student passes. When one or more grades are lower than 5.5, the student fails. "
   ]
  },
  {
   "cell_type": "code",
   "execution_count": 30,
   "metadata": {},
   "outputs": [
    {
     "name": "stdout",
     "output_type": "stream",
     "text": [
      "The student fails!\n"
     ]
    }
   ],
   "source": [
    "for grade in range(0, 7):\n",
    "    if grade >= 6:\n",
    "        print( \"The student fails!\" )\n",
    "        break\n",
    "else:\n",
    "    print( \"The student passes!\" )"
   ]
  },
  {
   "cell_type": "markdown",
   "metadata": {},
   "source": [
    "Exercise 5: Write the Negative indices for word Orange?"
   ]
  },
  {
   "cell_type": "code",
   "execution_count": 42,
   "metadata": {},
   "outputs": [
    {
     "name": "stdout",
     "output_type": "stream",
     "text": [
      "o\n",
      "rn\n",
      "ro\n",
      "enr\n"
     ]
    }
   ],
   "source": [
    "# negative indices\n",
    "\n",
    "fruit = \"orange\"\n",
    "print(fruit[:1:2])\n",
    "print(fruit[1:5:2])\n",
    "print(fruit[1::-1]) \n",
    "print(fruit[::-2]) "
   ]
  },
  {
   "cell_type": "markdown",
   "metadata": {},
   "source": [
    "Exercise 6: How many different seven-letter arrangements of the letters in the word HEXAGON can be made if each letter is used only once?"
   ]
  },
  {
   "cell_type": "code",
   "execution_count": 49,
   "metadata": {},
   "outputs": [
    {
     "name": "stdout",
     "output_type": "stream",
     "text": [
      "3628800\n"
     ]
    }
   ],
   "source": [
    "def hexagon(n):\n",
    "    if n == 0:\n",
    "        return 1\n",
    "    else:\n",
    "        return n * hexagon(n - 1)\n",
    "\n",
    "print(hexagon(10))"
   ]
  },
  {
   "cell_type": "markdown",
   "metadata": {},
   "source": [
    "Exercise 7"
   ]
  },
  {
   "cell_type": "code",
   "execution_count": 50,
   "metadata": {},
   "outputs": [
    {
     "name": "stdout",
     "output_type": "stream",
     "text": [
      "[('red', 'apple'), ('red', 'banana'), ('red', 'cherry'), ('big', 'apple'), ('big', 'banana'), ('big', 'cherry'), ('tasty', 'apple'), ('tasty', 'banana'), ('tasty', 'cherry')]\n"
     ]
    }
   ],
   "source": [
    "adj = [\"red\", \"big\", \"tasty\"]\n",
    "fruits = [\"apple\", \"banana\", \"cherry\"]\n",
    "\n",
    "s = [(x, y) for x in adj for y in fruits]\n",
    "\n",
    "print(s)"
   ]
  }
 ],
 "metadata": {
  "interpreter": {
   "hash": "73592dad14db8f3994cd458d5e0995dad9821ca28205c2106249abcaba41cb67"
  },
  "kernelspec": {
   "display_name": "Python 3.8.12 ('strive')",
   "language": "python",
   "name": "python3"
  },
  "language_info": {
   "codemirror_mode": {
    "name": "ipython",
    "version": 3
   },
   "file_extension": ".py",
   "mimetype": "text/x-python",
   "name": "python",
   "nbconvert_exporter": "python",
   "pygments_lexer": "ipython3",
   "version": "3.8.12"
  },
  "orig_nbformat": 4
 },
 "nbformat": 4,
 "nbformat_minor": 2
}
