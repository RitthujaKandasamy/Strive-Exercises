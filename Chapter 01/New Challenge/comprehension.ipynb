{
 "cells": [
  {
   "cell_type": "code",
   "execution_count": null,
   "metadata": {},
   "outputs": [],
   "source": []
  }
 ],
 "metadata": {
  "interpreter": {
   "hash": "73592dad14db8f3994cd458d5e0995dad9821ca28205c2106249abcaba41cb67"
  },
  "kernelspec": {
   "display_name": "Python 3.8.12 ('strive')",
   "language": "python",
   "name": "python3"
  },
  "language_info": {
   "name": "python",
   "version": "3.8.12"
  },
  "orig_nbformat": 4
 },
 "nbformat": 4,
 "nbformat_minor": 2
}
