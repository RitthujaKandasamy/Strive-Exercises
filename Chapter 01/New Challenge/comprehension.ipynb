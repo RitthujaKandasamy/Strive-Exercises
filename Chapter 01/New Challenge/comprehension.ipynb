{
 "cells": [
  {
   "cell_type": "markdown",
   "metadata": {},
   "source": [
    "Exercise 1: A, B, C, and D are all different digits. The number DCBA is equal to 4 times the number ABCD. What are the digits? Note: to make ABCD and DCBA conventional numbers, neither A nor D can be zero. Use a quadruple-nested loop."
   ]
  },
  {
   "cell_type": "code",
   "execution_count": 5,
   "metadata": {},
   "outputs": [
    {
     "name": "stdout",
     "output_type": "stream",
     "text": [
      "[(2, 1, 7, 8)]\n"
     ]
    }
   ],
   "source": [
    "# Solve 4*ABCD == DCBA\n",
    "\n",
    "solve = [(A, B, C, D) for A in range(1,9) for B in range(0,9) for C in range(0,9) for D in range(1,9) if 4* ((A*1000) + (B*100) + (C*10) + D) == ((D*1000) + (C*100) + (B*10) + A)]\n",
    "\n",
    "print(solve)\n",
    "# print(\"A =\", A)\n",
    "# print(\"B =\", B)\n",
    "# print(\"C =\", C)\n",
    "# print(\"D =\", D)\n"
   ]
  },
  {
   "cell_type": "markdown",
   "metadata": {},
   "source": [
    "Exercise 2: A prime number is a positive integer that is dividable by exactly two different numbers, namely 1 and itself. The lowest (and only even) prime number is 2. The first 10 prime numbers are 2, 3, 5, 7, 11, 13, 17, 19, 23, and 29. Write a function that returns a list off all prime numbers below a given number."
   ]
  },
  {
   "cell_type": "code",
   "execution_count": 13,
   "metadata": {},
   "outputs": [
    {
     "name": "stdout",
     "output_type": "stream",
     "text": [
      "List of all prime numbers:\n",
      "2\n",
      "3\n",
      "5\n",
      "7\n",
      "11\n",
      "13\n",
      "17\n",
      "19\n",
      "23\n",
      "29\n"
     ]
    }
   ],
   "source": [
    "print(\"List of all prime numbers:\")\n",
    "for num in range(2, 30):\n",
    "    for i in range(2, num):\n",
    "        if num % i == 0:\n",
    "           break\n",
    "    else:\n",
    "        print(num)"
   ]
  },
  {
   "cell_type": "markdown",
   "metadata": {},
   "source": [
    "Exercise 3: Write a function that prints all pairs (i,j) where i and j can take on the values 0 to maximum, but they cannot be equal."
   ]
  },
  {
   "cell_type": "code",
   "execution_count": 21,
   "metadata": {},
   "outputs": [
    {
     "name": "stdout",
     "output_type": "stream",
     "text": [
      "[(0, 1), (0, 2), (0, 3), (0, 4), (1, 2), (1, 3), (1, 4), (2, 3), (2, 4), (3, 4)]\n"
     ]
    }
   ],
   "source": [
    "# Print non-equal pairs\n",
    "\n",
    "non_equal_pairs = [(i, j) for i in range(5) for j in range(i+1, 5)]\n",
    "\n",
    "print(non_equal_pairs)"
   ]
  },
  {
   "cell_type": "markdown",
   "metadata": {},
   "source": [
    "Exercise 4: The following code checks a list of grades for a student. As long as all grades are 5.5 or higher, the student passes. When one or more grades are lower than 5.5, the student fails. "
   ]
  },
  {
   "cell_type": "code",
   "execution_count": 61,
   "metadata": {},
   "outputs": [
    {
     "name": "stdout",
     "output_type": "stream",
     "text": [
      "The student passes!\n"
     ]
    }
   ],
   "source": [
    "    \n",
    "def mark(grade):    \n",
    "    for i in range(len(grade)):\n",
    "        if i >= 6:\n",
    "            print( \"The student fails!\" )\n",
    "            break\n",
    "    else:\n",
    "        print( \"The student passes!\" )\n",
    "\n",
    "mark([5.4, 9.7])"
   ]
  },
  {
   "cell_type": "code",
   "execution_count": 62,
   "metadata": {},
   "outputs": [
    {
     "name": "stdout",
     "output_type": "stream",
     "text": [
      "The student passes!\n",
      "Time elapsed: 0.0009963512420654297 s\n"
     ]
    }
   ],
   "source": [
    "from time import time\n",
    "t0 = time()\n",
    "mark([5.4, 9.7])\n",
    "t1 = time() - t0\n",
    "print(\"Time elapsed:\", t1, \"s\")"
   ]
  },
  {
   "cell_type": "code",
   "execution_count": 72,
   "metadata": {},
   "outputs": [],
   "source": [
    "def mark(grade, student1):\n",
    "    s = {}   \n",
    "    for i in range(len(grade)):\n",
    "        for j in student1:\n",
    "            if j not in s:\n",
    "               n = (i >= 789 and s[j] == j)\n",
    "               print( \"The student fails!\" )\n",
    "               break\n",
    "    else:\n",
    "        print( \"The student passes!\" )\n",
    "\n",
    "def mark1(grade, student):\n",
    "    for i in range(len(grade)):\n",
    "        for j in student:\n",
    "           sub = mark(grade, student - j)\n",
    "           if i >= 78 and sub:\n",
    "               print( \"The student fails!\" )\n",
    "               break\n",
    "    else:\n",
    "        print( \"The student passes!\" )"
   ]
  },
  {
   "cell_type": "code",
   "execution_count": 77,
   "metadata": {},
   "outputs": [
    {
     "name": "stdout",
     "output_type": "stream",
     "text": [
      "The student fails!\n",
      "The student fails!\n",
      "The student fails!\n",
      "The student fails!\n",
      "The student fails!\n",
      "The student fails!\n"
     ]
    },
    {
     "ename": "KeyError",
     "evalue": "10",
     "output_type": "error",
     "traceback": [
      "\u001b[1;31m---------------------------------------------------------------------------\u001b[0m",
      "\u001b[1;31mKeyError\u001b[0m                                  Traceback (most recent call last)",
      "\u001b[1;32mc:\\Users\\ritth\\code\\Strive\\Strive-Exercises\\Chapter 01\\New Challenge\\comprehension.ipynb Cell 11'\u001b[0m in \u001b[0;36m<cell line: 1>\u001b[1;34m()\u001b[0m\n\u001b[1;32m----> <a href='vscode-notebook-cell:/c%3A/Users/ritth/code/Strive/Strive-Exercises/Chapter%2001/New%20Challenge/comprehension.ipynb#ch0000023?line=0'>1</a>\u001b[0m value \u001b[39m=\u001b[39m mark([\u001b[39m5.6\u001b[39;49m, \u001b[39m7.8\u001b[39;49m, \u001b[39m8.9\u001b[39;49m, \u001b[39m9\u001b[39;49m, \u001b[39m8\u001b[39;49m, \u001b[39m6\u001b[39;49m, \u001b[39m4\u001b[39;49m, \u001b[39m8.0\u001b[39;49m, \u001b[39m5\u001b[39;49m, \u001b[39m5.5\u001b[39;49m, \u001b[39m7.9\u001b[39;49m, \u001b[39m4\u001b[39;49m, \u001b[39m3\u001b[39;49m, \u001b[39m2\u001b[39;49m], [\u001b[39m10\u001b[39;49m])\n\u001b[0;32m      <a href='vscode-notebook-cell:/c%3A/Users/ritth/code/Strive/Strive-Exercises/Chapter%2001/New%20Challenge/comprehension.ipynb#ch0000023?line=1'>2</a>\u001b[0m \u001b[39mprint\u001b[39m(value)\n\u001b[0;32m      <a href='vscode-notebook-cell:/c%3A/Users/ritth/code/Strive/Strive-Exercises/Chapter%2001/New%20Challenge/comprehension.ipynb#ch0000023?line=3'>4</a>\u001b[0m value1 \u001b[39m=\u001b[39m mark1([\u001b[39m5.6\u001b[39m, \u001b[39m7.8\u001b[39m, \u001b[39m8.9\u001b[39m, \u001b[39m9\u001b[39m, \u001b[39m8\u001b[39m, \u001b[39m6\u001b[39m, \u001b[39m4\u001b[39m, \u001b[39m8.0\u001b[39m, \u001b[39m5\u001b[39m, \u001b[39m5.5\u001b[39m, \u001b[39m7.9\u001b[39m, \u001b[39m4\u001b[39m, \u001b[39m3\u001b[39m, \u001b[39m2\u001b[39m], [\u001b[39m36\u001b[39m])\n",
      "\u001b[1;32mc:\\Users\\ritth\\code\\Strive\\Strive-Exercises\\Chapter 01\\New Challenge\\comprehension.ipynb Cell 10'\u001b[0m in \u001b[0;36mmark\u001b[1;34m(grade, student1)\u001b[0m\n\u001b[0;32m      <a href='vscode-notebook-cell:/c%3A/Users/ritth/code/Strive/Strive-Exercises/Chapter%2001/New%20Challenge/comprehension.ipynb#ch0000022?line=3'>4</a>\u001b[0m \u001b[39mfor\u001b[39;00m j \u001b[39min\u001b[39;00m student1:\n\u001b[0;32m      <a href='vscode-notebook-cell:/c%3A/Users/ritth/code/Strive/Strive-Exercises/Chapter%2001/New%20Challenge/comprehension.ipynb#ch0000022?line=4'>5</a>\u001b[0m     \u001b[39mif\u001b[39;00m j \u001b[39mnot\u001b[39;00m \u001b[39min\u001b[39;00m s:\n\u001b[1;32m----> <a href='vscode-notebook-cell:/c%3A/Users/ritth/code/Strive/Strive-Exercises/Chapter%2001/New%20Challenge/comprehension.ipynb#ch0000022?line=5'>6</a>\u001b[0m        n \u001b[39m=\u001b[39m (i \u001b[39m>\u001b[39m\u001b[39m=\u001b[39m \u001b[39m6\u001b[39m \u001b[39mand\u001b[39;00m s[j] \u001b[39m==\u001b[39m j)\n\u001b[0;32m      <a href='vscode-notebook-cell:/c%3A/Users/ritth/code/Strive/Strive-Exercises/Chapter%2001/New%20Challenge/comprehension.ipynb#ch0000022?line=6'>7</a>\u001b[0m        \u001b[39mprint\u001b[39m( \u001b[39m\"\u001b[39m\u001b[39mThe student fails!\u001b[39m\u001b[39m\"\u001b[39m )\n\u001b[0;32m      <a href='vscode-notebook-cell:/c%3A/Users/ritth/code/Strive/Strive-Exercises/Chapter%2001/New%20Challenge/comprehension.ipynb#ch0000022?line=7'>8</a>\u001b[0m        \u001b[39mbreak\u001b[39;00m\n",
      "\u001b[1;31mKeyError\u001b[0m: 10"
     ]
    }
   ],
   "source": [
    "value = mark([5.6, 7.8, 8.9, 9, 8, 6, 4, 8.0, 5, 5.5, 7.9, 4, 3, 2], [10])\n",
    "print(value)\n",
    "\n",
    "value1 = mark1([5.6, 7.8, 8.9, 9, 8, 6, 4, 8.0, 5, 5.5, 7.9, 4, 3, 2], [36])\n",
    "print(value1)\n"
   ]
  },
  {
   "cell_type": "code",
   "execution_count": 79,
   "metadata": {},
   "outputs": [
    {
     "name": "stdout",
     "output_type": "stream",
     "text": [
      "The student fails!\n",
      "The student fails!\n",
      "The student fails!\n",
      "The student fails!\n",
      "The student fails!\n",
      "The student fails!\n"
     ]
    },
    {
     "ename": "KeyError",
     "evalue": "134",
     "output_type": "error",
     "traceback": [
      "\u001b[1;31m---------------------------------------------------------------------------\u001b[0m",
      "\u001b[1;31mKeyError\u001b[0m                                  Traceback (most recent call last)",
      "\u001b[1;32mc:\\Users\\ritth\\code\\Strive\\Strive-Exercises\\Chapter 01\\New Challenge\\comprehension.ipynb Cell 12'\u001b[0m in \u001b[0;36m<cell line: 3>\u001b[1;34m()\u001b[0m\n\u001b[0;32m      <a href='vscode-notebook-cell:/c%3A/Users/ritth/code/Strive/Strive-Exercises/Chapter%2001/New%20Challenge/comprehension.ipynb#ch0000024?line=0'>1</a>\u001b[0m \u001b[39mfrom\u001b[39;00m \u001b[39mtime\u001b[39;00m \u001b[39mimport\u001b[39;00m time\n\u001b[0;32m      <a href='vscode-notebook-cell:/c%3A/Users/ritth/code/Strive/Strive-Exercises/Chapter%2001/New%20Challenge/comprehension.ipynb#ch0000024?line=1'>2</a>\u001b[0m t0 \u001b[39m=\u001b[39m time()\n\u001b[1;32m----> <a href='vscode-notebook-cell:/c%3A/Users/ritth/code/Strive/Strive-Exercises/Chapter%2001/New%20Challenge/comprehension.ipynb#ch0000024?line=2'>3</a>\u001b[0m mark([\u001b[39m5.6\u001b[39;49m, \u001b[39m7.8\u001b[39;49m, \u001b[39m8.9\u001b[39;49m, \u001b[39m9\u001b[39;49m, \u001b[39m8\u001b[39;49m, \u001b[39m6\u001b[39;49m, \u001b[39m4\u001b[39;49m, \u001b[39m8.0\u001b[39;49m, \u001b[39m5\u001b[39;49m, \u001b[39m5.5\u001b[39;49m, \u001b[39m7.9\u001b[39;49m, \u001b[39m4\u001b[39;49m, \u001b[39m3\u001b[39;49m, \u001b[39m2\u001b[39;49m], [\u001b[39m134\u001b[39;49m])\n\u001b[0;32m      <a href='vscode-notebook-cell:/c%3A/Users/ritth/code/Strive/Strive-Exercises/Chapter%2001/New%20Challenge/comprehension.ipynb#ch0000024?line=4'>5</a>\u001b[0m t1 \u001b[39m=\u001b[39m time() \u001b[39m-\u001b[39m t0\n\u001b[0;32m      <a href='vscode-notebook-cell:/c%3A/Users/ritth/code/Strive/Strive-Exercises/Chapter%2001/New%20Challenge/comprehension.ipynb#ch0000024?line=5'>6</a>\u001b[0m \u001b[39mprint\u001b[39m(\u001b[39m\"\u001b[39m\u001b[39mTime elapsed:\u001b[39m\u001b[39m\"\u001b[39m, t1, \u001b[39m\"\u001b[39m\u001b[39ms\u001b[39m\u001b[39m\"\u001b[39m)\n",
      "\u001b[1;32mc:\\Users\\ritth\\code\\Strive\\Strive-Exercises\\Chapter 01\\New Challenge\\comprehension.ipynb Cell 10'\u001b[0m in \u001b[0;36mmark\u001b[1;34m(grade, student1)\u001b[0m\n\u001b[0;32m      <a href='vscode-notebook-cell:/c%3A/Users/ritth/code/Strive/Strive-Exercises/Chapter%2001/New%20Challenge/comprehension.ipynb#ch0000022?line=3'>4</a>\u001b[0m \u001b[39mfor\u001b[39;00m j \u001b[39min\u001b[39;00m student1:\n\u001b[0;32m      <a href='vscode-notebook-cell:/c%3A/Users/ritth/code/Strive/Strive-Exercises/Chapter%2001/New%20Challenge/comprehension.ipynb#ch0000022?line=4'>5</a>\u001b[0m     \u001b[39mif\u001b[39;00m j \u001b[39mnot\u001b[39;00m \u001b[39min\u001b[39;00m s:\n\u001b[1;32m----> <a href='vscode-notebook-cell:/c%3A/Users/ritth/code/Strive/Strive-Exercises/Chapter%2001/New%20Challenge/comprehension.ipynb#ch0000022?line=5'>6</a>\u001b[0m        n \u001b[39m=\u001b[39m (i \u001b[39m>\u001b[39m\u001b[39m=\u001b[39m \u001b[39m6\u001b[39m \u001b[39mand\u001b[39;00m s[j] \u001b[39m==\u001b[39m j)\n\u001b[0;32m      <a href='vscode-notebook-cell:/c%3A/Users/ritth/code/Strive/Strive-Exercises/Chapter%2001/New%20Challenge/comprehension.ipynb#ch0000022?line=6'>7</a>\u001b[0m        \u001b[39mprint\u001b[39m( \u001b[39m\"\u001b[39m\u001b[39mThe student fails!\u001b[39m\u001b[39m\"\u001b[39m )\n\u001b[0;32m      <a href='vscode-notebook-cell:/c%3A/Users/ritth/code/Strive/Strive-Exercises/Chapter%2001/New%20Challenge/comprehension.ipynb#ch0000022?line=7'>8</a>\u001b[0m        \u001b[39mbreak\u001b[39;00m\n",
      "\u001b[1;31mKeyError\u001b[0m: 134"
     ]
    }
   ],
   "source": [
    "from time import time\n",
    "t0 = time()\n",
    "mark([5.6, 7.8, 8.9, 9, 8, 6, 4, 8.0, 5, 5.5, 7.9, 4, 3, 2], [134])\n",
    "\n",
    "t1 = time() - t0\n",
    "print(\"Time elapsed:\", t1, \"s\")"
   ]
  },
  {
   "cell_type": "markdown",
   "metadata": {},
   "source": [
    "Exercise 5: Write the Negative indices for word Orange?"
   ]
  },
  {
   "cell_type": "code",
   "execution_count": 42,
   "metadata": {},
   "outputs": [
    {
     "name": "stdout",
     "output_type": "stream",
     "text": [
      "o\n",
      "rn\n",
      "ro\n",
      "enr\n"
     ]
    }
   ],
   "source": [
    "# negative indices\n",
    "\n",
    "fruit = \"orange\"\n",
    "print(fruit[:1:2])\n",
    "print(fruit[1:5:2])\n",
    "print(fruit[1::-1]) \n",
    "print(fruit[::-2]) "
   ]
  },
  {
   "cell_type": "markdown",
   "metadata": {},
   "source": [
    "Exercise 6: How many different seven-letter arrangements of the letters in the word HEXAGON can be made if each letter is used only once?"
   ]
  },
  {
   "cell_type": "code",
   "execution_count": 49,
   "metadata": {},
   "outputs": [
    {
     "name": "stdout",
     "output_type": "stream",
     "text": [
      "3628800\n"
     ]
    }
   ],
   "source": [
    "def hexagon(n):\n",
    "    if n == 0:\n",
    "        return 1\n",
    "    else:\n",
    "        return n * hexagon(n - 1)\n",
    "\n",
    "print(hexagon(10))"
   ]
  },
  {
   "cell_type": "markdown",
   "metadata": {},
   "source": [
    "Exercise 7"
   ]
  },
  {
   "cell_type": "code",
   "execution_count": 50,
   "metadata": {},
   "outputs": [
    {
     "name": "stdout",
     "output_type": "stream",
     "text": [
      "[('red', 'apple'), ('red', 'banana'), ('red', 'cherry'), ('big', 'apple'), ('big', 'banana'), ('big', 'cherry'), ('tasty', 'apple'), ('tasty', 'banana'), ('tasty', 'cherry')]\n"
     ]
    }
   ],
   "source": [
    "adj = [\"red\", \"big\", \"tasty\"]\n",
    "fruits = [\"apple\", \"banana\", \"cherry\"]\n",
    "\n",
    "s = [(x, y) for x in adj for y in fruits]\n",
    "\n",
    "print(s)"
   ]
  }
 ],
 "metadata": {
  "interpreter": {
   "hash": "73592dad14db8f3994cd458d5e0995dad9821ca28205c2106249abcaba41cb67"
  },
  "kernelspec": {
   "display_name": "Python 3.8.12 ('strive')",
   "language": "python",
   "name": "python3"
  },
  "language_info": {
   "codemirror_mode": {
    "name": "ipython",
    "version": 3
   },
   "file_extension": ".py",
   "mimetype": "text/x-python",
   "name": "python",
   "nbconvert_exporter": "python",
   "pygments_lexer": "ipython3",
   "version": "3.8.12"
  },
  "orig_nbformat": 4
 },
 "nbformat": 4,
 "nbformat_minor": 2
}
