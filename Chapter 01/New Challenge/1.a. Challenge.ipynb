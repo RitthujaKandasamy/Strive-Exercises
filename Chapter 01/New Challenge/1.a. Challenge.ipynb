{
 "cells": [
  {
   "cell_type": "code",
   "execution_count": 30,
   "metadata": {},
   "outputs": [],
   "source": [
    "class Solution:\n",
    "   def solve(self, length1, width1, height1, size1, length2, width2, height2, size2):\n",
    "       self.y1 = width1\n",
    "       self.z1 = height1\n",
    "       self.x1 = length1\n",
    "       self.a1 = size1\n",
    "       self.a2 = size2\n",
    "       self.x2 = length2\n",
    "       self.y2 = width2\n",
    "       self.z2 = height2\n",
    "\n",
    "\n",
    "       ob = ((self.x2 - self.x1)(self.y2 - self.y1)(self.z1 - self.z2))\n",
    "print(ob.solve(10,10,0,5,5,5,0,2))"
   ]
  }
 ],
 "metadata": {
  "interpreter": {
   "hash": "73592dad14db8f3994cd458d5e0995dad9821ca28205c2106249abcaba41cb67"
  },
  "kernelspec": {
   "display_name": "Python 3.8.12 ('strive')",
   "language": "python",
   "name": "python3"
  },
  "language_info": {
   "codemirror_mode": {
    "name": "ipython",
    "version": 3
   },
   "file_extension": ".py",
   "mimetype": "text/x-python",
   "name": "python",
   "nbconvert_exporter": "python",
   "pygments_lexer": "ipython3",
   "version": "3.8.12"
  },
  "orig_nbformat": 4
 },
 "nbformat": 4,
 "nbformat_minor": 2
}
