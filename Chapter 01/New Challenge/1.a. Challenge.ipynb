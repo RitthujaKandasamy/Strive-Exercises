{
 "cells": [
  {
   "cell_type": "code",
   "execution_count": 31,
   "metadata": {},
   "outputs": [
    {
     "name": "stdout",
     "output_type": "stream",
     "text": [
      "False\n"
     ]
    }
   ],
   "source": [
    "class Solution:\n",
    "   def solve(self, length1, width1, height1, size1, length2, width2, height2, size2):\n",
    "       self.y1 = width1\n",
    "       self.z1 = height1\n",
    "       self.x1 = length1\n",
    "       self.a1 = size1\n",
    "       self.a2 = size2\n",
    "       self.x2 = length2\n",
    "       self.y2 = width2\n",
    "       self.z2 = height2\n",
    "\n",
    "\n",
    "       if not ((((self.x2 - (self.a2/2)) > (self.x1 - (self.a1/2))) and ((self.x2 - (self.a2/2)) < (self.x1 + (self.a1/2)))) or (((self.x2 + (self.a2/2)) > (self.x1 - (self.a1/2))) and ((self.x2 - (self.a2/2)) < (self.x1 + (self.a1/2))))):\n",
    "             return False\n",
    "       else:\n",
    "             return True\n",
    "ob = Solution()\n",
    "print(ob.solve(10,10,0,5,5,5,0,2))"
   ]
  },
  {
   "cell_type": "code",
   "execution_count": null,
   "metadata": {},
   "outputs": [],
   "source": [
    "if (b6 > a7) and (b6 < a8) and (b5 < a7) and (b5 < a8):                       3 = 5, 4 = 6, \n",
    "          heigth = (a8 - a7) - (a8 - b6)\n",
    "           return(heigth)\n",
    "       elif (a8 > b5) and (a7 < b5) and (b6 > a6) and (a7 < b6):\n",
    "           height3 = (a8 - b5)\n",
    "           return(height3)\n",
    "       elif (b5 > a7) and (b6 < a8) and (a8 > b5) and (a7 < b6):\n",
    "           length2 = (b6 - b5)\n",
    "           return(length2)    \n"
   ]
  },
  {
   "cell_type": "code",
   "execution_count": null,
   "metadata": {},
   "outputs": [],
   "source": [
    "if cube.solve():   \n",
    "    length = cube.volume()\n",
    "    breadth = cube.volume1()\n",
    "    height = cube.volume2()\n",
    "    print(length, \" \", breadth, \" \", height, \" \")\n",
    "    vol = length * breadth * height\n",
    "    print(vol)\n",
    "else:\n",
    "    print(\"0\")"
   ]
  }
 ],
 "metadata": {
  "interpreter": {
   "hash": "73592dad14db8f3994cd458d5e0995dad9821ca28205c2106249abcaba41cb67"
  },
  "kernelspec": {
   "display_name": "Python 3.8.12 ('strive')",
   "language": "python",
   "name": "python3"
  },
  "language_info": {
   "codemirror_mode": {
    "name": "ipython",
    "version": 3
   },
   "file_extension": ".py",
   "mimetype": "text/x-python",
   "name": "python",
   "nbconvert_exporter": "python",
   "pygments_lexer": "ipython3",
   "version": "3.8.12"
  },
  "orig_nbformat": 4
 },
 "nbformat": 4,
 "nbformat_minor": 2
}
