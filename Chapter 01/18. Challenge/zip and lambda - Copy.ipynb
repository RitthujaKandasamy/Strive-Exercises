{
 "cells": [
  {
   "cell_type": "markdown",
   "id": "81308d82",
   "metadata": {},
   "source": [
    "### Exercise\n",
    "\n",
    "Given the following X and y, can you get an output like the one given as output\n",
    "```\n",
    "(1, 2) 1\n",
    "(1, 3) 1\n",
    "(3, 4) 1\n",
    "(4, 5) 0\n",
    "```\n",
    "?"
   ]
  },
  {
   "cell_type": "code",
   "execution_count": 23,
   "id": "33c87b1a",
   "metadata": {
    "ExecuteTime": {
     "end_time": "2021-07-15T20:25:16.726895Z",
     "start_time": "2021-07-15T20:25:16.722721Z"
    }
   },
   "outputs": [
    {
     "name": "stdout",
     "output_type": "stream",
     "text": [
      "(1, 2) 1\n",
      "(1, 3) 1\n",
      "(3, 4) 1\n",
      "(4, 5) 0\n"
     ]
    },
    {
     "data": {
      "text/plain": [
       "[((1, 2), 1), ((1, 3), 1), ((3, 4), 1), ((4, 5), 0)]"
      ]
     },
     "execution_count": 23,
     "metadata": {},
     "output_type": "execute_result"
    }
   ],
   "source": [
    "X = [(1,2), (1,3), (3,4), (4,5)]\n",
    "y = [1, 1, 1, 0]\n",
    "\n",
    "for i, j in zip(X, y):\n",
    "    print(i, j)\n",
    "\n",
    "list(zip(X, y))"
   ]
  },
  {
   "cell_type": "code",
   "execution_count": 24,
   "id": "6a9d5678",
   "metadata": {
    "ExecuteTime": {
     "end_time": "2021-07-15T20:59:00.539745Z",
     "start_time": "2021-07-15T20:59:00.016961Z"
    }
   },
   "outputs": [],
   "source": [
    "import pandas as pd"
   ]
  },
  {
   "cell_type": "markdown",
   "id": "612e1caa",
   "metadata": {},
   "source": [
    "## Exercises\n",
    "\n",
    "1. Convert the following functions in lambda functions:"
   ]
  },
  {
   "cell_type": "code",
   "execution_count": 25,
   "id": "37efeff3",
   "metadata": {
    "ExecuteTime": {
     "end_time": "2021-07-15T21:08:03.267669Z",
     "start_time": "2021-07-15T21:08:03.257068Z"
    }
   },
   "outputs": [],
   "source": [
    "# def function1(x, y):\n",
    "#     # Oh no! Multiple inputs! That's new!\n",
    "#     return x + y\n",
    "\n",
    "# def function2(j):\n",
    "#     if j > 0:\n",
    "#         return \"positive\"\n",
    "#     else:\n",
    "#         return \"negative\""
   ]
  },
  {
   "cell_type": "code",
   "execution_count": 26,
   "id": "d842b50a",
   "metadata": {},
   "outputs": [],
   "source": [
    "function1 = lambda x, y: x + y\n",
    "function2 = lambda j: \"positive\" if j > 0 else \"negative\""
   ]
  },
  {
   "cell_type": "code",
   "execution_count": 34,
   "id": "2960d4c7",
   "metadata": {
    "ExecuteTime": {
     "end_time": "2021-07-15T21:08:49.450133Z",
     "start_time": "2021-07-15T21:08:49.445444Z"
    }
   },
   "outputs": [
    {
     "data": {
      "text/plain": [
       "3"
      ]
     },
     "execution_count": 34,
     "metadata": {},
     "output_type": "execute_result"
    }
   ],
   "source": [
    "function1(1,2)"
   ]
  },
  {
   "cell_type": "code",
   "execution_count": 28,
   "id": "3124f76d",
   "metadata": {
    "ExecuteTime": {
     "end_time": "2021-07-15T21:08:58.477225Z",
     "start_time": "2021-07-15T21:08:58.472809Z"
    }
   },
   "outputs": [
    {
     "data": {
      "text/plain": [
       "'negative'"
      ]
     },
     "execution_count": 28,
     "metadata": {},
     "output_type": "execute_result"
    }
   ],
   "source": [
    "function2(0)"
   ]
  },
  {
   "cell_type": "code",
   "execution_count": 29,
   "id": "7201954a",
   "metadata": {
    "ExecuteTime": {
     "end_time": "2021-07-15T21:09:02.565936Z",
     "start_time": "2021-07-15T21:09:02.561148Z"
    }
   },
   "outputs": [
    {
     "data": {
      "text/plain": [
       "'positive'"
      ]
     },
     "execution_count": 29,
     "metadata": {},
     "output_type": "execute_result"
    }
   ],
   "source": [
    "function2(67)"
   ]
  },
  {
   "cell_type": "markdown",
   "id": "580e9ecf",
   "metadata": {},
   "source": [
    "Transform all the negative elements of the columns \"hi\", \"hey\", and \"hello\" of the dataframe `df` into the string \"hello\"."
   ]
  },
  {
   "cell_type": "code",
   "execution_count": 30,
   "id": "6489f2c4",
   "metadata": {
    "ExecuteTime": {
     "end_time": "2021-07-15T21:25:55.001594Z",
     "start_time": "2021-07-15T21:25:54.995424Z"
    }
   },
   "outputs": [
    {
     "data": {
      "text/html": [
       "<div>\n",
       "<style scoped>\n",
       "    .dataframe tbody tr th:only-of-type {\n",
       "        vertical-align: middle;\n",
       "    }\n",
       "\n",
       "    .dataframe tbody tr th {\n",
       "        vertical-align: top;\n",
       "    }\n",
       "\n",
       "    .dataframe thead th {\n",
       "        text-align: right;\n",
       "    }\n",
       "</style>\n",
       "<table border=\"1\" class=\"dataframe\">\n",
       "  <thead>\n",
       "    <tr style=\"text-align: right;\">\n",
       "      <th></th>\n",
       "      <th>first</th>\n",
       "      <th>hi</th>\n",
       "      <th>hey</th>\n",
       "      <th>fourth</th>\n",
       "      <th>hello</th>\n",
       "    </tr>\n",
       "  </thead>\n",
       "  <tbody>\n",
       "    <tr>\n",
       "      <th>0</th>\n",
       "      <td>1.0</td>\n",
       "      <td>0.1</td>\n",
       "      <td>1.0</td>\n",
       "      <td>1.0</td>\n",
       "      <td>1.0</td>\n",
       "    </tr>\n",
       "    <tr>\n",
       "      <th>1</th>\n",
       "      <td>-1.0</td>\n",
       "      <td>0.0</td>\n",
       "      <td>-1.0</td>\n",
       "      <td>-1.0</td>\n",
       "      <td>-1.9</td>\n",
       "    </tr>\n",
       "    <tr>\n",
       "      <th>2</th>\n",
       "      <td>1.0</td>\n",
       "      <td>1.0</td>\n",
       "      <td>0.0</td>\n",
       "      <td>2.0</td>\n",
       "      <td>0.0</td>\n",
       "    </tr>\n",
       "    <tr>\n",
       "      <th>3</th>\n",
       "      <td>0.0</td>\n",
       "      <td>-1.0</td>\n",
       "      <td>0.0</td>\n",
       "      <td>0.0</td>\n",
       "      <td>2.0</td>\n",
       "    </tr>\n",
       "  </tbody>\n",
       "</table>\n",
       "</div>"
      ],
      "text/plain": [
       "   first   hi  hey  fourth  hello\n",
       "0    1.0  0.1  1.0     1.0    1.0\n",
       "1   -1.0  0.0 -1.0    -1.0   -1.9\n",
       "2    1.0  1.0  0.0     2.0    0.0\n",
       "3    0.0 -1.0  0.0     0.0    2.0"
      ]
     },
     "execution_count": 30,
     "metadata": {},
     "output_type": "execute_result"
    }
   ],
   "source": [
    "df = pd.DataFrame({\"first\":[1,-1,1.0,0.0],\n",
    "                   \"hi\":[0.1,0.0,1,-1],\n",
    "                  \"hey\":[1,-1,0,0.0],\n",
    "                  \"fourth\":[1,-1,2,0.0],\n",
    "                  \"hello\":[1,-1.9,0,2.0]\n",
    "                  })\n",
    "\n",
    "df"
   ]
  },
  {
   "cell_type": "code",
   "execution_count": 31,
   "id": "f7d65595",
   "metadata": {},
   "outputs": [],
   "source": [
    "df[\"hi\"] = df[\"hi\"].apply(lambda x : x if x > -1 else \"hello\")\n",
    "df[\"hey\"] = df[\"hey\"].apply(lambda x : float(x) if x > -1.0 else \"hello\")\n",
    "df[\"hello\"] = df[\"hello\"].apply(lambda x : float(x) if x > -1 else 100)"
   ]
  },
  {
   "cell_type": "code",
   "execution_count": 32,
   "id": "1ac4af07",
   "metadata": {
    "ExecuteTime": {
     "end_time": "2021-07-15T21:25:56.779279Z",
     "start_time": "2021-07-15T21:25:56.759777Z"
    }
   },
   "outputs": [
    {
     "data": {
      "text/html": [
       "<div>\n",
       "<style scoped>\n",
       "    .dataframe tbody tr th:only-of-type {\n",
       "        vertical-align: middle;\n",
       "    }\n",
       "\n",
       "    .dataframe tbody tr th {\n",
       "        vertical-align: top;\n",
       "    }\n",
       "\n",
       "    .dataframe thead th {\n",
       "        text-align: right;\n",
       "    }\n",
       "</style>\n",
       "<table border=\"1\" class=\"dataframe\">\n",
       "  <thead>\n",
       "    <tr style=\"text-align: right;\">\n",
       "      <th></th>\n",
       "      <th>first</th>\n",
       "      <th>hi</th>\n",
       "      <th>hey</th>\n",
       "      <th>fourth</th>\n",
       "      <th>hello</th>\n",
       "    </tr>\n",
       "  </thead>\n",
       "  <tbody>\n",
       "    <tr>\n",
       "      <th>0</th>\n",
       "      <td>1.0</td>\n",
       "      <td>0.1</td>\n",
       "      <td>1</td>\n",
       "      <td>1.0</td>\n",
       "      <td>1.0</td>\n",
       "    </tr>\n",
       "    <tr>\n",
       "      <th>1</th>\n",
       "      <td>-1.0</td>\n",
       "      <td>0</td>\n",
       "      <td>hello</td>\n",
       "      <td>-1.0</td>\n",
       "      <td>100.0</td>\n",
       "    </tr>\n",
       "    <tr>\n",
       "      <th>2</th>\n",
       "      <td>1.0</td>\n",
       "      <td>1</td>\n",
       "      <td>0</td>\n",
       "      <td>2.0</td>\n",
       "      <td>0.0</td>\n",
       "    </tr>\n",
       "    <tr>\n",
       "      <th>3</th>\n",
       "      <td>0.0</td>\n",
       "      <td>hello</td>\n",
       "      <td>0</td>\n",
       "      <td>0.0</td>\n",
       "      <td>2.0</td>\n",
       "    </tr>\n",
       "  </tbody>\n",
       "</table>\n",
       "</div>"
      ],
      "text/plain": [
       "   first     hi    hey  fourth  hello\n",
       "0    1.0    0.1      1     1.0    1.0\n",
       "1   -1.0      0  hello    -1.0  100.0\n",
       "2    1.0      1      0     2.0    0.0\n",
       "3    0.0  hello      0     0.0    2.0"
      ]
     },
     "execution_count": 32,
     "metadata": {},
     "output_type": "execute_result"
    }
   ],
   "source": [
    "df"
   ]
  }
 ],
 "metadata": {
  "kernelspec": {
   "display_name": "Python 3",
   "language": "python",
   "name": "python3"
  },
  "language_info": {
   "codemirror_mode": {
    "name": "ipython",
    "version": 3
   },
   "file_extension": ".py",
   "mimetype": "text/x-python",
   "name": "python",
   "nbconvert_exporter": "python",
   "pygments_lexer": "ipython3",
   "version": "3.8.12"
  },
  "varInspector": {
   "cols": {
    "lenName": 16,
    "lenType": 16,
    "lenVar": 40
   },
   "kernels_config": {
    "python": {
     "delete_cmd_postfix": "",
     "delete_cmd_prefix": "del ",
     "library": "var_list.py",
     "varRefreshCmd": "print(var_dic_list())"
    },
    "r": {
     "delete_cmd_postfix": ") ",
     "delete_cmd_prefix": "rm(",
     "library": "var_list.r",
     "varRefreshCmd": "cat(var_dic_list()) "
    }
   },
   "types_to_exclude": [
    "module",
    "function",
    "builtin_function_or_method",
    "instance",
    "_Feature"
   ],
   "window_display": false
  }
 },
 "nbformat": 4,
 "nbformat_minor": 5
}
