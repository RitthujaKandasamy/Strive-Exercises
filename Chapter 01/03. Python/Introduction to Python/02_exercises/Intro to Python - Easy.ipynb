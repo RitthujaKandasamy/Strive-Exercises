{
 "cells": [
  {
   "cell_type": "markdown",
   "metadata": {},
   "source": [
    "Here you have a collection of guided exercises for the first class on Python. <br>\n",
    "The exercises are divided by topic, following the topics reviewed during the theory session, and for each topic you have some mandatory exercises, and other optional exercises, which you are invited to do if you still have time after the mandatory exercises. <br>\n",
    "\n",
    "Remember that you have 5 hours to solve these exercises, after which we will review the most interesting exercises together. If you don't finish all the exercises, you can work on them tonightor tomorrow. \n",
    "\n",
    "At the end of the class, we will upload the code with the solutions of the exercises so that you can review them again if needed. If you still have not finished some exercises, try to do them first by yourself, before taking a look at the solutions: you are doing these exercises for yourself, so it is always the best to do them your way first, as it is the fastest way to learn!"
   ]
  },
  {
   "cell_type": "markdown",
   "metadata": {},
   "source": [
    "**Exercise 1.1:** The cover price of a book is 24.95 EUR, but bookstores get a 40 percent discount. Shipping costs 3 EUR for the first copy and 75 cents for each additional copy. **Calculate the total wholesale costs for 60 copies**. "
   ]
  },
  {
   "cell_type": "code",
   "execution_count": 4,
   "metadata": {},
   "outputs": [
    {
     "name": "stdout",
     "output_type": "stream",
     "text": [
      "1102\n"
     ]
    }
   ],
   "source": [
    "cover_price = 24.95\n",
    "discount = 1.40\n",
    "shipping_cost = 3\n",
    "additional_copy = 0.75\n",
    "\n",
    "first_copy = int(shipping_cost + cover_price) / discount\n",
    "\n",
    "copies = int((additional_copy + cover_price) * 59 ) / discount\n",
    "\n",
    "#total wholesale costs for 60 copies\n",
    "total_copies = int(first_copy + copies)\n",
    "\n",
    "print(total_copies)\n",
    "\n"
   ]
  },
  {
   "cell_type": "markdown",
   "metadata": {},
   "source": [
    "**Exercise 1.2:** When something is wrong with your code, Python will raise errors. Often these will be \"syntax errors\" that signal that something is wrong with the form of your code (e.g., the code in the previous exercise raised a `SyntaxError`). There are also \"runtime errors\", which signal that your code was in itself formally correct, but that something went wrong during the code's execution. A good example is the `ZeroDivisionError`, which indicates that you tried to divide a number by zero (which, as you may know, is not allowed). Try to make Python **raise such a `ZeroDivisionError`.**"
   ]
  },
  {
   "cell_type": "code",
   "execution_count": 5,
   "metadata": {},
   "outputs": [
    {
     "ename": "ZeroDivisionError",
     "evalue": "division by zero",
     "output_type": "error",
     "traceback": [
      "\u001b[1;31m---------------------------------------------------------------------------\u001b[0m",
      "\u001b[1;31mZeroDivisionError\u001b[0m                         Traceback (most recent call last)",
      "\u001b[1;32mc:\\Users\\ritth\\code\\Strive\\Strive-Exercises\\Chapter 01\\03. Python\\Introduction to Python\\02_exercises\\Intro to Python - Easy.ipynb Cell 5'\u001b[0m in \u001b[0;36m<module>\u001b[1;34m\u001b[0m\n\u001b[0;32m      <a href='vscode-notebook-cell:/c%3A/Users/ritth/code/Strive/Strive-Exercises/Chapter%2001/03.%20Python/Introduction%20to%20Python/02_exercises/Intro%20to%20Python%20-%20Easy.ipynb#ch0000004?line=0'>1</a>\u001b[0m x \u001b[39m=\u001b[39m \u001b[39m26\u001b[39m\n\u001b[0;32m      <a href='vscode-notebook-cell:/c%3A/Users/ritth/code/Strive/Strive-Exercises/Chapter%2001/03.%20Python/Introduction%20to%20Python/02_exercises/Intro%20to%20Python%20-%20Easy.ipynb#ch0000004?line=1'>2</a>\u001b[0m \u001b[39m#try to divide a number by zero\u001b[39;00m\n\u001b[1;32m----> <a href='vscode-notebook-cell:/c%3A/Users/ritth/code/Strive/Strive-Exercises/Chapter%2001/03.%20Python/Introduction%20to%20Python/02_exercises/Intro%20to%20Python%20-%20Easy.ipynb#ch0000004?line=3'>4</a>\u001b[0m y \u001b[39m=\u001b[39m (\u001b[39m65\u001b[39;49m\u001b[39m*\u001b[39;49mx) \u001b[39m/\u001b[39;49m \u001b[39m0\u001b[39;49m\n\u001b[0;32m      <a href='vscode-notebook-cell:/c%3A/Users/ritth/code/Strive/Strive-Exercises/Chapter%2001/03.%20Python/Introduction%20to%20Python/02_exercises/Intro%20to%20Python%20-%20Easy.ipynb#ch0000004?line=4'>5</a>\u001b[0m \u001b[39mprint\u001b[39m(y)\n",
      "\u001b[1;31mZeroDivisionError\u001b[0m: division by zero"
     ]
    }
   ],
   "source": [
    "x = 26\n",
    "#try to divide a number by zero\n",
    "\n",
    "y = (65*x) / 0\n",
    "print(y)"
   ]
  },
  {
   "cell_type": "markdown",
   "metadata": {},
   "source": [
    "**Exercise 5.1**: Create a countdown function that starts at a certain count, and counts down to zero. Instead of zero, print \"Blast off!\". Use a `for` loop. \n"
   ]
  },
  {
   "cell_type": "code",
   "execution_count": 18,
   "metadata": {},
   "outputs": [
    {
     "name": "stdout",
     "output_type": "stream",
     "text": [
      "Countdown\n",
      "20\n",
      "19\n",
      "18\n",
      "17\n",
      "16\n",
      "15\n",
      "14\n",
      "13\n",
      "12\n",
      "11\n",
      "10\n",
      "9\n",
      "8\n",
      "7\n",
      "6\n",
      "5\n",
      "4\n",
      "3\n",
      "2\n",
      "1\n",
      "Blast off!\n"
     ]
    }
   ],
   "source": [
    "# Countdown\n",
    "def countdown():\n",
    "    print(\"Countdown\")\n",
    "    for count in range(20, 0, -1):\n",
    "        print(count)\n",
    "        \n",
    "    print (\"Blast off!\")\n",
    "\n",
    "countdown()\n",
    "\n"
   ]
  },
  {
   "cell_type": "markdown",
   "metadata": {},
   "source": [
    "**Exercise 5.2:** Write and test three functions that return the largest, the smallest, and the number of dividables by 3 in a given collection of numbers. Use the algorithm described earlier in the Part 5 lecture :)"
   ]
  },
  {
   "cell_type": "code",
   "execution_count": 28,
   "metadata": {},
   "outputs": [
    {
     "name": "stdout",
     "output_type": "stream",
     "text": [
      "The largest number: 100\n",
      "The smallest number: 2\n",
      "The number dividables by 3: 0\n",
      "The number dividables by 3: 0\n",
      "The number dividables by 3: 0\n",
      "The number dividables by 3: 0\n"
     ]
    }
   ],
   "source": [
    "# Your functions\n",
    "def main():\n",
    "    \"\"\"\n",
    "    a = [2, 4, 6, 12, 15, 99, 100]\n",
    "    100\n",
    "    2\n",
    "    4\n",
    "    \"\"\"\n",
    "    a = [2, 4, 6, 12, 15, 99, 100]\n",
    "\n",
    "    x = max(a)\n",
    "    # x = the largest number\n",
    "    print(\"The largest number:\", x)\n",
    "\n",
    "    y = min(a)\n",
    "    # y = the smallest number\n",
    "    print(\"The smallest number:\", y)\n",
    "\n",
    "    num = 3\n",
    "    z = []\n",
    "    \n",
    "    for i in a:\n",
    "        if i%num == 0:\n",
    "          print(\"The number dividables by 3:\", len(z))\n",
    "\n",
    "    return\n",
    "\n",
    "main()\n",
    "\n"
   ]
  }
 ],
 "metadata": {
  "kernelspec": {
   "display_name": "Python 3",
   "language": "python",
   "name": "python3"
  },
  "language_info": {
   "codemirror_mode": {
    "name": "ipython",
    "version": 3
   },
   "file_extension": ".py",
   "mimetype": "text/x-python",
   "name": "python",
   "nbconvert_exporter": "python",
   "pygments_lexer": "ipython3",
   "version": "3.10.2"
  }
 },
 "nbformat": 4,
 "nbformat_minor": 4
}
