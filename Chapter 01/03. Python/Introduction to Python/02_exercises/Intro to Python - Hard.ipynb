{
 "cells": [
  {
   "cell_type": "markdown",
   "metadata": {},
   "source": [
    "Here you have a collection of guided exercises for the first class on Python. <br>\n",
    "The exercises are divided by topic, following the topics reviewed during the theory session, and for each topic you have some mandatory exercises, and other optional exercises, which you are invited to do if you still have time after the mandatory exercises. <br>\n",
    "\n",
    "Remember that you have 5 hours to solve these exercises, after which we will review the most interesting exercises together. If you don't finish all the exercises, you can work on them tonightor tomorrow. \n",
    "\n",
    "At the end of the class, we will upload the code with the solutions of the exercises so that you can review them again if needed. If you still have not finished some exercises, try to do them first by yourself, before taking a look at the solutions: you are doing these exercises for yourself, so it is always the best to do them your way first, as it is the fastest way to learn!"
   ]
  },
  {
   "cell_type": "markdown",
   "metadata": {},
   "source": [
    "**Exercise 4.1 (🌶️🌶️):** Define a function that receives a string parameter, and returns an integer indicating the count for all the letters of the alphabet that there are in the string. The expected output format is in a **dictionary** with the relevant keys and values. The capital version of a lower case letter is considered to be the same letter.\n",
    "\n",
    "This should sound quite familiar, try to do it without looking at your old code ;)\n",
    "\n",
    "**What is the challenge?**: Don't code 27 times the same line of code, learn how to do things that scale well."
   ]
  },
  {
   "cell_type": "code",
   "execution_count": 1,
   "metadata": {},
   "outputs": [
    {
     "name": "stdout",
     "output_type": "stream",
     "text": [
      "{'P': 1, 'r': 3, 'i': 1, 'm': 2, 'e': 6, 'n': 2, 'u': 1, 'b': 2, 's': 1, 't': 1, 'w': 1, 'a': 1}\n"
     ]
    }
   ],
   "source": [
    "def a_values(string):\n",
    "\n",
    "    # letter is the empty dictionary or dict()\n",
    "    letter = {}\n",
    "\n",
    "    for char in string:\n",
    "        # char will be print in the lower case [example: APPLE = apple]\n",
    "        char.lower()\n",
    "       \n",
    "        if not char.isalpha():\n",
    "              continue\n",
    "        \n",
    "        elif char not in letter:\n",
    "             # if char is not yet in the dict letter, set it count to 1\n",
    "            letter[char] = 1     \n",
    "\n",
    "        else:\n",
    "             # if char is already in letter, then increase its count by 1\n",
    "            letter[char] += 1    \n",
    "\n",
    "\n",
    "    return letter\n",
    "            \n",
    "print(a_values(\"Prime numbers between are:\"))\n"
   ]
  },
  {
   "cell_type": "markdown",
   "metadata": {},
   "source": [
    "**Exercise 5.6 (🌶️🌶️):** A prime number is a positive integer that is dividable by exactly two different numbers, namely 1 and itself. The lowest (and only even) prime number is 2. The first 10 prime numbers are 2, 3, 5, 7, 11, 13, 17, 19, 23, and 29. Write a function that returns a **list off all prime numbers** below a given number.\n",
    "\n",
    "Hint: In a loop where you test the possible dividers of the number, you can conclude that the number is not prime as soon as you encounter a number other than 1 or the number itself that divides it. However, you can *only* conclude that it actually *is* prime after you have tested all possible dividers.\n",
    "\n",
    "**What is the challenge here? You have to try to optimize your code and try to make it work for the highest prime number you can encounter before you run out of memory. For low numbers you should know how to do it already**"
   ]
  },
  {
   "cell_type": "code",
   "execution_count": 1,
   "metadata": {},
   "outputs": [
    {
     "name": "stdout",
     "output_type": "stream",
     "text": [
      "list of all prime numbers:\n",
      "2\n",
      "3\n",
      "5\n",
      "7\n",
      "11\n",
      "13\n",
      "17\n",
      "19\n",
      "23\n",
      "29\n"
     ]
    }
   ],
   "source": [
    "\n",
    "print(\"list of all prime numbers:\")\n",
    "\n",
    "for num in range(2, 30):\n",
    "  # 1 is not the prime number, so we start from the 2\n",
    "\n",
    "  for i in range(2, num):\n",
    "\n",
    "    # take num as 3 % 2 , 3 is not divisiable by 2, so it is the prime number\n",
    "    # we can check all the loop like 4 % 2, 4 is divisiable by 2, so it is not the prime number\n",
    "    \n",
    "    if num % i == 0:\n",
    "      break\n",
    "  else:\n",
    "    print(num)"
   ]
  },
  {
   "cell_type": "markdown",
   "metadata": {},
   "source": [
    "**Exercise 5.7 (🌶️🌶️):** Write a function that prints all integers between the parameters `a` and `b` that can be written as the sum of two squares. Produce output in the form of `z = x**2 + y**2`, e.g., `58 = 3**2 + 7**2`. If a number occurs on the list with multiple *different* ways of writing it as the sum of two squares, that is acceptable. "
   ]
  },
  {
   "cell_type": "code",
   "execution_count": 65,
   "metadata": {},
   "outputs": [
    {
     "name": "stdout",
     "output_type": "stream",
     "text": [
      "4 = 2 **2 +  0 **2\n",
      "5 = 2 **2 +  1 **2\n",
      "8 = 2 **2 +  2 **2\n"
     ]
    }
   ],
   "source": [
    "#Your Code Here\n",
    "import math\n",
    "import numpy as np\n",
    "def sum_squares(a, b):\n",
    "    \"\"\"\n",
    "    2 = 1**2 + 1**2\n",
    "    4 = 0**2 + 2**2\n",
    "    4 = 2**2 + 0**2\n",
    "    5 = 1**2 + 2**2\n",
    "    5 = 2**2 + 1**2\n",
    "    8 = 2**2 + 2**2\n",
    "    9 = 0**2 + 3**2\n",
    "    9 = 3**2 + 0**2\n",
    "    \"\"\"\n",
    "    x = b**0.5\n",
    "    x = math.floor(x)\n",
    "    \n",
    "    for i in range(0,x):\n",
    "        for j in range(0,x):\n",
    "            y = (i**2) + (j**2)\n",
    "            if y <= 1:\n",
    "               break \n",
    "            if y > a and y < b:\n",
    "                print(int(y),\"=\",int(i),\"**2 + \",int(j),\"**2\")\n",
    "\n",
    "sum_squares(0,9)"
   ]
  }
 ],
 "metadata": {
  "kernelspec": {
   "display_name": "Python 3",
   "language": "python",
   "name": "python3"
  },
  "language_info": {
   "codemirror_mode": {
    "name": "ipython",
    "version": 3
   },
   "file_extension": ".py",
   "mimetype": "text/x-python",
   "name": "python",
   "nbconvert_exporter": "python",
   "pygments_lexer": "ipython3",
   "version": "3.8.12"
  }
 },
 "nbformat": 4,
 "nbformat_minor": 4
}
