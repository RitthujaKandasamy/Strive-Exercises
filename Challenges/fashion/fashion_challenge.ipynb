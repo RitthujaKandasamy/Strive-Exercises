{
 "cells": [
  {
   "cell_type": "code",
   "execution_count": 1,
   "metadata": {},
   "outputs": [],
   "source": [
    "import torch\n",
    "from torch import nn\n",
    "import torch.nn.functional as F\n",
    "from torchvision import datasets, transforms\n",
    "import torch.optim as optim\n",
    "import matplotlib.pyplot as plt\n",
    "import numpy as np"
   ]
  },
  {
   "cell_type": "markdown",
   "metadata": {},
   "source": [
    "### Data handler"
   ]
  },
  {
   "cell_type": "code",
   "execution_count": 2,
   "metadata": {},
   "outputs": [
    {
     "data": {
      "text/plain": [
       "<AxesSubplot:>"
      ]
     },
     "execution_count": 2,
     "metadata": {},
     "output_type": "execute_result"
    },
    {
     "data": {
      "image/png": "[encoded data removed]",
      "text/plain": [
       "<Figure size 432x288 with 1 Axes>"
      ]
     },
     "metadata": {
      "needs_background": "light"
     },
     "output_type": "display_data"
    }
   ],
   "source": [
    "# Define a transformation to normalize the dataset\n",
    "transform = transforms.Compose([\n",
    "                                transforms.ToTensor(),\n",
    "                                transforms.Normalize((0.5), (0.5))\n",
    "                                ])\n",
    "                                \n",
    "\n",
    "# Download and load the training data\n",
    "trainset = datasets.FashionMNIST(\"~/.pytorch/F_MNIST_data/\", download=True, train=True, transform = transform)\n",
    "trainloader = torch.utils.data.DataLoader(trainset, batch_size=64, shuffle=True)\n",
    "\n",
    "# Download and load the test data\n",
    "testset = datasets.FashionMNIST(\"~/.pytorch/F_MNIST_data/\", download=True, train=False, transform = transform)\n",
    "testloader = torch.utils.data.DataLoader(testset, batch_size=64, shuffle=True)\n",
    "\n",
    "\n",
    "\n",
    "# Creating a function to visualize the dataset\n",
    "def imshow(image, ax=None, title=None, normalize=True):\n",
    "  \"\"\"Imshow for Tensor.\"\"\"\n",
    "  if ax is None:\n",
    "      fig, ax = plt.subplots()\n",
    "  image = image.numpy().transpose((1, 2, 0))\n",
    "   \n",
    "  if normalize:\n",
    "      mean = np.array([0.485, 0.456, 0.406])\n",
    "      std = np.array([0.229, 0.224, 0.225])\n",
    "      image = std * image + mean\n",
    "      image = np.clip(image, 0, 1)\n",
    "\n",
    "  ax.imshow(image)\n",
    "  ax.spines['top'].set_visible(False)\n",
    "  ax.spines['right'].set_visible(False)\n",
    "  ax.spines['left'].set_visible(False)\n",
    "  ax.spines['bottom'].set_visible(False)\n",
    "  ax.tick_params(axis='both', length=0)\n",
    "  ax.set_xticklabels('')\n",
    "  ax.set_yticklabels('')\n",
    "\n",
    "  return ax\n",
    "\n",
    "image, label = next(iter(trainloader))\n",
    "imshow(image[0,:])"
   ]
  },
  {
   "cell_type": "code",
   "execution_count": 3,
   "metadata": {},
   "outputs": [],
   "source": [
    "dataiter = iter(trainloader)\n",
    "images, labels = dataiter.next()"
   ]
  },
  {
   "cell_type": "code",
   "execution_count": 4,
   "metadata": {},
   "outputs": [
    {
     "data": {
      "text/plain": [
       "<torch.utils.data.dataloader._SingleProcessDataLoaderIter at 0x1a1921ef3d0>"
      ]
     },
     "execution_count": 4,
     "metadata": {},
     "output_type": "execute_result"
    }
   ],
   "source": [
    "dataiter"
   ]
  },
  {
   "cell_type": "code",
   "execution_count": 5,
   "metadata": {},
   "outputs": [
    {
     "data": {
      "text/plain": [
       "tensor([8, 4, 5, 9, 9, 0, 2, 4, 4, 6, 4, 5, 1, 0, 9, 8, 9, 4, 6, 2, 9, 6, 0, 7,\n",
       "        1, 4, 8, 4, 0, 0, 1, 7, 7, 4, 8, 2, 6, 8, 2, 6, 7, 8, 2, 1, 3, 2, 6, 3,\n",
       "        1, 7, 5, 9, 6, 1, 0, 1, 6, 9, 4, 2, 1, 8, 7, 8])"
      ]
     },
     "execution_count": 5,
     "metadata": {},
     "output_type": "execute_result"
    }
   ],
   "source": [
    "label"
   ]
  },
  {
   "cell_type": "code",
   "execution_count": 6,
   "metadata": {},
   "outputs": [
    {
     "data": {
      "text/plain": [
       "<matplotlib.image.AxesImage at 0x1a19234a9a0>"
      ]
     },
     "execution_count": 6,
     "metadata": {},
     "output_type": "execute_result"
    },
    {
     "data": {
      "image/png": "[encoded data removed]",
      "text/plain": [
       "<Figure size 432x288 with 1 Axes>"
      ]
     },
     "metadata": {
      "needs_background": "light"
     },
     "output_type": "display_data"
    }
   ],
   "source": [
    "plt.imshow(images[63].numpy().squeeze(), cmap='Greys_r')"
   ]
  },
  {
   "cell_type": "markdown",
   "metadata": {},
   "source": [
    "### Model"
   ]
  },
  {
   "cell_type": "code",
   "execution_count": 11,
   "metadata": {},
   "outputs": [],
   "source": [
    "class Network(nn.Module):\n",
    "    def __init__(self):\n",
    "        super().__init__()\n",
    "        self.fc1 = nn.Linear(784, 656)\n",
    "        self.fc2 = nn.Linear(656, 542)\n",
    "        self.fc3 = nn.Linear(542, 432)\n",
    "        self.fc4 = nn.Linear(432, 378)\n",
    "        self.fc5 = nn.Linear(378, 246)\n",
    "        self.fc6 = nn.Linear(246, 128)\n",
    "        self.fc7 = nn.Linear(128, 64)\n",
    "        self.fc8 = nn.Linear(64, 10)\n",
    "        \n",
    "        # Dropout module with a 0.2 drop probability \n",
    "        self.dropout = nn.Dropout(p=0.2)\n",
    "        \n",
    "    def forward(self, x):\n",
    "        # Flatten the input tensor\n",
    "        x = x.view(x.shape[0], -1)    \n",
    "        # Set the activation functions\n",
    "        layer1 = self.dropout(F.relu(self.fc1(x)))\n",
    "        layer2 = self.dropout(F.relu(self.fc2(layer1)))\n",
    "        layer3 = self.dropout(F.relu(self.fc3(layer2)))\n",
    "        layer4 = self.dropout(F.relu(self.fc4(layer3)))\n",
    "        layer5 = self.dropout(F.relu(self.fc5(layer4)))\n",
    "        layer6 = self.dropout(F.relu(self.fc6(layer5)))\n",
    "        layer7 = self.dropout(F.relu(self.fc7(layer6)))\n",
    "        out = F.log_softmax(self.fc8(layer7), dim=1)\n",
    "    \n",
    "        return out\n",
    "    \n",
    "model = Network()\n",
    "criterion = nn.NLLLoss()\n",
    "optimizer = optim.Adam(model.parameters(), lr = 0.001)"
   ]
  },
  {
   "cell_type": "markdown",
   "metadata": {},
   "source": [
    "### Forward pass"
   ]
  },
  {
   "cell_type": "code",
   "execution_count": 12,
   "metadata": {},
   "outputs": [],
   "source": [
    "def view_classify(img, ps):\n",
    "\n",
    "    ps = ps.data.numpy().squeeze()\n",
    "\n",
    "    fig, (ax1, ax2) = plt.subplots(figsize =(6, 9), ncols =2)\n",
    "    ax1.imshow(img.resize_(1, 28, 28).numpy().squeeze())\n",
    "    ax1.axis('off')\n",
    "    ax2.barh(np.arange(10), ps)\n",
    "    ax2.set_aspect(0.1)\n",
    "    ax2.set_yticks(np.arange(10))\n",
    "    ax2.set_yticklabels(np.arange(10))\n",
    "    ax2.set_title('Class Probability')\n",
    "    ax2.set_xlim(0, 1.1)"
   ]
  },
  {
   "cell_type": "code",
   "execution_count": 13,
   "metadata": {},
   "outputs": [
    {
     "data": {
      "image/png": "[encoded data removed]",
      "text/plain": [
       "<Figure size 432x648 with 2 Axes>"
      ]
     },
     "metadata": {
      "needs_background": "light"
     },
     "output_type": "display_data"
    }
   ],
   "source": [
    "# Grab some data \n",
    "dataiter = iter(trainloader)\n",
    "images, labels = dataiter.next()\n",
    "\n",
    "# Resize images into a 1D vector, new shape is (batch size, color channels, image pixels) \n",
    "images.resize_(64, 1, 784)\n",
    "# or images.resize_(images.shape[0], 1, 784) to not automatically get batch size\n",
    "\n",
    "# Forward pass through the network\n",
    "img_idx = 0\n",
    "ps = model.forward(images[img_idx,:])                          # ps is probablity\n",
    "\n",
    "img = images[img_idx]\n",
    "view_classify(img.view(1, 28, 28), ps)"
   ]
  },
  {
   "cell_type": "markdown",
   "metadata": {},
   "source": [
    "### Training the network"
   ]
  },
  {
   "cell_type": "code",
   "execution_count": 14,
   "metadata": {},
   "outputs": [
    {
     "name": "stdout",
     "output_type": "stream",
     "text": [
      "Epoch: 1/100..  Training Loss 0.012..  Test Loss 0.009..  Test Accuracy 79.89%\n",
      "Epoch: 2/100..  Training Loss 0.008..  Test Loss 0.008..  Test Accuracy 82.40%\n",
      "Epoch: 3/100..  Training Loss 0.007..  Test Loss 0.007..  Test Accuracy 84.81%\n",
      "Epoch: 4/100..  Training Loss 0.007..  Test Loss 0.007..  Test Accuracy 84.42%\n",
      "Epoch: 5/100..  Training Loss 0.006..  Test Loss 0.006..  Test Accuracy 85.22%\n",
      "Epoch: 6/100..  Training Loss 0.006..  Test Loss 0.007..  Test Accuracy 85.62%\n",
      "Epoch: 7/100..  Training Loss 0.006..  Test Loss 0.006..  Test Accuracy 85.71%\n",
      "Epoch: 8/100..  Training Loss 0.006..  Test Loss 0.006..  Test Accuracy 86.91%\n",
      "Epoch: 9/100..  Training Loss 0.006..  Test Loss 0.006..  Test Accuracy 87.18%\n",
      "Epoch: 10/100..  Training Loss 0.006..  Test Loss 0.006..  Test Accuracy 86.84%\n",
      "Epoch: 11/100..  Training Loss 0.005..  Test Loss 0.006..  Test Accuracy 87.78%\n",
      "Epoch: 12/100..  Training Loss 0.005..  Test Loss 0.006..  Test Accuracy 87.19%\n",
      "Epoch: 13/100..  Training Loss 0.005..  Test Loss 0.006..  Test Accuracy 87.71%\n",
      "Epoch: 14/100..  Training Loss 0.005..  Test Loss 0.006..  Test Accuracy 87.33%\n",
      "Epoch: 15/100..  Training Loss 0.005..  Test Loss 0.006..  Test Accuracy 87.29%\n",
      "Epoch: 16/100..  Training Loss 0.005..  Test Loss 0.006..  Test Accuracy 87.76%\n",
      "Epoch: 17/100..  Training Loss 0.005..  Test Loss 0.006..  Test Accuracy 87.84%\n",
      "Epoch: 18/100..  Training Loss 0.005..  Test Loss 0.006..  Test Accuracy 87.64%\n",
      "Epoch: 19/100..  Training Loss 0.005..  Test Loss 0.006..  Test Accuracy 87.56%\n",
      "Epoch: 20/100..  Training Loss 0.005..  Test Loss 0.006..  Test Accuracy 87.90%\n",
      "Epoch: 21/100..  Training Loss 0.005..  Test Loss 0.005..  Test Accuracy 87.97%\n",
      "Epoch: 22/100..  Training Loss 0.005..  Test Loss 0.006..  Test Accuracy 88.38%\n",
      "Epoch: 23/100..  Training Loss 0.005..  Test Loss 0.006..  Test Accuracy 88.02%\n",
      "Epoch: 24/100..  Training Loss 0.005..  Test Loss 0.005..  Test Accuracy 88.35%\n",
      "Epoch: 25/100..  Training Loss 0.005..  Test Loss 0.006..  Test Accuracy 88.52%\n",
      "Epoch: 26/100..  Training Loss 0.005..  Test Loss 0.005..  Test Accuracy 88.52%\n",
      "Epoch: 27/100..  Training Loss 0.005..  Test Loss 0.006..  Test Accuracy 88.01%\n",
      "Epoch: 28/100..  Training Loss 0.005..  Test Loss 0.006..  Test Accuracy 88.34%\n",
      "Epoch: 29/100..  Training Loss 0.005..  Test Loss 0.005..  Test Accuracy 88.61%\n",
      "Epoch: 30/100..  Training Loss 0.005..  Test Loss 0.006..  Test Accuracy 88.16%\n",
      "Epoch: 31/100..  Training Loss 0.004..  Test Loss 0.005..  Test Accuracy 88.16%\n",
      "Epoch: 32/100..  Training Loss 0.004..  Test Loss 0.006..  Test Accuracy 88.92%\n",
      "Epoch: 33/100..  Training Loss 0.004..  Test Loss 0.006..  Test Accuracy 88.01%\n",
      "Epoch: 34/100..  Training Loss 0.004..  Test Loss 0.006..  Test Accuracy 88.25%\n",
      "Epoch: 35/100..  Training Loss 0.004..  Test Loss 0.005..  Test Accuracy 88.92%\n",
      "Epoch: 36/100..  Training Loss 0.004..  Test Loss 0.006..  Test Accuracy 88.48%\n",
      "Epoch: 37/100..  Training Loss 0.004..  Test Loss 0.005..  Test Accuracy 88.43%\n",
      "Epoch: 38/100..  Training Loss 0.004..  Test Loss 0.006..  Test Accuracy 88.51%\n",
      "Epoch: 39/100..  Training Loss 0.004..  Test Loss 0.006..  Test Accuracy 88.06%\n",
      "Epoch: 40/100..  Training Loss 0.004..  Test Loss 0.006..  Test Accuracy 87.78%\n",
      "Epoch: 41/100..  Training Loss 0.004..  Test Loss 0.006..  Test Accuracy 87.87%\n",
      "Epoch: 42/100..  Training Loss 0.004..  Test Loss 0.005..  Test Accuracy 88.45%\n",
      "Epoch: 43/100..  Training Loss 0.004..  Test Loss 0.006..  Test Accuracy 89.10%\n",
      "Epoch: 44/100..  Training Loss 0.004..  Test Loss 0.006..  Test Accuracy 88.31%\n",
      "Epoch: 45/100..  Training Loss 0.004..  Test Loss 0.006..  Test Accuracy 88.52%\n",
      "Epoch: 46/100..  Training Loss 0.004..  Test Loss 0.005..  Test Accuracy 88.89%\n",
      "Epoch: 47/100..  Training Loss 0.004..  Test Loss 0.005..  Test Accuracy 88.95%\n",
      "Epoch: 48/100..  Training Loss 0.004..  Test Loss 0.006..  Test Accuracy 88.39%\n",
      "Epoch: 49/100..  Training Loss 0.004..  Test Loss 0.006..  Test Accuracy 87.88%\n",
      "Epoch: 50/100..  Training Loss 0.004..  Test Loss 0.006..  Test Accuracy 88.18%\n",
      "Epoch: 51/100..  Training Loss 0.004..  Test Loss 0.006..  Test Accuracy 88.75%\n",
      "Epoch: 52/100..  Training Loss 0.004..  Test Loss 0.005..  Test Accuracy 88.71%\n",
      "Epoch: 53/100..  Training Loss 0.004..  Test Loss 0.006..  Test Accuracy 87.58%\n",
      "Epoch: 54/100..  Training Loss 0.004..  Test Loss 0.006..  Test Accuracy 88.49%\n",
      "Epoch: 55/100..  Training Loss 0.004..  Test Loss 0.006..  Test Accuracy 88.94%\n",
      "Epoch: 56/100..  Training Loss 0.004..  Test Loss 0.006..  Test Accuracy 89.23%\n",
      "Epoch: 57/100..  Training Loss 0.004..  Test Loss 0.005..  Test Accuracy 89.02%\n",
      "Epoch: 58/100..  Training Loss 0.004..  Test Loss 0.006..  Test Accuracy 88.52%\n",
      "Epoch: 59/100..  Training Loss 0.004..  Test Loss 0.006..  Test Accuracy 87.38%\n",
      "Epoch: 60/100..  Training Loss 0.004..  Test Loss 0.006..  Test Accuracy 88.68%\n",
      "Epoch: 61/100..  Training Loss 0.004..  Test Loss 0.006..  Test Accuracy 88.78%\n",
      "Epoch: 62/100..  Training Loss 0.004..  Test Loss 0.006..  Test Accuracy 88.85%\n",
      "Epoch: 63/100..  Training Loss 0.004..  Test Loss 0.006..  Test Accuracy 89.15%\n",
      "Epoch: 64/100..  Training Loss 0.004..  Test Loss 0.006..  Test Accuracy 88.79%\n",
      "Epoch: 65/100..  Training Loss 0.004..  Test Loss 0.006..  Test Accuracy 88.79%\n",
      "Epoch: 66/100..  Training Loss 0.004..  Test Loss 0.005..  Test Accuracy 89.49%\n",
      "Epoch: 67/100..  Training Loss 0.004..  Test Loss 0.006..  Test Accuracy 88.97%\n"
     ]
    }
   ],
   "source": [
    "num_epochs = 100\n",
    "train_losses, test_losses, test_accuracies = [], [], []\n",
    "\n",
    "\n",
    "for epoch in range(num_epochs):\n",
    "    train_running_loss = 0 \n",
    "\n",
    "    for images, labels in trainloader:\n",
    "        output = model.forward(images)\n",
    "        loss = criterion(output, labels)\n",
    "        optimizer.zero_grad()\n",
    "        loss.backward()\n",
    "        optimizer.step()\n",
    "        \n",
    "        train_running_loss += loss.item()\n",
    "\n",
    "    # Get mean loss \n",
    "    train_loss = train_running_loss/ len(trainloader.dataset)\n",
    "    train_losses.append(train_loss)\n",
    "\n",
    "\n",
    "    # validation    \n",
    "    model.eval()\n",
    "\n",
    "    # Turn off gradients for validation to save memory and speed up computations\n",
    "    with torch.no_grad():\n",
    "        test_running_loss = 0\n",
    "        acc = 0\n",
    "\n",
    "        for images, labels in testloader:\n",
    "            testoutput = model.forward(images)\n",
    "            testloss = criterion(testoutput, labels)\n",
    "            test_running_loss += testloss.item()\n",
    "\n",
    "            ps = torch.exp(testoutput)\n",
    "            top_p, top_class = ps.topk(1, dim=1)                        # top_p = probability, top_class = index\n",
    "            equals = top_class == labels.view(*top_class.shape)\n",
    "            acc += equals.sum().item()\n",
    "        \n",
    "        # Get mean loss \n",
    "        test_loss = test_running_loss / len(testloader.dataset)\n",
    "        test_losses.append(test_loss)\n",
    "\n",
    "        # test accuracy\n",
    "        test_accuracies.append(acc / len(testloader.dataset))\n",
    "\n",
    "\n",
    "        print(\"Epoch: {}/{}.. \".format(epoch+1, num_epochs),\n",
    "            \"Training Loss {:.3f}.. \".format(train_loss),\n",
    "            \"Test Loss {:.3f}.. \".format(test_loss),\n",
    "            \"Test Accuracy {:.2f}%\".format(test_accuracies[-1]*100))\n",
    "\n",
    "            \n",
    "    model.train()\n",
    "    \n",
    "    \n",
    "\n",
    "# Plots\n",
    "plt.figure(figsize=(10, 8))\n",
    "plt.plot(train_losses, marker='o', label='train')\n",
    "plt.plot(test_losses, marker='o', label='test')\n",
    "plt.plot(test_accuracies, marker='o', label='test_acc')\n",
    "plt.legend()\n",
    "\n",
    "plt.savefig('./learning_curve1.png', dpi = 200)\n",
    "plt.show()"
   ]
  },
  {
   "cell_type": "markdown",
   "metadata": {},
   "source": [
    "### Save and Load"
   ]
  },
  {
   "cell_type": "code",
   "execution_count": null,
   "metadata": {},
   "outputs": [],
   "source": [
    "torch.save(model.state_dict(), 'checkpoint1.pth')"
   ]
  },
  {
   "cell_type": "code",
   "execution_count": null,
   "metadata": {},
   "outputs": [],
   "source": [
    "state_dict = torch.load('checkpoint1.pth')\n",
    "print(state_dict.keys())"
   ]
  },
  {
   "cell_type": "markdown",
   "metadata": {},
   "source": [
    "### Testing"
   ]
  },
  {
   "cell_type": "code",
   "execution_count": null,
   "metadata": {},
   "outputs": [],
   "source": []
  }
 ],
 "metadata": {
  "kernelspec": {
   "display_name": "Python 3.8.13 ('deep')",
   "language": "python",
   "name": "python3"
  },
  "language_info": {
   "codemirror_mode": {
    "name": "ipython",
    "version": 3
   },
   "file_extension": ".py",
   "mimetype": "text/x-python",
   "name": "python",
   "nbconvert_exporter": "python",
   "pygments_lexer": "ipython3",
   "version": "3.8.13"
  },
  "orig_nbformat": 4,
  "vscode": {
   "interpreter": {
    "hash": "8abb0779bf248a90442b2ba375cb2dc444ddbc86bf34dd34983763988490020e"
   }
  }
 },
 "nbformat": 4,
 "nbformat_minor": 2
}
