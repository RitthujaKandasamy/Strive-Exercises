{
 "cells": [
  {
   "cell_type": "code",
   "execution_count": 1,
   "metadata": {},
   "outputs": [],
   "source": [
    "import torch\n",
    "from torch import nn\n",
    "import torch.nn.functional as F\n",
    "from torchvision import datasets, transforms\n",
    "import torch.optim as optim\n",
    "import matplotlib.pyplot as plt\n",
    "import numpy as np"
   ]
  },
  {
   "cell_type": "markdown",
   "metadata": {},
   "source": [
    "### Data handler"
   ]
  },
  {
   "cell_type": "code",
   "execution_count": 2,
   "metadata": {},
   "outputs": [
    {
     "data": {
      "text/plain": [
       "<AxesSubplot:>"
      ]
     },
     "execution_count": 2,
     "metadata": {},
     "output_type": "execute_result"
    },
    {
     "data": {
      "image/png": "[encoded data removed]",
      "text/plain": [
       "<Figure size 432x288 with 1 Axes>"
      ]
     },
     "metadata": {
      "needs_background": "light"
     },
     "output_type": "display_data"
    }
   ],
   "source": [
    "# Define a transformation to normalize the dataset\n",
    "transform = transforms.Compose([\n",
    "                                transforms.ToTensor(),\n",
    "                                transforms.Normalize((0.5), (0.5))\n",
    "                                ])\n",
    "                                \n",
    "\n",
    "# Download and load the training data\n",
    "trainset = datasets.FashionMNIST(\"~/.pytorch/F_MNIST_data/\", download=True, train=True, transform = transform)\n",
    "trainloader = torch.utils.data.DataLoader(trainset, batch_size=64, shuffle=True)\n",
    "\n",
    "# Download and load the test data\n",
    "testset = datasets.FashionMNIST(\"~/.pytorch/F_MNIST_data/\", download=True, train=False, transform = transform)\n",
    "testloader = torch.utils.data.DataLoader(testset, batch_size=64, shuffle=True)\n",
    "\n",
    "\n",
    "\n",
    "# Creating a function to visualize the dataset\n",
    "def imshow(image, ax=None, title=None, normalize=True):\n",
    "  \"\"\"Imshow for Tensor.\"\"\"\n",
    "  if ax is None:\n",
    "      fig, ax = plt.subplots()\n",
    "  image = image.numpy().transpose((1, 2, 0))\n",
    "   \n",
    "  if normalize:\n",
    "      mean = np.array([0.485, 0.456, 0.406])\n",
    "      std = np.array([0.229, 0.224, 0.225])\n",
    "      image = std * image + mean\n",
    "      image = np.clip(image, 0, 1)\n",
    "\n",
    "  ax.imshow(image)\n",
    "  ax.spines['top'].set_visible(False)\n",
    "  ax.spines['right'].set_visible(False)\n",
    "  ax.spines['left'].set_visible(False)\n",
    "  ax.spines['bottom'].set_visible(False)\n",
    "  ax.tick_params(axis='both', length=0)\n",
    "  ax.set_xticklabels('')\n",
    "  ax.set_yticklabels('')\n",
    "\n",
    "  return ax\n",
    "\n",
    "image, label = next(iter(trainloader))\n",
    "imshow(image[0,:])"
   ]
  },
  {
   "cell_type": "code",
   "execution_count": 3,
   "metadata": {},
   "outputs": [],
   "source": [
    "dataiter = iter(trainloader)\n",
    "images, labels = dataiter.next()"
   ]
  },
  {
   "cell_type": "code",
   "execution_count": 4,
   "metadata": {},
   "outputs": [
    {
     "data": {
      "text/plain": [
       "<torch.utils.data.dataloader._SingleProcessDataLoaderIter at 0x2505fe5a280>"
      ]
     },
     "execution_count": 4,
     "metadata": {},
     "output_type": "execute_result"
    }
   ],
   "source": [
    "dataiter"
   ]
  },
  {
   "cell_type": "code",
   "execution_count": 5,
   "metadata": {},
   "outputs": [
    {
     "data": {
      "text/plain": [
       "tensor([1, 7, 8, 7, 4, 7, 6, 9, 2, 8, 0, 7, 7, 1, 7, 9, 7, 2, 8, 1, 9, 7, 0, 8,\n",
       "        5, 6, 7, 6, 0, 1, 3, 8, 5, 0, 8, 7, 6, 5, 1, 1, 3, 9, 7, 2, 2, 1, 7, 4,\n",
       "        7, 6, 3, 9, 6, 3, 5, 4, 9, 3, 8, 2, 6, 0, 1, 3])"
      ]
     },
     "execution_count": 5,
     "metadata": {},
     "output_type": "execute_result"
    }
   ],
   "source": [
    "label"
   ]
  },
  {
   "cell_type": "code",
   "execution_count": 6,
   "metadata": {},
   "outputs": [
    {
     "data": {
      "text/plain": [
       "<matplotlib.image.AxesImage at 0x2505ffbb880>"
      ]
     },
     "execution_count": 6,
     "metadata": {},
     "output_type": "execute_result"
    },
    {
     "data": {
      "image/png": "[encoded data removed]",
      "text/plain": [
       "<Figure size 432x288 with 1 Axes>"
      ]
     },
     "metadata": {
      "needs_background": "light"
     },
     "output_type": "display_data"
    }
   ],
   "source": [
    "plt.imshow(images[63].numpy().squeeze(), cmap='Greys_r')"
   ]
  },
  {
   "cell_type": "markdown",
   "metadata": {},
   "source": [
    "### Model"
   ]
  },
  {
   "cell_type": "code",
   "execution_count": 7,
   "metadata": {},
   "outputs": [],
   "source": [
    "class Network(nn.Module):\n",
    "    def __init__(self):\n",
    "        super().__init__()\n",
    "        self.fc1 = nn.Linear(784, 256)\n",
    "        self.fc2 = nn.Linear(256, 128)\n",
    "        self.fc3 = nn.Linear(128, 64)\n",
    "        self.fc4 = nn.Linear(64, 10)\n",
    "        \n",
    "        # Dropout module with a 0.2 drop probability \n",
    "        self.dropout = nn.Dropout(p=0.2)\n",
    "        \n",
    "    def forward(self, x):\n",
    "        # Flatten the input tensor\n",
    "        x = x.view(x.shape[0], -1)    \n",
    "        # Set the activation functions\n",
    "        layer1 = self.dropout(F.relu(self.fc1(x)))\n",
    "        layer2 = self.dropout(F.relu(self.fc2(layer1)))\n",
    "        layer3 = self.dropout(F.relu(self.fc3(layer2)))\n",
    "        out = F.log_softmax(self.fc4(layer3), dim=1)\n",
    "    \n",
    "        return out\n",
    "    \n",
    "model = Network()\n",
    "criterion = nn.NLLLoss()\n",
    "optimizer = optim.Adam(model.parameters(), lr = 0.003)"
   ]
  },
  {
   "cell_type": "markdown",
   "metadata": {},
   "source": [
    "### Forward pass"
   ]
  },
  {
   "cell_type": "code",
   "execution_count": 8,
   "metadata": {},
   "outputs": [],
   "source": [
    "def view_classify(img, ps):\n",
    "\n",
    "    ps = ps.data.numpy().squeeze()\n",
    "\n",
    "    fig, (ax1, ax2) = plt.subplots(figsize =(6, 9), ncols =2)\n",
    "    ax1.imshow(img.resize_(1, 28, 28).numpy().squeeze())\n",
    "    ax1.axis('off')\n",
    "    ax2.barh(np.arange(10), ps)\n",
    "    ax2.set_aspect(0.1)\n",
    "    ax2.set_yticks(np.arange(10))\n",
    "    ax2.set_yticklabels(np.arange(10))\n",
    "    ax2.set_title('Class Probability')\n",
    "    ax2.set_xlim(0, 1.1)"
   ]
  },
  {
   "cell_type": "code",
   "execution_count": 9,
   "metadata": {},
   "outputs": [
    {
     "data": {
      "image/png": "[encoded data removed]",
      "text/plain": [
       "<Figure size 432x648 with 2 Axes>"
      ]
     },
     "metadata": {
      "needs_background": "light"
     },
     "output_type": "display_data"
    }
   ],
   "source": [
    "# Grab some data \n",
    "dataiter = iter(trainloader)\n",
    "images, labels = dataiter.next()\n",
    "\n",
    "# Resize images into a 1D vector, new shape is (batch size, color channels, image pixels) \n",
    "images.resize_(64, 1, 784)\n",
    "# or images.resize_(images.shape[0], 1, 784) to not automatically get batch size\n",
    "\n",
    "# Forward pass through the network\n",
    "img_idx = 0\n",
    "ps = model.forward(images[img_idx,:])                          # ps is probablity\n",
    "\n",
    "img = images[img_idx]\n",
    "view_classify(img.view(1, 28, 28), ps)"
   ]
  },
  {
   "cell_type": "markdown",
   "metadata": {},
   "source": [
    "### Training the network"
   ]
  },
  {
   "cell_type": "code",
   "execution_count": 10,
   "metadata": {},
   "outputs": [
    {
     "name": "stdout",
     "output_type": "stream",
     "text": [
      "Epoch: 1/100..  Training Loss 0.009..  Test Loss 0.007..  Test Accuracy 84.18%\n",
      "Epoch: 2/100..  Training Loss 0.008..  Test Loss 0.007..  Test Accuracy 84.51%\n",
      "Epoch: 3/100..  Training Loss 0.007..  Test Loss 0.007..  Test Accuracy 84.76%\n",
      "Epoch: 4/100..  Training Loss 0.007..  Test Loss 0.007..  Test Accuracy 85.34%\n",
      "Epoch: 5/100..  Training Loss 0.007..  Test Loss 0.006..  Test Accuracy 85.39%\n",
      "Epoch: 6/100..  Training Loss 0.006..  Test Loss 0.006..  Test Accuracy 86.54%\n",
      "Epoch: 7/100..  Training Loss 0.006..  Test Loss 0.006..  Test Accuracy 86.64%\n",
      "Epoch: 8/100..  Training Loss 0.006..  Test Loss 0.006..  Test Accuracy 85.83%\n",
      "Epoch: 9/100..  Training Loss 0.006..  Test Loss 0.006..  Test Accuracy 86.47%\n",
      "Epoch: 10/100..  Training Loss 0.006..  Test Loss 0.006..  Test Accuracy 85.34%\n",
      "Epoch: 11/100..  Training Loss 0.006..  Test Loss 0.006..  Test Accuracy 86.66%\n",
      "Epoch: 12/100..  Training Loss 0.006..  Test Loss 0.006..  Test Accuracy 85.86%\n",
      "Epoch: 13/100..  Training Loss 0.006..  Test Loss 0.006..  Test Accuracy 86.21%\n",
      "Epoch: 14/100..  Training Loss 0.006..  Test Loss 0.006..  Test Accuracy 86.20%\n",
      "Epoch: 15/100..  Training Loss 0.006..  Test Loss 0.006..  Test Accuracy 86.66%\n",
      "Epoch: 16/100..  Training Loss 0.006..  Test Loss 0.006..  Test Accuracy 85.77%\n",
      "Epoch: 17/100..  Training Loss 0.006..  Test Loss 0.006..  Test Accuracy 86.96%\n",
      "Epoch: 18/100..  Training Loss 0.006..  Test Loss 0.006..  Test Accuracy 87.18%\n"
     ]
    }
   ],
   "source": [
    "num_epochs = 100\n",
    "train_losses, test_losses, test_accuracies = [], [], []\n",
    "\n",
    "\n",
    "for epoch in range(num_epochs):\n",
    "    train_running_loss = 0 \n",
    "\n",
    "    for images, labels in trainloader:\n",
    "        output = model.forward(images)\n",
    "        loss = criterion(output, labels)\n",
    "        optimizer.zero_grad()\n",
    "        loss.backward()\n",
    "        optimizer.step()\n",
    "        \n",
    "        train_running_loss += loss.item()\n",
    "\n",
    "    # Get mean loss \n",
    "    train_loss = train_running_loss/ len(trainloader.dataset)\n",
    "    train_losses.append(train_loss)\n",
    "\n",
    "\n",
    "    # validation    \n",
    "    model.eval()\n",
    "\n",
    "    # Turn off gradients for validation to save memory and speed up computations\n",
    "    with torch.no_grad():\n",
    "        test_running_loss = 0\n",
    "        acc = 0\n",
    "\n",
    "        for images, labels in testloader:\n",
    "            testoutput = model.forward(images)\n",
    "            testloss = criterion(testoutput, labels)\n",
    "            test_running_loss += testloss.item()\n",
    "\n",
    "            ps = torch.exp(testoutput)\n",
    "            top_p, top_class = ps.topk(1, dim=1)                        # top_p = probability, top_class = index\n",
    "            equals = top_class == labels.view(*top_class.shape)\n",
    "            acc += equals.sum().item()\n",
    "        \n",
    "        # Get mean loss \n",
    "        test_loss = test_running_loss / len(testloader.dataset)\n",
    "        test_losses.append(test_loss)\n",
    "\n",
    "        # test accuracy\n",
    "        test_accuracies.append(acc / len(testloader.dataset))\n",
    "\n",
    "\n",
    "        print(\"Epoch: {}/{}.. \".format(epoch+1, num_epochs),\n",
    "            \"Training Loss {:.3f}.. \".format(train_loss),\n",
    "            \"Test Loss {:.3f}.. \".format(test_loss),\n",
    "            \"Test Accuracy {:.2f}%\".format(test_accuracies[-1]*100))\n",
    "\n",
    "            \n",
    "    model.train()\n",
    "    \n",
    "    \n",
    "\n",
    "# Plots\n",
    "plt.figure(figsize=(10, 8))\n",
    "plt.plot(train_losses, marker='o', label='train')\n",
    "plt.plot(test_losses, marker='o', label='test')\n",
    "plt.plot(test_accuracies, marker='o', label='test_acc')\n",
    "plt.legend()\n",
    "\n",
    "plt.savefig('./learning_curve1.png', dpi = 200)\n",
    "plt.show()"
   ]
  },
  {
   "cell_type": "markdown",
   "metadata": {},
   "source": [
    "### Save and Load"
   ]
  },
  {
   "cell_type": "code",
   "execution_count": null,
   "metadata": {},
   "outputs": [],
   "source": [
    "torch.save(model.state_dict(), 'checkpoint1.pth')"
   ]
  },
  {
   "cell_type": "code",
   "execution_count": null,
   "metadata": {},
   "outputs": [],
   "source": [
    "state_dict = torch.load('checkpoint1.pth')\n",
    "print(state_dict.keys())"
   ]
  },
  {
   "cell_type": "markdown",
   "metadata": {},
   "source": [
    "### Testing"
   ]
  },
  {
   "cell_type": "code",
   "execution_count": null,
   "metadata": {},
   "outputs": [],
   "source": []
  }
 ],
 "metadata": {
  "kernelspec": {
   "display_name": "Python 3.8.13 ('deep')",
   "language": "python",
   "name": "python3"
  },
  "language_info": {
   "codemirror_mode": {
    "name": "ipython",
    "version": 3
   },
   "file_extension": ".py",
   "mimetype": "text/x-python",
   "name": "python",
   "nbconvert_exporter": "python",
   "pygments_lexer": "ipython3",
   "version": "3.8.13"
  },
  "orig_nbformat": 4,
  "vscode": {
   "interpreter": {
    "hash": "8abb0779bf248a90442b2ba375cb2dc444ddbc86bf34dd34983763988490020e"
   }
  }
 },
 "nbformat": 4,
 "nbformat_minor": 2
}
